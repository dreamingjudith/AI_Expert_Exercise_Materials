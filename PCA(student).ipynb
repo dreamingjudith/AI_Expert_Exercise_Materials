{
 "cells": [
  {
   "cell_type": "markdown",
   "metadata": {},
   "source": [
    "<font color='blue'> please import packages below before starting </font>"
   ]
  },
  {
   "cell_type": "code",
   "execution_count": null,
   "metadata": {},
   "outputs": [],
   "source": [
    "import pandas as pd\n",
    "from sklearn.preprocessing import StandardScaler\n",
    "from sklearn.decomposition import PCA\n",
    "import matplotlib.pyplot as plt"
   ]
  },
  {
   "cell_type": "markdown",
   "metadata": {},
   "source": [
    "# PCA(Unsupervised Learning)"
   ]
  },
  {
   "cell_type": "markdown",
   "metadata": {},
   "source": [
    "For this section, we are going to bring our data from a website. <br>\n",
    "First, we paste the url and define it as a variable. <br>\n",
    "Then, using __pandas__, let's call our data with specific column names."
   ]
  },
  {
   "cell_type": "code",
   "execution_count": null,
   "metadata": {
    "scrolled": true
   },
   "outputs": [],
   "source": [
    "# Load Iris Dataset\n",
    "url = \"https://archive.ics.uci.edu/ml/machine-learning-databases/iris/iris.data\"\n",
    "\n",
    "# Dataset into pandas DataFrame\n",
    "df = pd.read_csv(url, names=['sepal length', 'sepal width', 'petal length', 'petal width', 'target'])"
   ]
  },
  {
   "cell_type": "markdown",
   "metadata": {},
   "source": [
    "We want to classify the flowers into categories with the data of sepal and petal. <br>\n",
    "So, we need a preprocessing of the data. <br>\n",
    "Function __loc__ enables us to access columns by their names. <br>\n",
    "<font color='blue'>df.loc[행 인덱싱 값, 열 인덱싱 값]</font>"
   ]
  },
  {
   "cell_type": "code",
   "execution_count": null,
   "metadata": {},
   "outputs": [],
   "source": [
    "# Separating out the features and target\n",
    "features = ['sepal length', 'sepal width', 'petal length', 'petal width']\n",
    "X = df.loc[ , ].values\n",
    "y = df.loc[ , ].values\n",
    "\n",
    "# Check the dataset\n",
    "print(X. , y. )"
   ]
  },
  {
   "cell_type": "markdown",
   "metadata": {},
   "source": [
    "Because PCA is affected by the different data scales, we need to standardize the data. <br>\n",
    "We have a useful tool that quickly converts the data into standardized manner.<br>\n",
    "<font color='blue'>class sklearn.preprocessing.StandardScaler(copy=True, with_mean=True, with_std=True).fit_transform(X)</font>"
   ]
  },
  {
   "cell_type": "code",
   "execution_count": null,
   "metadata": {},
   "outputs": [],
   "source": [
    "# Standardize the features\n",
    "X = \n",
    "print(X[ , ])"
   ]
  },
  {
   "cell_type": "markdown",
   "metadata": {},
   "source": [
    "### PCA Projection to 2D\n",
    "#### The Original data has 4 columns. PCA  projects the original data which is 4 dimensional into 2 dimensions."
   ]
  },
  {
   "cell_type": "markdown",
   "metadata": {},
   "source": [
    "As before, we also have a class variable for PCA. <br>\n",
    "Let's define it and with the function __fit_transform__, make a projection to lower space.<br>\n",
    "<font color='blue'>class sklearn.decomposition.PCA(n_components=None)</font>"
   ]
  },
  {
   "cell_type": "code",
   "execution_count": null,
   "metadata": {},
   "outputs": [],
   "source": [
    "# Make an instance of the PCA\n",
    "pca = \n",
    "\n",
    "# Fit the PCA algorithm\n",
    "principalComponents = pca. # array of principal component 1 & 2\n",
    "principalComponents. # Check PCA applied or Not"
   ]
  },
  {
   "cell_type": "markdown",
   "metadata": {},
   "source": [
    "Take a look at what we've got: <br>\n",
    "<font color='blue'> class pandas.DataFrame(data, columns) </font>"
   ]
  },
  {
   "cell_type": "code",
   "execution_count": null,
   "metadata": {},
   "outputs": [],
   "source": [
    "# Table of principal components\n",
    "principalDF = pd.\n",
    "principalDF. # Check head-5 data"
   ]
  },
  {
   "cell_type": "markdown",
   "metadata": {},
   "source": [
    "Let's put the label back together:"
   ]
  },
  {
   "cell_type": "code",
   "execution_count": null,
   "metadata": {},
   "outputs": [],
   "source": [
    "# Concatenating DataFrame of principal components and targets\n",
    "finalDF = pd.concat([principalDF, df[['target']]], axis = 1)\n",
    "finalDF. # check head-5 data"
   ]
  },
  {
   "cell_type": "markdown",
   "metadata": {},
   "source": [
    "### Visualize 2D Projection"
   ]
  },
  {
   "cell_type": "markdown",
   "metadata": {},
   "source": [
    "Since we projected the data into 2-dimensional space, we can visualize the projection in 2D space. <br>\n",
    "__plt__ will help us get through. First, make a list of labels and corresponding color(you can choose it whatever you want) <br>\n",
    "then for each iteration, try access to the data of the specific label and plot it in the figure with color."
   ]
  },
  {
   "cell_type": "code",
   "execution_count": null,
   "metadata": {},
   "outputs": [],
   "source": [
    "plt.figure(figsize = (8, 8))\n",
    "plt.title(\"2 Component PCA\")\n",
    "\n",
    "targets = ['Iris-setosa', 'Iris-versicolor', 'Iris-virginica']\n",
    "colors = ['r', 'g', 'b']\n",
    "for target, color in zip(targets, colors):\n",
    "    idx = finalDF['target'] == target\n",
    "    plt.scatter(finalDF.loc[idx, 'principal component 1'], finalDF.loc[idx, 'principal component 2'], c=color)\n",
    "    \n",
    "plt.legend(targets)\n",
    "plt.xlabel(\"Principal Component 1\")\n",
    "plt.ylabel(\"Principal Component 2\")\n"
   ]
  },
  {
   "cell_type": "markdown",
   "metadata": {},
   "source": [
    "How easy to analyze!\n",
    "Now it's your turn to make the projection."
   ]
  },
  {
   "cell_type": "markdown",
   "metadata": {},
   "source": [
    "# [Practice 3] : the cancer dataset (PCA) 0: 양성, 1: 악성\n",
    "### P3.1. You should fill in the blank between # and # with code"
   ]
  },
  {
   "cell_type": "code",
   "execution_count": null,
   "metadata": {},
   "outputs": [],
   "source": [
    "import pandas as pd \n",
    "import numpy as np\n",
    "import matplotlib.pyplot as plt\n",
    "from sklearn.decomposition import PCA\n",
    "from sklearn.preprocessing import StandardScaler\n",
    "from sklearn.datasets import load_breast_cancer"
   ]
  },
  {
   "cell_type": "code",
   "execution_count": null,
   "metadata": {},
   "outputs": [],
   "source": [
    "# Load the dataset (Digits Dataset)\n",
    "breast = load_breast_cancer()"
   ]
  },
  {
   "cell_type": "code",
   "execution_count": null,
   "metadata": {},
   "outputs": [],
   "source": [
    "X, y = breast.data, breast.target\n",
    "\n",
    "# Check the dataset\n",
    "#######################################\n",
    "\n",
    "#######################################"
   ]
  },
  {
   "cell_type": "code",
   "execution_count": null,
   "metadata": {},
   "outputs": [],
   "source": [
    "# Concatenate between data and target\n",
    "label = np.reshape(y, (569, 1))\n",
    "full_breast = np.concatenate([X, label], axis=1)\n",
    "full_breast.shape"
   ]
  },
  {
   "cell_type": "code",
   "execution_count": null,
   "metadata": {},
   "outputs": [],
   "source": [
    "# Make the dataframe\n",
    "df = pd.DataFrame(full_breast)\n",
    "df.rename(columns = {30 : 'target'}, inplace = True)\n",
    "df.head()"
   ]
  },
  {
   "cell_type": "markdown",
   "metadata": {},
   "source": [
    "## PCA Projection to 2D\n",
    "### P3.1. You should write down the answer of the number of features in (?)\n",
    "#### The Original data has ( ? ) columns(features). PCA  projects the original data which is ( ? ) dimensional into <font color=red>2 dimensions.</font>"
   ]
  },
  {
   "cell_type": "code",
   "execution_count": null,
   "metadata": {},
   "outputs": [],
   "source": [
    "# Make an instance of the PCA\n",
    "###########################################\n",
    "\n",
    "###########################################\n",
    "\n",
    "\n",
    "# Fit the PCA algorithm\n",
    "###########################################\n",
    "\n",
    "###########################################"
   ]
  },
  {
   "cell_type": "code",
   "execution_count": null,
   "metadata": {},
   "outputs": [],
   "source": [
    "# Table of principal components\n",
    "###########################################\n",
    "\n",
    "\n",
    "###########################################"
   ]
  },
  {
   "cell_type": "code",
   "execution_count": null,
   "metadata": {},
   "outputs": [],
   "source": [
    "# Concatenating DataFrame of principal components and targets\n",
    "#############################################################\n",
    "\n",
    "\n",
    "#############################################################"
   ]
  },
  {
   "cell_type": "markdown",
   "metadata": {},
   "source": [
    "## Visualize 2D Projection"
   ]
  },
  {
   "cell_type": "code",
   "execution_count": null,
   "metadata": {},
   "outputs": [],
   "source": [
    "plt.figure(figsize = (8, 8))\n",
    "plt.title(\"2 Component PCA\")\n",
    "\n",
    "targets = [0.0, 1.0]\n",
    "colors = ['b', 'r']\n",
    "for target, color in zip(targets, colors):\n",
    "    idx = finalDF['target'] == target\n",
    "    plt.scatter(finalDF.loc[idx, 'principal component 1'], finalDF.loc[idx, 'principal component 2'], c=color)\n",
    "\n",
    "plt.legend(targets)\n",
    "plt.xlabel(\"Principal Component 1\")\n",
    "plt.ylabel(\"Principal Component 2\")"
   ]
  },
  {
   "cell_type": "markdown",
   "metadata": {},
   "source": [
    "### P3.3. With the data projected from high dimension to 2 dimension, can we directly classify the projected data into 0(positive) and 1(negative)? (Yes, or No) : ( ? )\n",
    "### P3.4. If the answer is yes, what would be the appropriate machine learning algorithm? If your answer is no, please explain the reason : ( ? )"
   ]
  }
 ],
 "metadata": {
  "kernelspec": {
   "display_name": "Python 3",
   "language": "python",
   "name": "python3"
  },
  "language_info": {
   "codemirror_mode": {
    "name": "ipython",
    "version": 3
   },
   "file_extension": ".py",
   "mimetype": "text/x-python",
   "name": "python",
   "nbconvert_exporter": "python",
   "pygments_lexer": "ipython3",
   "version": "3.7.1"
  }
 },
 "nbformat": 4,
 "nbformat_minor": 4
}
