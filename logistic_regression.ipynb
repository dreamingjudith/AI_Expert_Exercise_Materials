{
 "cells": [
  {
   "cell_type": "code",
   "execution_count": 1,
   "metadata": {},
   "outputs": [],
   "source": [
    "import pandas as pd\n",
    "import numpy as np\n",
    "from sklearn import metrics\n",
    "from sklearn.linear_model import LogisticRegression\n",
    "from sklearn.model_selection import train_test_split\n",
    "from sklearn.datasets import load_digits\n",
    "import matplotlib.pyplot as plt\n",
    "%matplotlib inline"
   ]
  },
  {
   "cell_type": "markdown",
   "metadata": {},
   "source": [
    "# Logistic Regression"
   ]
  },
  {
   "cell_type": "code",
   "execution_count": 2,
   "metadata": {},
   "outputs": [],
   "source": [
    "# Load the dataset\n",
    "df = pd.read_csv('Student-Pass-Fail-Data.csv')"
   ]
  },
  {
   "cell_type": "code",
   "execution_count": 3,
   "metadata": {},
   "outputs": [
    {
     "name": "stdout",
     "output_type": "stream",
     "text": [
      "(1000, 3)\n"
     ]
    },
    {
     "data": {
      "text/html": [
       "<div>\n",
       "<style scoped>\n",
       "    .dataframe tbody tr th:only-of-type {\n",
       "        vertical-align: middle;\n",
       "    }\n",
       "\n",
       "    .dataframe tbody tr th {\n",
       "        vertical-align: top;\n",
       "    }\n",
       "\n",
       "    .dataframe thead th {\n",
       "        text-align: right;\n",
       "    }\n",
       "</style>\n",
       "<table border=\"1\" class=\"dataframe\">\n",
       "  <thead>\n",
       "    <tr style=\"text-align: right;\">\n",
       "      <th></th>\n",
       "      <th>Self_Study_Daily</th>\n",
       "      <th>Tution_Monthly</th>\n",
       "      <th>Pass_Or_Fail</th>\n",
       "    </tr>\n",
       "  </thead>\n",
       "  <tbody>\n",
       "    <tr>\n",
       "      <th>0</th>\n",
       "      <td>7</td>\n",
       "      <td>27</td>\n",
       "      <td>1</td>\n",
       "    </tr>\n",
       "    <tr>\n",
       "      <th>1</th>\n",
       "      <td>2</td>\n",
       "      <td>43</td>\n",
       "      <td>0</td>\n",
       "    </tr>\n",
       "    <tr>\n",
       "      <th>2</th>\n",
       "      <td>7</td>\n",
       "      <td>26</td>\n",
       "      <td>1</td>\n",
       "    </tr>\n",
       "    <tr>\n",
       "      <th>3</th>\n",
       "      <td>8</td>\n",
       "      <td>29</td>\n",
       "      <td>1</td>\n",
       "    </tr>\n",
       "    <tr>\n",
       "      <th>4</th>\n",
       "      <td>3</td>\n",
       "      <td>42</td>\n",
       "      <td>0</td>\n",
       "    </tr>\n",
       "  </tbody>\n",
       "</table>\n",
       "</div>"
      ],
      "text/plain": [
       "   Self_Study_Daily  Tution_Monthly  Pass_Or_Fail\n",
       "0                 7              27             1\n",
       "1                 2              43             0\n",
       "2                 7              26             1\n",
       "3                 8              29             1\n",
       "4                 3              42             0"
      ]
     },
     "execution_count": 3,
     "metadata": {},
     "output_type": "execute_result"
    }
   ],
   "source": [
    "# Check the dataset\n",
    "print(df.shape)\n",
    "df.head()"
   ]
  },
  {
   "cell_type": "code",
   "execution_count": 4,
   "metadata": {},
   "outputs": [],
   "source": [
    "# Define 'Self_Study_Daily', 'Tution_Monthly' as input data and 'Pass_Or_Fail' as output target\n",
    "X = df.drop('Pass_Or_Fail', axis=1) # axis=0(index), axis=1(column)\n",
    "y = df.Pass_Or_Fail"
   ]
  },
  {
   "cell_type": "code",
   "execution_count": 5,
   "metadata": {},
   "outputs": [],
   "source": [
    "# Split the data and target into training dataset and test dataset\n",
    "X_train, X_test, y_train, y_test = train_test_split(X, y, test_size=0.2, random_state=2020)"
   ]
  },
  {
   "cell_type": "code",
   "execution_count": 6,
   "metadata": {},
   "outputs": [],
   "source": [
    "# Create the logistic regression object\n",
    "logreg = LogisticRegression()"
   ]
  },
  {
   "cell_type": "code",
   "execution_count": 7,
   "metadata": {},
   "outputs": [
    {
     "name": "stderr",
     "output_type": "stream",
     "text": [
      "C:\\Users\\user\\Anaconda3\\lib\\site-packages\\sklearn\\linear_model\\logistic.py:433: FutureWarning: Default solver will be changed to 'lbfgs' in 0.22. Specify a solver to silence this warning.\n",
      "  FutureWarning)\n"
     ]
    },
    {
     "data": {
      "text/plain": [
       "LogisticRegression(C=1.0, class_weight=None, dual=False, fit_intercept=True,\n",
       "          intercept_scaling=1, max_iter=100, multi_class='warn',\n",
       "          n_jobs=None, penalty='l2', random_state=None, solver='warn',\n",
       "          tol=0.0001, verbose=0, warm_start=False)"
      ]
     },
     "execution_count": 7,
     "metadata": {},
     "output_type": "execute_result"
    }
   ],
   "source": [
    "# Train the model using the training sets\n",
    "logreg.fit(X_train, y_train)"
   ]
  },
  {
   "cell_type": "code",
   "execution_count": 8,
   "metadata": {},
   "outputs": [],
   "source": [
    "# Make predictions using the testing set\n",
    "y_pred = logreg.predict(X_test)"
   ]
  },
  {
   "cell_type": "code",
   "execution_count": 9,
   "metadata": {},
   "outputs": [
    {
     "name": "stdout",
     "output_type": "stream",
     "text": [
      "Coefficients: \n",
      " [[ 2.54032198 -0.62709942]]\n",
      "Intercept: \n",
      " [1.23380331]\n",
      "The test accuracy: 95.50\n"
     ]
    }
   ],
   "source": [
    "# The coefficients\n",
    "print(\"Coefficients: \\n\", logreg.coef_)\n",
    "print(\"Intercept: \\n\", logreg.intercept_)\n",
    "\n",
    "# Find the accuracy\n",
    "acc = metrics.accuracy_score(y_test, y_pred) * 100 # percentage\n",
    "print(\"The test accuracy: %.2f\" % acc)"
   ]
  },
  {
   "cell_type": "markdown",
   "metadata": {},
   "source": [
    "#### ln(p/(1-p)) = 2.54x1 - 0.63x2 + 1.23 (x1: \"Self_Study_Daily\", x2: \"Tution_Monthly\")"
   ]
  },
  {
   "cell_type": "code",
   "execution_count": 10,
   "metadata": {},
   "outputs": [
    {
     "data": {
      "text/plain": [
       "array([0], dtype=int64)"
      ]
     },
     "execution_count": 10,
     "metadata": {},
     "output_type": "execute_result"
    }
   ],
   "source": [
    "# Predicting whether a new studuent will fail or pass\n",
    "First_friend = logreg.predict((np.array([4, 38]).reshape(1, -1)))\n",
    "First_friend # Fail"
   ]
  },
  {
   "cell_type": "code",
   "execution_count": 11,
   "metadata": {},
   "outputs": [
    {
     "data": {
      "text/plain": [
       "array([1], dtype=int64)"
      ]
     },
     "execution_count": 11,
     "metadata": {},
     "output_type": "execute_result"
    }
   ],
   "source": [
    "# Predicting whether a new studuent will fail or pass\n",
    "Second_friend = logreg.predict((np.array([8, 29]).reshape(1, -1)))\n",
    "Second_friend # Pass"
   ]
  },
  {
   "cell_type": "code",
   "execution_count": 12,
   "metadata": {},
   "outputs": [
    {
     "data": {
      "text/plain": [
       "array([[ 1, 11]])"
      ]
     },
     "execution_count": 12,
     "metadata": {},
     "output_type": "execute_result"
    }
   ],
   "source": [
    "np.array([1, 11]).reshape(1, -1)"
   ]
  },
  {
   "cell_type": "markdown",
   "metadata": {},
   "source": [
    "# [Practice 2] : the digit dataset (classification)\n",
    "### P2.1. You should fill in the blank between # and # with code"
   ]
  },
  {
   "cell_type": "code",
   "execution_count": 13,
   "metadata": {},
   "outputs": [],
   "source": [
    "import pandas as pd\n",
    "import numpy as np\n",
    "from sklearn import metrics\n",
    "from sklearn.linear_model import LogisticRegression\n",
    "from sklearn.model_selection import train_test_split\n",
    "from sklearn.datasets import load_digits\n",
    "import matplotlib.pyplot as plt\n",
    "%matplotlib inline"
   ]
  },
  {
   "cell_type": "code",
   "execution_count": 14,
   "metadata": {},
   "outputs": [],
   "source": [
    "# Load the dataset (Digits Dataset)\n",
    "digits = load_digits()\n",
    "X, y = digits.data, digits.target"
   ]
  },
  {
   "cell_type": "code",
   "execution_count": 15,
   "metadata": {},
   "outputs": [
    {
     "name": "stdout",
     "output_type": "stream",
     "text": [
      "(1797, 64) (1797,)\n",
      "(64,)\n"
     ]
    }
   ],
   "source": [
    "# Check the dataset\n",
    "#######################################\n",
    "print(X.shape, y.shape) # 1797개의 digits dataset\n",
    "print(X[0].shape) # 1개의 digit 당 8*8=64 dimentional features\n",
    "#######################################"
   ]
  },
  {
   "cell_type": "markdown",
   "metadata": {},
   "source": [
    "### P2.2. You should write down the answers of the number of data and features in ( ? )\n",
    "#### The number of data : ( ? )\n",
    "#### The number of features : ( ? )"
   ]
  },
  {
   "cell_type": "code",
   "execution_count": 16,
   "metadata": {},
   "outputs": [
    {
     "data": {
      "image/png": "[encoded data removed]",
      "text/plain": [
       "<Figure size 1440x288 with 5 Axes>"
      ]
     },
     "metadata": {
      "needs_background": "light"
     },
     "output_type": "display_data"
    }
   ],
   "source": [
    "plt.figure(figsize=(20, 4))\n",
    "for index, (image, label) in enumerate(zip(X[0:5], y[0:5])):\n",
    "    plt.subplot(1, 5, index+1)\n",
    "    plt.imshow(np.reshape(image, (8, 8)), cmap=plt.cm.gray)\n",
    "    plt.title('Training data: %i\\n' % label, fontsize=20)"
   ]
  },
  {
   "cell_type": "code",
   "execution_count": 17,
   "metadata": {},
   "outputs": [],
   "source": [
    "# Split the data into training an dtest sets (Digits Dataset)\n",
    "#######################################\n",
    "####### Use random_state = 2020 #######\n",
    "X_train, X_test, y_train, y_test = train_test_split(X, y, test_size=0.2, random_state=2020)\n",
    "#######################################"
   ]
  },
  {
   "cell_type": "code",
   "execution_count": 18,
   "metadata": {},
   "outputs": [
    {
     "name": "stderr",
     "output_type": "stream",
     "text": [
      "C:\\Users\\user\\Anaconda3\\lib\\site-packages\\sklearn\\linear_model\\logistic.py:433: FutureWarning: Default solver will be changed to 'lbfgs' in 0.22. Specify a solver to silence this warning.\n",
      "  FutureWarning)\n",
      "C:\\Users\\user\\Anaconda3\\lib\\site-packages\\sklearn\\linear_model\\logistic.py:460: FutureWarning: Default multi_class will be changed to 'auto' in 0.22. Specify the multi_class option to silence this warning.\n",
      "  \"this warning.\", FutureWarning)\n"
     ]
    },
    {
     "data": {
      "text/plain": [
       "LogisticRegression(C=1.0, class_weight=None, dual=False, fit_intercept=True,\n",
       "          intercept_scaling=1, max_iter=100, multi_class='warn',\n",
       "          n_jobs=None, penalty='l2', random_state=None, solver='warn',\n",
       "          tol=0.0001, verbose=0, warm_start=False)"
      ]
     },
     "execution_count": 18,
     "metadata": {},
     "output_type": "execute_result"
    }
   ],
   "source": [
    "# Make an instance of the Model\n",
    "#################################################\n",
    "logistic = LogisticRegression()\n",
    "#################################################\n",
    "\n",
    "# Train the model using the training sets\n",
    "#################################################\n",
    "logistic.fit(X_train, y_train)\n",
    "#################################################"
   ]
  },
  {
   "cell_type": "code",
   "execution_count": 19,
   "metadata": {},
   "outputs": [
    {
     "data": {
      "text/plain": [
       "array([4])"
      ]
     },
     "execution_count": 19,
     "metadata": {},
     "output_type": "execute_result"
    }
   ],
   "source": [
    "# Make the prediction of first element of test datasets\n",
    "logistic.predict(X_test[0].reshape(1, -1))"
   ]
  },
  {
   "cell_type": "markdown",
   "metadata": {},
   "source": [
    "### P2.3. You should write down the answer of the first digit of test datasets which fitted model predicts\n",
    "#### The first digit of test datasets : ( ? )"
   ]
  },
  {
   "cell_type": "code",
   "execution_count": 20,
   "metadata": {},
   "outputs": [
    {
     "data": {
      "text/plain": [
       "array([4, 3, 6, 4, 8, 7, 2, 2, 1, 2])"
      ]
     },
     "execution_count": 20,
     "metadata": {},
     "output_type": "execute_result"
    }
   ],
   "source": [
    "# Make the prediction of first ten test datasets\n",
    "##################################################################\n",
    "logistic.predict(X_test[:10])\n",
    "##################################################################"
   ]
  },
  {
   "cell_type": "markdown",
   "metadata": {},
   "source": [
    "### P2.4. You should write down the answer of the first ten digits of test datasets which fitted model predicts\n",
    "#### The first ten digits of test datasets : (?, ?, ?, ?, ?, ?, ?, ?, ?, ?)"
   ]
  },
  {
   "cell_type": "code",
   "execution_count": 21,
   "metadata": {},
   "outputs": [],
   "source": [
    "# Make predictions on entire test data\n",
    "##################################################################\n",
    "y_pred = logistic.predict(X_test)\n",
    "##################################################################"
   ]
  },
  {
   "cell_type": "code",
   "execution_count": 22,
   "metadata": {},
   "outputs": [
    {
     "name": "stdout",
     "output_type": "stream",
     "text": [
      "Coefficients: \n",
      " [[ 0.00000000e+00 -5.12807721e-02 -5.88180541e-02  1.06339862e-02\n",
      "  -6.80093933e-02 -3.89737979e-01 -2.09187020e-01 -7.12187227e-03\n",
      "  -1.35469911e-05 -1.20254235e-01 -2.19108281e-02  1.41398537e-01\n",
      "   1.13031367e-01  2.85594944e-01  2.60387266e-02 -8.28282669e-03\n",
      "  -3.08800595e-03  1.10879389e-01  1.94708203e-01 -7.04140090e-02\n",
      "  -3.58337827e-01  2.84419921e-01 -7.67011795e-02 -1.09804094e-02\n",
      "  -1.54199050e-03  2.80561021e-02 -3.42229184e-02 -1.60776154e-01\n",
      "  -5.67209792e-01 -3.31622950e-02  1.29276851e-01 -2.32640597e-03\n",
      "   0.00000000e+00  2.61028920e-01  1.45355661e-01 -1.77486996e-01\n",
      "  -5.55848459e-01 -8.81052886e-02 -4.25133971e-02  0.00000000e+00\n",
      "  -5.28865365e-03  1.42092741e-02  1.31313246e-01 -2.24634344e-01\n",
      "  -4.13629272e-01  3.29430610e-02  1.04521702e-01 -8.51506920e-05\n",
      "  -1.85793536e-02 -8.10314465e-02  1.19547315e-02  7.81177595e-03\n",
      "   1.78536734e-01  4.53966968e-02 -2.06309514e-01 -7.73621277e-02\n",
      "  -4.27498864e-06 -6.18133447e-02 -1.87350360e-01  1.84407256e-02\n",
      "  -2.47033230e-01 -7.95820553e-02 -1.76934367e-01 -6.49046098e-02]\n",
      " [ 0.00000000e+00  4.68361615e-02  1.09388273e-01  1.72993475e-01\n",
      "  -6.49585468e-01  4.72751238e-01 -2.67546809e-01 -2.65297294e-01\n",
      "  -1.37853847e-05 -1.27139929e+00 -4.27888171e-01 -3.94646277e-01\n",
      "   2.41617975e-02  5.40739748e-03 -3.73303239e-01 -1.14409761e-02\n",
      "   2.54891946e-01  5.99944625e-01  1.91183835e-01  6.77474673e-01\n",
      "   3.78323126e-01 -1.80430138e-01  2.45106485e-01 -5.67291218e-02\n",
      "  -5.71545370e-01 -2.78443826e-01 -9.82726642e-02  1.08623872e-01\n",
      "  -3.73057185e-02  8.66757230e-02 -5.21405254e-01 -5.59572375e-06\n",
      "   0.00000000e+00  8.77164169e-03  8.49558715e-02 -1.06951682e-01\n",
      "   1.47510915e-01 -1.83011581e-02 -4.80656644e-01  0.00000000e+00\n",
      "  -2.89721203e-05 -4.72037831e-01 -6.18235832e-02  8.10610511e-03\n",
      "  -9.98839035e-02 -1.52305581e-01 -1.83935712e-01 -2.94593075e-02\n",
      "  -1.74413310e-02 -8.07266930e-02 -1.20652897e-01  2.39279864e-01\n",
      "   5.90822243e-02 -7.01374476e-02 -4.32793470e-01  5.79999053e-01\n",
      "  -5.81052125e-03 -1.68764140e-01 -1.38488314e-01 -1.17793217e-01\n",
      "   6.32431343e-02  6.65779910e-02 -5.97361827e-02  9.94476902e-02]\n",
      " [ 0.00000000e+00  4.00275579e-02 -5.87011854e-02  8.97330243e-03\n",
      "  -9.66772514e-03 -3.12455166e-01 -1.48548699e-01 -1.00436792e-02\n",
      "  -3.60093011e-04  1.05963446e-01  2.15701654e-01 -1.98139951e-01\n",
      "   2.27481371e-01 -5.36560966e-02 -1.45710641e-03 -2.82481008e-03\n",
      "  -1.93355276e-04 -2.77743138e-02  6.60522812e-02 -2.31038372e-01\n",
      "   1.64892917e-01 -2.23206954e-02  7.96877456e-02 -1.95883199e-04\n",
      "  -3.33174535e-05 -2.99583010e-01 -5.77031407e-01 -4.84839786e-01\n",
      "  -3.33367144e-01  1.61339874e-01 -1.26659176e-01 -1.01431003e-05\n",
      "   0.00000000e+00 -3.25493506e-01 -5.29871310e-01 -1.76339942e-01\n",
      "  -2.27236459e-01 -2.64697862e-01 -5.41917963e-01  0.00000000e+00\n",
      "  -6.45270065e-05  5.94166943e-02  8.45222385e-02  4.30985449e-01\n",
      "  -4.00215418e-01 -4.78421230e-01 -3.84954641e-01  1.48601231e-02\n",
      "   4.98064690e-03  2.57690374e-01  3.49876296e-02  4.26989709e-01\n",
      "   2.70266944e-01  2.77687679e-01  1.77054938e-01 -4.52501551e-02\n",
      "   1.67465352e-03  1.04249460e-01  2.07124018e-02 -2.09210092e-02\n",
      "  -6.34574400e-02  2.13396434e-01  3.78812996e-01 -1.71112232e-02]\n",
      " [ 0.00000000e+00  6.55725273e-01 -7.37412073e-01  1.29699545e-01\n",
      "   3.15920570e-01 -1.29585675e-01 -2.56931307e-01  1.59696248e-01\n",
      "  -5.73402625e-04 -3.04297598e-01  3.36816664e-01 -6.53516487e-02\n",
      "   1.55697164e-02  6.40414686e-01  7.20700733e-01 -3.00050706e-01\n",
      "  -2.38254504e-04  1.50796901e-01 -8.14215981e-01 -2.58568923e-01\n",
      "   9.14540603e-02 -5.33776691e-01  4.02885072e-01 -4.62880476e-03\n",
      "  -1.00239964e-06 -6.40415539e-01 -3.31987897e-01 -8.23489401e-02\n",
      "   1.50525023e-01 -4.06405532e-01 -2.05350215e+00 -2.54763593e-06\n",
      "   0.00000000e+00 -4.46922685e-01 -3.81765857e-01 -1.83545609e-02\n",
      "  -6.83610036e-02 -1.36938843e-01  2.92220660e-01  0.00000000e+00\n",
      "  -8.76436456e-06  1.36675003e-01 -2.39825837e-01 -7.42366165e-01\n",
      "   2.94223104e-01  4.96033232e-01  3.63136585e-01 -3.94063372e-02\n",
      "  -1.06988334e-05 -2.28981766e-01 -4.50768918e-02 -3.22699882e-01\n",
      "  -9.51230146e-03  1.37338362e-01  5.85007128e-01 -2.88809622e-01\n",
      "  -1.35189306e-06  3.88839274e-02  4.23281821e-01 -3.86254431e-01\n",
      "   4.63979141e-01 -3.51342367e-01 -1.42954720e-01 -6.48745258e-01]\n",
      " [ 0.00000000e+00 -9.65509702e-03 -2.96506076e-01 -7.10349513e-01\n",
      "  -3.54203948e-01 -3.93412561e-01 -3.63684706e-01  5.54121575e-02\n",
      "  -2.12701818e-05 -5.71801818e-02 -1.60035689e-01 -3.62114088e-01\n",
      "  -2.75989680e-01 -1.51414367e-01 -2.58315007e-01  1.41539303e-01\n",
      "  -1.13665281e-02  2.01372474e-01  2.77455398e-01  4.19857842e-02\n",
      "  -5.21984847e-02  1.09071602e-02  7.55839257e-02  8.88516596e-02\n",
      "   4.01672032e-02 -3.36072494e-03  4.19379534e-01  2.17294365e-02\n",
      "  -7.58107984e-02  1.16811303e-01  4.34179712e-01  1.49421605e-03\n",
      "   0.00000000e+00  1.15511916e-02  1.37244177e-01  6.46530497e-02\n",
      "   2.62093234e-01  1.05500544e-01  2.21133762e-01  0.00000000e+00\n",
      "   1.17796471e-03  4.77914864e-01 -1.42688029e-02  3.75396149e-01\n",
      "   1.17252301e-01  1.19907218e-01  5.21231783e-02 -4.11222076e-04\n",
      "   2.26068589e-03  2.32685685e-01 -1.64132230e-01  1.15469597e-01\n",
      "   1.61965632e-01 -3.38261495e-01 -4.47620169e-01 -3.13278495e-03\n",
      "  -1.61638426e-05 -7.77964258e-02 -1.69766437e-01 -1.21636022e-01\n",
      "  -2.38154245e-01 -3.46641393e-01 -1.28073592e-01 -1.41800738e-03]\n",
      " [ 0.00000000e+00  2.42695993e-02  2.83746874e-01  5.59202202e-02\n",
      "   1.87440956e-01  2.97989735e-01  5.82550809e-01 -1.12698447e-01\n",
      "   9.18139371e-03  2.38539277e-01  2.52266460e-01  8.43202018e-02\n",
      "   8.05470271e-02 -2.08242558e-01 -9.78984845e-02 -3.46825315e-02\n",
      "  -3.20738849e-02 -3.25223990e-01  3.34632435e-01  1.99250067e-01\n",
      "  -6.77661023e-01 -7.30463285e-01 -1.08489949e+00 -1.09837376e-03\n",
      "  -2.29428504e-02  1.01431246e-01  2.42013879e-01 -2.38255232e-01\n",
      "   3.89949160e-01  3.19963363e-02 -9.30697947e-01 -8.90123500e-06\n",
      "   0.00000000e+00 -2.67792714e-01  1.27112987e-01 -1.30439553e-01\n",
      "  -3.73285144e-01 -1.51573136e-01 -4.93331655e-03  0.00000000e+00\n",
      "   5.80472982e-05 -3.27488867e-01 -2.18360549e-01 -4.73075513e-01\n",
      "  -2.77269230e-01  8.55798085e-02 -1.93564006e-01 -4.99370512e-04\n",
      "   3.11696071e-05  1.47215773e-01 -2.49184892e-01 -1.38966221e-01\n",
      "  -3.90214388e-02 -2.47426290e-01 -2.26301552e-01 -5.20903982e-03\n",
      "   3.37274401e-06  1.68409141e-02  2.81676377e-01  7.34303098e-02\n",
      "  -1.60183501e-01 -9.22305968e-02 -2.60962985e-01 -1.31460583e-02]\n",
      " [ 0.00000000e+00 -4.76049338e-02 -3.03363203e-01 -2.18361575e-01\n",
      "  -1.06241138e-01 -2.25171380e-01 -2.54305841e-01 -1.83171233e-04\n",
      "  -2.00807618e-05 -4.62223547e-01 -2.38586186e-02 -2.03976729e-01\n",
      "  -4.05229597e-01  5.90312365e-03  1.20691534e-01 -4.33504278e-04\n",
      "  -2.44078818e-02 -1.21761270e-02  1.16066301e-01  1.20144115e-01\n",
      "  -6.02071953e-01 -8.29182164e-01 -2.08661811e-01 -7.79750702e-04\n",
      "  -1.22164971e-02  2.95051707e-01  9.57548026e-02  2.55159870e-01\n",
      "  -1.58043878e-02 -1.68975052e-01 -7.28701319e-01 -3.45654750e-05\n",
      "   0.00000000e+00  2.51945442e-01  2.01681466e-02  2.93634932e-01\n",
      "  -1.40725372e-01  5.72896460e-02 -7.32314893e-02  0.00000000e+00\n",
      "  -1.27256383e-03 -7.74570887e-01  6.02041750e-01 -1.14566229e-01\n",
      "   4.98550189e-02 -1.37486693e-01  4.03557054e-01  9.41939413e-02\n",
      "  -3.67119249e-04 -4.07680684e-01  4.95508609e-01  6.19894580e-02\n",
      "  -3.41579634e-02  2.71316445e-01  7.59852944e-02 -4.83364852e-01\n",
      "  -1.42877681e-06 -3.11814469e-02 -4.02696082e-01 -2.68229893e-01\n",
      "  -2.86839359e-01  1.86143237e-01 -1.58223501e-01 -2.72999582e-01]\n",
      " [ 0.00000000e+00 -1.97156892e-01  2.83331283e-01  1.25765433e-01\n",
      "  -1.71329610e-01  3.80182406e-01  3.28198807e-01  1.53879457e-01\n",
      "  -1.63357247e-05  7.61765543e-02  9.87450000e-02 -1.38327503e-01\n",
      "   9.31110207e-01 -9.96437961e-02 -1.32493749e-01  2.41536006e-01\n",
      "  -1.21727861e-05 -3.23179140e-01 -2.45331335e-01 -4.23508528e-01\n",
      "  -3.00030180e-01  2.21900282e-01  1.75848783e-01  4.55306189e-02\n",
      "  -7.76647242e-06 -4.15924109e-01 -8.86631816e-02 -3.75540199e-01\n",
      "  -5.37917581e-03  7.28749257e-02  1.99265459e-01 -4.80722876e-03\n",
      "   0.00000000e+00  4.06405123e-01 -2.03141491e-01  1.08779723e-01\n",
      "   1.72842721e-01  1.15892782e-01  2.17210457e-01  0.00000000e+00\n",
      "  -2.07621906e-04 -3.43123245e-01  8.83249835e-02 -6.63775317e-02\n",
      "   1.20234269e-01  3.08300008e-01 -3.46875600e-02 -5.08115478e-05\n",
      "  -6.41167210e-05 -1.82270878e-01  9.71644546e-02  1.32507466e-01\n",
      "  -7.83779671e-01 -1.06520675e+00 -2.75781907e-01 -6.85411298e-04\n",
      "  -1.13478029e-05 -4.53721158e-01 -2.48906086e-01 -3.66920925e-01\n",
      "   1.88536684e-03 -7.52650329e-01 -3.02996865e-01 -1.81889208e-02]\n",
      " [ 0.00000000e+00 -1.66445503e-01  3.10892792e-01 -2.29910237e-01\n",
      "   3.40791466e-02 -1.08758820e-01 -3.90733613e-01 -1.66290636e-01\n",
      "   1.15572633e+00 -1.27751984e-01  1.93855476e-01 -2.90686302e-03\n",
      "  -1.85621649e-01  1.17203891e-01  1.64947623e-01 -2.03256891e-01\n",
      "  -4.60620826e-01  1.70967737e-01  1.59566156e-01  4.90808298e-02\n",
      "   2.18175277e-02  1.39803932e-01  1.11038380e-01 -1.46855469e-01\n",
      "  -5.25689733e-01 -1.55338100e-01 -5.29021920e-02  1.45727969e-01\n",
      "  -1.23799119e-01 -4.31275233e-02 -1.60248322e-01 -1.44842108e-03\n",
      "   0.00000000e+00 -6.09785701e-01 -1.27931108e-01  3.43677103e-01\n",
      "  -5.62532461e-02  1.70626091e-03 -8.94824035e-01  0.00000000e+00\n",
      "  -1.17416502e-03  2.39572575e-01  1.33648468e-01 -1.96893780e-02\n",
      "   1.37268982e-01  1.01435305e-02 -3.30780313e-02 -1.05359986e-01\n",
      "  -1.62159910e-03 -1.74011759e-01  1.65136854e-01 -2.43507798e-01\n",
      "  -2.46496366e-01  9.01004256e-02  7.77888194e-02 -3.35332544e-01\n",
      "  -5.38553801e-04  3.48072174e-02 -5.96549207e-01 -5.73822862e-02\n",
      "   1.08505917e-01 -2.12314813e-01 -1.77355839e-01  3.47103695e-02]\n",
      " [ 0.00000000e+00 -8.44714992e-01 -2.41527625e-01  1.51067256e-01\n",
      "   1.61200896e-02 -9.39623282e-02 -2.40419670e-01  1.15434601e-01\n",
      "  -6.97078264e-03  1.64131864e-01  1.13835947e-01  1.70720328e-01\n",
      "  -1.39329433e-01 -2.39312004e-01  1.91225585e-01 -4.19241195e-01\n",
      "  -7.60767748e-02  2.01553759e-01  2.17438561e-01  2.27085918e-01\n",
      "   2.25151310e-01  8.47013414e-01  1.23609917e-01 -7.24454379e-01\n",
      "  -3.47640688e-02 -2.82200526e-01  2.64067690e-01  2.93900786e-01\n",
      "  -1.09143775e-01  3.09908805e-01 -2.50891313e-01 -2.33708035e-03\n",
      "   0.00000000e+00 -6.39405339e-01 -3.38508445e-01  5.92342961e-01\n",
      "  -3.05198666e-01 -2.22933549e-01 -1.23475480e-01  0.00000000e+00\n",
      "  -7.06715508e-07 -2.87480970e-01 -6.89831279e-01 -1.56605435e+00\n",
      "  -8.59094297e-01 -4.07805830e-01 -4.36734928e-01  6.50491960e-03\n",
      "  -8.57948809e-07  2.75078441e-01 -6.83826800e-02  1.28189786e-01\n",
      "  -8.28280267e-02 -3.44445643e-01 -1.27202554e-01  1.67603036e-01\n",
      "  -9.50663713e-08 -5.89561854e-01 -1.36535112e-02 -6.10148952e-02\n",
      "  -2.00963725e-03  2.03497295e-02 -8.95915053e-02 -5.18760111e-01]]\n",
      "Intercept: \n",
      " [-0.02075221 -2.49301748 -0.03595728 -0.40865743  0.00938119 -0.06617657\n",
      " -0.07105115 -0.02355128 -2.36328712 -1.11975984]\n",
      "The test accuracy: 96.94\n"
     ]
    }
   ],
   "source": [
    "# Find the coefficients and Intercept\n",
    "##################################################################\n",
    "############# It could be a line or two lines ####################\n",
    "print(\"Coefficients: \\n\", logistic.coef_)\n",
    "print(\"Intercept: \\n\", logistic.intercept_)\n",
    "##################################################################\n",
    "\n",
    "# Find the accuracy an\n",
    "##################################################################\n",
    "############# It could be a line or two lines ####################\n",
    "acc = metrics.accuracy_score(y_test, y_pred) * 100 # percentage\n",
    "print(\"The test accuracy: %.2f\" % acc)\n",
    "##################################################################"
   ]
  },
  {
   "cell_type": "markdown",
   "metadata": {},
   "source": [
    "### P2.5. You should write down the answer of the test accuracy\n",
    "#### The test accuracy : ( ? )"
   ]
  }
 ],
 "metadata": {
  "kernelspec": {
   "display_name": "Python 3",
   "language": "python",
   "name": "python3"
  },
  "language_info": {
   "codemirror_mode": {
    "name": "ipython",
    "version": 3
   },
   "file_extension": ".py",
   "mimetype": "text/x-python",
   "name": "python",
   "nbconvert_exporter": "python",
   "pygments_lexer": "ipython3",
   "version": "3.7.1"
  }
 },
 "nbformat": 4,
 "nbformat_minor": 2
}
