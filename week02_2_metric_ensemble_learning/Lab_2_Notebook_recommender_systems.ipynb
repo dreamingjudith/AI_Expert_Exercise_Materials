{
 "cells": [
  {
   "cell_type": "markdown",
   "metadata": {},
   "source": [
    "# 3. Recommender Systems\n",
    "----------------------\n",
    "## Matrix Factorization:\n",
    "* Matrix factorization stood out for its excellent performance during the Netflix challenge and has remained popular ever since.\n",
    "* Factorize the matrix 𝑅 into two lower dimensional matrices 𝑈 and 𝑉, so that 𝑅=𝑈ᵀ𝑉."
   ]
  },
  {
   "cell_type": "code",
   "execution_count": 1,
   "metadata": {},
   "outputs": [],
   "source": [
    "#!conda install -c conda-forge scikit-surprise\n",
    "import surprise"
   ]
  },
  {
   "cell_type": "code",
   "execution_count": 2,
   "metadata": {},
   "outputs": [],
   "source": [
    "import numpy as np\n",
    "import pandas as pd\n",
    "import urllib\n",
    "import io\n",
    "import zipfile"
   ]
  },
  {
   "cell_type": "markdown",
   "metadata": {},
   "source": [
    "## a. Load the Data\n",
    "* The librec FilmTrust dataset with 35497 movie ratings, originally collated for a particular recommender systems paper.\n",
    "* Normally, recommender systems will use larger datasets than this."
   ]
  },
  {
   "cell_type": "code",
   "execution_count": 3,
   "metadata": {},
   "outputs": [],
   "source": [
    "# Download zip file.\n",
    "tmpFile = urllib.request.urlopen('https://www.librec.net/datasets/filmtrust.zip')\n",
    "# Unzip file.\n",
    "tmpFile = zipfile.ZipFile(io.BytesIO(tmpFile.read()))\n",
    "# Open desired data file as pandas dataframe, close zip file.\n",
    "dataset = pd.read_table(io.BytesIO(tmpFile.read('ratings.txt')), sep=' ', names=['uid', 'iid', 'rating'])\n",
    "tmpFile.close()"
   ]
  },
  {
   "cell_type": "code",
   "execution_count": 4,
   "metadata": {},
   "outputs": [
    {
     "data": {
      "text/html": [
       "<div>\n",
       "<style scoped>\n",
       "    .dataframe tbody tr th:only-of-type {\n",
       "        vertical-align: middle;\n",
       "    }\n",
       "\n",
       "    .dataframe tbody tr th {\n",
       "        vertical-align: top;\n",
       "    }\n",
       "\n",
       "    .dataframe thead th {\n",
       "        text-align: right;\n",
       "    }\n",
       "</style>\n",
       "<table border=\"1\" class=\"dataframe\">\n",
       "  <thead>\n",
       "    <tr style=\"text-align: right;\">\n",
       "      <th></th>\n",
       "      <th>uid</th>\n",
       "      <th>iid</th>\n",
       "      <th>rating</th>\n",
       "    </tr>\n",
       "  </thead>\n",
       "  <tbody>\n",
       "    <tr>\n",
       "      <th>0</th>\n",
       "      <td>1</td>\n",
       "      <td>1</td>\n",
       "      <td>2.0</td>\n",
       "    </tr>\n",
       "    <tr>\n",
       "      <th>1</th>\n",
       "      <td>1</td>\n",
       "      <td>2</td>\n",
       "      <td>4.0</td>\n",
       "    </tr>\n",
       "    <tr>\n",
       "      <th>2</th>\n",
       "      <td>1</td>\n",
       "      <td>3</td>\n",
       "      <td>3.5</td>\n",
       "    </tr>\n",
       "    <tr>\n",
       "      <th>3</th>\n",
       "      <td>1</td>\n",
       "      <td>4</td>\n",
       "      <td>3.0</td>\n",
       "    </tr>\n",
       "    <tr>\n",
       "      <th>4</th>\n",
       "      <td>1</td>\n",
       "      <td>5</td>\n",
       "      <td>4.0</td>\n",
       "    </tr>\n",
       "  </tbody>\n",
       "</table>\n",
       "</div>"
      ],
      "text/plain": [
       "   uid  iid  rating\n",
       "0    1    1     2.0\n",
       "1    1    2     4.0\n",
       "2    1    3     3.5\n",
       "3    1    4     3.0\n",
       "4    1    5     4.0"
      ]
     },
     "execution_count": 4,
     "metadata": {},
     "output_type": "execute_result"
    }
   ],
   "source": [
    "dataset.head()"
   ]
  },
  {
   "cell_type": "markdown",
   "metadata": {},
   "source": [
    "* This dataset is saved in a sparse format, which is the input of matrix factorization methods.\n",
    "* The first column is the user ID and the row number of the matrix $i$.\n",
    "* The second column is the ID of the movie they’ve reviewed and the column number of the matrix $j$.\n",
    "* The third column is their review score and the matrix entry $R_{ij}$."
   ]
  },
  {
   "cell_type": "markdown",
   "metadata": {},
   "source": [
    "## b. Fitting the Model\n",
    "----------------------\n",
    "### SVDpp\n",
    "* The SVD++ algorithm, an extension of vanilla SVD.\n",
    "* One of best performers in the Netflix challenge, which has now become a popular method."
   ]
  },
  {
   "cell_type": "code",
   "execution_count": 5,
   "metadata": {
    "tags": []
   },
   "outputs": [
    {
     "name": "stdout",
     "output_type": "stream",
     "text": [
      "Review range: 0.5 to 4.0\n"
     ]
    }
   ],
   "source": [
    "# Let's first check the range of the reviews for this dataset.\n",
    "lower_rating = dataset['rating'].min()\n",
    "upper_rating = dataset['rating'].max()\n",
    "print(f'Review range: {lower_rating} to {upper_rating}')"
   ]
  },
  {
   "cell_type": "code",
   "execution_count": 6,
   "metadata": {},
   "outputs": [],
   "source": [
    "# Change the review range when we load in our dataset.\n",
    "reader = surprise.Reader(rating_scale=(lower_rating, upper_rating))\n",
    "data = surprise.Dataset.load_from_df(dataset, reader)"
   ]
  },
  {
   "cell_type": "code",
   "execution_count": 7,
   "metadata": {},
   "outputs": [],
   "source": [
    "# Train the model on the whole dataset.\n",
    "alg = surprise.SVDpp()\n",
    "trainset = data.build_full_trainset()\n",
    "output = alg.fit(trainset)"
   ]
  },
  {
   "cell_type": "code",
   "execution_count": 8,
   "metadata": {
    "tags": []
   },
   "outputs": [
    {
     "name": "stdout",
     "output_type": "stream",
     "text": [
      "Original rating: None, Predicted rating: 3.9154517894758105\n"
     ]
    }
   ],
   "source": [
    "# Predict and compare the ratings.\n",
    "uid = 50 # User id\n",
    "iid = 52 # movie id\n",
    "q_out = dataset.query(f\"uid == {uid} and iid == {iid}\")\n",
    "try:\n",
    "    rating_origin = q_out.iloc[0]['rating']\n",
    "except:\n",
    "    rating_origin = None\n",
    "pred = alg.predict(uid=uid, iid=iid)\n",
    "score = pred.est\n",
    "print(f'Original rating: {rating_origin}, Predicted rating: {score}')"
   ]
  },
  {
   "cell_type": "markdown",
   "metadata": {},
   "source": [
    "## c. Making Recommendations\n",
    "* Let’s make our recommendations to a particular user with uid 50 to find one item to recommend.\n",
    "* First we need to find the movie ids that user 50 didn’t rate since we don’t want to recommend them a movie they’ve already watched!"
   ]
  },
  {
   "cell_type": "code",
   "execution_count": 9,
   "metadata": {},
   "outputs": [],
   "source": [
    "# Get a list of all movie ids\n",
    "iids = dataset['iid'].unique()\n",
    "# Get a list of iids that uid 50 has rated\n",
    "iids50 = dataset.loc[dataset['uid'] == 50, 'iid']\n",
    "# Remove the iids that uid 50 has rated from the list of all movie ids\n",
    "iids_to_pred = np.setdiff1d(iids, iids50)"
   ]
  },
  {
   "cell_type": "markdown",
   "metadata": {},
   "source": [
    "* Next, we predict the score of each of the movie ids that user 50 didn’t rate, and find the best one.\n",
    "* We create another dataset with the iids we want to predict and setting all the ratings to 4 as they are not needed."
   ]
  },
  {
   "cell_type": "code",
   "execution_count": 10,
   "metadata": {},
   "outputs": [
    {
     "data": {
      "text/plain": [
       "Prediction(uid=50, iid=14, r_ui=4.0, est=3.1088533419947546, details={'was_impossible': False})"
      ]
     },
     "execution_count": 10,
     "metadata": {},
     "output_type": "execute_result"
    }
   ],
   "source": [
    "testset = [[50, iid, 4.] for iid in iids_to_pred]\n",
    "predictions = alg.test(testset)\n",
    "predictions[0]"
   ]
  },
  {
   "cell_type": "code",
   "execution_count": 11,
   "metadata": {
    "tags": []
   },
   "outputs": [
    {
     "name": "stdout",
     "output_type": "stream",
     "text": [
      "Top item for user 50 has iid 189 with predicted rating 4.0\n"
     ]
    }
   ],
   "source": [
    "# Convert each prediction object into an array of the predicted ratings.\n",
    "pred_ratings = np.array([pred.est for pred in predictions])\n",
    "# Find the index of the maximum predicted rating\n",
    "i_max = pred_ratings.argmax()\n",
    "# Use this to find the corresponding iid to recommend\n",
    "iid = iids_to_pred[i_max]\n",
    "print('Top item for user 50 has iid {0} with predicted rating {1}'.format(iid, pred_ratings[i_max]))"
   ]
  },
  {
   "cell_type": "markdown",
   "metadata": {},
   "source": [
    "## d. Tuning and Evaluating the Model\n",
    "* SVD++ depends on several main tuning constants.\n",
    "* We tune the learning rate and the regularisation term in this tutorial.\n",
    "* In Surprise, tuning is performed by GridSearchCV function, which picks the best performing constants among the predefined values at predicting a held out test set using cross-validation."
   ]
  },
  {
   "cell_type": "code",
   "execution_count": 12,
   "metadata": {
    "tags": []
   },
   "outputs": [
    {
     "name": "stdout",
     "output_type": "stream",
     "text": [
      "{'lr_all': 0.01, 'reg_all': 0.1}\n"
     ]
    }
   ],
   "source": [
    "# First, let’s define our list of constant values to check.\n",
    "param_grid = {'lr_all' : [.01, .01], 'reg_all' : [.1, .5]}\n",
    "gs = surprise.model_selection.GridSearchCV(surprise.SVDpp, param_grid, measures=['rmse', 'mae'], cv=3)\n",
    "gs.fit(data)\n",
    "# Print combination of parameters that gave best RMSE score.\n",
    "print(gs.best_params['rmse'])"
   ]
  },
  {
   "cell_type": "code",
   "execution_count": 13,
   "metadata": {},
   "outputs": [
    {
     "name": "stdout",
     "output_type": "stream",
     "text": [
      "Evaluating RMSE, MAE of algorithm SVDpp on 5 split(s).\n",
      "\n",
      "                  Fold 1  Fold 2  Fold 3  Fold 4  Fold 5  Mean    Std     \n",
      "RMSE (testset)    0.8174  0.8301  0.8309  0.8419  0.8209  0.8282  0.0086  \n",
      "MAE (testset)     0.6464  0.6560  0.6573  0.6638  0.6528  0.6553  0.0057  \n",
      "Fit time          11.33   10.98   10.93   11.39   11.05   11.13   0.19    \n",
      "Test time         0.23    0.25    0.22    0.25    0.24    0.24    0.01    \n"
     ]
    }
   ],
   "source": [
    "# The performance of a model can be evaluated using cross-validation to compare methods or check whether the method is performing reasonably.\n",
    "alg = surprise.SVDpp(lr_all = .001)  # parameter choices can be added here.\n",
    "output = surprise.model_selection.cross_validate(alg, data, verbose = True)"
   ]
  },
  {
   "cell_type": "markdown",
   "metadata": {},
   "source": [
    "## Reference\n",
    " 1. https://blog.cambridgespark.com/tutorial-practical-introduction-to-recommender-systems-dbe22848392b\n",
    " 2. https://surprise.readthedocs.io/en/stable/getting_started.html"
   ]
  }
 ],
 "metadata": {
  "kernelspec": {
   "display_name": "Python 3",
   "language": "python",
   "name": "python3"
  },
  "language_info": {
   "codemirror_mode": {
    "name": "ipython",
    "version": 3
   },
   "file_extension": ".py",
   "mimetype": "text/x-python",
   "name": "python",
   "nbconvert_exporter": "python",
   "pygments_lexer": "ipython3",
   "version": "3.7.6"
  }
 },
 "nbformat": 4,
 "nbformat_minor": 4
}
