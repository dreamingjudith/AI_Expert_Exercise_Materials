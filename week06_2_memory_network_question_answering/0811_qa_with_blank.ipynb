{
 "cells": [
  {
   "cell_type": "markdown",
   "metadata": {},
   "source": [
    "## Load datasets"
   ]
  },
  {
   "cell_type": "code",
   "execution_count": null,
   "metadata": {},
   "outputs": [],
   "source": [
    "\"\"\"BERT model for Question Answering (span extraction).\n",
    "    This module is composed of the BERT model with a linear layer on top of\n",
    "    the sequence output that computes start_logits and end_logits\n",
    "\n",
    "    Params:\n",
    "        `config`: a BertConfig class instance with the configuration to build a new model.\n",
    "\n",
    "    Inputs:\n",
    "        `input_ids`: a torch.LongTensor of shape [batch_size, sequence_length]\n",
    "            with the word token indices in the vocabulary(see the tokens preprocessing logic in the scripts\n",
    "            `extract_features.py`, `run_classifier.py` and `run_squad.py`)\n",
    "        `token_type_ids`: an optional torch.LongTensor of shape [batch_size, sequence_length] with the token\n",
    "            types indices selected in [0, 1]. Type 0 corresponds to a `sentence A` and type 1 corresponds to\n",
    "            a `sentence B` token (see BERT paper for more details).\n",
    "        `attention_mask`: an optional torch.LongTensor of shape [batch_size, sequence_length] with indices\n",
    "            selected in [0, 1]. It's a mask to be used if the input sequence length is smaller than the max\n",
    "            input sequence length in the current batch. It's the mask that we typically use for attention when\n",
    "            a batch has varying length sentences.\n",
    "        `start_positions`: position of the first token for the labeled span: torch.LongTensor of shape [batch_size].\n",
    "            Positions are clamped to the length of the sequence and position outside of the sequence are not taken\n",
    "            into account for computing the loss.\n",
    "        `end_positions`: position of the last token for the labeled span: torch.LongTensor of shape [batch_size].\n",
    "            Positions are clamped to the length of the sequence and position outside of the sequence are not taken\n",
    "            into account for computing the loss.\n",
    "\n",
    "    Outputs:\n",
    "        if `start_positions` and `end_positions` are not `None`:\n",
    "            Outputs the total_loss which is the sum of the CrossEntropy loss for the start and end token positions.\n",
    "        if `start_positions` or `end_positions` is `None`:\n",
    "            Outputs a tuple of start_logits, end_logits which are the logits respectively for the start and end\n",
    "            position tokens of shape [batch_size, sequence_length].\n",
    "\n",
    "    Example usage:\n",
    "    ```python\n",
    "    # Already been converted into WordPiece token ids\n",
    "    input_ids = torch.LongTensor([[31, 51, 99], [15, 5, 0]])\n",
    "    input_mask = torch.LongTensor([[1, 1, 1], [1, 1, 0]])\n",
    "    token_type_ids = torch.LongTensor([[0, 0, 1], [0, 1, 0]])\n",
    "\n",
    "    config = BertConfig(vocab_size_or_config_json_file=32000, hidden_size=768,\n",
    "        num_hidden_layers=12, num_attention_heads=12, intermediate_size=3072)\n",
    "\n",
    "    model = BertForQuestionAnswering(config)\n",
    "    start_logits, end_logits = model(input_ids, token_type_ids, input_mask)\n",
    "    ```\n",
    "\"\"\""
   ]
  },
  {
   "cell_type": "code",
   "execution_count": 1,
   "metadata": {},
   "outputs": [],
   "source": [
    "from __future__ import absolute_import\n",
    "from __future__ import division\n",
    "from __future__ import print_function\n",
    "\n",
    "import argparse\n",
    "import collections\n",
    "import logging\n",
    "import json\n",
    "import math\n",
    "import os\n",
    "import random\n",
    "import pickle\n",
    "import numpy as np\n",
    "import torch\n",
    "\n",
    "from tqdm import tqdm, trange\n",
    "from bert_utils.bert_utils import *\n",
    "from torch.utils.data import TensorDataset, DataLoader, RandomSampler, SequentialSampler\n",
    "from torch.utils.data.distributed import DistributedSampler\n",
    "\n",
    "from pytorch_pretrained_bert.tokenization import whitespace_tokenize, BasicTokenizer, BertTokenizer\n",
    "from pytorch_pretrained_bert.modeling import BertForQuestionAnswering\n",
    "from pytorch_pretrained_bert.optimization import BertAdam\n",
    "from pytorch_pretrained_bert.file_utils import PYTORCH_PRETRAINED_BERT_CACHE"
   ]
  },
  {
   "cell_type": "markdown",
   "metadata": {},
   "source": [
    "Configuration settings"
   ]
  },
  {
   "cell_type": "code",
   "execution_count": 2,
   "metadata": {},
   "outputs": [],
   "source": [
    "config = {'language':'eng', 'model_config':123}\n",
    "\n",
    "## logger settings\n",
    "logging.basicConfig(format = '%(asctime)s - %(levelname)s - %(name)s -   %(message)s',\n",
    "                    datefmt = '%m/%d/%Y %H:%M:%S',\n",
    "                    level = logging.INFO)\n",
    "logger = logging.getLogger(__name__)\n",
    "\n",
    "if 'eng' in config['language']:\n",
    "    train_file = './datasets/squad_v1.1/train-v1.1.json'\n",
    "    dev_file = './datasets/squad_v1.1/dev-v1.1.json'\n",
    "elif 'kor' in config['language']:\n",
    "    train_file = './datasets/korquad_v1/KorQuAD_v1.0_train.json'\n",
    "    dev_file = './datasets/korquad_v1/KorQuAD_v1.0_dev.json'    "
   ]
  },
  {
   "cell_type": "code",
   "execution_count": 3,
   "metadata": {},
   "outputs": [],
   "source": [
    "def read_json(file_name):\n",
    "    print(\"reading {}\".format(file_name))\n",
    "    with open(file_name, \"r\", encoding='utf-8') as reader:\n",
    "        # >> type(input_data) -> list\n",
    "        input_data = json.load(reader)[\"data\"]\n",
    "    print(\"success to read {}\".format(file_name))\n",
    "    return input_data"
   ]
  },
  {
   "cell_type": "code",
   "execution_count": 4,
   "metadata": {
    "tags": []
   },
   "outputs": [
    {
     "output_type": "stream",
     "name": "stdout",
     "text": "reading ./datasets/squad_v1.1/train-v1.1.json\nsuccess to read ./datasets/squad_v1.1/train-v1.1.json\n"
    }
   ],
   "source": [
    "input_data = read_json(train_file)"
   ]
  },
  {
   "cell_type": "markdown",
   "metadata": {},
   "source": [
    "explore the datasets"
   ]
  },
  {
   "cell_type": "code",
   "execution_count": 5,
   "metadata": {},
   "outputs": [
    {
     "output_type": "execute_result",
     "data": {
      "text/plain": "(list, dict, dict_keys(['title', 'paragraphs']), list)"
     },
     "metadata": {},
     "execution_count": 5
    }
   ],
   "source": [
    "type(input_data), type(input_data[0]), input_data[0].keys(), type(input_data[0]['paragraphs'])"
   ]
  },
  {
   "cell_type": "code",
   "execution_count": 6,
   "metadata": {},
   "outputs": [
    {
     "output_type": "execute_result",
     "data": {
      "text/plain": "{'context': 'Following the disbandment of Destiny\\'s Child in June 2005, she released her second solo album, B\\'Day (2006), which contained hits \"Déjà Vu\", \"Irreplaceable\", and \"Beautiful Liar\". Beyoncé also ventured into acting, with a Golden Globe-nominated performance in Dreamgirls (2006), and starring roles in The Pink Panther (2006) and Obsessed (2009). Her marriage to rapper Jay Z and portrayal of Etta James in Cadillac Records (2008) influenced her third album, I Am... Sasha Fierce (2008), which saw the birth of her alter-ego Sasha Fierce and earned a record-setting six Grammy Awards in 2010, including Song of the Year for \"Single Ladies (Put a Ring on It)\". Beyoncé took a hiatus from music in 2010 and took over management of her career; her fourth album 4 (2011) was subsequently mellower in tone, exploring 1970s funk, 1980s pop, and 1990s soul. Her critically acclaimed fifth studio album, Beyoncé (2013), was distinguished from previous releases by its experimental production and exploration of darker themes.',\n 'qas': [{'answers': [{'answer_start': 207, 'text': 'acting'}],\n   'question': 'After her second solo album, what other entertainment venture did Beyonce explore?',\n   'id': '56be86cf3aeaaa14008c9076'},\n  {'answers': [{'answer_start': 369, 'text': 'Jay Z'}],\n   'question': 'Which artist did Beyonce marry?',\n   'id': '56be86cf3aeaaa14008c9078'},\n  {'answers': [{'answer_start': 565, 'text': 'six'}],\n   'question': 'To set the record for Grammys, how many did Beyonce win?',\n   'id': '56be86cf3aeaaa14008c9079'},\n  {'answers': [{'answer_start': 260, 'text': 'Dreamgirls'}],\n   'question': 'For what movie did Beyonce receive  her first Golden Globe nomination?',\n   'id': '56bf6e823aeaaa14008c9627'},\n  {'answers': [{'answer_start': 586, 'text': '2010'}],\n   'question': 'When did Beyonce take a hiatus in her career and take control of her management?',\n   'id': '56bf6e823aeaaa14008c9629'},\n  {'answers': [{'answer_start': 180, 'text': 'Beyoncé'}],\n   'question': 'Which album was darker in tone from her previous work?',\n   'id': '56bf6e823aeaaa14008c962a'},\n  {'answers': [{'answer_start': 406, 'text': 'Cadillac Records'}],\n   'question': 'After what movie portraying Etta James, did Beyonce create Sasha Fierce?',\n   'id': '56bf6e823aeaaa14008c962b'},\n  {'answers': [{'answer_start': 48, 'text': 'June 2005'}],\n   'question': \"When did Destiny's Child end their group act?\",\n   'id': '56d43da72ccc5a1400d830bd'},\n  {'answers': [{'answer_start': 95, 'text': \"B'Day\"}],\n   'question': \"What was the name of Beyoncé's second solo album?\",\n   'id': '56d43da72ccc5a1400d830be'},\n  {'answers': [{'answer_start': 260, 'text': 'Dreamgirls'}],\n   'question': \"What was Beyoncé's first acting job, in 2006?\",\n   'id': '56d43da72ccc5a1400d830bf'},\n  {'answers': [{'answer_start': 369, 'text': 'Jay Z'}],\n   'question': 'Who is Beyoncé married to?',\n   'id': '56d43da72ccc5a1400d830c0'},\n  {'answers': [{'answer_start': 466, 'text': 'Sasha Fierce'}],\n   'question': \"What is the name of Beyoncé's alter-ego?\",\n   'id': '56d43da72ccc5a1400d830c1'}]}"
     },
     "metadata": {},
     "execution_count": 6
    }
   ],
   "source": [
    "input_data[1]['paragraphs'][1]"
   ]
  },
  {
   "cell_type": "markdown",
   "metadata": {},
   "source": [
    "## parse datasets"
   ]
  },
  {
   "cell_type": "code",
   "execution_count": 7,
   "metadata": {},
   "outputs": [],
   "source": [
    "class SquadExample(object):\n",
    "    \"\"\"A single training/test example for the Squad dataset.\"\"\"\n",
    "\n",
    "    def __init__(self,\n",
    "                 qas_id,\n",
    "                 question_text,\n",
    "                 doc_tokens,\n",
    "                 orig_answer_text=None,\n",
    "                 start_position=None,\n",
    "                 end_position=None):\n",
    "        self.qas_id = qas_id\n",
    "        self.question_text = question_text\n",
    "        self.doc_tokens = doc_tokens\n",
    "        self.orig_answer_text = orig_answer_text\n",
    "        self.start_position = start_position\n",
    "        self.end_position = end_position\n",
    "\n",
    "    def __str__(self):\n",
    "        return self.__repr__()\n",
    "\n",
    "    def __repr__(self):\n",
    "        s = \"\"\n",
    "        s += \"qas_id: %s\" % (self.qas_id)\n",
    "        s += \"\\n\\n, question_text: %s\" % (\n",
    "            self.question_text)\n",
    "        s += \"\\n\\n, orig_answer_text: %s\" % (\n",
    "            self.orig_answer_text)\n",
    "        s += \"\\n\\n, doc_tokens: [%s]\" % (\" \".join(self.doc_tokens))\n",
    "        if self.start_position:\n",
    "            s += \"\\n\\n, start_position: %d\" % (self.start_position)\n",
    "        if self.start_position:\n",
    "            s += \"\\n\\n, end_position: %d\" % (self.end_position)\n",
    "        return s"
   ]
  },
  {
   "cell_type": "markdown",
   "metadata": {},
   "source": [
    "# 실습 자료"
   ]
  },
  {
   "cell_type": "code",
   "execution_count": 8,
   "metadata": {},
   "outputs": [],
   "source": [
    "def is_whitespace(c):\n",
    "    if c == \" \" or c == \"\\t\" or c == \"\\r\" or c == \"\\n\" or ord(c) == 0x202F:\n",
    "        return True\n",
    "    return False\n",
    "\n",
    "def parse_json_squad(input_data, is_train):\n",
    "    \"\"\"Read a SQuAD json file into a list of SquadExample.\"\"\"\n",
    "    examples = list()\n",
    "    for data_entry in input_data:\n",
    "        for paragraph in data_entry['paragraphs']:\n",
    "            paragraph_text = paragraph[\"context\"]\n",
    "            doc_tokens = []\n",
    "            char_to_word_offset = []\n",
    "            prev_is_whitespace = True\n",
    "\n",
    "            # Q1. doc_tokens에 whitespace(c)를 가지고 context를 토큰화하는 코드를 작성하세요. --> 시험엔 안 나옴\n",
    "            ###################################################################################################\n",
    "            for char in paragraph_text:\n",
    "                if is_whitespace(char):\n",
    "                    prev_is_whitespace = True\n",
    "                else:\n",
    "                    if prev_is_whitespace:\n",
    "                        doc_tokens.append(char)  # 리스트에 신규 항목 추가\n",
    "                    else:\n",
    "                        doc_tokens[-1] += char  # 기존에 있는 항목 뒤에 문자 추가\n",
    "                    prev_is_whitespace = False\n",
    "                char_to_word_offset.append(len(doc_tokens) - 1)  # Which word is the character in?; char 하나씩 추가되어 가면서 offset 정보 추가\n",
    "            ###################################################################################################\n",
    "    \n",
    "            for qa in paragraph[\"qas\"]:\n",
    "                \"\"\"\n",
    "                {'answers': [{'answer_start', 'text'}], 'question', 'id'}\n",
    "                \"\"\"\n",
    "                qas_id = qa[\"id\"]\n",
    "                question_text = qa[\"question\"]\n",
    "                start_position = None\n",
    "                end_position = None\n",
    "                orig_answer_text = None\n",
    "\n",
    "                if is_train:\n",
    "                    if len(qa[\"answers\"]) != 1:\n",
    "                        raise ValueError(\n",
    "                            \"For training, each question should have exactly 1 answer.\")\n",
    "                    \n",
    "                    # Q2. Line 34의 변수를 참고하여 Line 70: SquadExample의 instance를 만들기 위한 파라미터를 채우세요.  \n",
    "                    ###################################################################################################\n",
    "                    qas_id = qa[\"id\"]     # fill the black -> assign None\n",
    "                    question_text = qa[\"question\"] # fill the black # index of word\n",
    "                    answer = qa[\"answers\"][0]\n",
    "                    orig_answer_text = answer[\"text\"]\n",
    "                    answer_offset = answer[\"answer_start\"]\n",
    "                    answer_length = len(orig_answer_text)\n",
    "                    start_position = char_to_word_offset[answer_offset] # index of word\n",
    "                    end_position = char_to_word_offset[answer_offset + answer_length - 1] # index of word \n",
    "                    ###################################################################################################\n",
    "\n",
    "                    # CODE FOR Handling exceptions \n",
    "                    # Only add answers where the text can be exactly recovered from the\n",
    "                    # document. If this CAN'T happen it's likely due to weird Unicode\n",
    "                    # stuff so we will just skip the example.\n",
    "                    #\n",
    "                    # Note that this means for training mode, every example is NOT\n",
    "                    # guaranteed to be preserved.\n",
    "                    actual_text = \" \".join(doc_tokens[start_position:(end_position + 1)])\n",
    "                    cleaned_answer_text = \" \".join(whitespace_tokenize(\n",
    "                        orig_answer_text))  # segment words from the sentense including the white space\n",
    "                    if actual_text.find(cleaned_answer_text) == -1:\n",
    "                        logger.warning(\"Could not find answer: '%s' vs. '%s'\",\n",
    "                                       actual_text, cleaned_answer_text)\n",
    "                        continue\n",
    "\n",
    "                example = SquadExample(\n",
    "                    qas_id=qas_id,\n",
    "                    question_text=question_text,\n",
    "                    doc_tokens=doc_tokens,  # a set of tokens(words) in the\n",
    "                    orig_answer_text=orig_answer_text,\n",
    "                    start_position=start_position,\n",
    "                    end_position=end_position)\n",
    "                examples.append(example)\n",
    "    print(\"success to convert input data into a set of {} examples\".format(len(examples)))\n",
    "    return examples"
   ]
  },
  {
   "cell_type": "code",
   "execution_count": 9,
   "metadata": {
    "tags": []
   },
   "outputs": [
    {
     "output_type": "stream",
     "name": "stdout",
     "text": "success to convert input data into a set of 87599 examples\n"
    }
   ],
   "source": [
    "train_examples = parse_json_squad(input_data, True)\n",
    "## len of examples 87599"
   ]
  },
  {
   "cell_type": "code",
   "execution_count": 10,
   "metadata": {
    "scrolled": true,
    "tags": []
   },
   "outputs": [
    {
     "output_type": "stream",
     "name": "stdout",
     "text": "qas_id: 5733be284776f41900661182\n\n, question_text: To whom did the Virgin Mary allegedly appear in 1858 in Lourdes France?\n\n, orig_answer_text: Saint Bernadette Soubirous\n\n, doc_tokens: [Architecturally, the school has a Catholic character. Atop the Main Building's gold dome is a golden statue of the Virgin Mary. Immediately in front of the Main Building and facing it, is a copper statue of Christ with arms upraised with the legend \"Venite Ad Me Omnes\". Next to the Main Building is the Basilica of the Sacred Heart. Immediately behind the basilica is the Grotto, a Marian place of prayer and reflection. It is a replica of the grotto at Lourdes, France where the Virgin Mary reputedly appeared to Saint Bernadette Soubirous in 1858. At the end of the main drive (and in a direct line that connects through 3 statues and the Gold Dome), is a simple, modern stone statue of Mary.]\n\n, start_position: 90\n\n, end_position: 92\n"
    }
   ],
   "source": [
    "print(train_examples[0])"
   ]
  },
  {
   "cell_type": "markdown",
   "metadata": {},
   "source": [
    "## Extract Feature"
   ]
  },
  {
   "cell_type": "code",
   "execution_count": 11,
   "metadata": {},
   "outputs": [],
   "source": [
    "class InputFeatures(object):\n",
    "    \"\"\"A single set of features of data.\"\"\"\n",
    "\n",
    "    def __init__(self,\n",
    "                 unique_id,\n",
    "                 example_index,\n",
    "                 doc_span_index,\n",
    "                 tokens,\n",
    "                 token_to_orig_map,\n",
    "                 token_is_max_context,\n",
    "                 input_ids,\n",
    "                 input_mask,\n",
    "                 segment_ids,\n",
    "                 start_position=None,\n",
    "                 end_position=None):\n",
    "        \n",
    "        self.unique_id = unique_id\n",
    "        self.example_index = example_index\n",
    "        self.doc_span_index = doc_span_index\n",
    "        self.tokens = tokens\n",
    "        self.token_to_orig_map = token_to_orig_map\n",
    "        self.token_is_max_context = token_is_max_context\n",
    "        self.input_ids = input_ids\n",
    "        self.input_mask = input_mask\n",
    "        self.segment_ids = segment_ids\n",
    "        self.start_position = start_position\n",
    "        self.end_position = end_position"
   ]
  },
  {
   "cell_type": "code",
   "execution_count": 12,
   "metadata": {},
   "outputs": [],
   "source": [
    "def convert_examples_to_features(examples, tokenizer, max_seq_length,\n",
    "                                 doc_stride, max_query_length, is_training):\n",
    "    \"\"\"Loads a data file into a list of `InputBatch`s.\"\"\"\n",
    "\n",
    "    unique_id = 1000000000\n",
    "\n",
    "    features = []\n",
    "    \n",
    "    for (example_index, example) in enumerate(examples):\n",
    "        \n",
    "        # Q3. Pretrained model을 학습하는데 사용한 Tokenizer를 사용하여 question과 context의 token을 sub-token으로 토큰화해주세요.  \n",
    "        ###################################################################################################\n",
    "        query_tokens = tokenizer.tokenize(example.question_text)\n",
    "        if len(query_tokens) > max_query_length:\n",
    "            query_tokens = query_tokens[0:max_query_length]\n",
    "        tok_to_orig_index = []\n",
    "        orig_to_tok_index = []\n",
    "        all_doc_tokens = [] \n",
    "        for (i, token) in enumerate(example.doc_tokens):  # token == word\n",
    "            orig_to_tok_index.append(len(all_doc_tokens))\n",
    "            sub_tokens = tokenizer.tokenize(token)\n",
    "            for sub_token in sub_tokens:  # sub_token == wordpiece\n",
    "                tok_to_orig_index.append(i)                  \n",
    "                all_doc_tokens.append(sub_token)\n",
    "        ## fill black with the code for appending some values to the above lists\n",
    "        ###################################################################################################\n",
    "                            \n",
    "        # Q4. sub-tokens에 맞추어 span을 업데이트 해주세요.\n",
    "        ###################################################################################################\n",
    "        # fill the code for updating the span of token (tok_start_position, tok_end_position)\n",
    "        tok_start_position = None\n",
    "        tok_end_position = None\n",
    "        if is_training:\n",
    "            tok_start_position = orig_to_tok_index[example.start_position]\n",
    "            if example.end_position < len(example.doc_tokens) - 1:\n",
    "                tok_end_position = orig_to_tok_index[example.end_position + 1] - 1\n",
    "            else:\n",
    "                tok_end_position = len(all_doc_tokens) - 1\n",
    "            (tok_start_position, tok_end_position) = improve_answer_span(\n",
    "                all_doc_tokens, tok_start_position, tok_end_position, tokenizer,\n",
    "                example.orig_answer_text)\n",
    "            \n",
    "        ####################################################################################################\n",
    "        \n",
    "        # The -3 accounts for [CLS], [SEP] and [SEP]  --> 첫 번째 시험문제\n",
    "        max_tokens_for_doc = max_seq_length - len(query_tokens) - 3\n",
    "\n",
    "        # doc_tokens가 설정한 max length를 넘는다면, 몇개의 DocSpan으로 쪼개야 합니다.\n",
    "        # We can have documents that are longer than the maximum sequence length.\n",
    "        # To deal with this we do a sliding window approach, where we take chunks\n",
    "        # of the up to our max length with a stride of `doc_stride`.\n",
    "        _DocSpan = collections.namedtuple(  # pylint: disable=invalid-name\n",
    "            \"DocSpan\", [\"start\", \"length\"])\n",
    "        doc_spans = []\n",
    "        start_offset = 0\n",
    "        while start_offset < len(all_doc_tokens):\n",
    "            length = len(all_doc_tokens) - start_offset\n",
    "            if length > max_tokens_for_doc:\n",
    "                length = max_tokens_for_doc\n",
    "            doc_spans.append(_DocSpan(start=start_offset, length=length))\n",
    "            if start_offset + length == len(all_doc_tokens):\n",
    "                break\n",
    "            start_offset += min(length, doc_stride)\n",
    "            \n",
    "        for (doc_span_index, doc_span) in enumerate(doc_spans):\n",
    "            tokens = [] # input data\n",
    "            segment_ids = [] # segment data\n",
    "            token_to_orig_map = {}\n",
    "            token_is_max_context = {}\n",
    "\n",
    "            # Q5. query를 pretrained BERT의 입력값(features) 형식에 따라 바꿔주세요.\n",
    "              # tokens -> [CLS] question [SEP] context [SEP]\n",
    "              # segment_ids -> 00000000000000000000 1111111111111\n",
    "            ###################################################################################################            \n",
    "            tokens.append(\"[CLS]\")\n",
    "            segment_ids.append(0)\n",
    "            for token in query_tokens:\n",
    "                ## fill the blank ##        \n",
    "                tokens.append(token)\n",
    "                segment_ids.append(0)\n",
    "\n",
    "            tokens.append(\"[SEP]\")\n",
    "            segment_ids.append(0)\n",
    "            ###################################################################################################\n",
    "\n",
    "                \n",
    "            # Q6. context를 pretrained BERT의 입력값(features) 형식에 따라 바꿔주세요.\n",
    "            ###################################################################################################\n",
    "            for i in range(doc_span.length):\n",
    "                split_token_index = doc_span.start + i\n",
    "                token_to_orig_map[len(tokens)] = tok_to_orig_index[split_token_index]\n",
    "                is_max_context = check_is_max_context(doc_spans, doc_span_index,\n",
    "                                                       split_token_index)\n",
    "                token_is_max_context[len(tokens)] = is_max_context\n",
    "                tokens.append(all_doc_tokens[split_token_index])\n",
    "                segment_ids.append(1) # segment ids 12 means the context\n",
    "            tokens.append(\"[SEP]\")\n",
    "            segment_ids.append(1)\n",
    "            ###################################################################################################\n",
    "            \n",
    "            # convert into the index of emmeding matrix\n",
    "            input_ids = tokenizer.convert_tokens_to_ids(tokens)\n",
    "            \n",
    "            # Q7. pretrained BERT의 입력값 크기에 맞게 zero-padding 해주세요. --> 시험 문제\n",
    "            ###################################################################################################\n",
    "            # The mask has 1 for real tokens and 0 for padding tokens. Only real\n",
    "            # tokens are attended to.\n",
    "            input_mask = [1] * len(input_ids)\n",
    "            while len(input_ids) < max_seq_length:\n",
    "                input_ids.append(0)\n",
    "                input_mask.append(0)\n",
    "                segment_ids.append(0)\n",
    "            ###################################################################################################\n",
    "            assert len(input_ids) == max_seq_length\n",
    "            assert len(input_mask) == max_seq_length\n",
    "            assert len(segment_ids) == max_seq_length\n",
    "            \n",
    "            start_position = None\n",
    "            end_position = None\n",
    "            if is_training:\n",
    "                # For training, if our document chunk does not contain an annotation\n",
    "                # we throw it out, since there is nothing to predict. --> 현재 DocSpan에 정답이 없으면 학습 때 안 보고 스킵한다\n",
    "                doc_start = doc_span.start\n",
    "                doc_end = doc_span.start + doc_span.length - 1\n",
    "                if (example.start_position < doc_start or\n",
    "                        example.end_position < doc_start or\n",
    "                        example.start_position > doc_end or example.end_position > doc_end):\n",
    "                    continue # -> next to the DocSpan \n",
    "\n",
    "                doc_offset = len(query_tokens) + 2\n",
    "                start_position = tok_start_position - doc_start + doc_offset\n",
    "                end_position = tok_end_position - doc_start + doc_offset\n",
    "\n",
    "            if example_index < 20:\n",
    "                logger.info(\"*** Example ***\")\n",
    "                logger.info(\"unique_id: %s\" % (unique_id))\n",
    "                logger.info(\"example_index: %s\" % (example_index))\n",
    "                logger.info(\"doc_span_index: %s\" % (doc_span_index))\n",
    "                logger.info(\"tokens: %s\" % \" \".join(tokens))\n",
    "                logger.info(\"token_to_orig_map: %s\" % \" \".join([\n",
    "                    \"%d:%d\" % (x, y) for (x, y) in token_to_orig_map.items()]))\n",
    "                logger.info(\"token_is_max_context: %s\" % \" \".join([\n",
    "                    \"%d:%s\" % (x, y) for (x, y) in token_is_max_context.items()\n",
    "                ]))\n",
    "                logger.info(\"input_ids: %s\" % \" \".join([str(x) for x in input_ids]))\n",
    "                logger.info(\n",
    "                    \"input_mask: %s\" % \" \".join([str(x) for x in input_mask]))\n",
    "                logger.info(\n",
    "                    \"segment_ids: %s\" % \" \".join([str(x) for x in segment_ids]))\n",
    "                if is_training:\n",
    "                    answer_text = \" \".join(tokens[start_position:(end_position + 1)])\n",
    "                    logger.info(\"start_position: %d\" % (start_position))\n",
    "                    logger.info(\"end_position: %d\" % (end_position))\n",
    "                    logger.info(\n",
    "                        \"answer: %s\" % (answer_text))\n",
    "                    \n",
    "            features.append(\n",
    "                InputFeatures(\n",
    "                    unique_id=unique_id,\n",
    "                    example_index=example_index,\n",
    "                    doc_span_index=doc_span_index,\n",
    "                    tokens=tokens,\n",
    "                    token_to_orig_map=token_to_orig_map,\n",
    "                    token_is_max_context=token_is_max_context,\n",
    "                    input_ids=input_ids,\n",
    "                    input_mask=input_mask,\n",
    "                    segment_ids=segment_ids,\n",
    "                    start_position=start_position,\n",
    "                    end_position=end_position))\n",
    "            unique_id += 1\n",
    "\n",
    "    return features"
   ]
  },
  {
   "cell_type": "markdown",
   "metadata": {},
   "source": [
    "## Wrap the train_features in a `Dataloader`"
   ]
  },
  {
   "cell_type": "code",
   "execution_count": 13,
   "metadata": {
    "tags": []
   },
   "outputs": [
    {
     "output_type": "stream",
     "name": "stderr",
     "text": "08/12/2020 13:01:27 - WARNING - pytorch_pretrained_bert.tokenization -   The pre-trained model you are loading is a cased model but you have not set `do_lower_case` to False. We are setting `do_lower_case=False` for you but you may want to check this behavior.\n08/12/2020 13:01:28 - INFO - pytorch_pretrained_bert.tokenization -   loading vocabulary file https://s3.amazonaws.com/models.huggingface.co/bert/bert-base-multilingual-cased-vocab.txt from cache at /home/com10/.pytorch_pretrained_bert/96435fa287fbf7e469185f1062386e05a075cadbf6838b74da22bf64b080bc32.99bcd55fc66f4f3360bc49ba472b940b8dcf223ea6a345deb969d607ca900729\n"
    }
   ],
   "source": [
    "config='bert-base-multilingual-cased'\n",
    "tokenizer = BertTokenizer.from_pretrained(config)\n",
    "max_seq_length=128\n",
    "doc_stride=128\n",
    "max_query_length=64\n",
    "cached_train_features_file = train_file+'_{0}_{1}_{2}'.format(config, str(max_seq_length), str(doc_stride))\n",
    "\n",
    "train_batch_size=15\n",
    "predict_batch_size=15\n",
    "num_train_epochs=2\n",
    "gradient_accumulation_steps=1\n",
    "warmup_proportion=0.1\n",
    "learning_rate=5e-5\n",
    "num_train_steps = int(num_train_epochs * len(train_examples) / train_batch_size) #  /gradient_accumulation_steps *num_train_epochs"
   ]
  },
  {
   "cell_type": "code",
   "execution_count": 14,
   "metadata": {
    "tags": []
   },
   "outputs": [],
   "source": [
    "try:\n",
    "    with open(cached_train_features_file, \"rb\") as reader:\n",
    "        train_features = pickle.load(reader)\n",
    "except:\n",
    "    train_features = convert_examples_to_features(\n",
    "        examples=train_examples,\n",
    "        tokenizer=tokenizer,\n",
    "        max_seq_length=max_seq_length,\n",
    "        doc_stride=doc_stride,\n",
    "        max_query_length=max_query_length,\n",
    "        is_training=True)\n",
    "    print('finish extracting the features from the examples')\n",
    "    logger.info(\"  Saving train features into cached file %s\", cached_train_features_file)\n",
    "    with open(cached_train_features_file, \"wb\") as writer:\n",
    "        pickle.dump(train_features, writer)"
   ]
  },
  {
   "cell_type": "code",
   "execution_count": 15,
   "metadata": {
    "tags": []
   },
   "outputs": [
    {
     "output_type": "stream",
     "name": "stderr",
     "text": "08/12/2020 13:01:31 - INFO - __main__ -   ***** Running training *****\n08/12/2020 13:01:31 - INFO - __main__ -     Num orig examples = 87599\n08/12/2020 13:01:31 - INFO - __main__ -     Num split examples = 87056\n08/12/2020 13:01:31 - INFO - __main__ -     Batch size = 15\n08/12/2020 13:01:31 - INFO - __main__ -     Num steps = 11679\n"
    }
   ],
   "source": [
    "logger.info(\"***** Running training *****\")\n",
    "logger.info(\"  Num orig examples = %d\", len(train_examples))\n",
    "logger.info(\"  Num split examples = %d\", len(train_features))\n",
    "logger.info(\"  Batch size = %d\", train_batch_size)\n",
    "logger.info(\"  Num steps = %d\", num_train_steps)\n",
    "\n",
    "\n",
    "# Q8. 데이터로더에 데이터를 로드하기 위해 tensor로 data type을 torch.Tensor로 바꿔주세요.\n",
    "###################################################################################################\n",
    "# fill the blank\n",
    "all_input_ids = torch.tensor([f.input_ids for f in train_features], dtype=torch.long) ## must be long type\n",
    "all_input_mask = torch.tensor([f.input_mask for f in train_features], dtype=torch.long)\n",
    "all_segment_ids = torch.tensor([f.segment_ids for f in train_features], dtype=torch.long)\n",
    "all_start_positions = torch.tensor([f.start_position for f in train_features], dtype=torch.long)\n",
    "all_end_positions = torch.tensor([f.end_position for f in train_features], dtype=torch.long)\n",
    "###################################################################################################\n",
    "\n",
    "train_data = TensorDataset(all_input_ids, all_input_mask, all_segment_ids,all_start_positions, all_end_positions)                           \n",
    "train_sampler = RandomSampler(train_data)\n",
    "train_dataloader = DataLoader(train_data, sampler=train_sampler, batch_size=train_batch_size)"
   ]
  },
  {
   "cell_type": "markdown",
   "metadata": {},
   "source": [
    "## Model Settings"
   ]
  },
  {
   "cell_type": "code",
   "execution_count": 16,
   "metadata": {
    "tags": []
   },
   "outputs": [
    {
     "output_type": "stream",
     "name": "stderr",
     "text": "08/12/2020 13:01:33 - INFO - pytorch_pretrained_bert.modeling -   loading archive file https://s3.amazonaws.com/models.huggingface.co/bert/bert-base-multilingual-cased.tar.gz from cache at /home/com10/.pytorch_pretrained_bert/731c19ddf94e294e00ec1ba9a930c69cc2a0fd489b25d3d691373fae4c0986bd.4e367b0d0155d801930846bb6ed98f8a7c23e0ded37888b29caa37009a40c7b9\n08/12/2020 13:01:33 - INFO - pytorch_pretrained_bert.modeling -   extracting archive file /home/com10/.pytorch_pretrained_bert/731c19ddf94e294e00ec1ba9a930c69cc2a0fd489b25d3d691373fae4c0986bd.4e367b0d0155d801930846bb6ed98f8a7c23e0ded37888b29caa37009a40c7b9 to temp dir /tmp/tmpob79dc7x\n08/12/2020 13:01:36 - INFO - pytorch_pretrained_bert.modeling -   Model config {\n  \"attention_probs_dropout_prob\": 0.1,\n  \"directionality\": \"bidi\",\n  \"hidden_act\": \"gelu\",\n  \"hidden_dropout_prob\": 0.1,\n  \"hidden_size\": 768,\n  \"initializer_range\": 0.02,\n  \"intermediate_size\": 3072,\n  \"max_position_embeddings\": 512,\n  \"num_attention_heads\": 12,\n  \"num_hidden_layers\": 12,\n  \"pooler_fc_size\": 768,\n  \"pooler_num_attention_heads\": 12,\n  \"pooler_num_fc_layers\": 3,\n  \"pooler_size_per_head\": 128,\n  \"pooler_type\": \"first_token_transform\",\n  \"type_vocab_size\": 2,\n  \"vocab_size\": 119547\n}\n\n08/12/2020 13:01:39 - INFO - pytorch_pretrained_bert.modeling -   Weights of BertForQuestionAnswering not initialized from pretrained model: ['qa_outputs.weight', 'qa_outputs.bias']\n08/12/2020 13:01:39 - INFO - pytorch_pretrained_bert.modeling -   Weights from pretrained model not used in BertForQuestionAnswering: ['cls.predictions.bias', 'cls.predictions.transform.dense.weight', 'cls.predictions.transform.dense.bias', 'cls.predictions.decoder.weight', 'cls.seq_relationship.weight', 'cls.seq_relationship.bias', 'cls.predictions.transform.LayerNorm.weight', 'cls.predictions.transform.LayerNorm.bias']\n"
    },
    {
     "output_type": "execute_result",
     "data": {
      "text/plain": "BertForQuestionAnswering(\n  (bert): BertModel(\n    (embeddings): BertEmbeddings(\n      (word_embeddings): Embedding(119547, 768, padding_idx=0)\n      (position_embeddings): Embedding(512, 768)\n      (token_type_embeddings): Embedding(2, 768)\n      (LayerNorm): BertLayerNorm()\n      (dropout): Dropout(p=0.1, inplace=False)\n    )\n    (encoder): BertEncoder(\n      (layer): ModuleList(\n        (0): BertLayer(\n          (attention): BertAttention(\n            (self): BertSelfAttention(\n              (query): Linear(in_features=768, out_features=768, bias=True)\n              (key): Linear(in_features=768, out_features=768, bias=True)\n              (value): Linear(in_features=768, out_features=768, bias=True)\n              (dropout): Dropout(p=0.1, inplace=False)\n            )\n            (output): BertSelfOutput(\n              (dense): Linear(in_features=768, out_features=768, bias=True)\n              (LayerNorm): BertLayerNorm()\n              (dropout): Dropout(p=0.1, inplace=False)\n            )\n          )\n          (intermediate): BertIntermediate(\n            (dense): Linear(in_features=768, out_features=3072, bias=True)\n          )\n          (output): BertOutput(\n            (dense): Linear(in_features=3072, out_features=768, bias=True)\n            (LayerNorm): BertLayerNorm()\n            (dropout): Dropout(p=0.1, inplace=False)\n          )\n        )\n        (1): BertLayer(\n          (attention): BertAttention(\n            (self): BertSelfAttention(\n              (query): Linear(in_features=768, out_features=768, bias=True)\n              (key): Linear(in_features=768, out_features=768, bias=True)\n              (value): Linear(in_features=768, out_features=768, bias=True)\n              (dropout): Dropout(p=0.1, inplace=False)\n            )\n            (output): BertSelfOutput(\n              (dense): Linear(in_features=768, out_features=768, bias=True)\n              (LayerNorm): BertLayerNorm()\n              (dropout): Dropout(p=0.1, inplace=False)\n            )\n          )\n          (intermediate): BertIntermediate(\n            (dense): Linear(in_features=768, out_features=3072, bias=True)\n          )\n          (output): BertOutput(\n            (dense): Linear(in_features=3072, out_features=768, bias=True)\n            (LayerNorm): BertLayerNorm()\n            (dropout): Dropout(p=0.1, inplace=False)\n          )\n        )\n        (2): BertLayer(\n          (attention): BertAttention(\n            (self): BertSelfAttention(\n              (query): Linear(in_features=768, out_features=768, bias=True)\n              (key): Linear(in_features=768, out_features=768, bias=True)\n              (value): Linear(in_features=768, out_features=768, bias=True)\n              (dropout): Dropout(p=0.1, inplace=False)\n            )\n            (output): BertSelfOutput(\n              (dense): Linear(in_features=768, out_features=768, bias=True)\n              (LayerNorm): BertLayerNorm()\n              (dropout): Dropout(p=0.1, inplace=False)\n            )\n          )\n          (intermediate): BertIntermediate(\n            (dense): Linear(in_features=768, out_features=3072, bias=True)\n          )\n          (output): BertOutput(\n            (dense): Linear(in_features=3072, out_features=768, bias=True)\n            (LayerNorm): BertLayerNorm()\n            (dropout): Dropout(p=0.1, inplace=False)\n          )\n        )\n        (3): BertLayer(\n          (attention): BertAttention(\n            (self): BertSelfAttention(\n              (query): Linear(in_features=768, out_features=768, bias=True)\n              (key): Linear(in_features=768, out_features=768, bias=True)\n              (value): Linear(in_features=768, out_features=768, bias=True)\n              (dropout): Dropout(p=0.1, inplace=False)\n            )\n            (output): BertSelfOutput(\n              (dense): Linear(in_features=768, out_features=768, bias=True)\n              (LayerNorm): BertLayerNorm()\n              (dropout): Dropout(p=0.1, inplace=False)\n            )\n          )\n          (intermediate): BertIntermediate(\n            (dense): Linear(in_features=768, out_features=3072, bias=True)\n          )\n          (output): BertOutput(\n            (dense): Linear(in_features=3072, out_features=768, bias=True)\n            (LayerNorm): BertLayerNorm()\n            (dropout): Dropout(p=0.1, inplace=False)\n          )\n        )\n        (4): BertLayer(\n          (attention): BertAttention(\n            (self): BertSelfAttention(\n              (query): Linear(in_features=768, out_features=768, bias=True)\n              (key): Linear(in_features=768, out_features=768, bias=True)\n              (value): Linear(in_features=768, out_features=768, bias=True)\n              (dropout): Dropout(p=0.1, inplace=False)\n            )\n            (output): BertSelfOutput(\n              (dense): Linear(in_features=768, out_features=768, bias=True)\n              (LayerNorm): BertLayerNorm()\n              (dropout): Dropout(p=0.1, inplace=False)\n            )\n          )\n          (intermediate): BertIntermediate(\n            (dense): Linear(in_features=768, out_features=3072, bias=True)\n          )\n          (output): BertOutput(\n            (dense): Linear(in_features=3072, out_features=768, bias=True)\n            (LayerNorm): BertLayerNorm()\n            (dropout): Dropout(p=0.1, inplace=False)\n          )\n        )\n        (5): BertLayer(\n          (attention): BertAttention(\n            (self): BertSelfAttention(\n              (query): Linear(in_features=768, out_features=768, bias=True)\n              (key): Linear(in_features=768, out_features=768, bias=True)\n              (value): Linear(in_features=768, out_features=768, bias=True)\n              (dropout): Dropout(p=0.1, inplace=False)\n            )\n            (output): BertSelfOutput(\n              (dense): Linear(in_features=768, out_features=768, bias=True)\n              (LayerNorm): BertLayerNorm()\n              (dropout): Dropout(p=0.1, inplace=False)\n            )\n          )\n          (intermediate): BertIntermediate(\n            (dense): Linear(in_features=768, out_features=3072, bias=True)\n          )\n          (output): BertOutput(\n            (dense): Linear(in_features=3072, out_features=768, bias=True)\n            (LayerNorm): BertLayerNorm()\n            (dropout): Dropout(p=0.1, inplace=False)\n          )\n        )\n        (6): BertLayer(\n          (attention): BertAttention(\n            (self): BertSelfAttention(\n              (query): Linear(in_features=768, out_features=768, bias=True)\n              (key): Linear(in_features=768, out_features=768, bias=True)\n              (value): Linear(in_features=768, out_features=768, bias=True)\n              (dropout): Dropout(p=0.1, inplace=False)\n            )\n            (output): BertSelfOutput(\n              (dense): Linear(in_features=768, out_features=768, bias=True)\n              (LayerNorm): BertLayerNorm()\n              (dropout): Dropout(p=0.1, inplace=False)\n            )\n          )\n          (intermediate): BertIntermediate(\n            (dense): Linear(in_features=768, out_features=3072, bias=True)\n          )\n          (output): BertOutput(\n            (dense): Linear(in_features=3072, out_features=768, bias=True)\n            (LayerNorm): BertLayerNorm()\n            (dropout): Dropout(p=0.1, inplace=False)\n          )\n        )\n        (7): BertLayer(\n          (attention): BertAttention(\n            (self): BertSelfAttention(\n              (query): Linear(in_features=768, out_features=768, bias=True)\n              (key): Linear(in_features=768, out_features=768, bias=True)\n              (value): Linear(in_features=768, out_features=768, bias=True)\n              (dropout): Dropout(p=0.1, inplace=False)\n            )\n            (output): BertSelfOutput(\n              (dense): Linear(in_features=768, out_features=768, bias=True)\n              (LayerNorm): BertLayerNorm()\n              (dropout): Dropout(p=0.1, inplace=False)\n            )\n          )\n          (intermediate): BertIntermediate(\n            (dense): Linear(in_features=768, out_features=3072, bias=True)\n          )\n          (output): BertOutput(\n            (dense): Linear(in_features=3072, out_features=768, bias=True)\n            (LayerNorm): BertLayerNorm()\n            (dropout): Dropout(p=0.1, inplace=False)\n          )\n        )\n        (8): BertLayer(\n          (attention): BertAttention(\n            (self): BertSelfAttention(\n              (query): Linear(in_features=768, out_features=768, bias=True)\n              (key): Linear(in_features=768, out_features=768, bias=True)\n              (value): Linear(in_features=768, out_features=768, bias=True)\n              (dropout): Dropout(p=0.1, inplace=False)\n            )\n            (output): BertSelfOutput(\n              (dense): Linear(in_features=768, out_features=768, bias=True)\n              (LayerNorm): BertLayerNorm()\n              (dropout): Dropout(p=0.1, inplace=False)\n            )\n          )\n          (intermediate): BertIntermediate(\n            (dense): Linear(in_features=768, out_features=3072, bias=True)\n          )\n          (output): BertOutput(\n            (dense): Linear(in_features=3072, out_features=768, bias=True)\n            (LayerNorm): BertLayerNorm()\n            (dropout): Dropout(p=0.1, inplace=False)\n          )\n        )\n        (9): BertLayer(\n          (attention): BertAttention(\n            (self): BertSelfAttention(\n              (query): Linear(in_features=768, out_features=768, bias=True)\n              (key): Linear(in_features=768, out_features=768, bias=True)\n              (value): Linear(in_features=768, out_features=768, bias=True)\n              (dropout): Dropout(p=0.1, inplace=False)\n            )\n            (output): BertSelfOutput(\n              (dense): Linear(in_features=768, out_features=768, bias=True)\n              (LayerNorm): BertLayerNorm()\n              (dropout): Dropout(p=0.1, inplace=False)\n            )\n          )\n          (intermediate): BertIntermediate(\n            (dense): Linear(in_features=768, out_features=3072, bias=True)\n          )\n          (output): BertOutput(\n            (dense): Linear(in_features=3072, out_features=768, bias=True)\n            (LayerNorm): BertLayerNorm()\n            (dropout): Dropout(p=0.1, inplace=False)\n          )\n        )\n        (10): BertLayer(\n          (attention): BertAttention(\n            (self): BertSelfAttention(\n              (query): Linear(in_features=768, out_features=768, bias=True)\n              (key): Linear(in_features=768, out_features=768, bias=True)\n              (value): Linear(in_features=768, out_features=768, bias=True)\n              (dropout): Dropout(p=0.1, inplace=False)\n            )\n            (output): BertSelfOutput(\n              (dense): Linear(in_features=768, out_features=768, bias=True)\n              (LayerNorm): BertLayerNorm()\n              (dropout): Dropout(p=0.1, inplace=False)\n            )\n          )\n          (intermediate): BertIntermediate(\n            (dense): Linear(in_features=768, out_features=3072, bias=True)\n          )\n          (output): BertOutput(\n            (dense): Linear(in_features=3072, out_features=768, bias=True)\n            (LayerNorm): BertLayerNorm()\n            (dropout): Dropout(p=0.1, inplace=False)\n          )\n        )\n        (11): BertLayer(\n          (attention): BertAttention(\n            (self): BertSelfAttention(\n              (query): Linear(in_features=768, out_features=768, bias=True)\n              (key): Linear(in_features=768, out_features=768, bias=True)\n              (value): Linear(in_features=768, out_features=768, bias=True)\n              (dropout): Dropout(p=0.1, inplace=False)\n            )\n            (output): BertSelfOutput(\n              (dense): Linear(in_features=768, out_features=768, bias=True)\n              (LayerNorm): BertLayerNorm()\n              (dropout): Dropout(p=0.1, inplace=False)\n            )\n          )\n          (intermediate): BertIntermediate(\n            (dense): Linear(in_features=768, out_features=3072, bias=True)\n          )\n          (output): BertOutput(\n            (dense): Linear(in_features=3072, out_features=768, bias=True)\n            (LayerNorm): BertLayerNorm()\n            (dropout): Dropout(p=0.1, inplace=False)\n          )\n        )\n      )\n    )\n    (pooler): BertPooler(\n      (dense): Linear(in_features=768, out_features=768, bias=True)\n      (activation): Tanh()\n    )\n  )\n  (qa_outputs): Linear(in_features=768, out_features=2, bias=True)\n)"
     },
     "metadata": {},
     "execution_count": 16
    }
   ],
   "source": [
    "model = BertForQuestionAnswering.from_pretrained(config)\n",
    "local_rank = -1\n",
    "gpu_num=0\n",
    "device = torch.device(f\"cuda:{gpu_num}\")\n",
    "t_total = num_train_steps\n",
    "model.to(device)  # [2] TITAN Xp         | 43'C,   0 % |  1235 / 12196 MB | gyuhyeon(1223M)"
   ]
  },
  {
   "cell_type": "code",
   "execution_count": 17,
   "metadata": {},
   "outputs": [],
   "source": [
    "t_total = num_train_steps\n",
    "param_optimizer = list(model.named_parameters())\n",
    "\n",
    "# hack to remove pooler, which is not used\n",
    "# thus it produce None grad that break apex\n",
    "param_optimizer = [n for n in param_optimizer if 'pooler' not in n[0]]  # remove the first class label('pooler')\n",
    "\n",
    "no_decay = ['bias', 'LayerNorm.bias', 'LayerNorm.weight']\n",
    "optimizer_grouped_parameters = [\n",
    "    {'params': [p for n, p in param_optimizer if not any(nd in n for nd in no_decay)], 'weight_decay': 0.01},\n",
    "    {'params': [p for n, p in param_optimizer if any(nd in n for nd in no_decay)], 'weight_decay': 0.0}\n",
    "    ]\n",
    "\n",
    "t_total = num_train_steps\n",
    "\n",
    "# find BertAdam in the https://huggingface.co/transformers/migration.html\n",
    "optimizer = BertAdam(optimizer_grouped_parameters,\n",
    "                     lr=learning_rate,\n",
    "                     warmup=warmup_proportion,\n",
    "                     t_total=t_total)"
   ]
  },
  {
   "cell_type": "code",
   "execution_count": 18,
   "metadata": {
    "tags": [
     "outputPrepend"
    ]
   },
   "outputs": [
    {
     "output_type": "stream",
     "name": "stderr",
     "text": ",  3.30it/s]\u001b[A\nIteration:  95%|█████████▍| 5503/5804 [27:47<01:31,  3.30it/s]\u001b[A\nIteration:  95%|█████████▍| 5504/5804 [27:47<01:30,  3.30it/s]\u001b[A\nIteration:  95%|█████████▍| 5505/5804 [27:47<01:30,  3.30it/s]\u001b[A\nIteration:  95%|█████████▍| 5506/5804 [27:48<01:30,  3.30it/s]\u001b[A\nIteration:  95%|█████████▍| 5507/5804 [27:48<01:30,  3.30it/s]\u001b[A\nIteration:  95%|█████████▍| 5508/5804 [27:48<01:29,  3.29it/s]\u001b[A\nIteration:  95%|█████████▍| 5509/5804 [27:49<01:29,  3.29it/s]\u001b[A\nIteration:  95%|█████████▍| 5510/5804 [27:49<01:29,  3.30it/s]\u001b[A\nIteration:  95%|█████████▍| 5511/5804 [27:49<01:28,  3.30it/s]\u001b[A\nIteration:  95%|█████████▍| 5512/5804 [27:50<01:28,  3.30it/s]\u001b[A\nIteration:  95%|█████████▍| 5513/5804 [27:50<01:27,  3.31it/s]\u001b[A\nIteration:  95%|█████████▌| 5514/5804 [27:50<01:27,  3.31it/s]\u001b[A\nIteration:  95%|█████████▌| 5515/5804 [27:51<01:27,  3.31it/s]\u001b[A\nIteration:  95%|█████████▌| 5516/5804 [27:51<01:27,  3.31it/s]\u001b[A\nIteration:  95%|█████████▌| 5517/5804 [27:51<01:26,  3.31it/s]\u001b[A\nIteration:  95%|█████████▌| 5518/5804 [27:51<01:26,  3.31it/s]\u001b[A\nIteration:  95%|█████████▌| 5519/5804 [27:52<01:26,  3.31it/s]\u001b[A\nIteration:  95%|█████████▌| 5520/5804 [27:52<01:25,  3.31it/s]\u001b[A\nIteration:  95%|█████████▌| 5521/5804 [27:52<01:25,  3.31it/s]\u001b[A\nIteration:  95%|█████████▌| 5522/5804 [27:53<01:25,  3.31it/s]\u001b[A\nIteration:  95%|█████████▌| 5523/5804 [27:53<01:24,  3.31it/s]\u001b[A\nIteration:  95%|█████████▌| 5524/5804 [27:53<01:24,  3.31it/s]\u001b[A\nIteration:  95%|█████████▌| 5525/5804 [27:54<01:24,  3.31it/s]\u001b[A\nIteration:  95%|█████████▌| 5526/5804 [27:54<01:24,  3.30it/s]\u001b[A\nIteration:  95%|█████████▌| 5527/5804 [27:54<01:23,  3.30it/s]\u001b[A\nIteration:  95%|█████████▌| 5528/5804 [27:54<01:23,  3.30it/s]\u001b[A\nIteration:  95%|█████████▌| 5529/5804 [27:55<01:23,  3.30it/s]\u001b[A\nIteration:  95%|█████████▌| 5530/5804 [27:55<01:22,  3.30it/s]\u001b[A\nIteration:  95%|█████████▌| 5531/5804 [27:55<01:22,  3.30it/s]\u001b[A\nIteration:  95%|█████████▌| 5532/5804 [27:56<01:22,  3.31it/s]\u001b[A\nIteration:  95%|█████████▌| 5533/5804 [27:56<01:21,  3.31it/s]\u001b[A\nIteration:  95%|█████████▌| 5534/5804 [27:56<01:21,  3.31it/s]\u001b[A\nIteration:  95%|█████████▌| 5535/5804 [27:57<01:21,  3.31it/s]\u001b[A\nIteration:  95%|█████████▌| 5536/5804 [27:57<01:21,  3.31it/s]\u001b[A\nIteration:  95%|█████████▌| 5537/5804 [27:57<01:20,  3.30it/s]\u001b[A\nIteration:  95%|█████████▌| 5538/5804 [27:57<01:20,  3.30it/s]\u001b[A\nIteration:  95%|█████████▌| 5539/5804 [27:58<01:20,  3.30it/s]\u001b[A\nIteration:  95%|█████████▌| 5540/5804 [27:58<01:19,  3.30it/s]\u001b[A\nIteration:  95%|█████████▌| 5541/5804 [27:58<01:19,  3.30it/s]\u001b[A\nIteration:  95%|█████████▌| 5542/5804 [27:59<01:19,  3.30it/s]\u001b[A\nIteration:  96%|█████████▌| 5543/5804 [27:59<01:18,  3.30it/s]\u001b[A\nIteration:  96%|█████████▌| 5544/5804 [27:59<01:18,  3.31it/s]\u001b[A\nIteration:  96%|█████████▌| 5545/5804 [28:00<01:18,  3.30it/s]\u001b[A\nIteration:  96%|█████████▌| 5546/5804 [28:00<01:18,  3.30it/s]\u001b[A\nIteration:  96%|█████████▌| 5547/5804 [28:00<01:17,  3.31it/s]\u001b[A\nIteration:  96%|█████████▌| 5548/5804 [28:01<01:17,  3.30it/s]\u001b[A\nIteration:  96%|█████████▌| 5549/5804 [28:01<01:17,  3.30it/s]\u001b[A\nIteration:  96%|█████████▌| 5550/5804 [28:01<01:16,  3.30it/s]\u001b[A\nIteration:  96%|█████████▌| 5551/5804 [28:01<01:16,  3.30it/s]\u001b[A\nIteration:  96%|█████████▌| 5552/5804 [28:02<01:16,  3.30it/s]\u001b[A\nIteration:  96%|█████████▌| 5553/5804 [28:02<01:16,  3.30it/s]\u001b[A\nIteration:  96%|█████████▌| 5554/5804 [28:02<01:15,  3.30it/s]\u001b[A\nIteration:  96%|█████████▌| 5555/5804 [28:03<01:15,  3.30it/s]\u001b[A\nIteration:  96%|█████████▌| 5556/5804 [28:03<01:15,  3.30it/s]\u001b[A\nIteration:  96%|█████████▌| 5557/5804 [28:03<01:14,  3.30it/s]\u001b[A\nIteration:  96%|█████████▌| 5558/5804 [28:04<01:14,  3.30it/s]\u001b[A\nIteration:  96%|█████████▌| 5559/5804 [28:04<01:14,  3.30it/s]\u001b[A\nIteration:  96%|█████████▌| 5560/5804 [28:04<01:13,  3.30it/s]\u001b[A\nIteration:  96%|█████████▌| 5561/5804 [28:04<01:13,  3.30it/s]\u001b[A\nIteration:  96%|█████████▌| 5562/5804 [28:05<01:13,  3.30it/s]\u001b[A\nIteration:  96%|█████████▌| 5563/5804 [28:05<01:12,  3.30it/s]\u001b[A\nIteration:  96%|█████████▌| 5564/5804 [28:05<01:12,  3.30it/s]\u001b[A\nIteration:  96%|█████████▌| 5565/5804 [28:06<01:12,  3.30it/s]\u001b[A\nIteration:  96%|█████████▌| 5566/5804 [28:06<01:12,  3.30it/s]\u001b[A\nIteration:  96%|█████████▌| 5567/5804 [28:06<01:11,  3.30it/s]\u001b[A\nIteration:  96%|█████████▌| 5568/5804 [28:07<01:11,  3.30it/s]\u001b[A\nIteration:  96%|█████████▌| 5569/5804 [28:07<01:11,  3.29it/s]\u001b[A\nIteration:  96%|█████████▌| 5570/5804 [28:07<01:11,  3.29it/s]\u001b[A\nIteration:  96%|█████████▌| 5571/5804 [28:07<01:10,  3.29it/s]\u001b[A\nIteration:  96%|█████████▌| 5572/5804 [28:08<01:10,  3.29it/s]\u001b[A\nIteration:  96%|█████████▌| 5573/5804 [28:08<01:10,  3.29it/s]\u001b[A\nIteration:  96%|█████████▌| 5574/5804 [28:08<01:09,  3.29it/s]\u001b[A\nIteration:  96%|█████████▌| 5575/5804 [28:09<01:09,  3.29it/s]\u001b[A\nIteration:  96%|█████████▌| 5576/5804 [28:09<01:09,  3.29it/s]\u001b[A\nIteration:  96%|█████████▌| 5577/5804 [28:09<01:09,  3.29it/s]\u001b[A\nIteration:  96%|█████████▌| 5578/5804 [28:10<01:08,  3.29it/s]\u001b[A\nIteration:  96%|█████████▌| 5579/5804 [28:10<01:08,  3.29it/s]\u001b[A\nIteration:  96%|█████████▌| 5580/5804 [28:10<01:08,  3.29it/s]\u001b[A\nIteration:  96%|█████████▌| 5581/5804 [28:11<01:07,  3.29it/s]\u001b[A\nIteration:  96%|█████████▌| 5582/5804 [28:11<01:07,  3.29it/s]\u001b[A\nIteration:  96%|█████████▌| 5583/5804 [28:11<01:07,  3.29it/s]\u001b[A\nIteration:  96%|█████████▌| 5584/5804 [28:11<01:06,  3.30it/s]\u001b[A\nIteration:  96%|█████████▌| 5585/5804 [28:12<01:06,  3.30it/s]\u001b[A\nIteration:  96%|█████████▌| 5586/5804 [28:12<01:06,  3.30it/s]\u001b[A\nIteration:  96%|█████████▋| 5587/5804 [28:12<01:05,  3.30it/s]\u001b[A\nIteration:  96%|█████████▋| 5588/5804 [28:13<01:05,  3.30it/s]\u001b[A\nIteration:  96%|█████████▋| 5589/5804 [28:13<01:05,  3.30it/s]\u001b[A\nIteration:  96%|█████████▋| 5590/5804 [28:13<01:04,  3.31it/s]\u001b[A\nIteration:  96%|█████████▋| 5591/5804 [28:14<01:04,  3.31it/s]\u001b[A\nIteration:  96%|█████████▋| 5592/5804 [28:14<01:04,  3.31it/s]\u001b[A\nIteration:  96%|█████████▋| 5593/5804 [28:14<01:03,  3.31it/s]\u001b[A\nIteration:  96%|█████████▋| 5594/5804 [28:14<01:03,  3.31it/s]\u001b[A\nIteration:  96%|█████████▋| 5595/5804 [28:15<01:03,  3.31it/s]\u001b[A\nIteration:  96%|█████████▋| 5596/5804 [28:15<01:02,  3.31it/s]\u001b[A\nIteration:  96%|█████████▋| 5597/5804 [28:15<01:02,  3.31it/s]\u001b[A\nIteration:  96%|█████████▋| 5598/5804 [28:16<01:02,  3.31it/s]\u001b[A\nIteration:  96%|█████████▋| 5599/5804 [28:16<01:01,  3.31it/s]\u001b[A\nIteration:  96%|█████████▋| 5600/5804 [28:16<01:01,  3.31it/s]\u001b[A\nIteration:  97%|█████████▋| 5601/5804 [28:17<01:01,  3.31it/s]\u001b[A\nIteration:  97%|█████████▋| 5602/5804 [28:17<01:01,  3.31it/s]\u001b[A\nIteration:  97%|█████████▋| 5603/5804 [28:17<01:00,  3.31it/s]\u001b[A\nIteration:  97%|█████████▋| 5604/5804 [28:17<01:00,  3.31it/s]\u001b[A\nIteration:  97%|█████████▋| 5605/5804 [28:18<01:00,  3.31it/s]\u001b[A\nIteration:  97%|█████████▋| 5606/5804 [28:18<00:59,  3.31it/s]\u001b[A\nIteration:  97%|█████████▋| 5607/5804 [28:18<00:59,  3.30it/s]\u001b[A\nIteration:  97%|█████████▋| 5608/5804 [28:19<00:59,  3.31it/s]\u001b[A\nIteration:  97%|█████████▋| 5609/5804 [28:19<00:59,  3.30it/s]\u001b[A\nIteration:  97%|█████████▋| 5610/5804 [28:19<00:58,  3.30it/s]\u001b[A\nIteration:  97%|█████████▋| 5611/5804 [28:20<00:58,  3.30it/s]\u001b[A\nIteration:  97%|█████████▋| 5612/5804 [28:20<00:58,  3.30it/s]\u001b[A\nIteration:  97%|█████████▋| 5613/5804 [28:20<00:57,  3.30it/s]\u001b[A\nIteration:  97%|█████████▋| 5614/5804 [28:21<00:57,  3.30it/s]\u001b[A\nIteration:  97%|█████████▋| 5615/5804 [28:21<00:57,  3.31it/s]\u001b[A\nIteration:  97%|█████████▋| 5616/5804 [28:21<00:56,  3.31it/s]\u001b[A\nIteration:  97%|█████████▋| 5617/5804 [28:21<00:56,  3.31it/s]\u001b[A\nIteration:  97%|█████████▋| 5618/5804 [28:22<00:56,  3.31it/s]\u001b[A\nIteration:  97%|█████████▋| 5619/5804 [28:22<00:55,  3.31it/s]\u001b[A\nIteration:  97%|█████████▋| 5620/5804 [28:22<00:55,  3.31it/s]\u001b[A\nIteration:  97%|█████████▋| 5621/5804 [28:23<00:55,  3.31it/s]\u001b[A\nIteration:  97%|█████████▋| 5622/5804 [28:23<00:54,  3.31it/s]\u001b[A\nIteration:  97%|█████████▋| 5623/5804 [28:23<00:54,  3.31it/s]\u001b[A\nIteration:  97%|█████████▋| 5624/5804 [28:24<00:54,  3.31it/s]\u001b[A\nIteration:  97%|█████████▋| 5625/5804 [28:24<00:54,  3.31it/s]\u001b[A\nIteration:  97%|█████████▋| 5626/5804 [28:24<00:53,  3.31it/s]\u001b[A\nIteration:  97%|█████████▋| 5627/5804 [28:24<00:53,  3.30it/s]\u001b[A\nIteration:  97%|█████████▋| 5628/5804 [28:25<00:53,  3.30it/s]\u001b[A\nIteration:  97%|█████████▋| 5629/5804 [28:25<00:53,  3.29it/s]\u001b[A\nIteration:  97%|█████████▋| 5630/5804 [28:25<00:52,  3.29it/s]\u001b[A\nIteration:  97%|█████████▋| 5631/5804 [28:26<00:52,  3.29it/s]\u001b[A\nIteration:  97%|█████████▋| 5632/5804 [28:26<00:52,  3.29it/s]\u001b[A\nIteration:  97%|█████████▋| 5633/5804 [28:26<00:51,  3.29it/s]\u001b[A\nIteration:  97%|█████████▋| 5634/5804 [28:27<00:51,  3.29it/s]\u001b[A\nIteration:  97%|█████████▋| 5635/5804 [28:27<00:51,  3.29it/s]\u001b[A\nIteration:  97%|█████████▋| 5636/5804 [28:27<00:51,  3.29it/s]\u001b[A\nIteration:  97%|█████████▋| 5637/5804 [28:27<00:50,  3.29it/s]\u001b[A\nIteration:  97%|█████████▋| 5638/5804 [28:28<00:50,  3.29it/s]\u001b[A\nIteration:  97%|█████████▋| 5639/5804 [28:28<00:50,  3.30it/s]\u001b[A\nIteration:  97%|█████████▋| 5640/5804 [28:28<00:49,  3.29it/s]\u001b[A\nIteration:  97%|█████████▋| 5641/5804 [28:29<00:49,  3.29it/s]\u001b[A\nIteration:  97%|█████████▋| 5642/5804 [28:29<00:49,  3.29it/s]\u001b[A\nIteration:  97%|█████████▋| 5643/5804 [28:29<00:48,  3.29it/s]\u001b[A\nIteration:  97%|█████████▋| 5644/5804 [28:30<00:48,  3.29it/s]\u001b[A\nIteration:  97%|█████████▋| 5645/5804 [28:30<00:48,  3.30it/s]\u001b[A\nIteration:  97%|█████████▋| 5646/5804 [28:30<00:47,  3.30it/s]\u001b[A\nIteration:  97%|█████████▋| 5647/5804 [28:31<00:47,  3.30it/s]\u001b[A\nIteration:  97%|█████████▋| 5648/5804 [28:31<00:47,  3.30it/s]\u001b[A\nIteration:  97%|█████████▋| 5649/5804 [28:31<00:46,  3.30it/s]\u001b[A\nIteration:  97%|█████████▋| 5650/5804 [28:31<00:46,  3.30it/s]\u001b[A\nIteration:  97%|█████████▋| 5651/5804 [28:32<00:46,  3.31it/s]\u001b[A\nIteration:  97%|█████████▋| 5652/5804 [28:32<00:45,  3.31it/s]\u001b[A\nIteration:  97%|█████████▋| 5653/5804 [28:32<00:45,  3.31it/s]\u001b[A\nIteration:  97%|█████████▋| 5654/5804 [28:33<00:45,  3.31it/s]\u001b[A\nIteration:  97%|█████████▋| 5655/5804 [28:33<00:45,  3.31it/s]\u001b[A\nIteration:  97%|█████████▋| 5656/5804 [28:33<00:44,  3.31it/s]\u001b[A\nIteration:  97%|█████████▋| 5657/5804 [28:34<00:44,  3.31it/s]\u001b[A\nIteration:  97%|█████████▋| 5658/5804 [28:34<00:44,  3.31it/s]\u001b[A\nIteration:  98%|█████████▊| 5659/5804 [28:34<00:43,  3.31it/s]\u001b[A\nIteration:  98%|█████████▊| 5660/5804 [28:34<00:43,  3.31it/s]\u001b[A\nIteration:  98%|█████████▊| 5661/5804 [28:35<00:43,  3.31it/s]\u001b[A\nIteration:  98%|█████████▊| 5662/5804 [28:35<00:42,  3.31it/s]\u001b[A\nIteration:  98%|█████████▊| 5663/5804 [28:35<00:42,  3.31it/s]\u001b[A\nIteration:  98%|█████████▊| 5664/5804 [28:36<00:42,  3.31it/s]\u001b[A\nIteration:  98%|█████████▊| 5665/5804 [28:36<00:42,  3.31it/s]\u001b[A\nIteration:  98%|█████████▊| 5666/5804 [28:36<00:41,  3.31it/s]\u001b[A\nIteration:  98%|█████████▊| 5667/5804 [28:37<00:41,  3.31it/s]\u001b[A\nIteration:  98%|█████████▊| 5668/5804 [28:37<00:41,  3.31it/s]\u001b[A\nIteration:  98%|█████████▊| 5669/5804 [28:37<00:40,  3.31it/s]\u001b[A\nIteration:  98%|█████████▊| 5670/5804 [28:37<00:40,  3.31it/s]\u001b[A\nIteration:  98%|█████████▊| 5671/5804 [28:38<00:40,  3.31it/s]\u001b[A\nIteration:  98%|█████████▊| 5672/5804 [28:38<00:39,  3.31it/s]\u001b[A\nIteration:  98%|█████████▊| 5673/5804 [28:38<00:39,  3.31it/s]\u001b[A\nIteration:  98%|█████████▊| 5674/5804 [28:39<00:39,  3.31it/s]\u001b[A\nIteration:  98%|█████████▊| 5675/5804 [28:39<00:38,  3.31it/s]\u001b[A\nIteration:  98%|█████████▊| 5676/5804 [28:39<00:38,  3.31it/s]\u001b[A\nIteration:  98%|█████████▊| 5677/5804 [28:40<00:38,  3.31it/s]\u001b[A\nIteration:  98%|█████████▊| 5678/5804 [28:40<00:38,  3.31it/s]\u001b[A\nIteration:  98%|█████████▊| 5679/5804 [28:40<00:37,  3.31it/s]\u001b[A\nIteration:  98%|█████████▊| 5680/5804 [28:40<00:37,  3.31it/s]\u001b[A\nIteration:  98%|█████████▊| 5681/5804 [28:41<00:37,  3.31it/s]\u001b[A\nIteration:  98%|█████████▊| 5682/5804 [28:41<00:36,  3.31it/s]\u001b[A\nIteration:  98%|█████████▊| 5683/5804 [28:41<00:36,  3.31it/s]\u001b[A\nIteration:  98%|█████████▊| 5684/5804 [28:42<00:36,  3.31it/s]\u001b[A\nIteration:  98%|█████████▊| 5685/5804 [28:42<00:35,  3.31it/s]\u001b[A\nIteration:  98%|█████████▊| 5686/5804 [28:42<00:35,  3.31it/s]\u001b[A\nIteration:  98%|█████████▊| 5687/5804 [28:43<00:35,  3.31it/s]\u001b[A\nIteration:  98%|█████████▊| 5688/5804 [28:43<00:35,  3.31it/s]\u001b[A\nIteration:  98%|█████████▊| 5689/5804 [28:43<00:34,  3.31it/s]\u001b[A\nIteration:  98%|█████████▊| 5690/5804 [28:44<00:34,  3.31it/s]\u001b[A\nIteration:  98%|█████████▊| 5691/5804 [28:44<00:34,  3.30it/s]\u001b[A\nIteration:  98%|█████████▊| 5692/5804 [28:44<00:33,  3.30it/s]\u001b[A\nIteration:  98%|█████████▊| 5693/5804 [28:44<00:33,  3.30it/s]\u001b[A\nIteration:  98%|█████████▊| 5694/5804 [28:45<00:33,  3.30it/s]\u001b[A\nIteration:  98%|█████████▊| 5695/5804 [28:45<00:33,  3.30it/s]\u001b[A\nIteration:  98%|█████████▊| 5696/5804 [28:45<00:32,  3.29it/s]\u001b[A\nIteration:  98%|█████████▊| 5697/5804 [28:46<00:32,  3.29it/s]\u001b[A\nIteration:  98%|█████████▊| 5698/5804 [28:46<00:32,  3.29it/s]\u001b[A\nIteration:  98%|█████████▊| 5699/5804 [28:46<00:31,  3.29it/s]\u001b[A\nIteration:  98%|█████████▊| 5700/5804 [28:47<00:31,  3.29it/s]\u001b[A\nIteration:  98%|█████████▊| 5701/5804 [28:47<00:31,  3.29it/s]\u001b[A\nIteration:  98%|█████████▊| 5702/5804 [28:47<00:31,  3.29it/s]\u001b[A\nIteration:  98%|█████████▊| 5703/5804 [28:47<00:30,  3.29it/s]\u001b[A\nIteration:  98%|█████████▊| 5704/5804 [28:48<00:30,  3.28it/s]\u001b[A\nIteration:  98%|█████████▊| 5705/5804 [28:48<00:30,  3.29it/s]\u001b[A\nIteration:  98%|█████████▊| 5706/5804 [28:48<00:29,  3.29it/s]\u001b[A\nIteration:  98%|█████████▊| 5707/5804 [28:49<00:29,  3.29it/s]\u001b[A\nIteration:  98%|█████████▊| 5708/5804 [28:49<00:29,  3.29it/s]\u001b[A\nIteration:  98%|█████████▊| 5709/5804 [28:49<00:28,  3.29it/s]\u001b[A\nIteration:  98%|█████████▊| 5710/5804 [28:50<00:28,  3.29it/s]\u001b[A\nIteration:  98%|█████████▊| 5711/5804 [28:50<00:28,  3.29it/s]\u001b[A\nIteration:  98%|█████████▊| 5712/5804 [28:50<00:27,  3.29it/s]\u001b[A\nIteration:  98%|█████████▊| 5713/5804 [28:50<00:27,  3.29it/s]\u001b[A\nIteration:  98%|█████████▊| 5714/5804 [28:51<00:27,  3.29it/s]\u001b[A\nIteration:  98%|█████████▊| 5715/5804 [28:51<00:27,  3.29it/s]\u001b[A\nIteration:  98%|█████████▊| 5716/5804 [28:51<00:26,  3.29it/s]\u001b[A\nIteration:  99%|█████████▊| 5717/5804 [28:52<00:26,  3.29it/s]\u001b[A\nIteration:  99%|█████████▊| 5718/5804 [28:52<00:26,  3.30it/s]\u001b[A\nIteration:  99%|█████████▊| 5719/5804 [28:52<00:25,  3.30it/s]\u001b[A\nIteration:  99%|█████████▊| 5720/5804 [28:53<00:25,  3.30it/s]\u001b[A\nIteration:  99%|█████████▊| 5721/5804 [28:53<00:25,  3.30it/s]\u001b[A\nIteration:  99%|█████████▊| 5722/5804 [28:53<00:24,  3.30it/s]\u001b[A\nIteration:  99%|█████████▊| 5723/5804 [28:54<00:24,  3.31it/s]\u001b[A\nIteration:  99%|█████████▊| 5724/5804 [28:54<00:24,  3.31it/s]\u001b[A\nIteration:  99%|█████████▊| 5725/5804 [28:54<00:23,  3.31it/s]\u001b[A\nIteration:  99%|█████████▊| 5726/5804 [28:54<00:23,  3.31it/s]\u001b[A\nIteration:  99%|█████████▊| 5727/5804 [28:55<00:23,  3.31it/s]\u001b[A\nIteration:  99%|█████████▊| 5728/5804 [28:55<00:22,  3.30it/s]\u001b[A\nIteration:  99%|█████████▊| 5729/5804 [28:55<00:22,  3.30it/s]\u001b[A\nIteration:  99%|█████████▊| 5730/5804 [28:56<00:22,  3.31it/s]\u001b[A\nIteration:  99%|█████████▊| 5731/5804 [28:56<00:22,  3.30it/s]\u001b[A\nIteration:  99%|█████████▉| 5732/5804 [28:56<00:21,  3.31it/s]\u001b[A\nIteration:  99%|█████████▉| 5733/5804 [28:57<00:21,  3.31it/s]\u001b[A\nIteration:  99%|█████████▉| 5734/5804 [28:57<00:21,  3.31it/s]\u001b[A\nIteration:  99%|█████████▉| 5735/5804 [28:57<00:20,  3.31it/s]\u001b[A\nIteration:  99%|█████████▉| 5736/5804 [28:57<00:20,  3.31it/s]\u001b[A\nIteration:  99%|█████████▉| 5737/5804 [28:58<00:20,  3.31it/s]\u001b[A\nIteration:  99%|█████████▉| 5738/5804 [28:58<00:19,  3.31it/s]\u001b[A\nIteration:  99%|█████████▉| 5739/5804 [28:58<00:19,  3.31it/s]\u001b[A\nIteration:  99%|█████████▉| 5740/5804 [28:59<00:19,  3.30it/s]\u001b[A\nIteration:  99%|█████████▉| 5741/5804 [28:59<00:19,  3.30it/s]\u001b[A\nIteration:  99%|█████████▉| 5742/5804 [28:59<00:18,  3.30it/s]\u001b[A\nIteration:  99%|█████████▉| 5743/5804 [29:00<00:18,  3.30it/s]\u001b[A\nIteration:  99%|█████████▉| 5744/5804 [29:00<00:18,  3.30it/s]\u001b[A\nIteration:  99%|█████████▉| 5745/5804 [29:00<00:17,  3.30it/s]\u001b[A\nIteration:  99%|█████████▉| 5746/5804 [29:00<00:17,  3.30it/s]\u001b[A\nIteration:  99%|█████████▉| 5747/5804 [29:01<00:17,  3.30it/s]\u001b[A\nIteration:  99%|█████████▉| 5748/5804 [29:01<00:16,  3.30it/s]\u001b[A\nIteration:  99%|█████████▉| 5749/5804 [29:01<00:16,  3.30it/s]\u001b[A\nIteration:  99%|█████████▉| 5750/5804 [29:02<00:16,  3.29it/s]\u001b[A\nIteration:  99%|█████████▉| 5751/5804 [29:02<00:16,  3.29it/s]\u001b[A\nIteration:  99%|█████████▉| 5752/5804 [29:02<00:15,  3.29it/s]\u001b[A\nIteration:  99%|█████████▉| 5753/5804 [29:03<00:15,  3.29it/s]\u001b[A\nIteration:  99%|█████████▉| 5754/5804 [29:03<00:15,  3.29it/s]\u001b[A\nIteration:  99%|█████████▉| 5755/5804 [29:03<00:14,  3.29it/s]\u001b[A\nIteration:  99%|█████████▉| 5756/5804 [29:04<00:14,  3.29it/s]\u001b[A\nIteration:  99%|█████████▉| 5757/5804 [29:04<00:14,  3.29it/s]\u001b[A\nIteration:  99%|█████████▉| 5758/5804 [29:04<00:13,  3.29it/s]\u001b[A\nIteration:  99%|█████████▉| 5759/5804 [29:04<00:13,  3.29it/s]\u001b[A\nIteration:  99%|█████████▉| 5760/5804 [29:05<00:13,  3.29it/s]\u001b[A\nIteration:  99%|█████████▉| 5761/5804 [29:05<00:13,  3.29it/s]\u001b[A\nIteration:  99%|█████████▉| 5762/5804 [29:05<00:12,  3.29it/s]\u001b[A\nIteration:  99%|█████████▉| 5763/5804 [29:06<00:12,  3.29it/s]\u001b[A\nIteration:  99%|█████████▉| 5764/5804 [29:06<00:12,  3.29it/s]\u001b[A\nIteration:  99%|█████████▉| 5765/5804 [29:06<00:11,  3.29it/s]\u001b[A\nIteration:  99%|█████████▉| 5766/5804 [29:07<00:11,  3.30it/s]\u001b[A\nIteration:  99%|█████████▉| 5767/5804 [29:07<00:11,  3.30it/s]\u001b[A\nIteration:  99%|█████████▉| 5768/5804 [29:07<00:10,  3.30it/s]\u001b[A\nIteration:  99%|█████████▉| 5769/5804 [29:07<00:10,  3.30it/s]\u001b[A\nIteration:  99%|█████████▉| 5770/5804 [29:08<00:10,  3.30it/s]\u001b[A\nIteration:  99%|█████████▉| 5771/5804 [29:08<00:09,  3.30it/s]\u001b[A\nIteration:  99%|█████████▉| 5772/5804 [29:08<00:09,  3.30it/s]\u001b[A\nIteration:  99%|█████████▉| 5773/5804 [29:09<00:09,  3.30it/s]\u001b[A\nIteration:  99%|█████████▉| 5774/5804 [29:09<00:09,  3.31it/s]\u001b[A\nIteration: 100%|█████████▉| 5775/5804 [29:09<00:08,  3.30it/s]\u001b[A\nIteration: 100%|█████████▉| 5776/5804 [29:10<00:08,  3.31it/s]\u001b[A\nIteration: 100%|█████████▉| 5777/5804 [29:10<00:08,  3.30it/s]\u001b[A\nIteration: 100%|█████████▉| 5778/5804 [29:10<00:07,  3.30it/s]\u001b[A\nIteration: 100%|█████████▉| 5779/5804 [29:10<00:07,  3.31it/s]\u001b[A\nIteration: 100%|█████████▉| 5780/5804 [29:11<00:07,  3.30it/s]\u001b[A\nIteration: 100%|█████████▉| 5781/5804 [29:11<00:06,  3.30it/s]\u001b[A\nIteration: 100%|█████████▉| 5782/5804 [29:11<00:06,  3.30it/s]\u001b[A\nIteration: 100%|█████████▉| 5783/5804 [29:12<00:06,  3.30it/s]\u001b[A\nIteration: 100%|█████████▉| 5784/5804 [29:12<00:06,  3.30it/s]\u001b[A\nIteration: 100%|█████████▉| 5785/5804 [29:12<00:05,  3.30it/s]\u001b[A\nIteration: 100%|█████████▉| 5786/5804 [29:13<00:05,  3.30it/s]\u001b[A\nIteration: 100%|█████████▉| 5787/5804 [29:13<00:05,  3.30it/s]\u001b[A\nIteration: 100%|█████████▉| 5788/5804 [29:13<00:04,  3.31it/s]\u001b[A\nIteration: 100%|█████████▉| 5789/5804 [29:14<00:04,  3.31it/s]\u001b[A\nIteration: 100%|█████████▉| 5790/5804 [29:14<00:04,  3.31it/s]\u001b[A\nIteration: 100%|█████████▉| 5791/5804 [29:14<00:03,  3.31it/s]\u001b[A\nIteration: 100%|█████████▉| 5792/5804 [29:14<00:03,  3.30it/s]\u001b[A\nIteration: 100%|█████████▉| 5793/5804 [29:15<00:03,  3.30it/s]\u001b[A\nIteration: 100%|█████████▉| 5794/5804 [29:15<00:03,  3.30it/s]\u001b[A\nIteration: 100%|█████████▉| 5795/5804 [29:15<00:02,  3.30it/s]\u001b[A\nIteration: 100%|█████████▉| 5796/5804 [29:16<00:02,  3.30it/s]\u001b[A\nIteration: 100%|█████████▉| 5797/5804 [29:16<00:02,  3.31it/s]\u001b[A\nIteration: 100%|█████████▉| 5798/5804 [29:16<00:01,  3.31it/s]\u001b[A\nIteration: 100%|█████████▉| 5799/5804 [29:17<00:01,  3.31it/s]\u001b[A\nIteration: 100%|█████████▉| 5800/5804 [29:17<00:01,  3.31it/s]\u001b[A\nIteration: 100%|█████████▉| 5801/5804 [29:17<00:00,  3.31it/s]\u001b[A\nIteration: 100%|█████████▉| 5802/5804 [29:17<00:00,  3.32it/s]\u001b[A\nIteration: 100%|█████████▉| 5803/5804 [29:18<00:00,  3.32it/s]\u001b[A\nIteration: 100%|██████████| 5804/5804 [29:18<00:00,  3.30it/s]\nEpoch: 100%|██████████| 2/2 [58:34<00:00, 1757.27s/it]\n"
    }
   ],
   "source": [
    "global_step = 0\n",
    "model.train()\n",
    "# Q9. Pretrained BERT를 fine tuning하는 training 코드를 채워주세요.\n",
    "###################################################################################################\n",
    "# [2] TITAN Xp         | 61'C,  65 % |  6757 / 12196 MB | gyuhyeon(6745M)\n",
    "for _ in trange(int(num_train_epochs), desc=\"Epoch\"):\n",
    "    for step, batch in enumerate(tqdm(train_dataloader, desc=\"Iteration\")):\n",
    "        # loss.backward()까지의 코드를 채워주세요.\n",
    "        # blank:: batch to device#\n",
    "        batch = [b.to(device) for b in batch]\n",
    "        input_ids, input_mask, segment_ids, start_positions, end_positions = batch\n",
    "        loss = model(input_ids, segment_ids, input_mask, start_positions, end_positions)\n",
    "        loss.backward()\n",
    "        \n",
    "        \"\"\"\n",
    "        Added Explaination for the Below Code\n",
    "        f your data set is highly differentiated, you can suffer from a sort of \"early over-fitting\". \n",
    "        If your shuffled data happens to include a cluster of related, strongly-featured observations,\n",
    "        your model's initial training can skew badly toward those features -- or worse,\n",
    "        toward incidental features that aren't truly related to the topic at all.\n",
    "\n",
    "        Warm-up is a way to reduce the primacy effect of the early training examples.\n",
    "        Without it, you may need to run a few extra epochs to get the convergence desired,\n",
    "        as the model un-trains those early superstitions.\n",
    "        \"\"\"\n",
    "        lr_this_step = learning_rate * warmup_linear(global_step/t_total, warmup_proportion)\n",
    "        for param_group in optimizer.param_groups:\n",
    "            param_group['lr'] = lr_this_step\n",
    "        optimizer.step()\n",
    "        optimizer.zero_grad()\n",
    "        global_step += 1\n",
    "        \n",
    "###################################################################################################"
   ]
  },
  {
   "cell_type": "markdown",
   "metadata": {},
   "source": [
    "## Model Save"
   ]
  },
  {
   "cell_type": "code",
   "execution_count": 20,
   "metadata": {},
   "outputs": [
    {
     "output_type": "execute_result",
     "data": {
      "text/plain": "'\\ntorch.save({\"model_type\": self.model_type,\\n            \"start_epoch\": epoch + 1,\\n            \"network\": self.net.state_dict(),\\n            \"optimizer\": self.optim.state_dict(),\\n            \"best_metric\": self.best_metric,\\n            }, str(save_path) + \"/%s.pth.tar\" % (filename))\\n\\n## how to load            \\nself.net.load_state_dict(ckpoint[\\'network\\'])\\nself.optim.load_state_dict(ckpoint[\\'optimizer\\'])\\nself.start_epoch = ckpoint[\\'start_epoch\\']\\nself.best_metric = ckpoint[\"best_metric\"]\\n'"
     },
     "metadata": {},
     "execution_count": 20
    }
   ],
   "source": [
    "model_to_save = model.module if hasattr(model, 'module') else model  # Only save the model it-self\n",
    "# output_model_file = os.path.join(\"/Model\", \"pytorch_model.bin\")\n",
    "torch.save(model_to_save.state_dict(), \"./save/models/squad_finetuned_bert_128_epochs_2.bin\")\n",
    "\n",
    "os.listdir('./save/models')\n",
    "\n",
    "\"\"\"\n",
    "torch.save({\"model_type\": self.model_type,\n",
    "            \"start_epoch\": epoch + 1,\n",
    "            \"network\": self.net.state_dict(),\n",
    "            \"optimizer\": self.optim.state_dict(),\n",
    "            \"best_metric\": self.best_metric,\n",
    "            }, str(save_path) + \"/%s.pth.tar\" % (filename))\n",
    "\n",
    "## how to load            \n",
    "self.net.load_state_dict(ckpoint['network'])\n",
    "self.optim.load_state_dict(ckpoint['optimizer'])\n",
    "self.start_epoch = ckpoint['start_epoch']\n",
    "self.best_metric = ckpoint[\"best_metric\"]\n",
    "\"\"\""
   ]
  },
  {
   "cell_type": "markdown",
   "metadata": {},
   "source": [
    "## Model load"
   ]
  },
  {
   "cell_type": "code",
   "execution_count": 18,
   "metadata": {
    "tags": []
   },
   "outputs": [
    {
     "output_type": "stream",
     "name": "stderr",
     "text": "08/12/2020 13:01:49 - INFO - pytorch_pretrained_bert.modeling -   loading archive file https://s3.amazonaws.com/models.huggingface.co/bert/bert-base-multilingual-cased.tar.gz from cache at /home/com10/.pytorch_pretrained_bert/731c19ddf94e294e00ec1ba9a930c69cc2a0fd489b25d3d691373fae4c0986bd.4e367b0d0155d801930846bb6ed98f8a7c23e0ded37888b29caa37009a40c7b9\n08/12/2020 13:01:49 - INFO - pytorch_pretrained_bert.modeling -   extracting archive file /home/com10/.pytorch_pretrained_bert/731c19ddf94e294e00ec1ba9a930c69cc2a0fd489b25d3d691373fae4c0986bd.4e367b0d0155d801930846bb6ed98f8a7c23e0ded37888b29caa37009a40c7b9 to temp dir /tmp/tmpfwqs94vv\n08/12/2020 13:01:53 - INFO - pytorch_pretrained_bert.modeling -   Model config {\n  \"attention_probs_dropout_prob\": 0.1,\n  \"directionality\": \"bidi\",\n  \"hidden_act\": \"gelu\",\n  \"hidden_dropout_prob\": 0.1,\n  \"hidden_size\": 768,\n  \"initializer_range\": 0.02,\n  \"intermediate_size\": 3072,\n  \"max_position_embeddings\": 512,\n  \"num_attention_heads\": 12,\n  \"num_hidden_layers\": 12,\n  \"pooler_fc_size\": 768,\n  \"pooler_num_attention_heads\": 12,\n  \"pooler_num_fc_layers\": 3,\n  \"pooler_size_per_head\": 128,\n  \"pooler_type\": \"first_token_transform\",\n  \"type_vocab_size\": 2,\n  \"vocab_size\": 119547\n}\n\n08/12/2020 13:01:56 - INFO - pytorch_pretrained_bert.modeling -   Weights of BertForQuestionAnswering not initialized from pretrained model: ['qa_outputs.weight', 'qa_outputs.bias']\n08/12/2020 13:01:56 - INFO - pytorch_pretrained_bert.modeling -   Weights from pretrained model not used in BertForQuestionAnswering: ['cls.predictions.bias', 'cls.predictions.transform.dense.weight', 'cls.predictions.transform.dense.bias', 'cls.predictions.decoder.weight', 'cls.seq_relationship.weight', 'cls.seq_relationship.bias', 'cls.predictions.transform.LayerNorm.weight', 'cls.predictions.transform.LayerNorm.bias']\n08/12/2020 13:01:56 - WARNING - pytorch_pretrained_bert.tokenization -   The pre-trained model you are loading is a cased model but you have not set `do_lower_case` to False. We are setting `do_lower_case=False` for you but you may want to check this behavior.\n08/12/2020 13:01:57 - INFO - pytorch_pretrained_bert.tokenization -   loading vocabulary file https://s3.amazonaws.com/models.huggingface.co/bert/bert-base-multilingual-cased-vocab.txt from cache at /home/com10/.pytorch_pretrained_bert/96435fa287fbf7e469185f1062386e05a075cadbf6838b74da22bf64b080bc32.99bcd55fc66f4f3360bc49ba472b940b8dcf223ea6a345deb969d607ca900729\n"
    },
    {
     "output_type": "execute_result",
     "data": {
      "text/plain": "BertForQuestionAnswering(\n  (bert): BertModel(\n    (embeddings): BertEmbeddings(\n      (word_embeddings): Embedding(119547, 768, padding_idx=0)\n      (position_embeddings): Embedding(512, 768)\n      (token_type_embeddings): Embedding(2, 768)\n      (LayerNorm): BertLayerNorm()\n      (dropout): Dropout(p=0.1, inplace=False)\n    )\n    (encoder): BertEncoder(\n      (layer): ModuleList(\n        (0): BertLayer(\n          (attention): BertAttention(\n            (self): BertSelfAttention(\n              (query): Linear(in_features=768, out_features=768, bias=True)\n              (key): Linear(in_features=768, out_features=768, bias=True)\n              (value): Linear(in_features=768, out_features=768, bias=True)\n              (dropout): Dropout(p=0.1, inplace=False)\n            )\n            (output): BertSelfOutput(\n              (dense): Linear(in_features=768, out_features=768, bias=True)\n              (LayerNorm): BertLayerNorm()\n              (dropout): Dropout(p=0.1, inplace=False)\n            )\n          )\n          (intermediate): BertIntermediate(\n            (dense): Linear(in_features=768, out_features=3072, bias=True)\n          )\n          (output): BertOutput(\n            (dense): Linear(in_features=3072, out_features=768, bias=True)\n            (LayerNorm): BertLayerNorm()\n            (dropout): Dropout(p=0.1, inplace=False)\n          )\n        )\n        (1): BertLayer(\n          (attention): BertAttention(\n            (self): BertSelfAttention(\n              (query): Linear(in_features=768, out_features=768, bias=True)\n              (key): Linear(in_features=768, out_features=768, bias=True)\n              (value): Linear(in_features=768, out_features=768, bias=True)\n              (dropout): Dropout(p=0.1, inplace=False)\n            )\n            (output): BertSelfOutput(\n              (dense): Linear(in_features=768, out_features=768, bias=True)\n              (LayerNorm): BertLayerNorm()\n              (dropout): Dropout(p=0.1, inplace=False)\n            )\n          )\n          (intermediate): BertIntermediate(\n            (dense): Linear(in_features=768, out_features=3072, bias=True)\n          )\n          (output): BertOutput(\n            (dense): Linear(in_features=3072, out_features=768, bias=True)\n            (LayerNorm): BertLayerNorm()\n            (dropout): Dropout(p=0.1, inplace=False)\n          )\n        )\n        (2): BertLayer(\n          (attention): BertAttention(\n            (self): BertSelfAttention(\n              (query): Linear(in_features=768, out_features=768, bias=True)\n              (key): Linear(in_features=768, out_features=768, bias=True)\n              (value): Linear(in_features=768, out_features=768, bias=True)\n              (dropout): Dropout(p=0.1, inplace=False)\n            )\n            (output): BertSelfOutput(\n              (dense): Linear(in_features=768, out_features=768, bias=True)\n              (LayerNorm): BertLayerNorm()\n              (dropout): Dropout(p=0.1, inplace=False)\n            )\n          )\n          (intermediate): BertIntermediate(\n            (dense): Linear(in_features=768, out_features=3072, bias=True)\n          )\n          (output): BertOutput(\n            (dense): Linear(in_features=3072, out_features=768, bias=True)\n            (LayerNorm): BertLayerNorm()\n            (dropout): Dropout(p=0.1, inplace=False)\n          )\n        )\n        (3): BertLayer(\n          (attention): BertAttention(\n            (self): BertSelfAttention(\n              (query): Linear(in_features=768, out_features=768, bias=True)\n              (key): Linear(in_features=768, out_features=768, bias=True)\n              (value): Linear(in_features=768, out_features=768, bias=True)\n              (dropout): Dropout(p=0.1, inplace=False)\n            )\n            (output): BertSelfOutput(\n              (dense): Linear(in_features=768, out_features=768, bias=True)\n              (LayerNorm): BertLayerNorm()\n              (dropout): Dropout(p=0.1, inplace=False)\n            )\n          )\n          (intermediate): BertIntermediate(\n            (dense): Linear(in_features=768, out_features=3072, bias=True)\n          )\n          (output): BertOutput(\n            (dense): Linear(in_features=3072, out_features=768, bias=True)\n            (LayerNorm): BertLayerNorm()\n            (dropout): Dropout(p=0.1, inplace=False)\n          )\n        )\n        (4): BertLayer(\n          (attention): BertAttention(\n            (self): BertSelfAttention(\n              (query): Linear(in_features=768, out_features=768, bias=True)\n              (key): Linear(in_features=768, out_features=768, bias=True)\n              (value): Linear(in_features=768, out_features=768, bias=True)\n              (dropout): Dropout(p=0.1, inplace=False)\n            )\n            (output): BertSelfOutput(\n              (dense): Linear(in_features=768, out_features=768, bias=True)\n              (LayerNorm): BertLayerNorm()\n              (dropout): Dropout(p=0.1, inplace=False)\n            )\n          )\n          (intermediate): BertIntermediate(\n            (dense): Linear(in_features=768, out_features=3072, bias=True)\n          )\n          (output): BertOutput(\n            (dense): Linear(in_features=3072, out_features=768, bias=True)\n            (LayerNorm): BertLayerNorm()\n            (dropout): Dropout(p=0.1, inplace=False)\n          )\n        )\n        (5): BertLayer(\n          (attention): BertAttention(\n            (self): BertSelfAttention(\n              (query): Linear(in_features=768, out_features=768, bias=True)\n              (key): Linear(in_features=768, out_features=768, bias=True)\n              (value): Linear(in_features=768, out_features=768, bias=True)\n              (dropout): Dropout(p=0.1, inplace=False)\n            )\n            (output): BertSelfOutput(\n              (dense): Linear(in_features=768, out_features=768, bias=True)\n              (LayerNorm): BertLayerNorm()\n              (dropout): Dropout(p=0.1, inplace=False)\n            )\n          )\n          (intermediate): BertIntermediate(\n            (dense): Linear(in_features=768, out_features=3072, bias=True)\n          )\n          (output): BertOutput(\n            (dense): Linear(in_features=3072, out_features=768, bias=True)\n            (LayerNorm): BertLayerNorm()\n            (dropout): Dropout(p=0.1, inplace=False)\n          )\n        )\n        (6): BertLayer(\n          (attention): BertAttention(\n            (self): BertSelfAttention(\n              (query): Linear(in_features=768, out_features=768, bias=True)\n              (key): Linear(in_features=768, out_features=768, bias=True)\n              (value): Linear(in_features=768, out_features=768, bias=True)\n              (dropout): Dropout(p=0.1, inplace=False)\n            )\n            (output): BertSelfOutput(\n              (dense): Linear(in_features=768, out_features=768, bias=True)\n              (LayerNorm): BertLayerNorm()\n              (dropout): Dropout(p=0.1, inplace=False)\n            )\n          )\n          (intermediate): BertIntermediate(\n            (dense): Linear(in_features=768, out_features=3072, bias=True)\n          )\n          (output): BertOutput(\n            (dense): Linear(in_features=3072, out_features=768, bias=True)\n            (LayerNorm): BertLayerNorm()\n            (dropout): Dropout(p=0.1, inplace=False)\n          )\n        )\n        (7): BertLayer(\n          (attention): BertAttention(\n            (self): BertSelfAttention(\n              (query): Linear(in_features=768, out_features=768, bias=True)\n              (key): Linear(in_features=768, out_features=768, bias=True)\n              (value): Linear(in_features=768, out_features=768, bias=True)\n              (dropout): Dropout(p=0.1, inplace=False)\n            )\n            (output): BertSelfOutput(\n              (dense): Linear(in_features=768, out_features=768, bias=True)\n              (LayerNorm): BertLayerNorm()\n              (dropout): Dropout(p=0.1, inplace=False)\n            )\n          )\n          (intermediate): BertIntermediate(\n            (dense): Linear(in_features=768, out_features=3072, bias=True)\n          )\n          (output): BertOutput(\n            (dense): Linear(in_features=3072, out_features=768, bias=True)\n            (LayerNorm): BertLayerNorm()\n            (dropout): Dropout(p=0.1, inplace=False)\n          )\n        )\n        (8): BertLayer(\n          (attention): BertAttention(\n            (self): BertSelfAttention(\n              (query): Linear(in_features=768, out_features=768, bias=True)\n              (key): Linear(in_features=768, out_features=768, bias=True)\n              (value): Linear(in_features=768, out_features=768, bias=True)\n              (dropout): Dropout(p=0.1, inplace=False)\n            )\n            (output): BertSelfOutput(\n              (dense): Linear(in_features=768, out_features=768, bias=True)\n              (LayerNorm): BertLayerNorm()\n              (dropout): Dropout(p=0.1, inplace=False)\n            )\n          )\n          (intermediate): BertIntermediate(\n            (dense): Linear(in_features=768, out_features=3072, bias=True)\n          )\n          (output): BertOutput(\n            (dense): Linear(in_features=3072, out_features=768, bias=True)\n            (LayerNorm): BertLayerNorm()\n            (dropout): Dropout(p=0.1, inplace=False)\n          )\n        )\n        (9): BertLayer(\n          (attention): BertAttention(\n            (self): BertSelfAttention(\n              (query): Linear(in_features=768, out_features=768, bias=True)\n              (key): Linear(in_features=768, out_features=768, bias=True)\n              (value): Linear(in_features=768, out_features=768, bias=True)\n              (dropout): Dropout(p=0.1, inplace=False)\n            )\n            (output): BertSelfOutput(\n              (dense): Linear(in_features=768, out_features=768, bias=True)\n              (LayerNorm): BertLayerNorm()\n              (dropout): Dropout(p=0.1, inplace=False)\n            )\n          )\n          (intermediate): BertIntermediate(\n            (dense): Linear(in_features=768, out_features=3072, bias=True)\n          )\n          (output): BertOutput(\n            (dense): Linear(in_features=3072, out_features=768, bias=True)\n            (LayerNorm): BertLayerNorm()\n            (dropout): Dropout(p=0.1, inplace=False)\n          )\n        )\n        (10): BertLayer(\n          (attention): BertAttention(\n            (self): BertSelfAttention(\n              (query): Linear(in_features=768, out_features=768, bias=True)\n              (key): Linear(in_features=768, out_features=768, bias=True)\n              (value): Linear(in_features=768, out_features=768, bias=True)\n              (dropout): Dropout(p=0.1, inplace=False)\n            )\n            (output): BertSelfOutput(\n              (dense): Linear(in_features=768, out_features=768, bias=True)\n              (LayerNorm): BertLayerNorm()\n              (dropout): Dropout(p=0.1, inplace=False)\n            )\n          )\n          (intermediate): BertIntermediate(\n            (dense): Linear(in_features=768, out_features=3072, bias=True)\n          )\n          (output): BertOutput(\n            (dense): Linear(in_features=3072, out_features=768, bias=True)\n            (LayerNorm): BertLayerNorm()\n            (dropout): Dropout(p=0.1, inplace=False)\n          )\n        )\n        (11): BertLayer(\n          (attention): BertAttention(\n            (self): BertSelfAttention(\n              (query): Linear(in_features=768, out_features=768, bias=True)\n              (key): Linear(in_features=768, out_features=768, bias=True)\n              (value): Linear(in_features=768, out_features=768, bias=True)\n              (dropout): Dropout(p=0.1, inplace=False)\n            )\n            (output): BertSelfOutput(\n              (dense): Linear(in_features=768, out_features=768, bias=True)\n              (LayerNorm): BertLayerNorm()\n              (dropout): Dropout(p=0.1, inplace=False)\n            )\n          )\n          (intermediate): BertIntermediate(\n            (dense): Linear(in_features=768, out_features=3072, bias=True)\n          )\n          (output): BertOutput(\n            (dense): Linear(in_features=3072, out_features=768, bias=True)\n            (LayerNorm): BertLayerNorm()\n            (dropout): Dropout(p=0.1, inplace=False)\n          )\n        )\n      )\n    )\n    (pooler): BertPooler(\n      (dense): Linear(in_features=768, out_features=768, bias=True)\n      (activation): Tanh()\n    )\n  )\n  (qa_outputs): Linear(in_features=768, out_features=2, bias=True)\n)"
     },
     "metadata": {},
     "execution_count": 18
    }
   ],
   "source": [
    "gpu_num =0\n",
    "device = torch.device(f\"cuda:{gpu_num}\")\n",
    "\n",
    "config = 'bert-base-multilingual-cased'\n",
    "model = BertForQuestionAnswering.from_pretrained(config)\n",
    "tokenizer = BertTokenizer.from_pretrained(config)\n",
    "\n",
    "# 10. fine tuned BERT 모델 파라미터를 로드하는 코드를 채워주세요.\n",
    "###################################################################################################\n",
    "saving_point = torch.load(\"./save/models/squad_finetuned_bert_128_epochs_2.bin\")\n",
    "model.load_state_dict(saving_point)\n",
    "model.to(device)\n",
    "###################################################################################################"
   ]
  },
  {
   "cell_type": "code",
   "execution_count": 19,
   "metadata": {
    "tags": [
     "outputPrepend"
    ]
   },
   "outputs": [
    {
     "output_type": "stream",
     "name": "stdout",
     "text": "8 - INFO - __main__ -   tokens: [CLS] What city did Super Bowl 50 take place in ? [SEP] Super Bowl 50 was an American football game to determine the champion of the National Football League ( NFL ) for the 2015 season . The American Football Conference ( AFC ) champion Denver Broncos defeated the National Football Conference ( NFC ) champion Carolina Panthers 24 [UNK] 10 to earn their third Super Bowl title . The game was played on February 7 , 2016 , at Levi ' s Stadium in the San Francisco Bay Area at Santa Clara , California . As this was the 50th Super Bowl , the league em ##pha ##sized the \" golden anniversary \" with various gold - theme ##d initiatives , as well as temporarily sus [SEP]\n08/12/2020 13:01:58 - INFO - __main__ -   token_to_orig_map: 12:0 13:1 14:2 15:3 16:4 17:5 18:6 19:7 20:8 21:9 22:10 23:11 24:12 25:13 26:14 27:15 28:16 29:17 30:17 31:17 32:18 33:19 34:20 35:21 36:21 37:22 38:23 39:24 40:25 41:26 42:26 43:26 44:27 45:28 46:29 47:30 48:31 49:32 50:33 51:34 52:35 53:35 54:35 55:36 56:37 57:38 58:39 59:39 60:39 61:40 62:41 63:42 64:43 65:44 66:45 67:46 68:46 69:47 70:48 71:49 72:50 73:51 74:52 75:53 76:53 77:54 78:54 79:55 80:56 81:56 82:56 83:57 84:58 85:59 86:60 87:61 88:62 89:63 90:64 91:65 92:66 93:66 94:67 95:67 96:68 97:69 98:70 99:71 100:72 101:73 102:74 103:74 104:75 105:76 106:77 107:77 108:77 109:78 110:79 111:79 112:80 113:80 114:81 115:82 116:83 117:83 118:83 119:83 120:84 121:84 122:85 123:86 124:87 125:88 126:89\n08/12/2020 13:01:58 - INFO - __main__ -   token_is_max_context: 12:True 13:True 14:True 15:True 16:True 17:True 18:True 19:True 20:True 21:True 22:True 23:True 24:True 25:True 26:True 27:True 28:True 29:True 30:True 31:True 32:True 33:True 34:True 35:True 36:True 37:True 38:True 39:True 40:True 41:True 42:True 43:True 44:True 45:True 46:True 47:True 48:True 49:True 50:True 51:True 52:True 53:True 54:True 55:True 56:True 57:True 58:True 59:True 60:True 61:True 62:True 63:True 64:True 65:True 66:True 67:True 68:True 69:True 70:True 71:True 72:True 73:True 74:True 75:True 76:True 77:True 78:True 79:True 80:True 81:True 82:True 83:True 84:True 85:True 86:True 87:True 88:True 89:True 90:True 91:True 92:True 93:True 94:True 95:True 96:True 97:True 98:True 99:True 100:True 101:True 102:True 103:True 104:True 105:True 106:True 107:True 108:True 109:True 110:True 111:True 112:True 113:True 114:True 115:True 116:True 117:True 118:True 119:True 120:True 121:True 122:True 123:True 124:True 125:True 126:True\n08/12/2020 13:01:58 - INFO - __main__ -   input_ids: 101 12489 11584 12172 12786 23010 10462 13574 11192 10106 136 102 12786 23010 10462 10134 10151 10536 12485 11661 10114 37284 10105 17689 10108 10105 10655 12499 11074 113 20179 114 10142 10105 10222 11226 119 10117 10536 12499 16424 113 26523 114 17689 29357 87078 18058 10105 10655 12499 16424 113 80893 114 17689 14329 69440 10233 100 10150 10114 65065 10455 12628 12786 23010 12887 119 10117 11661 10134 11553 10135 11508 128 117 10255 117 10160 33875 112 187 16632 10106 10105 10469 11798 13146 17815 10160 11154 23086 117 11621 119 10882 10531 10134 10105 98105 12786 23010 117 10105 15616 10266 37590 109461 10105 107 52477 37157 107 10169 13547 18128 118 26648 10162 82311 117 10146 11206 10146 69175 10846 102\n08/12/2020 13:01:58 - INFO - __main__ -   input_mask: 1 1 1 1 1 1 1 1 1 1 1 1 1 1 1 1 1 1 1 1 1 1 1 1 1 1 1 1 1 1 1 1 1 1 1 1 1 1 1 1 1 1 1 1 1 1 1 1 1 1 1 1 1 1 1 1 1 1 1 1 1 1 1 1 1 1 1 1 1 1 1 1 1 1 1 1 1 1 1 1 1 1 1 1 1 1 1 1 1 1 1 1 1 1 1 1 1 1 1 1 1 1 1 1 1 1 1 1 1 1 1 1 1 1 1 1 1 1 1 1 1 1 1 1 1 1 1 1\n08/12/2020 13:01:58 - INFO - __main__ -   segment_ids: 0 0 0 0 0 0 0 0 0 0 0 0 1 1 1 1 1 1 1 1 1 1 1 1 1 1 1 1 1 1 1 1 1 1 1 1 1 1 1 1 1 1 1 1 1 1 1 1 1 1 1 1 1 1 1 1 1 1 1 1 1 1 1 1 1 1 1 1 1 1 1 1 1 1 1 1 1 1 1 1 1 1 1 1 1 1 1 1 1 1 1 1 1 1 1 1 1 1 1 1 1 1 1 1 1 1 1 1 1 1 1 1 1 1 1 1 1 1 1 1 1 1 1 1 1 1 1 1\n08/12/2020 13:01:58 - INFO - __main__ -   *** Example ***\n08/12/2020 13:01:58 - INFO - __main__ -   unique_id: 1000000035\n08/12/2020 13:01:58 - INFO - __main__ -   example_index: 17\n08/12/2020 13:01:58 - INFO - __main__ -   doc_span_index: 1\n08/12/2020 13:01:58 - INFO - __main__ -   tokens: [CLS] What city did Super Bowl 50 take place in ? [SEP] ##pend ##ing the tradition of naming each Super Bowl game with Roman numera ##ls ( under which the game would have been known as \" Super Bowl L \" ) , so that the logo could prominent ##ly feature the Arabic numera ##ls 50 . [SEP]\n08/12/2020 13:01:58 - INFO - __main__ -   token_to_orig_map: 12:89 13:89 14:90 15:91 16:92 17:93 18:94 19:95 20:96 21:97 22:98 23:99 24:100 25:100 26:101 27:101 28:102 29:103 30:104 31:105 32:106 33:107 34:108 35:109 36:110 37:110 38:111 39:112 40:112 41:112 42:112 43:113 44:114 45:115 46:116 47:117 48:118 49:118 50:119 51:120 52:121 53:122 54:122 55:123 56:123\n08/12/2020 13:01:58 - INFO - __main__ -   token_is_max_context: 12:True 13:True 14:True 15:True 16:True 17:True 18:True 19:True 20:True 21:True 22:True 23:True 24:True 25:True 26:True 27:True 28:True 29:True 30:True 31:True 32:True 33:True 34:True 35:True 36:True 37:True 38:True 39:True 40:True 41:True 42:True 43:True 44:True 45:True 46:True 47:True 48:True 49:True 50:True 51:True 52:True 53:True 54:True 55:True 56:True\n08/12/2020 13:01:58 - INFO - __main__ -   input_ids: 101 12489 11584 12172 12786 23010 10462 13574 11192 10106 136 102 63592 10230 10105 20049 10108 90742 11948 12786 23010 11661 10169 12359 76274 11747 113 10571 10319 10105 11661 10894 10529 10590 11053 10146 107 12786 23010 149 107 114 117 10380 10189 10105 18655 12174 22861 10454 19072 10105 26571 76274 11747 10462 119 102 0 0 0 0 0 0 0 0 0 0 0 0 0 0 0 0 0 0 0 0 0 0 0 0 0 0 0 0 0 0 0 0 0 0 0 0 0 0 0 0 0 0 0 0 0 0 0 0 0 0 0 0 0 0 0 0 0 0 0 0 0 0 0 0 0 0 0 0 0 0\n08/12/2020 13:01:58 - INFO - __main__ -   input_mask: 1 1 1 1 1 1 1 1 1 1 1 1 1 1 1 1 1 1 1 1 1 1 1 1 1 1 1 1 1 1 1 1 1 1 1 1 1 1 1 1 1 1 1 1 1 1 1 1 1 1 1 1 1 1 1 1 1 1 0 0 0 0 0 0 0 0 0 0 0 0 0 0 0 0 0 0 0 0 0 0 0 0 0 0 0 0 0 0 0 0 0 0 0 0 0 0 0 0 0 0 0 0 0 0 0 0 0 0 0 0 0 0 0 0 0 0 0 0 0 0 0 0 0 0 0 0 0 0\n08/12/2020 13:01:58 - INFO - __main__ -   segment_ids: 0 0 0 0 0 0 0 0 0 0 0 0 1 1 1 1 1 1 1 1 1 1 1 1 1 1 1 1 1 1 1 1 1 1 1 1 1 1 1 1 1 1 1 1 1 1 1 1 1 1 1 1 1 1 1 1 1 1 0 0 0 0 0 0 0 0 0 0 0 0 0 0 0 0 0 0 0 0 0 0 0 0 0 0 0 0 0 0 0 0 0 0 0 0 0 0 0 0 0 0 0 0 0 0 0 0 0 0 0 0 0 0 0 0 0 0 0 0 0 0 0 0 0 0 0 0 0 0\n08/12/2020 13:01:58 - INFO - __main__ -   *** Example ***\n08/12/2020 13:01:58 - INFO - __main__ -   unique_id: 1000000036\n08/12/2020 13:01:58 - INFO - __main__ -   example_index: 18\n08/12/2020 13:01:58 - INFO - __main__ -   doc_span_index: 0\n08/12/2020 13:01:58 - INFO - __main__ -   tokens: [CLS] What stadium did Super Bowl 50 take place in ? [SEP] Super Bowl 50 was an American football game to determine the champion of the National Football League ( NFL ) for the 2015 season . The American Football Conference ( AFC ) champion Denver Broncos defeated the National Football Conference ( NFC ) champion Carolina Panthers 24 [UNK] 10 to earn their third Super Bowl title . The game was played on February 7 , 2016 , at Levi ' s Stadium in the San Francisco Bay Area at Santa Clara , California . As this was the 50th Super Bowl , the league em ##pha ##sized the \" golden anniversary \" with various gold - theme ##d initiatives , as well as temporarily sus [SEP]\n08/12/2020 13:01:58 - INFO - __main__ -   token_to_orig_map: 12:0 13:1 14:2 15:3 16:4 17:5 18:6 19:7 20:8 21:9 22:10 23:11 24:12 25:13 26:14 27:15 28:16 29:17 30:17 31:17 32:18 33:19 34:20 35:21 36:21 37:22 38:23 39:24 40:25 41:26 42:26 43:26 44:27 45:28 46:29 47:30 48:31 49:32 50:33 51:34 52:35 53:35 54:35 55:36 56:37 57:38 58:39 59:39 60:39 61:40 62:41 63:42 64:43 65:44 66:45 67:46 68:46 69:47 70:48 71:49 72:50 73:51 74:52 75:53 76:53 77:54 78:54 79:55 80:56 81:56 82:56 83:57 84:58 85:59 86:60 87:61 88:62 89:63 90:64 91:65 92:66 93:66 94:67 95:67 96:68 97:69 98:70 99:71 100:72 101:73 102:74 103:74 104:75 105:76 106:77 107:77 108:77 109:78 110:79 111:79 112:80 113:80 114:81 115:82 116:83 117:83 118:83 119:83 120:84 121:84 122:85 123:86 124:87 125:88 126:89\n08/12/2020 13:01:58 - INFO - __main__ -   token_is_max_context: 12:True 13:True 14:True 15:True 16:True 17:True 18:True 19:True 20:True 21:True 22:True 23:True 24:True 25:True 26:True 27:True 28:True 29:True 30:True 31:True 32:True 33:True 34:True 35:True 36:True 37:True 38:True 39:True 40:True 41:True 42:True 43:True 44:True 45:True 46:True 47:True 48:True 49:True 50:True 51:True 52:True 53:True 54:True 55:True 56:True 57:True 58:True 59:True 60:True 61:True 62:True 63:True 64:True 65:True 66:True 67:True 68:True 69:True 70:True 71:True 72:True 73:True 74:True 75:True 76:True 77:True 78:True 79:True 80:True 81:True 82:True 83:True 84:True 85:True 86:True 87:True 88:True 89:True 90:True 91:True 92:True 93:True 94:True 95:True 96:True 97:True 98:True 99:True 100:True 101:True 102:True 103:True 104:True 105:True 106:True 107:True 108:True 109:True 110:True 111:True 112:True 113:True 114:True 115:True 116:True 117:True 118:True 119:True 120:True 121:True 122:True 123:True 124:True 125:True 126:True\n08/12/2020 13:01:58 - INFO - __main__ -   input_ids: 101 12489 27915 12172 12786 23010 10462 13574 11192 10106 136 102 12786 23010 10462 10134 10151 10536 12485 11661 10114 37284 10105 17689 10108 10105 10655 12499 11074 113 20179 114 10142 10105 10222 11226 119 10117 10536 12499 16424 113 26523 114 17689 29357 87078 18058 10105 10655 12499 16424 113 80893 114 17689 14329 69440 10233 100 10150 10114 65065 10455 12628 12786 23010 12887 119 10117 11661 10134 11553 10135 11508 128 117 10255 117 10160 33875 112 187 16632 10106 10105 10469 11798 13146 17815 10160 11154 23086 117 11621 119 10882 10531 10134 10105 98105 12786 23010 117 10105 15616 10266 37590 109461 10105 107 52477 37157 107 10169 13547 18128 118 26648 10162 82311 117 10146 11206 10146 69175 10846 102\n08/12/2020 13:01:58 - INFO - __main__ -   input_mask: 1 1 1 1 1 1 1 1 1 1 1 1 1 1 1 1 1 1 1 1 1 1 1 1 1 1 1 1 1 1 1 1 1 1 1 1 1 1 1 1 1 1 1 1 1 1 1 1 1 1 1 1 1 1 1 1 1 1 1 1 1 1 1 1 1 1 1 1 1 1 1 1 1 1 1 1 1 1 1 1 1 1 1 1 1 1 1 1 1 1 1 1 1 1 1 1 1 1 1 1 1 1 1 1 1 1 1 1 1 1 1 1 1 1 1 1 1 1 1 1 1 1 1 1 1 1 1 1\n08/12/2020 13:01:58 - INFO - __main__ -   segment_ids: 0 0 0 0 0 0 0 0 0 0 0 0 1 1 1 1 1 1 1 1 1 1 1 1 1 1 1 1 1 1 1 1 1 1 1 1 1 1 1 1 1 1 1 1 1 1 1 1 1 1 1 1 1 1 1 1 1 1 1 1 1 1 1 1 1 1 1 1 1 1 1 1 1 1 1 1 1 1 1 1 1 1 1 1 1 1 1 1 1 1 1 1 1 1 1 1 1 1 1 1 1 1 1 1 1 1 1 1 1 1 1 1 1 1 1 1 1 1 1 1 1 1 1 1 1 1 1 1\n08/12/2020 13:01:58 - INFO - __main__ -   *** Example ***\n08/12/2020 13:01:58 - INFO - __main__ -   unique_id: 1000000037\n08/12/2020 13:01:58 - INFO - __main__ -   example_index: 18\n08/12/2020 13:01:58 - INFO - __main__ -   doc_span_index: 1\n08/12/2020 13:01:58 - INFO - __main__ -   tokens: [CLS] What stadium did Super Bowl 50 take place in ? [SEP] ##pend ##ing the tradition of naming each Super Bowl game with Roman numera ##ls ( under which the game would have been known as \" Super Bowl L \" ) , so that the logo could prominent ##ly feature the Arabic numera ##ls 50 . [SEP]\n08/12/2020 13:01:58 - INFO - __main__ -   token_to_orig_map: 12:89 13:89 14:90 15:91 16:92 17:93 18:94 19:95 20:96 21:97 22:98 23:99 24:100 25:100 26:101 27:101 28:102 29:103 30:104 31:105 32:106 33:107 34:108 35:109 36:110 37:110 38:111 39:112 40:112 41:112 42:112 43:113 44:114 45:115 46:116 47:117 48:118 49:118 50:119 51:120 52:121 53:122 54:122 55:123 56:123\n08/12/2020 13:01:58 - INFO - __main__ -   token_is_max_context: 12:True 13:True 14:True 15:True 16:True 17:True 18:True 19:True 20:True 21:True 22:True 23:True 24:True 25:True 26:True 27:True 28:True 29:True 30:True 31:True 32:True 33:True 34:True 35:True 36:True 37:True 38:True 39:True 40:True 41:True 42:True 43:True 44:True 45:True 46:True 47:True 48:True 49:True 50:True 51:True 52:True 53:True 54:True 55:True 56:True\n08/12/2020 13:01:58 - INFO - __main__ -   input_ids: 101 12489 27915 12172 12786 23010 10462 13574 11192 10106 136 102 63592 10230 10105 20049 10108 90742 11948 12786 23010 11661 10169 12359 76274 11747 113 10571 10319 10105 11661 10894 10529 10590 11053 10146 107 12786 23010 149 107 114 117 10380 10189 10105 18655 12174 22861 10454 19072 10105 26571 76274 11747 10462 119 102 0 0 0 0 0 0 0 0 0 0 0 0 0 0 0 0 0 0 0 0 0 0 0 0 0 0 0 0 0 0 0 0 0 0 0 0 0 0 0 0 0 0 0 0 0 0 0 0 0 0 0 0 0 0 0 0 0 0 0 0 0 0 0 0 0 0 0 0 0 0\n08/12/2020 13:01:58 - INFO - __main__ -   input_mask: 1 1 1 1 1 1 1 1 1 1 1 1 1 1 1 1 1 1 1 1 1 1 1 1 1 1 1 1 1 1 1 1 1 1 1 1 1 1 1 1 1 1 1 1 1 1 1 1 1 1 1 1 1 1 1 1 1 1 0 0 0 0 0 0 0 0 0 0 0 0 0 0 0 0 0 0 0 0 0 0 0 0 0 0 0 0 0 0 0 0 0 0 0 0 0 0 0 0 0 0 0 0 0 0 0 0 0 0 0 0 0 0 0 0 0 0 0 0 0 0 0 0 0 0 0 0 0 0\n08/12/2020 13:01:58 - INFO - __main__ -   segment_ids: 0 0 0 0 0 0 0 0 0 0 0 0 1 1 1 1 1 1 1 1 1 1 1 1 1 1 1 1 1 1 1 1 1 1 1 1 1 1 1 1 1 1 1 1 1 1 1 1 1 1 1 1 1 1 1 1 1 1 0 0 0 0 0 0 0 0 0 0 0 0 0 0 0 0 0 0 0 0 0 0 0 0 0 0 0 0 0 0 0 0 0 0 0 0 0 0 0 0 0 0 0 0 0 0 0 0 0 0 0 0 0 0 0 0 0 0 0 0 0 0 0 0 0 0 0 0 0 0\n08/12/2020 13:01:58 - INFO - __main__ -   *** Example ***\n08/12/2020 13:01:58 - INFO - __main__ -   unique_id: 1000000038\n08/12/2020 13:01:58 - INFO - __main__ -   example_index: 19\n08/12/2020 13:01:58 - INFO - __main__ -   doc_span_index: 0\n08/12/2020 13:01:58 - INFO - __main__ -   tokens: [CLS] What was the final score of Super Bowl 50 ? [SEP] Super Bowl 50 was an American football game to determine the champion of the National Football League ( NFL ) for the 2015 season . The American Football Conference ( AFC ) champion Denver Broncos defeated the National Football Conference ( NFC ) champion Carolina Panthers 24 [UNK] 10 to earn their third Super Bowl title . The game was played on February 7 , 2016 , at Levi ' s Stadium in the San Francisco Bay Area at Santa Clara , California . As this was the 50th Super Bowl , the league em ##pha ##sized the \" golden anniversary \" with various gold - theme ##d initiatives , as well as temporarily sus [SEP]\n08/12/2020 13:01:58 - INFO - __main__ -   token_to_orig_map: 12:0 13:1 14:2 15:3 16:4 17:5 18:6 19:7 20:8 21:9 22:10 23:11 24:12 25:13 26:14 27:15 28:16 29:17 30:17 31:17 32:18 33:19 34:20 35:21 36:21 37:22 38:23 39:24 40:25 41:26 42:26 43:26 44:27 45:28 46:29 47:30 48:31 49:32 50:33 51:34 52:35 53:35 54:35 55:36 56:37 57:38 58:39 59:39 60:39 61:40 62:41 63:42 64:43 65:44 66:45 67:46 68:46 69:47 70:48 71:49 72:50 73:51 74:52 75:53 76:53 77:54 78:54 79:55 80:56 81:56 82:56 83:57 84:58 85:59 86:60 87:61 88:62 89:63 90:64 91:65 92:66 93:66 94:67 95:67 96:68 97:69 98:70 99:71 100:72 101:73 102:74 103:74 104:75 105:76 106:77 107:77 108:77 109:78 110:79 111:79 112:80 113:80 114:81 115:82 116:83 117:83 118:83 119:83 120:84 121:84 122:85 123:86 124:87 125:88 126:89\n08/12/2020 13:01:58 - INFO - __main__ -   token_is_max_context: 12:True 13:True 14:True 15:True 16:True 17:True 18:True 19:True 20:True 21:True 22:True 23:True 24:True 25:True 26:True 27:True 28:True 29:True 30:True 31:True 32:True 33:True 34:True 35:True 36:True 37:True 38:True 39:True 40:True 41:True 42:True 43:True 44:True 45:True 46:True 47:True 48:True 49:True 50:True 51:True 52:True 53:True 54:True 55:True 56:True 57:True 58:True 59:True 60:True 61:True 62:True 63:True 64:True 65:True 66:True 67:True 68:True 69:True 70:True 71:True 72:True 73:True 74:True 75:True 76:True 77:True 78:True 79:True 80:True 81:True 82:True 83:True 84:True 85:True 86:True 87:True 88:True 89:True 90:True 91:True 92:True 93:True 94:True 95:True 96:True 97:True 98:True 99:True 100:True 101:True 102:True 103:True 104:True 105:True 106:True 107:True 108:True 109:True 110:True 111:True 112:True 113:True 114:True 115:True 116:True 117:True 118:True 119:True 120:True 121:True 122:True 123:True 124:True 125:True 126:True\n08/12/2020 13:01:58 - INFO - __main__ -   input_ids: 101 12489 10134 10105 11070 17704 10108 12786 23010 10462 136 102 12786 23010 10462 10134 10151 10536 12485 11661 10114 37284 10105 17689 10108 10105 10655 12499 11074 113 20179 114 10142 10105 10222 11226 119 10117 10536 12499 16424 113 26523 114 17689 29357 87078 18058 10105 10655 12499 16424 113 80893 114 17689 14329 69440 10233 100 10150 10114 65065 10455 12628 12786 23010 12887 119 10117 11661 10134 11553 10135 11508 128 117 10255 117 10160 33875 112 187 16632 10106 10105 10469 11798 13146 17815 10160 11154 23086 117 11621 119 10882 10531 10134 10105 98105 12786 23010 117 10105 15616 10266 37590 109461 10105 107 52477 37157 107 10169 13547 18128 118 26648 10162 82311 117 10146 11206 10146 69175 10846 102\n08/12/2020 13:01:58 - INFO - __main__ -   input_mask: 1 1 1 1 1 1 1 1 1 1 1 1 1 1 1 1 1 1 1 1 1 1 1 1 1 1 1 1 1 1 1 1 1 1 1 1 1 1 1 1 1 1 1 1 1 1 1 1 1 1 1 1 1 1 1 1 1 1 1 1 1 1 1 1 1 1 1 1 1 1 1 1 1 1 1 1 1 1 1 1 1 1 1 1 1 1 1 1 1 1 1 1 1 1 1 1 1 1 1 1 1 1 1 1 1 1 1 1 1 1 1 1 1 1 1 1 1 1 1 1 1 1 1 1 1 1 1 1\n08/12/2020 13:01:58 - INFO - __main__ -   segment_ids: 0 0 0 0 0 0 0 0 0 0 0 0 1 1 1 1 1 1 1 1 1 1 1 1 1 1 1 1 1 1 1 1 1 1 1 1 1 1 1 1 1 1 1 1 1 1 1 1 1 1 1 1 1 1 1 1 1 1 1 1 1 1 1 1 1 1 1 1 1 1 1 1 1 1 1 1 1 1 1 1 1 1 1 1 1 1 1 1 1 1 1 1 1 1 1 1 1 1 1 1 1 1 1 1 1 1 1 1 1 1 1 1 1 1 1 1 1 1 1 1 1 1 1 1 1 1 1 1\n08/12/2020 13:01:58 - INFO - __main__ -   *** Example ***\n08/12/2020 13:01:58 - INFO - __main__ -   unique_id: 1000000039\n08/12/2020 13:01:58 - INFO - __main__ -   example_index: 19\n08/12/2020 13:01:58 - INFO - __main__ -   doc_span_index: 1\n08/12/2020 13:01:58 - INFO - __main__ -   tokens: [CLS] What was the final score of Super Bowl 50 ? [SEP] ##pend ##ing the tradition of naming each Super Bowl game with Roman numera ##ls ( under which the game would have been known as \" Super Bowl L \" ) , so that the logo could prominent ##ly feature the Arabic numera ##ls 50 . [SEP]\n08/12/2020 13:01:58 - INFO - __main__ -   token_to_orig_map: 12:89 13:89 14:90 15:91 16:92 17:93 18:94 19:95 20:96 21:97 22:98 23:99 24:100 25:100 26:101 27:101 28:102 29:103 30:104 31:105 32:106 33:107 34:108 35:109 36:110 37:110 38:111 39:112 40:112 41:112 42:112 43:113 44:114 45:115 46:116 47:117 48:118 49:118 50:119 51:120 52:121 53:122 54:122 55:123 56:123\n08/12/2020 13:01:58 - INFO - __main__ -   token_is_max_context: 12:True 13:True 14:True 15:True 16:True 17:True 18:True 19:True 20:True 21:True 22:True 23:True 24:True 25:True 26:True 27:True 28:True 29:True 30:True 31:True 32:True 33:True 34:True 35:True 36:True 37:True 38:True 39:True 40:True 41:True 42:True 43:True 44:True 45:True 46:True 47:True 48:True 49:True 50:True 51:True 52:True 53:True 54:True 55:True 56:True\n08/12/2020 13:01:58 - INFO - __main__ -   input_ids: 101 12489 10134 10105 11070 17704 10108 12786 23010 10462 136 102 63592 10230 10105 20049 10108 90742 11948 12786 23010 11661 10169 12359 76274 11747 113 10571 10319 10105 11661 10894 10529 10590 11053 10146 107 12786 23010 149 107 114 117 10380 10189 10105 18655 12174 22861 10454 19072 10105 26571 76274 11747 10462 119 102 0 0 0 0 0 0 0 0 0 0 0 0 0 0 0 0 0 0 0 0 0 0 0 0 0 0 0 0 0 0 0 0 0 0 0 0 0 0 0 0 0 0 0 0 0 0 0 0 0 0 0 0 0 0 0 0 0 0 0 0 0 0 0 0 0 0 0 0 0 0\n08/12/2020 13:01:58 - INFO - __main__ -   input_mask: 1 1 1 1 1 1 1 1 1 1 1 1 1 1 1 1 1 1 1 1 1 1 1 1 1 1 1 1 1 1 1 1 1 1 1 1 1 1 1 1 1 1 1 1 1 1 1 1 1 1 1 1 1 1 1 1 1 1 0 0 0 0 0 0 0 0 0 0 0 0 0 0 0 0 0 0 0 0 0 0 0 0 0 0 0 0 0 0 0 0 0 0 0 0 0 0 0 0 0 0 0 0 0 0 0 0 0 0 0 0 0 0 0 0 0 0 0 0 0 0 0 0 0 0 0 0 0 0\n08/12/2020 13:01:58 - INFO - __main__ -   segment_ids: 0 0 0 0 0 0 0 0 0 0 0 0 1 1 1 1 1 1 1 1 1 1 1 1 1 1 1 1 1 1 1 1 1 1 1 1 1 1 1 1 1 1 1 1 1 1 1 1 1 1 1 1 1 1 1 1 1 1 0 0 0 0 0 0 0 0 0 0 0 0 0 0 0 0 0 0 0 0 0 0 0 0 0 0 0 0 0 0 0 0 0 0 0 0 0 0 0 0 0 0 0 0 0 0 0 0 0 0 0 0 0 0 0 0 0 0 0 0 0 0 0 0 0 0 0 0 0 0\nsuccess to convert input data into a set of 10570 examples\n08/12/2020 13:02:16 - INFO - __main__ -   ***** Running predictions *****\n08/12/2020 13:02:16 - INFO - __main__ -     Num orig examples = 10570\n08/12/2020 13:02:16 - INFO - __main__ -     Num split examples = 21730\n08/12/2020 13:02:16 - INFO - __main__ -     Batch size = 50\n"
    }
   ],
   "source": [
    "max_seq_length=128\n",
    "doc_stride=128\n",
    "max_query_length=64\n",
    "predict_batch_size=50\n",
    "\n",
    "# 11. dev data를 로드하고 전처리 해주세요\n",
    "###################################################################################################\n",
    "input_data = read_json(dev_file)\n",
    "eval_examples = parse_json_squad(\n",
    "    input_data=input_data, is_train=False)\n",
    "eval_features = convert_examples_to_features(\n",
    "    examples=eval_examples,\n",
    "    tokenizer=tokenizer,\n",
    "    max_seq_length=max_seq_length,\n",
    "    doc_stride=doc_stride,\n",
    "    max_query_length=max_query_length,\n",
    "    is_training=False)\n",
    "###################################################################################################\n",
    "\n",
    "logger.info(\"***** Running predictions *****\")\n",
    "logger.info(\"  Num orig examples = %d\", len(eval_examples))\n",
    "logger.info(\"  Num split examples = %d\", len(eval_features))\n",
    "logger.info(\"  Batch size = %d\",predict_batch_size)\n",
    "\n",
    "all_input_ids = torch.tensor([f.input_ids for f in eval_features], dtype=torch.long)\n",
    "all_input_mask = torch.tensor([f.input_mask for f in eval_features], dtype=torch.long)\n",
    "all_segment_ids = torch.tensor([f.segment_ids for f in eval_features], dtype=torch.long)\n",
    "all_example_index = torch.arange(all_input_ids.size(0), dtype=torch.long)\n",
    "eval_data = TensorDataset(all_input_ids, all_input_mask, all_segment_ids, all_example_index)\n",
    "\n",
    "# 12. inference를 위한 데이터로더를 만들어주세요.\n",
    "###################################################################################################\n",
    "# Run prediction for full data\n",
    "eval_sampler = SequentialSampler(eval_data)\n",
    "eval_dataloader = DataLoader(eval_data, sampler=eval_sampler, batch_size=predict_batch_size)\n",
    "###################################################################################################"
   ]
  },
  {
   "cell_type": "code",
   "execution_count": 20,
   "metadata": {
    "tags": []
   },
   "outputs": [
    {
     "output_type": "stream",
     "name": "stderr",
     "text": "08/12/2020 13:02:16 - INFO - __main__ -   Start evaluating\nEvaluating:   0%|          | 0/435 [00:00<?, ?it/s]08/12/2020 13:02:16 - INFO - __main__ -   Processing example: 0\nEvaluating:   5%|▍         | 20/435 [00:04<01:32,  4.47it/s]08/12/2020 13:02:21 - INFO - __main__ -   Processing example: 1000\nEvaluating:   9%|▉         | 40/435 [00:09<01:28,  4.48it/s]08/12/2020 13:02:25 - INFO - __main__ -   Processing example: 2000\nEvaluating:  14%|█▍        | 60/435 [00:13<01:23,  4.48it/s]08/12/2020 13:02:30 - INFO - __main__ -   Processing example: 3000\nEvaluating:  18%|█▊        | 80/435 [00:18<01:19,  4.47it/s]08/12/2020 13:02:34 - INFO - __main__ -   Processing example: 4000\nEvaluating:  23%|██▎       | 100/435 [00:22<01:14,  4.47it/s]08/12/2020 13:02:39 - INFO - __main__ -   Processing example: 5000\nEvaluating:  28%|██▊       | 120/435 [00:27<01:10,  4.47it/s]08/12/2020 13:02:43 - INFO - __main__ -   Processing example: 6000\nEvaluating:  32%|███▏      | 140/435 [00:31<01:06,  4.46it/s]08/12/2020 13:02:48 - INFO - __main__ -   Processing example: 7000\nEvaluating:  37%|███▋      | 160/435 [00:35<01:01,  4.47it/s]08/12/2020 13:02:52 - INFO - __main__ -   Processing example: 8000\nEvaluating:  41%|████▏     | 180/435 [00:40<00:57,  4.45it/s]08/12/2020 13:02:57 - INFO - __main__ -   Processing example: 9000\nEvaluating:  46%|████▌     | 200/435 [00:44<00:52,  4.45it/s]08/12/2020 13:03:01 - INFO - __main__ -   Processing example: 10000\nEvaluating:  51%|█████     | 220/435 [00:49<00:48,  4.45it/s]08/12/2020 13:03:06 - INFO - __main__ -   Processing example: 11000\nEvaluating:  55%|█████▌    | 240/435 [00:53<00:43,  4.45it/s]08/12/2020 13:03:10 - INFO - __main__ -   Processing example: 12000\nEvaluating:  60%|█████▉    | 260/435 [00:58<00:39,  4.45it/s]08/12/2020 13:03:15 - INFO - __main__ -   Processing example: 13000\nEvaluating:  64%|██████▍   | 280/435 [01:02<00:34,  4.45it/s]08/12/2020 13:03:19 - INFO - __main__ -   Processing example: 14000\nEvaluating:  69%|██████▉   | 300/435 [01:07<00:30,  4.43it/s]08/12/2020 13:03:24 - INFO - __main__ -   Processing example: 15000\nEvaluating:  74%|███████▎  | 320/435 [01:12<00:26,  4.42it/s]08/12/2020 13:03:28 - INFO - __main__ -   Processing example: 16000\nEvaluating:  78%|███████▊  | 340/435 [01:16<00:21,  4.43it/s]08/12/2020 13:03:33 - INFO - __main__ -   Processing example: 17000\nEvaluating:  83%|████████▎ | 360/435 [01:21<00:16,  4.43it/s]08/12/2020 13:03:37 - INFO - __main__ -   Processing example: 18000\nEvaluating:  87%|████████▋ | 380/435 [01:25<00:12,  4.43it/s]08/12/2020 13:03:42 - INFO - __main__ -   Processing example: 19000\nEvaluating:  92%|█████████▏| 400/435 [01:30<00:07,  4.43it/s]08/12/2020 13:03:46 - INFO - __main__ -   Processing example: 20000\nEvaluating:  97%|█████████▋| 420/435 [01:34<00:03,  4.43it/s]08/12/2020 13:03:51 - INFO - __main__ -   Processing example: 21000\nEvaluating: 100%|██████████| 435/435 [01:38<00:00,  4.42it/s]\n"
    }
   ],
   "source": [
    "model.eval()\n",
    "all_results = []\n",
    "logger.info(\"Start evaluating\")\n",
    "for input_ids, input_mask, segment_ids, example_indices in tqdm(eval_dataloader, desc=\"Evaluating\"):\n",
    "    if len(all_results) % 1000 == 0:\n",
    "        logger.info(\"Processing example: %d\" % (len(all_results)))\n",
    "    input_ids = input_ids.to(device)\n",
    "    input_mask = input_mask.to(device)\n",
    "    segment_ids = segment_ids.to(device)\n",
    "    with torch.no_grad():\n",
    "        batch_start_logits, batch_end_logits = model(input_ids, segment_ids, input_mask)\n",
    "    for i, example_index in enumerate(example_indices):\n",
    "        start_logits = batch_start_logits[i].detach().cpu().tolist()\n",
    "        end_logits = batch_end_logits[i].detach().cpu().tolist()\n",
    "        eval_feature = eval_features[example_index.item()]\n",
    "        unique_id = int(eval_feature.unique_id)\n",
    "        all_results.append(RawResult(unique_id=unique_id,\n",
    "                                     start_logits=start_logits,\n",
    "                                     end_logits=end_logits))"
   ]
  },
  {
   "cell_type": "markdown",
   "metadata": {},
   "source": [
    "![nn](images/image_1.jpg)"
   ]
  },
  {
   "cell_type": "code",
   "execution_count": 21,
   "metadata": {
    "tags": []
   },
   "outputs": [
    {
     "output_type": "display_data",
     "data": {
      "text/plain": "<Figure size 432x288 with 1 Axes>",
      "image/svg+xml": "<?xml version=\"1.0\" encoding=\"utf-8\" standalone=\"no\"?>\n<!DOCTYPE svg PUBLIC \"-//W3C//DTD SVG 1.1//EN\"\n  \"http://www.w3.org/Graphics/SVG/1.1/DTD/svg11.dtd\">\n<!-- Created with matplotlib (https://matplotlib.org/) -->\n<svg height=\"248.518125pt\" version=\"1.1\" viewBox=\"0 0 377.304688 248.518125\" width=\"377.304688pt\" xmlns=\"http://www.w3.org/2000/svg\" xmlns:xlink=\"http://www.w3.org/1999/xlink\">\n <defs>\n  <style type=\"text/css\">\n*{stroke-linecap:butt;stroke-linejoin:round;}\n  </style>\n </defs>\n <g id=\"figure_1\">\n  <g id=\"patch_1\">\n   <path d=\"M 0 248.518125 \nL 377.304688 248.518125 \nL 377.304688 0 \nL 0 0 \nz\n\" style=\"fill:none;\"/>\n  </g>\n  <g id=\"axes_1\">\n   <g id=\"patch_2\">\n    <path d=\"M 35.304688 224.64 \nL 370.104688 224.64 \nL 370.104688 7.2 \nL 35.304688 7.2 \nz\n\" style=\"fill:#ffffff;\"/>\n   </g>\n   <g id=\"matplotlib.axis_1\">\n    <g id=\"xtick_1\">\n     <g id=\"line2d_1\">\n      <defs>\n       <path d=\"M 0 0 \nL 0 3.5 \n\" id=\"m9d48f4e6e5\" style=\"stroke:#000000;stroke-width:0.8;\"/>\n      </defs>\n      <g>\n       <use style=\"stroke:#000000;stroke-width:0.8;\" x=\"50.522869\" xlink:href=\"#m9d48f4e6e5\" y=\"224.64\"/>\n      </g>\n     </g>\n     <g id=\"text_1\">\n      <!-- 0 -->\n      <defs>\n       <path d=\"M 31.78125 66.40625 \nQ 24.171875 66.40625 20.328125 58.90625 \nQ 16.5 51.421875 16.5 36.375 \nQ 16.5 21.390625 20.328125 13.890625 \nQ 24.171875 6.390625 31.78125 6.390625 \nQ 39.453125 6.390625 43.28125 13.890625 \nQ 47.125 21.390625 47.125 36.375 \nQ 47.125 51.421875 43.28125 58.90625 \nQ 39.453125 66.40625 31.78125 66.40625 \nz\nM 31.78125 74.21875 \nQ 44.046875 74.21875 50.515625 64.515625 \nQ 56.984375 54.828125 56.984375 36.375 \nQ 56.984375 17.96875 50.515625 8.265625 \nQ 44.046875 -1.421875 31.78125 -1.421875 \nQ 19.53125 -1.421875 13.0625 8.265625 \nQ 6.59375 17.96875 6.59375 36.375 \nQ 6.59375 54.828125 13.0625 64.515625 \nQ 19.53125 74.21875 31.78125 74.21875 \nz\n\" id=\"DejaVuSans-48\"/>\n      </defs>\n      <g transform=\"translate(47.341619 239.238437)scale(0.1 -0.1)\">\n       <use xlink:href=\"#DejaVuSans-48\"/>\n      </g>\n     </g>\n    </g>\n    <g id=\"xtick_2\">\n     <g id=\"line2d_2\">\n      <g>\n       <use style=\"stroke:#000000;stroke-width:0.8;\" x=\"98.454151\" xlink:href=\"#m9d48f4e6e5\" y=\"224.64\"/>\n      </g>\n     </g>\n     <g id=\"text_2\">\n      <!-- 20 -->\n      <defs>\n       <path d=\"M 19.1875 8.296875 \nL 53.609375 8.296875 \nL 53.609375 0 \nL 7.328125 0 \nL 7.328125 8.296875 \nQ 12.9375 14.109375 22.625 23.890625 \nQ 32.328125 33.6875 34.8125 36.53125 \nQ 39.546875 41.84375 41.421875 45.53125 \nQ 43.3125 49.21875 43.3125 52.78125 \nQ 43.3125 58.59375 39.234375 62.25 \nQ 35.15625 65.921875 28.609375 65.921875 \nQ 23.96875 65.921875 18.8125 64.3125 \nQ 13.671875 62.703125 7.8125 59.421875 \nL 7.8125 69.390625 \nQ 13.765625 71.78125 18.9375 73 \nQ 24.125 74.21875 28.421875 74.21875 \nQ 39.75 74.21875 46.484375 68.546875 \nQ 53.21875 62.890625 53.21875 53.421875 \nQ 53.21875 48.921875 51.53125 44.890625 \nQ 49.859375 40.875 45.40625 35.40625 \nQ 44.1875 33.984375 37.640625 27.21875 \nQ 31.109375 20.453125 19.1875 8.296875 \nz\n\" id=\"DejaVuSans-50\"/>\n      </defs>\n      <g transform=\"translate(92.091651 239.238437)scale(0.1 -0.1)\">\n       <use xlink:href=\"#DejaVuSans-50\"/>\n       <use x=\"63.623047\" xlink:href=\"#DejaVuSans-48\"/>\n      </g>\n     </g>\n    </g>\n    <g id=\"xtick_3\">\n     <g id=\"line2d_3\">\n      <g>\n       <use style=\"stroke:#000000;stroke-width:0.8;\" x=\"146.385432\" xlink:href=\"#m9d48f4e6e5\" y=\"224.64\"/>\n      </g>\n     </g>\n     <g id=\"text_3\">\n      <!-- 40 -->\n      <defs>\n       <path d=\"M 37.796875 64.3125 \nL 12.890625 25.390625 \nL 37.796875 25.390625 \nz\nM 35.203125 72.90625 \nL 47.609375 72.90625 \nL 47.609375 25.390625 \nL 58.015625 25.390625 \nL 58.015625 17.1875 \nL 47.609375 17.1875 \nL 47.609375 0 \nL 37.796875 0 \nL 37.796875 17.1875 \nL 4.890625 17.1875 \nL 4.890625 26.703125 \nz\n\" id=\"DejaVuSans-52\"/>\n      </defs>\n      <g transform=\"translate(140.022932 239.238437)scale(0.1 -0.1)\">\n       <use xlink:href=\"#DejaVuSans-52\"/>\n       <use x=\"63.623047\" xlink:href=\"#DejaVuSans-48\"/>\n      </g>\n     </g>\n    </g>\n    <g id=\"xtick_4\">\n     <g id=\"line2d_4\">\n      <g>\n       <use style=\"stroke:#000000;stroke-width:0.8;\" x=\"194.316713\" xlink:href=\"#m9d48f4e6e5\" y=\"224.64\"/>\n      </g>\n     </g>\n     <g id=\"text_4\">\n      <!-- 60 -->\n      <defs>\n       <path d=\"M 33.015625 40.375 \nQ 26.375 40.375 22.484375 35.828125 \nQ 18.609375 31.296875 18.609375 23.390625 \nQ 18.609375 15.53125 22.484375 10.953125 \nQ 26.375 6.390625 33.015625 6.390625 \nQ 39.65625 6.390625 43.53125 10.953125 \nQ 47.40625 15.53125 47.40625 23.390625 \nQ 47.40625 31.296875 43.53125 35.828125 \nQ 39.65625 40.375 33.015625 40.375 \nz\nM 52.59375 71.296875 \nL 52.59375 62.3125 \nQ 48.875 64.0625 45.09375 64.984375 \nQ 41.3125 65.921875 37.59375 65.921875 \nQ 27.828125 65.921875 22.671875 59.328125 \nQ 17.53125 52.734375 16.796875 39.40625 \nQ 19.671875 43.65625 24.015625 45.921875 \nQ 28.375 48.1875 33.59375 48.1875 \nQ 44.578125 48.1875 50.953125 41.515625 \nQ 57.328125 34.859375 57.328125 23.390625 \nQ 57.328125 12.15625 50.6875 5.359375 \nQ 44.046875 -1.421875 33.015625 -1.421875 \nQ 20.359375 -1.421875 13.671875 8.265625 \nQ 6.984375 17.96875 6.984375 36.375 \nQ 6.984375 53.65625 15.1875 63.9375 \nQ 23.390625 74.21875 37.203125 74.21875 \nQ 40.921875 74.21875 44.703125 73.484375 \nQ 48.484375 72.75 52.59375 71.296875 \nz\n\" id=\"DejaVuSans-54\"/>\n      </defs>\n      <g transform=\"translate(187.954213 239.238437)scale(0.1 -0.1)\">\n       <use xlink:href=\"#DejaVuSans-54\"/>\n       <use x=\"63.623047\" xlink:href=\"#DejaVuSans-48\"/>\n      </g>\n     </g>\n    </g>\n    <g id=\"xtick_5\">\n     <g id=\"line2d_5\">\n      <g>\n       <use style=\"stroke:#000000;stroke-width:0.8;\" x=\"242.247995\" xlink:href=\"#m9d48f4e6e5\" y=\"224.64\"/>\n      </g>\n     </g>\n     <g id=\"text_5\">\n      <!-- 80 -->\n      <defs>\n       <path d=\"M 31.78125 34.625 \nQ 24.75 34.625 20.71875 30.859375 \nQ 16.703125 27.09375 16.703125 20.515625 \nQ 16.703125 13.921875 20.71875 10.15625 \nQ 24.75 6.390625 31.78125 6.390625 \nQ 38.8125 6.390625 42.859375 10.171875 \nQ 46.921875 13.96875 46.921875 20.515625 \nQ 46.921875 27.09375 42.890625 30.859375 \nQ 38.875 34.625 31.78125 34.625 \nz\nM 21.921875 38.8125 \nQ 15.578125 40.375 12.03125 44.71875 \nQ 8.5 49.078125 8.5 55.328125 \nQ 8.5 64.0625 14.71875 69.140625 \nQ 20.953125 74.21875 31.78125 74.21875 \nQ 42.671875 74.21875 48.875 69.140625 \nQ 55.078125 64.0625 55.078125 55.328125 \nQ 55.078125 49.078125 51.53125 44.71875 \nQ 48 40.375 41.703125 38.8125 \nQ 48.828125 37.15625 52.796875 32.3125 \nQ 56.78125 27.484375 56.78125 20.515625 \nQ 56.78125 9.90625 50.3125 4.234375 \nQ 43.84375 -1.421875 31.78125 -1.421875 \nQ 19.734375 -1.421875 13.25 4.234375 \nQ 6.78125 9.90625 6.78125 20.515625 \nQ 6.78125 27.484375 10.78125 32.3125 \nQ 14.796875 37.15625 21.921875 38.8125 \nz\nM 18.3125 54.390625 \nQ 18.3125 48.734375 21.84375 45.5625 \nQ 25.390625 42.390625 31.78125 42.390625 \nQ 38.140625 42.390625 41.71875 45.5625 \nQ 45.3125 48.734375 45.3125 54.390625 \nQ 45.3125 60.0625 41.71875 63.234375 \nQ 38.140625 66.40625 31.78125 66.40625 \nQ 25.390625 66.40625 21.84375 63.234375 \nQ 18.3125 60.0625 18.3125 54.390625 \nz\n\" id=\"DejaVuSans-56\"/>\n      </defs>\n      <g transform=\"translate(235.885495 239.238437)scale(0.1 -0.1)\">\n       <use xlink:href=\"#DejaVuSans-56\"/>\n       <use x=\"63.623047\" xlink:href=\"#DejaVuSans-48\"/>\n      </g>\n     </g>\n    </g>\n    <g id=\"xtick_6\">\n     <g id=\"line2d_6\">\n      <g>\n       <use style=\"stroke:#000000;stroke-width:0.8;\" x=\"290.179276\" xlink:href=\"#m9d48f4e6e5\" y=\"224.64\"/>\n      </g>\n     </g>\n     <g id=\"text_6\">\n      <!-- 100 -->\n      <defs>\n       <path d=\"M 12.40625 8.296875 \nL 28.515625 8.296875 \nL 28.515625 63.921875 \nL 10.984375 60.40625 \nL 10.984375 69.390625 \nL 28.421875 72.90625 \nL 38.28125 72.90625 \nL 38.28125 8.296875 \nL 54.390625 8.296875 \nL 54.390625 0 \nL 12.40625 0 \nz\n\" id=\"DejaVuSans-49\"/>\n      </defs>\n      <g transform=\"translate(280.635526 239.238437)scale(0.1 -0.1)\">\n       <use xlink:href=\"#DejaVuSans-49\"/>\n       <use x=\"63.623047\" xlink:href=\"#DejaVuSans-48\"/>\n       <use x=\"127.246094\" xlink:href=\"#DejaVuSans-48\"/>\n      </g>\n     </g>\n    </g>\n    <g id=\"xtick_7\">\n     <g id=\"line2d_7\">\n      <g>\n       <use style=\"stroke:#000000;stroke-width:0.8;\" x=\"338.110557\" xlink:href=\"#m9d48f4e6e5\" y=\"224.64\"/>\n      </g>\n     </g>\n     <g id=\"text_7\">\n      <!-- 120 -->\n      <g transform=\"translate(328.566807 239.238437)scale(0.1 -0.1)\">\n       <use xlink:href=\"#DejaVuSans-49\"/>\n       <use x=\"63.623047\" xlink:href=\"#DejaVuSans-50\"/>\n       <use x=\"127.246094\" xlink:href=\"#DejaVuSans-48\"/>\n      </g>\n     </g>\n    </g>\n   </g>\n   <g id=\"matplotlib.axis_2\">\n    <g id=\"ytick_1\">\n     <g id=\"line2d_8\">\n      <defs>\n       <path d=\"M 0 0 \nL -3.5 0 \n\" id=\"m86d01633cc\" style=\"stroke:#000000;stroke-width:0.8;\"/>\n      </defs>\n      <g>\n       <use style=\"stroke:#000000;stroke-width:0.8;\" x=\"35.304688\" xlink:href=\"#m86d01633cc\" y=\"216.532157\"/>\n      </g>\n     </g>\n     <g id=\"text_8\">\n      <!-- −10 -->\n      <defs>\n       <path d=\"M 10.59375 35.5 \nL 73.1875 35.5 \nL 73.1875 27.203125 \nL 10.59375 27.203125 \nz\n\" id=\"DejaVuSans-8722\"/>\n      </defs>\n      <g transform=\"translate(7.2 220.331375)scale(0.1 -0.1)\">\n       <use xlink:href=\"#DejaVuSans-8722\"/>\n       <use x=\"83.789062\" xlink:href=\"#DejaVuSans-49\"/>\n       <use x=\"147.412109\" xlink:href=\"#DejaVuSans-48\"/>\n      </g>\n     </g>\n    </g>\n    <g id=\"ytick_2\">\n     <g id=\"line2d_9\">\n      <g>\n       <use style=\"stroke:#000000;stroke-width:0.8;\" x=\"35.304688\" xlink:href=\"#m86d01633cc\" y=\"191.016181\"/>\n      </g>\n     </g>\n     <g id=\"text_9\">\n      <!-- −8 -->\n      <g transform=\"translate(13.5625 194.815399)scale(0.1 -0.1)\">\n       <use xlink:href=\"#DejaVuSans-8722\"/>\n       <use x=\"83.789062\" xlink:href=\"#DejaVuSans-56\"/>\n      </g>\n     </g>\n    </g>\n    <g id=\"ytick_3\">\n     <g id=\"line2d_10\">\n      <g>\n       <use style=\"stroke:#000000;stroke-width:0.8;\" x=\"35.304688\" xlink:href=\"#m86d01633cc\" y=\"165.500205\"/>\n      </g>\n     </g>\n     <g id=\"text_10\">\n      <!-- −6 -->\n      <g transform=\"translate(13.5625 169.299423)scale(0.1 -0.1)\">\n       <use xlink:href=\"#DejaVuSans-8722\"/>\n       <use x=\"83.789062\" xlink:href=\"#DejaVuSans-54\"/>\n      </g>\n     </g>\n    </g>\n    <g id=\"ytick_4\">\n     <g id=\"line2d_11\">\n      <g>\n       <use style=\"stroke:#000000;stroke-width:0.8;\" x=\"35.304688\" xlink:href=\"#m86d01633cc\" y=\"139.984229\"/>\n      </g>\n     </g>\n     <g id=\"text_11\">\n      <!-- −4 -->\n      <g transform=\"translate(13.5625 143.783448)scale(0.1 -0.1)\">\n       <use xlink:href=\"#DejaVuSans-8722\"/>\n       <use x=\"83.789062\" xlink:href=\"#DejaVuSans-52\"/>\n      </g>\n     </g>\n    </g>\n    <g id=\"ytick_5\">\n     <g id=\"line2d_12\">\n      <g>\n       <use style=\"stroke:#000000;stroke-width:0.8;\" x=\"35.304688\" xlink:href=\"#m86d01633cc\" y=\"114.468253\"/>\n      </g>\n     </g>\n     <g id=\"text_12\">\n      <!-- −2 -->\n      <g transform=\"translate(13.5625 118.267472)scale(0.1 -0.1)\">\n       <use xlink:href=\"#DejaVuSans-8722\"/>\n       <use x=\"83.789062\" xlink:href=\"#DejaVuSans-50\"/>\n      </g>\n     </g>\n    </g>\n    <g id=\"ytick_6\">\n     <g id=\"line2d_13\">\n      <g>\n       <use style=\"stroke:#000000;stroke-width:0.8;\" x=\"35.304688\" xlink:href=\"#m86d01633cc\" y=\"88.952277\"/>\n      </g>\n     </g>\n     <g id=\"text_13\">\n      <!-- 0 -->\n      <g transform=\"translate(21.942188 92.751496)scale(0.1 -0.1)\">\n       <use xlink:href=\"#DejaVuSans-48\"/>\n      </g>\n     </g>\n    </g>\n    <g id=\"ytick_7\">\n     <g id=\"line2d_14\">\n      <g>\n       <use style=\"stroke:#000000;stroke-width:0.8;\" x=\"35.304688\" xlink:href=\"#m86d01633cc\" y=\"63.436301\"/>\n      </g>\n     </g>\n     <g id=\"text_14\">\n      <!-- 2 -->\n      <g transform=\"translate(21.942188 67.23552)scale(0.1 -0.1)\">\n       <use xlink:href=\"#DejaVuSans-50\"/>\n      </g>\n     </g>\n    </g>\n    <g id=\"ytick_8\">\n     <g id=\"line2d_15\">\n      <g>\n       <use style=\"stroke:#000000;stroke-width:0.8;\" x=\"35.304688\" xlink:href=\"#m86d01633cc\" y=\"37.920325\"/>\n      </g>\n     </g>\n     <g id=\"text_15\">\n      <!-- 4 -->\n      <g transform=\"translate(21.942188 41.719544)scale(0.1 -0.1)\">\n       <use xlink:href=\"#DejaVuSans-52\"/>\n      </g>\n     </g>\n    </g>\n    <g id=\"ytick_9\">\n     <g id=\"line2d_16\">\n      <g>\n       <use style=\"stroke:#000000;stroke-width:0.8;\" x=\"35.304688\" xlink:href=\"#m86d01633cc\" y=\"12.404349\"/>\n      </g>\n     </g>\n     <g id=\"text_16\">\n      <!-- 6 -->\n      <g transform=\"translate(21.942188 16.203568)scale(0.1 -0.1)\">\n       <use xlink:href=\"#DejaVuSans-54\"/>\n      </g>\n     </g>\n    </g>\n   </g>\n   <g id=\"line2d_17\">\n    <path clip-path=\"url(#p88fa3979ea)\" d=\"M 50.522869 198.181891 \nL 52.919433 204.803603 \nL 55.315997 214.756364 \nL 57.712562 209.674222 \nL 60.109126 198.102878 \nL 62.50569 205.352163 \nL 67.298818 193.514886 \nL 69.695382 198.633468 \nL 72.091946 200.570193 \nL 74.48851 195.358376 \nL 76.885074 173.899286 \nL 79.281638 133.200209 \nL 81.678202 179.250555 \nL 84.074766 158.659255 \nL 86.47133 173.294278 \nL 88.867894 149.675132 \nL 91.264458 151.542268 \nL 93.661023 181.994431 \nL 96.057587 190.685835 \nL 98.454151 174.511266 \nL 100.850715 168.797677 \nL 103.247279 182.190726 \nL 105.643843 159.478658 \nL 108.040407 198.792465 \nL 110.436971 154.065934 \nL 112.833535 124.796093 \nL 115.230099 161.514228 \nL 117.626663 165.806648 \nL 120.023227 163.992553 \nL 122.419791 146.513181 \nL 124.816355 169.739169 \nL 127.212919 174.582327 \nL 129.609483 168.56791 \nL 132.006048 142.864204 \nL 134.402612 179.425291 \nL 136.799176 158.780286 \nL 139.19574 52.919535 \nL 141.592304 96.707546 \nL 143.988868 165.253453 \nL 146.385432 163.057218 \nL 148.781996 155.81642 \nL 151.17856 134.658791 \nL 153.575124 159.041134 \nL 155.971688 127.56781 \nL 158.368252 17.083636 \nL 160.764816 62.451358 \nL 163.16138 142.980569 \nL 165.557944 92.334345 \nL 167.954509 112.18757 \nL 170.351073 169.116555 \nL 172.747637 171.467365 \nL 175.144201 165.260011 \nL 177.540765 145.629013 \nL 179.937329 173.095512 \nL 182.333893 149.88082 \nL 184.730457 26.4773 \nL 187.127021 90.481663 \nL 189.523585 139.884794 \nL 191.920149 172.014416 \nL 194.316713 143.017569 \nL 196.713277 162.968959 \nL 199.109841 171.433079 \nL 201.506405 172.801874 \nL 203.90297 147.541283 \nL 206.299534 166.453018 \nL 208.696098 189.46746 \nL 213.489226 161.879517 \nL 215.88579 158.045566 \nL 218.282354 189.844027 \nL 220.678918 194.46077 \nL 223.075482 187.002585 \nL 225.472046 189.558098 \nL 227.86861 157.596288 \nL 230.265174 187.453091 \nL 232.661738 199.514928 \nL 235.058302 145.074035 \nL 237.454866 199.629954 \nL 239.851431 186.19645 \nL 242.247995 153.524449 \nL 244.644559 194.755332 \nL 247.041123 199.336292 \nL 249.437687 187.344598 \nL 251.834251 192.904518 \nL 254.230815 188.029221 \nL 256.627379 179.478107 \nL 259.023943 193.209422 \nL 261.420507 191.589683 \nL 263.817071 198.937313 \nL 266.213635 193.832432 \nL 268.610199 175.379854 \nL 271.006763 194.243553 \nL 273.403327 194.805217 \nL 275.799892 182.549348 \nL 278.196456 177.039349 \nL 280.59302 186.722489 \nL 282.989584 191.753231 \nL 285.386148 196.299722 \nL 287.782712 180.743934 \nL 290.179276 157.569053 \nL 292.57584 190.919861 \nL 294.972404 197.938503 \nL 297.368968 200.811646 \nL 299.765532 179.281307 \nL 302.162096 189.95005 \nL 304.55866 192.172517 \nL 306.955224 193.152894 \nL 309.351788 196.126379 \nL 311.748352 191.067343 \nL 314.144917 185.482602 \nL 316.541481 182.468504 \nL 318.938045 198.329695 \nL 321.334609 200.892204 \nL 323.731173 194.389423 \nL 326.127737 190.755978 \nL 328.524301 190.107089 \nL 330.920865 195.544056 \nL 333.317429 191.710939 \nL 335.713993 195.543046 \nL 338.110557 197.227258 \nL 340.507121 201.077677 \nL 342.903685 193.593436 \nL 345.300249 196.279075 \nL 347.696813 196.548622 \nL 350.093378 188.980994 \nL 352.489942 187.870138 \nL 354.886506 153.224412 \nL 354.886506 153.224412 \n\" style=\"fill:none;stroke:#1f77b4;stroke-linecap:square;stroke-width:1.5;\"/>\n   </g>\n   <g id=\"line2d_18\">\n    <path clip-path=\"url(#p88fa3979ea)\" d=\"M 50.522869 197.39745 \nL 52.919433 193.705056 \nL 55.315997 180.210741 \nL 57.712562 187.117818 \nL 60.109126 198.441704 \nL 62.50569 192.014918 \nL 64.902254 194.681637 \nL 67.298818 202.035339 \nL 69.695382 197.6751 \nL 72.091946 196.012728 \nL 74.48851 189.874688 \nL 76.885074 146.10445 \nL 79.281638 180.91926 \nL 81.678202 166.097876 \nL 84.074766 133.750359 \nL 86.47133 182.584309 \nL 88.867894 186.610808 \nL 91.264458 171.655649 \nL 93.661023 163.91999 \nL 98.454151 198.133576 \nL 100.850715 184.343032 \nL 103.247279 202.08217 \nL 105.643843 160.607838 \nL 108.040407 190.62508 \nL 110.436971 203.136425 \nL 112.833535 170.642238 \nL 115.230099 158.846949 \nL 117.626663 108.027863 \nL 120.023227 179.910473 \nL 122.419791 120.448943 \nL 124.816355 127.32987 \nL 127.212919 191.151368 \nL 129.609483 203.610365 \nL 132.006048 130.094287 \nL 134.402612 131.520237 \nL 136.799176 129.643248 \nL 139.19574 150.759804 \nL 141.592304 165.020875 \nL 143.988868 154.009139 \nL 146.385432 126.077439 \nL 148.781996 199.426632 \nL 151.17856 138.237731 \nL 153.575124 125.199592 \nL 155.971688 162.048942 \nL 158.368252 109.670771 \nL 160.764816 21.756457 \nL 163.16138 173.224731 \nL 165.557944 198.54662 \nL 167.954509 184.623335 \nL 170.351073 155.268097 \nL 172.747637 129.903804 \nL 175.144201 200.358378 \nL 177.540765 134.752899 \nL 179.937329 146.646914 \nL 182.333893 174.585247 \nL 184.730457 125.32267 \nL 187.127021 29.209173 \nL 189.523585 141.218537 \nL 191.920149 184.066519 \nL 194.316713 95.285738 \nL 196.713277 191.462757 \nL 199.109841 189.981538 \nL 201.506405 201.41452 \nL 203.90297 151.278549 \nL 206.299534 183.309521 \nL 208.696098 172.051726 \nL 211.092662 114.537018 \nL 213.489226 128.952621 \nL 215.88579 201.700662 \nL 218.282354 188.314549 \nL 220.678918 189.414126 \nL 223.075482 191.456832 \nL 225.472046 196.899651 \nL 227.86861 176.605511 \nL 230.265174 181.240973 \nL 232.661738 179.205835 \nL 235.058302 141.303925 \nL 237.454866 157.930132 \nL 239.851431 195.289328 \nL 242.247995 164.963185 \nL 244.644559 178.062718 \nL 247.041123 176.809381 \nL 249.437687 144.859392 \nL 251.834251 186.657676 \nL 254.230815 190.972361 \nL 256.627379 182.085409 \nL 259.023943 174.971841 \nL 261.420507 174.759296 \nL 263.817071 165.923427 \nL 266.213635 187.070951 \nL 268.610199 182.178249 \nL 271.006763 166.190796 \nL 273.403327 182.049675 \nL 275.799892 145.354916 \nL 278.196456 140.276899 \nL 280.59302 197.861352 \nL 282.989584 196.85456 \nL 285.386148 196.194745 \nL 287.782712 205.419836 \nL 290.179276 172.805768 \nL 292.57584 190.498774 \nL 294.972404 178.043853 \nL 297.368968 180.906144 \nL 299.765532 202.29194 \nL 302.162096 188.28887 \nL 304.55866 188.902322 \nL 306.955224 186.58165 \nL 309.351788 186.810365 \nL 311.748352 195.916876 \nL 314.144917 196.159534 \nL 316.541481 197.243878 \nL 318.938045 181.116821 \nL 321.334609 187.188897 \nL 323.731173 191.119125 \nL 326.127737 194.511129 \nL 328.524301 192.083795 \nL 330.920865 187.966452 \nL 333.317429 187.313962 \nL 335.713993 186.468491 \nL 338.110557 184.17278 \nL 340.507121 184.867179 \nL 342.903685 188.999634 \nL 345.300249 187.399003 \nL 347.696813 189.309709 \nL 350.093378 192.341273 \nL 352.489942 188.364245 \nL 354.886506 159.719862 \nL 354.886506 159.719862 \n\" style=\"fill:none;stroke:#ff7f0e;stroke-linecap:square;stroke-width:1.5;\"/>\n   </g>\n   <g id=\"patch_3\">\n    <path d=\"M 35.304688 224.64 \nL 35.304688 7.2 \n\" style=\"fill:none;stroke:#000000;stroke-linecap:square;stroke-linejoin:miter;stroke-width:0.8;\"/>\n   </g>\n   <g id=\"patch_4\">\n    <path d=\"M 370.104688 224.64 \nL 370.104688 7.2 \n\" style=\"fill:none;stroke:#000000;stroke-linecap:square;stroke-linejoin:miter;stroke-width:0.8;\"/>\n   </g>\n   <g id=\"patch_5\">\n    <path d=\"M 35.304688 224.64 \nL 370.104688 224.64 \n\" style=\"fill:none;stroke:#000000;stroke-linecap:square;stroke-linejoin:miter;stroke-width:0.8;\"/>\n   </g>\n   <g id=\"patch_6\">\n    <path d=\"M 35.304688 7.2 \nL 370.104688 7.2 \n\" style=\"fill:none;stroke:#000000;stroke-linecap:square;stroke-linejoin:miter;stroke-width:0.8;\"/>\n   </g>\n   <g id=\"legend_1\">\n    <g id=\"patch_7\">\n     <path d=\"M 280.871875 45.1125 \nL 363.104688 45.1125 \nQ 365.104688 45.1125 365.104688 43.1125 \nL 365.104688 14.2 \nQ 365.104688 12.2 363.104688 12.2 \nL 280.871875 12.2 \nQ 278.871875 12.2 278.871875 14.2 \nL 278.871875 43.1125 \nQ 278.871875 45.1125 280.871875 45.1125 \nz\n\" style=\"fill:#ffffff;opacity:0.8;stroke:#cccccc;stroke-linejoin:miter;\"/>\n    </g>\n    <g id=\"line2d_19\">\n     <path d=\"M 282.871875 20.298437 \nL 302.871875 20.298437 \n\" style=\"fill:none;stroke:#1f77b4;stroke-linecap:square;stroke-width:1.5;\"/>\n    </g>\n    <g id=\"line2d_20\"/>\n    <g id=\"text_17\">\n     <!-- start_logit -->\n     <defs>\n      <path d=\"M 44.28125 53.078125 \nL 44.28125 44.578125 \nQ 40.484375 46.53125 36.375 47.5 \nQ 32.28125 48.484375 27.875 48.484375 \nQ 21.1875 48.484375 17.84375 46.4375 \nQ 14.5 44.390625 14.5 40.28125 \nQ 14.5 37.15625 16.890625 35.375 \nQ 19.28125 33.59375 26.515625 31.984375 \nL 29.59375 31.296875 \nQ 39.15625 29.25 43.1875 25.515625 \nQ 47.21875 21.78125 47.21875 15.09375 \nQ 47.21875 7.46875 41.1875 3.015625 \nQ 35.15625 -1.421875 24.609375 -1.421875 \nQ 20.21875 -1.421875 15.453125 -0.5625 \nQ 10.6875 0.296875 5.421875 2 \nL 5.421875 11.28125 \nQ 10.40625 8.6875 15.234375 7.390625 \nQ 20.0625 6.109375 24.8125 6.109375 \nQ 31.15625 6.109375 34.5625 8.28125 \nQ 37.984375 10.453125 37.984375 14.40625 \nQ 37.984375 18.0625 35.515625 20.015625 \nQ 33.0625 21.96875 24.703125 23.78125 \nL 21.578125 24.515625 \nQ 13.234375 26.265625 9.515625 29.90625 \nQ 5.8125 33.546875 5.8125 39.890625 \nQ 5.8125 47.609375 11.28125 51.796875 \nQ 16.75 56 26.8125 56 \nQ 31.78125 56 36.171875 55.265625 \nQ 40.578125 54.546875 44.28125 53.078125 \nz\n\" id=\"DejaVuSans-115\"/>\n      <path d=\"M 18.3125 70.21875 \nL 18.3125 54.6875 \nL 36.8125 54.6875 \nL 36.8125 47.703125 \nL 18.3125 47.703125 \nL 18.3125 18.015625 \nQ 18.3125 11.328125 20.140625 9.421875 \nQ 21.96875 7.515625 27.59375 7.515625 \nL 36.8125 7.515625 \nL 36.8125 0 \nL 27.59375 0 \nQ 17.1875 0 13.234375 3.875 \nQ 9.28125 7.765625 9.28125 18.015625 \nL 9.28125 47.703125 \nL 2.6875 47.703125 \nL 2.6875 54.6875 \nL 9.28125 54.6875 \nL 9.28125 70.21875 \nz\n\" id=\"DejaVuSans-116\"/>\n      <path d=\"M 34.28125 27.484375 \nQ 23.390625 27.484375 19.1875 25 \nQ 14.984375 22.515625 14.984375 16.5 \nQ 14.984375 11.71875 18.140625 8.90625 \nQ 21.296875 6.109375 26.703125 6.109375 \nQ 34.1875 6.109375 38.703125 11.40625 \nQ 43.21875 16.703125 43.21875 25.484375 \nL 43.21875 27.484375 \nz\nM 52.203125 31.203125 \nL 52.203125 0 \nL 43.21875 0 \nL 43.21875 8.296875 \nQ 40.140625 3.328125 35.546875 0.953125 \nQ 30.953125 -1.421875 24.3125 -1.421875 \nQ 15.921875 -1.421875 10.953125 3.296875 \nQ 6 8.015625 6 15.921875 \nQ 6 25.140625 12.171875 29.828125 \nQ 18.359375 34.515625 30.609375 34.515625 \nL 43.21875 34.515625 \nL 43.21875 35.40625 \nQ 43.21875 41.609375 39.140625 45 \nQ 35.0625 48.390625 27.6875 48.390625 \nQ 23 48.390625 18.546875 47.265625 \nQ 14.109375 46.140625 10.015625 43.890625 \nL 10.015625 52.203125 \nQ 14.9375 54.109375 19.578125 55.046875 \nQ 24.21875 56 28.609375 56 \nQ 40.484375 56 46.34375 49.84375 \nQ 52.203125 43.703125 52.203125 31.203125 \nz\n\" id=\"DejaVuSans-97\"/>\n      <path d=\"M 41.109375 46.296875 \nQ 39.59375 47.171875 37.8125 47.578125 \nQ 36.03125 48 33.890625 48 \nQ 26.265625 48 22.1875 43.046875 \nQ 18.109375 38.09375 18.109375 28.8125 \nL 18.109375 0 \nL 9.078125 0 \nL 9.078125 54.6875 \nL 18.109375 54.6875 \nL 18.109375 46.1875 \nQ 20.953125 51.171875 25.484375 53.578125 \nQ 30.03125 56 36.53125 56 \nQ 37.453125 56 38.578125 55.875 \nQ 39.703125 55.765625 41.0625 55.515625 \nz\n\" id=\"DejaVuSans-114\"/>\n      <path d=\"M 50.984375 -16.609375 \nL 50.984375 -23.578125 \nL -0.984375 -23.578125 \nL -0.984375 -16.609375 \nz\n\" id=\"DejaVuSans-95\"/>\n      <path d=\"M 9.421875 75.984375 \nL 18.40625 75.984375 \nL 18.40625 0 \nL 9.421875 0 \nz\n\" id=\"DejaVuSans-108\"/>\n      <path d=\"M 30.609375 48.390625 \nQ 23.390625 48.390625 19.1875 42.75 \nQ 14.984375 37.109375 14.984375 27.296875 \nQ 14.984375 17.484375 19.15625 11.84375 \nQ 23.34375 6.203125 30.609375 6.203125 \nQ 37.796875 6.203125 41.984375 11.859375 \nQ 46.1875 17.53125 46.1875 27.296875 \nQ 46.1875 37.015625 41.984375 42.703125 \nQ 37.796875 48.390625 30.609375 48.390625 \nz\nM 30.609375 56 \nQ 42.328125 56 49.015625 48.375 \nQ 55.71875 40.765625 55.71875 27.296875 \nQ 55.71875 13.875 49.015625 6.21875 \nQ 42.328125 -1.421875 30.609375 -1.421875 \nQ 18.84375 -1.421875 12.171875 6.21875 \nQ 5.515625 13.875 5.515625 27.296875 \nQ 5.515625 40.765625 12.171875 48.375 \nQ 18.84375 56 30.609375 56 \nz\n\" id=\"DejaVuSans-111\"/>\n      <path d=\"M 45.40625 27.984375 \nQ 45.40625 37.75 41.375 43.109375 \nQ 37.359375 48.484375 30.078125 48.484375 \nQ 22.859375 48.484375 18.828125 43.109375 \nQ 14.796875 37.75 14.796875 27.984375 \nQ 14.796875 18.265625 18.828125 12.890625 \nQ 22.859375 7.515625 30.078125 7.515625 \nQ 37.359375 7.515625 41.375 12.890625 \nQ 45.40625 18.265625 45.40625 27.984375 \nz\nM 54.390625 6.78125 \nQ 54.390625 -7.171875 48.1875 -13.984375 \nQ 42 -20.796875 29.203125 -20.796875 \nQ 24.46875 -20.796875 20.265625 -20.09375 \nQ 16.0625 -19.390625 12.109375 -17.921875 \nL 12.109375 -9.1875 \nQ 16.0625 -11.328125 19.921875 -12.34375 \nQ 23.78125 -13.375 27.78125 -13.375 \nQ 36.625 -13.375 41.015625 -8.765625 \nQ 45.40625 -4.15625 45.40625 5.171875 \nL 45.40625 9.625 \nQ 42.625 4.78125 38.28125 2.390625 \nQ 33.9375 0 27.875 0 \nQ 17.828125 0 11.671875 7.65625 \nQ 5.515625 15.328125 5.515625 27.984375 \nQ 5.515625 40.671875 11.671875 48.328125 \nQ 17.828125 56 27.875 56 \nQ 33.9375 56 38.28125 53.609375 \nQ 42.625 51.21875 45.40625 46.390625 \nL 45.40625 54.6875 \nL 54.390625 54.6875 \nz\n\" id=\"DejaVuSans-103\"/>\n      <path d=\"M 9.421875 54.6875 \nL 18.40625 54.6875 \nL 18.40625 0 \nL 9.421875 0 \nz\nM 9.421875 75.984375 \nL 18.40625 75.984375 \nL 18.40625 64.59375 \nL 9.421875 64.59375 \nz\n\" id=\"DejaVuSans-105\"/>\n     </defs>\n     <g transform=\"translate(310.871875 23.798437)scale(0.1 -0.1)\">\n      <use xlink:href=\"#DejaVuSans-115\"/>\n      <use x=\"52.099609\" xlink:href=\"#DejaVuSans-116\"/>\n      <use x=\"91.308594\" xlink:href=\"#DejaVuSans-97\"/>\n      <use x=\"152.587891\" xlink:href=\"#DejaVuSans-114\"/>\n      <use x=\"193.701172\" xlink:href=\"#DejaVuSans-116\"/>\n      <use x=\"232.910156\" xlink:href=\"#DejaVuSans-95\"/>\n      <use x=\"282.910156\" xlink:href=\"#DejaVuSans-108\"/>\n      <use x=\"310.693359\" xlink:href=\"#DejaVuSans-111\"/>\n      <use x=\"371.875\" xlink:href=\"#DejaVuSans-103\"/>\n      <use x=\"435.351562\" xlink:href=\"#DejaVuSans-105\"/>\n      <use x=\"463.134766\" xlink:href=\"#DejaVuSans-116\"/>\n     </g>\n    </g>\n    <g id=\"line2d_21\">\n     <path d=\"M 282.871875 35.254687 \nL 302.871875 35.254687 \n\" style=\"fill:none;stroke:#ff7f0e;stroke-linecap:square;stroke-width:1.5;\"/>\n    </g>\n    <g id=\"line2d_22\"/>\n    <g id=\"text_18\">\n     <!-- end_logit -->\n     <defs>\n      <path d=\"M 56.203125 29.59375 \nL 56.203125 25.203125 \nL 14.890625 25.203125 \nQ 15.484375 15.921875 20.484375 11.0625 \nQ 25.484375 6.203125 34.421875 6.203125 \nQ 39.59375 6.203125 44.453125 7.46875 \nQ 49.3125 8.734375 54.109375 11.28125 \nL 54.109375 2.78125 \nQ 49.265625 0.734375 44.1875 -0.34375 \nQ 39.109375 -1.421875 33.890625 -1.421875 \nQ 20.796875 -1.421875 13.15625 6.1875 \nQ 5.515625 13.8125 5.515625 26.8125 \nQ 5.515625 40.234375 12.765625 48.109375 \nQ 20.015625 56 32.328125 56 \nQ 43.359375 56 49.78125 48.890625 \nQ 56.203125 41.796875 56.203125 29.59375 \nz\nM 47.21875 32.234375 \nQ 47.125 39.59375 43.09375 43.984375 \nQ 39.0625 48.390625 32.421875 48.390625 \nQ 24.90625 48.390625 20.390625 44.140625 \nQ 15.875 39.890625 15.1875 32.171875 \nz\n\" id=\"DejaVuSans-101\"/>\n      <path d=\"M 54.890625 33.015625 \nL 54.890625 0 \nL 45.90625 0 \nL 45.90625 32.71875 \nQ 45.90625 40.484375 42.875 44.328125 \nQ 39.84375 48.1875 33.796875 48.1875 \nQ 26.515625 48.1875 22.3125 43.546875 \nQ 18.109375 38.921875 18.109375 30.90625 \nL 18.109375 0 \nL 9.078125 0 \nL 9.078125 54.6875 \nL 18.109375 54.6875 \nL 18.109375 46.1875 \nQ 21.34375 51.125 25.703125 53.5625 \nQ 30.078125 56 35.796875 56 \nQ 45.21875 56 50.046875 50.171875 \nQ 54.890625 44.34375 54.890625 33.015625 \nz\n\" id=\"DejaVuSans-110\"/>\n      <path d=\"M 45.40625 46.390625 \nL 45.40625 75.984375 \nL 54.390625 75.984375 \nL 54.390625 0 \nL 45.40625 0 \nL 45.40625 8.203125 \nQ 42.578125 3.328125 38.25 0.953125 \nQ 33.9375 -1.421875 27.875 -1.421875 \nQ 17.96875 -1.421875 11.734375 6.484375 \nQ 5.515625 14.40625 5.515625 27.296875 \nQ 5.515625 40.1875 11.734375 48.09375 \nQ 17.96875 56 27.875 56 \nQ 33.9375 56 38.25 53.625 \nQ 42.578125 51.265625 45.40625 46.390625 \nz\nM 14.796875 27.296875 \nQ 14.796875 17.390625 18.875 11.75 \nQ 22.953125 6.109375 30.078125 6.109375 \nQ 37.203125 6.109375 41.296875 11.75 \nQ 45.40625 17.390625 45.40625 27.296875 \nQ 45.40625 37.203125 41.296875 42.84375 \nQ 37.203125 48.484375 30.078125 48.484375 \nQ 22.953125 48.484375 18.875 42.84375 \nQ 14.796875 37.203125 14.796875 27.296875 \nz\n\" id=\"DejaVuSans-100\"/>\n     </defs>\n     <g transform=\"translate(310.871875 38.754687)scale(0.1 -0.1)\">\n      <use xlink:href=\"#DejaVuSans-101\"/>\n      <use x=\"61.523438\" xlink:href=\"#DejaVuSans-110\"/>\n      <use x=\"124.902344\" xlink:href=\"#DejaVuSans-100\"/>\n      <use x=\"188.378906\" xlink:href=\"#DejaVuSans-95\"/>\n      <use x=\"238.378906\" xlink:href=\"#DejaVuSans-108\"/>\n      <use x=\"266.162109\" xlink:href=\"#DejaVuSans-111\"/>\n      <use x=\"327.34375\" xlink:href=\"#DejaVuSans-103\"/>\n      <use x=\"390.820312\" xlink:href=\"#DejaVuSans-105\"/>\n      <use x=\"418.603516\" xlink:href=\"#DejaVuSans-116\"/>\n     </g>\n    </g>\n   </g>\n  </g>\n </g>\n <defs>\n  <clipPath id=\"p88fa3979ea\">\n   <rect height=\"217.44\" width=\"334.8\" x=\"35.304688\" y=\"7.2\"/>\n  </clipPath>\n </defs>\n</svg>\n",
      "image/png": "[encoded data removed]"
     },
     "metadata": {
      "needs_background": "light"
     }
    },
    {
     "output_type": "display_data",
     "data": {
      "text/plain": "<Figure size 432x288 with 1 Axes>",
      "image/svg+xml": "<?xml version=\"1.0\" encoding=\"utf-8\" standalone=\"no\"?>\n<!DOCTYPE svg PUBLIC \"-//W3C//DTD SVG 1.1//EN\"\n  \"http://www.w3.org/Graphics/SVG/1.1/DTD/svg11.dtd\">\n<!-- Created with matplotlib (https://matplotlib.org/) -->\n<svg height=\"248.518125pt\" version=\"1.1\" viewBox=\"0 0 372.103125 248.518125\" width=\"372.103125pt\" xmlns=\"http://www.w3.org/2000/svg\" xmlns:xlink=\"http://www.w3.org/1999/xlink\">\n <defs>\n  <style type=\"text/css\">\n*{stroke-linecap:butt;stroke-linejoin:round;}\n  </style>\n </defs>\n <g id=\"figure_1\">\n  <g id=\"patch_1\">\n   <path d=\"M 0 248.518125 \nL 372.103125 248.518125 \nL 372.103125 0 \nL 0 0 \nz\n\" style=\"fill:none;\"/>\n  </g>\n  <g id=\"axes_1\">\n   <g id=\"patch_2\">\n    <path d=\"M 30.103125 224.64 \nL 364.903125 224.64 \nL 364.903125 7.2 \nL 30.103125 7.2 \nz\n\" style=\"fill:#ffffff;\"/>\n   </g>\n   <g id=\"matplotlib.axis_1\">\n    <g id=\"xtick_1\">\n     <g id=\"line2d_1\">\n      <defs>\n       <path d=\"M 0 0 \nL 0 3.5 \n\" id=\"mf637f24e40\" style=\"stroke:#000000;stroke-width:0.8;\"/>\n      </defs>\n      <g>\n       <use style=\"stroke:#000000;stroke-width:0.8;\" x=\"45.321307\" xlink:href=\"#mf637f24e40\" y=\"224.64\"/>\n      </g>\n     </g>\n     <g id=\"text_1\">\n      <!-- 0 -->\n      <defs>\n       <path d=\"M 31.78125 66.40625 \nQ 24.171875 66.40625 20.328125 58.90625 \nQ 16.5 51.421875 16.5 36.375 \nQ 16.5 21.390625 20.328125 13.890625 \nQ 24.171875 6.390625 31.78125 6.390625 \nQ 39.453125 6.390625 43.28125 13.890625 \nQ 47.125 21.390625 47.125 36.375 \nQ 47.125 51.421875 43.28125 58.90625 \nQ 39.453125 66.40625 31.78125 66.40625 \nz\nM 31.78125 74.21875 \nQ 44.046875 74.21875 50.515625 64.515625 \nQ 56.984375 54.828125 56.984375 36.375 \nQ 56.984375 17.96875 50.515625 8.265625 \nQ 44.046875 -1.421875 31.78125 -1.421875 \nQ 19.53125 -1.421875 13.0625 8.265625 \nQ 6.59375 17.96875 6.59375 36.375 \nQ 6.59375 54.828125 13.0625 64.515625 \nQ 19.53125 74.21875 31.78125 74.21875 \nz\n\" id=\"DejaVuSans-48\"/>\n      </defs>\n      <g transform=\"translate(42.140057 239.238437)scale(0.1 -0.1)\">\n       <use xlink:href=\"#DejaVuSans-48\"/>\n      </g>\n     </g>\n    </g>\n    <g id=\"xtick_2\">\n     <g id=\"line2d_2\">\n      <g>\n       <use style=\"stroke:#000000;stroke-width:0.8;\" x=\"93.252588\" xlink:href=\"#mf637f24e40\" y=\"224.64\"/>\n      </g>\n     </g>\n     <g id=\"text_2\">\n      <!-- 20 -->\n      <defs>\n       <path d=\"M 19.1875 8.296875 \nL 53.609375 8.296875 \nL 53.609375 0 \nL 7.328125 0 \nL 7.328125 8.296875 \nQ 12.9375 14.109375 22.625 23.890625 \nQ 32.328125 33.6875 34.8125 36.53125 \nQ 39.546875 41.84375 41.421875 45.53125 \nQ 43.3125 49.21875 43.3125 52.78125 \nQ 43.3125 58.59375 39.234375 62.25 \nQ 35.15625 65.921875 28.609375 65.921875 \nQ 23.96875 65.921875 18.8125 64.3125 \nQ 13.671875 62.703125 7.8125 59.421875 \nL 7.8125 69.390625 \nQ 13.765625 71.78125 18.9375 73 \nQ 24.125 74.21875 28.421875 74.21875 \nQ 39.75 74.21875 46.484375 68.546875 \nQ 53.21875 62.890625 53.21875 53.421875 \nQ 53.21875 48.921875 51.53125 44.890625 \nQ 49.859375 40.875 45.40625 35.40625 \nQ 44.1875 33.984375 37.640625 27.21875 \nQ 31.109375 20.453125 19.1875 8.296875 \nz\n\" id=\"DejaVuSans-50\"/>\n      </defs>\n      <g transform=\"translate(86.890088 239.238437)scale(0.1 -0.1)\">\n       <use xlink:href=\"#DejaVuSans-50\"/>\n       <use x=\"63.623047\" xlink:href=\"#DejaVuSans-48\"/>\n      </g>\n     </g>\n    </g>\n    <g id=\"xtick_3\">\n     <g id=\"line2d_3\">\n      <g>\n       <use style=\"stroke:#000000;stroke-width:0.8;\" x=\"141.183869\" xlink:href=\"#mf637f24e40\" y=\"224.64\"/>\n      </g>\n     </g>\n     <g id=\"text_3\">\n      <!-- 40 -->\n      <defs>\n       <path d=\"M 37.796875 64.3125 \nL 12.890625 25.390625 \nL 37.796875 25.390625 \nz\nM 35.203125 72.90625 \nL 47.609375 72.90625 \nL 47.609375 25.390625 \nL 58.015625 25.390625 \nL 58.015625 17.1875 \nL 47.609375 17.1875 \nL 47.609375 0 \nL 37.796875 0 \nL 37.796875 17.1875 \nL 4.890625 17.1875 \nL 4.890625 26.703125 \nz\n\" id=\"DejaVuSans-52\"/>\n      </defs>\n      <g transform=\"translate(134.821369 239.238437)scale(0.1 -0.1)\">\n       <use xlink:href=\"#DejaVuSans-52\"/>\n       <use x=\"63.623047\" xlink:href=\"#DejaVuSans-48\"/>\n      </g>\n     </g>\n    </g>\n    <g id=\"xtick_4\">\n     <g id=\"line2d_4\">\n      <g>\n       <use style=\"stroke:#000000;stroke-width:0.8;\" x=\"189.115151\" xlink:href=\"#mf637f24e40\" y=\"224.64\"/>\n      </g>\n     </g>\n     <g id=\"text_4\">\n      <!-- 60 -->\n      <defs>\n       <path d=\"M 33.015625 40.375 \nQ 26.375 40.375 22.484375 35.828125 \nQ 18.609375 31.296875 18.609375 23.390625 \nQ 18.609375 15.53125 22.484375 10.953125 \nQ 26.375 6.390625 33.015625 6.390625 \nQ 39.65625 6.390625 43.53125 10.953125 \nQ 47.40625 15.53125 47.40625 23.390625 \nQ 47.40625 31.296875 43.53125 35.828125 \nQ 39.65625 40.375 33.015625 40.375 \nz\nM 52.59375 71.296875 \nL 52.59375 62.3125 \nQ 48.875 64.0625 45.09375 64.984375 \nQ 41.3125 65.921875 37.59375 65.921875 \nQ 27.828125 65.921875 22.671875 59.328125 \nQ 17.53125 52.734375 16.796875 39.40625 \nQ 19.671875 43.65625 24.015625 45.921875 \nQ 28.375 48.1875 33.59375 48.1875 \nQ 44.578125 48.1875 50.953125 41.515625 \nQ 57.328125 34.859375 57.328125 23.390625 \nQ 57.328125 12.15625 50.6875 5.359375 \nQ 44.046875 -1.421875 33.015625 -1.421875 \nQ 20.359375 -1.421875 13.671875 8.265625 \nQ 6.984375 17.96875 6.984375 36.375 \nQ 6.984375 53.65625 15.1875 63.9375 \nQ 23.390625 74.21875 37.203125 74.21875 \nQ 40.921875 74.21875 44.703125 73.484375 \nQ 48.484375 72.75 52.59375 71.296875 \nz\n\" id=\"DejaVuSans-54\"/>\n      </defs>\n      <g transform=\"translate(182.752651 239.238437)scale(0.1 -0.1)\">\n       <use xlink:href=\"#DejaVuSans-54\"/>\n       <use x=\"63.623047\" xlink:href=\"#DejaVuSans-48\"/>\n      </g>\n     </g>\n    </g>\n    <g id=\"xtick_5\">\n     <g id=\"line2d_5\">\n      <g>\n       <use style=\"stroke:#000000;stroke-width:0.8;\" x=\"237.046432\" xlink:href=\"#mf637f24e40\" y=\"224.64\"/>\n      </g>\n     </g>\n     <g id=\"text_5\">\n      <!-- 80 -->\n      <defs>\n       <path d=\"M 31.78125 34.625 \nQ 24.75 34.625 20.71875 30.859375 \nQ 16.703125 27.09375 16.703125 20.515625 \nQ 16.703125 13.921875 20.71875 10.15625 \nQ 24.75 6.390625 31.78125 6.390625 \nQ 38.8125 6.390625 42.859375 10.171875 \nQ 46.921875 13.96875 46.921875 20.515625 \nQ 46.921875 27.09375 42.890625 30.859375 \nQ 38.875 34.625 31.78125 34.625 \nz\nM 21.921875 38.8125 \nQ 15.578125 40.375 12.03125 44.71875 \nQ 8.5 49.078125 8.5 55.328125 \nQ 8.5 64.0625 14.71875 69.140625 \nQ 20.953125 74.21875 31.78125 74.21875 \nQ 42.671875 74.21875 48.875 69.140625 \nQ 55.078125 64.0625 55.078125 55.328125 \nQ 55.078125 49.078125 51.53125 44.71875 \nQ 48 40.375 41.703125 38.8125 \nQ 48.828125 37.15625 52.796875 32.3125 \nQ 56.78125 27.484375 56.78125 20.515625 \nQ 56.78125 9.90625 50.3125 4.234375 \nQ 43.84375 -1.421875 31.78125 -1.421875 \nQ 19.734375 -1.421875 13.25 4.234375 \nQ 6.78125 9.90625 6.78125 20.515625 \nQ 6.78125 27.484375 10.78125 32.3125 \nQ 14.796875 37.15625 21.921875 38.8125 \nz\nM 18.3125 54.390625 \nQ 18.3125 48.734375 21.84375 45.5625 \nQ 25.390625 42.390625 31.78125 42.390625 \nQ 38.140625 42.390625 41.71875 45.5625 \nQ 45.3125 48.734375 45.3125 54.390625 \nQ 45.3125 60.0625 41.71875 63.234375 \nQ 38.140625 66.40625 31.78125 66.40625 \nQ 25.390625 66.40625 21.84375 63.234375 \nQ 18.3125 60.0625 18.3125 54.390625 \nz\n\" id=\"DejaVuSans-56\"/>\n      </defs>\n      <g transform=\"translate(230.683932 239.238437)scale(0.1 -0.1)\">\n       <use xlink:href=\"#DejaVuSans-56\"/>\n       <use x=\"63.623047\" xlink:href=\"#DejaVuSans-48\"/>\n      </g>\n     </g>\n    </g>\n    <g id=\"xtick_6\">\n     <g id=\"line2d_6\">\n      <g>\n       <use style=\"stroke:#000000;stroke-width:0.8;\" x=\"284.977713\" xlink:href=\"#mf637f24e40\" y=\"224.64\"/>\n      </g>\n     </g>\n     <g id=\"text_6\">\n      <!-- 100 -->\n      <defs>\n       <path d=\"M 12.40625 8.296875 \nL 28.515625 8.296875 \nL 28.515625 63.921875 \nL 10.984375 60.40625 \nL 10.984375 69.390625 \nL 28.421875 72.90625 \nL 38.28125 72.90625 \nL 38.28125 8.296875 \nL 54.390625 8.296875 \nL 54.390625 0 \nL 12.40625 0 \nz\n\" id=\"DejaVuSans-49\"/>\n      </defs>\n      <g transform=\"translate(275.433963 239.238437)scale(0.1 -0.1)\">\n       <use xlink:href=\"#DejaVuSans-49\"/>\n       <use x=\"63.623047\" xlink:href=\"#DejaVuSans-48\"/>\n       <use x=\"127.246094\" xlink:href=\"#DejaVuSans-48\"/>\n      </g>\n     </g>\n    </g>\n    <g id=\"xtick_7\">\n     <g id=\"line2d_7\">\n      <g>\n       <use style=\"stroke:#000000;stroke-width:0.8;\" x=\"332.908995\" xlink:href=\"#mf637f24e40\" y=\"224.64\"/>\n      </g>\n     </g>\n     <g id=\"text_7\">\n      <!-- 120 -->\n      <g transform=\"translate(323.365245 239.238437)scale(0.1 -0.1)\">\n       <use xlink:href=\"#DejaVuSans-49\"/>\n       <use x=\"63.623047\" xlink:href=\"#DejaVuSans-50\"/>\n       <use x=\"127.246094\" xlink:href=\"#DejaVuSans-48\"/>\n      </g>\n     </g>\n    </g>\n   </g>\n   <g id=\"matplotlib.axis_2\">\n    <g id=\"ytick_1\">\n     <g id=\"line2d_8\">\n      <defs>\n       <path d=\"M 0 0 \nL -3.5 0 \n\" id=\"mdaa7362d79\" style=\"stroke:#000000;stroke-width:0.8;\"/>\n      </defs>\n      <g>\n       <use style=\"stroke:#000000;stroke-width:0.8;\" x=\"30.103125\" xlink:href=\"#mdaa7362d79\" y=\"214.7564\"/>\n      </g>\n     </g>\n     <g id=\"text_8\">\n      <!-- 0.0 -->\n      <defs>\n       <path d=\"M 10.6875 12.40625 \nL 21 12.40625 \nL 21 0 \nL 10.6875 0 \nz\n\" id=\"DejaVuSans-46\"/>\n      </defs>\n      <g transform=\"translate(7.2 218.555619)scale(0.1 -0.1)\">\n       <use xlink:href=\"#DejaVuSans-48\"/>\n       <use x=\"63.623047\" xlink:href=\"#DejaVuSans-46\"/>\n       <use x=\"95.410156\" xlink:href=\"#DejaVuSans-48\"/>\n      </g>\n     </g>\n    </g>\n    <g id=\"ytick_2\">\n     <g id=\"line2d_9\">\n      <g>\n       <use style=\"stroke:#000000;stroke-width:0.8;\" x=\"30.103125\" xlink:href=\"#mdaa7362d79\" y=\"183.76838\"/>\n      </g>\n     </g>\n     <g id=\"text_9\">\n      <!-- 0.1 -->\n      <g transform=\"translate(7.2 187.567599)scale(0.1 -0.1)\">\n       <use xlink:href=\"#DejaVuSans-48\"/>\n       <use x=\"63.623047\" xlink:href=\"#DejaVuSans-46\"/>\n       <use x=\"95.410156\" xlink:href=\"#DejaVuSans-49\"/>\n      </g>\n     </g>\n    </g>\n    <g id=\"ytick_3\">\n     <g id=\"line2d_10\">\n      <g>\n       <use style=\"stroke:#000000;stroke-width:0.8;\" x=\"30.103125\" xlink:href=\"#mdaa7362d79\" y=\"152.78036\"/>\n      </g>\n     </g>\n     <g id=\"text_10\">\n      <!-- 0.2 -->\n      <g transform=\"translate(7.2 156.579578)scale(0.1 -0.1)\">\n       <use xlink:href=\"#DejaVuSans-48\"/>\n       <use x=\"63.623047\" xlink:href=\"#DejaVuSans-46\"/>\n       <use x=\"95.410156\" xlink:href=\"#DejaVuSans-50\"/>\n      </g>\n     </g>\n    </g>\n    <g id=\"ytick_4\">\n     <g id=\"line2d_11\">\n      <g>\n       <use style=\"stroke:#000000;stroke-width:0.8;\" x=\"30.103125\" xlink:href=\"#mdaa7362d79\" y=\"121.792339\"/>\n      </g>\n     </g>\n     <g id=\"text_11\">\n      <!-- 0.3 -->\n      <defs>\n       <path d=\"M 40.578125 39.3125 \nQ 47.65625 37.796875 51.625 33 \nQ 55.609375 28.21875 55.609375 21.1875 \nQ 55.609375 10.40625 48.1875 4.484375 \nQ 40.765625 -1.421875 27.09375 -1.421875 \nQ 22.515625 -1.421875 17.65625 -0.515625 \nQ 12.796875 0.390625 7.625 2.203125 \nL 7.625 11.71875 \nQ 11.71875 9.328125 16.59375 8.109375 \nQ 21.484375 6.890625 26.8125 6.890625 \nQ 36.078125 6.890625 40.9375 10.546875 \nQ 45.796875 14.203125 45.796875 21.1875 \nQ 45.796875 27.640625 41.28125 31.265625 \nQ 36.765625 34.90625 28.71875 34.90625 \nL 20.21875 34.90625 \nL 20.21875 43.015625 \nL 29.109375 43.015625 \nQ 36.375 43.015625 40.234375 45.921875 \nQ 44.09375 48.828125 44.09375 54.296875 \nQ 44.09375 59.90625 40.109375 62.90625 \nQ 36.140625 65.921875 28.71875 65.921875 \nQ 24.65625 65.921875 20.015625 65.03125 \nQ 15.375 64.15625 9.8125 62.3125 \nL 9.8125 71.09375 \nQ 15.4375 72.65625 20.34375 73.4375 \nQ 25.25 74.21875 29.59375 74.21875 \nQ 40.828125 74.21875 47.359375 69.109375 \nQ 53.90625 64.015625 53.90625 55.328125 \nQ 53.90625 49.265625 50.4375 45.09375 \nQ 46.96875 40.921875 40.578125 39.3125 \nz\n\" id=\"DejaVuSans-51\"/>\n      </defs>\n      <g transform=\"translate(7.2 125.591558)scale(0.1 -0.1)\">\n       <use xlink:href=\"#DejaVuSans-48\"/>\n       <use x=\"63.623047\" xlink:href=\"#DejaVuSans-46\"/>\n       <use x=\"95.410156\" xlink:href=\"#DejaVuSans-51\"/>\n      </g>\n     </g>\n    </g>\n    <g id=\"ytick_5\">\n     <g id=\"line2d_12\">\n      <g>\n       <use style=\"stroke:#000000;stroke-width:0.8;\" x=\"30.103125\" xlink:href=\"#mdaa7362d79\" y=\"90.804319\"/>\n      </g>\n     </g>\n     <g id=\"text_12\">\n      <!-- 0.4 -->\n      <g transform=\"translate(7.2 94.603538)scale(0.1 -0.1)\">\n       <use xlink:href=\"#DejaVuSans-48\"/>\n       <use x=\"63.623047\" xlink:href=\"#DejaVuSans-46\"/>\n       <use x=\"95.410156\" xlink:href=\"#DejaVuSans-52\"/>\n      </g>\n     </g>\n    </g>\n    <g id=\"ytick_6\">\n     <g id=\"line2d_13\">\n      <g>\n       <use style=\"stroke:#000000;stroke-width:0.8;\" x=\"30.103125\" xlink:href=\"#mdaa7362d79\" y=\"59.816298\"/>\n      </g>\n     </g>\n     <g id=\"text_13\">\n      <!-- 0.5 -->\n      <defs>\n       <path d=\"M 10.796875 72.90625 \nL 49.515625 72.90625 \nL 49.515625 64.59375 \nL 19.828125 64.59375 \nL 19.828125 46.734375 \nQ 21.96875 47.46875 24.109375 47.828125 \nQ 26.265625 48.1875 28.421875 48.1875 \nQ 40.625 48.1875 47.75 41.5 \nQ 54.890625 34.8125 54.890625 23.390625 \nQ 54.890625 11.625 47.5625 5.09375 \nQ 40.234375 -1.421875 26.90625 -1.421875 \nQ 22.3125 -1.421875 17.546875 -0.640625 \nQ 12.796875 0.140625 7.71875 1.703125 \nL 7.71875 11.625 \nQ 12.109375 9.234375 16.796875 8.0625 \nQ 21.484375 6.890625 26.703125 6.890625 \nQ 35.15625 6.890625 40.078125 11.328125 \nQ 45.015625 15.765625 45.015625 23.390625 \nQ 45.015625 31 40.078125 35.4375 \nQ 35.15625 39.890625 26.703125 39.890625 \nQ 22.75 39.890625 18.8125 39.015625 \nQ 14.890625 38.140625 10.796875 36.28125 \nz\n\" id=\"DejaVuSans-53\"/>\n      </defs>\n      <g transform=\"translate(7.2 63.615517)scale(0.1 -0.1)\">\n       <use xlink:href=\"#DejaVuSans-48\"/>\n       <use x=\"63.623047\" xlink:href=\"#DejaVuSans-46\"/>\n       <use x=\"95.410156\" xlink:href=\"#DejaVuSans-53\"/>\n      </g>\n     </g>\n    </g>\n    <g id=\"ytick_7\">\n     <g id=\"line2d_14\">\n      <g>\n       <use style=\"stroke:#000000;stroke-width:0.8;\" x=\"30.103125\" xlink:href=\"#mdaa7362d79\" y=\"28.828278\"/>\n      </g>\n     </g>\n     <g id=\"text_14\">\n      <!-- 0.6 -->\n      <g transform=\"translate(7.2 32.627497)scale(0.1 -0.1)\">\n       <use xlink:href=\"#DejaVuSans-48\"/>\n       <use x=\"63.623047\" xlink:href=\"#DejaVuSans-46\"/>\n       <use x=\"95.410156\" xlink:href=\"#DejaVuSans-54\"/>\n      </g>\n     </g>\n    </g>\n   </g>\n   <g id=\"line2d_15\">\n    <path clip-path=\"url(#pad4760a599)\" d=\"M 45.321307 214.756266 \nL 131.597613 214.753451 \nL 133.994177 202.91814 \nL 136.390741 214.373839 \nL 138.787305 214.754625 \nL 150.770126 214.722345 \nL 153.16669 18.340253 \nL 155.563254 209.148307 \nL 157.959818 214.746226 \nL 160.356382 214.217425 \nL 162.752946 214.642704 \nL 165.14951 214.755089 \nL 177.13233 214.750476 \nL 179.528895 120.695828 \nL 181.925459 214.133188 \nL 184.322023 214.743431 \nL 208.287663 214.754087 \nL 349.684943 214.751842 \nL 349.684943 214.751842 \n\" style=\"fill:none;stroke:#1f77b4;stroke-linecap:square;stroke-width:1.5;\"/>\n   </g>\n   <g id=\"line2d_16\">\n    <path clip-path=\"url(#pad4760a599)\" d=\"M 45.321307 214.756193 \nL 110.028537 214.752142 \nL 112.425101 214.527744 \nL 114.821665 214.755583 \nL 117.218229 214.670031 \nL 126.804485 214.715848 \nL 150.770126 214.753087 \nL 153.16669 214.555372 \nL 155.563254 17.083636 \nL 157.959818 214.75502 \nL 179.528895 214.697455 \nL 181.925459 104.53929 \nL 184.322023 214.739444 \nL 186.718587 214.75581 \nL 189.115151 214.13562 \nL 191.511715 214.75607 \nL 203.494535 214.754888 \nL 205.891099 214.619121 \nL 210.684227 214.756252 \nL 349.684943 214.752423 \nL 349.684943 214.752423 \n\" style=\"fill:none;stroke:#ff7f0e;stroke-linecap:square;stroke-width:1.5;\"/>\n   </g>\n   <g id=\"patch_3\">\n    <path d=\"M 30.103125 224.64 \nL 30.103125 7.2 \n\" style=\"fill:none;stroke:#000000;stroke-linecap:square;stroke-linejoin:miter;stroke-width:0.8;\"/>\n   </g>\n   <g id=\"patch_4\">\n    <path d=\"M 364.903125 224.64 \nL 364.903125 7.2 \n\" style=\"fill:none;stroke:#000000;stroke-linecap:square;stroke-linejoin:miter;stroke-width:0.8;\"/>\n   </g>\n   <g id=\"patch_5\">\n    <path d=\"M 30.103125 224.64 \nL 364.903125 224.64 \n\" style=\"fill:none;stroke:#000000;stroke-linecap:square;stroke-linejoin:miter;stroke-width:0.8;\"/>\n   </g>\n   <g id=\"patch_6\">\n    <path d=\"M 30.103125 7.2 \nL 364.903125 7.2 \n\" style=\"fill:none;stroke:#000000;stroke-linecap:square;stroke-linejoin:miter;stroke-width:0.8;\"/>\n   </g>\n   <g id=\"legend_1\">\n    <g id=\"patch_7\">\n     <path d=\"M 275.670313 45.1125 \nL 357.903125 45.1125 \nQ 359.903125 45.1125 359.903125 43.1125 \nL 359.903125 14.2 \nQ 359.903125 12.2 357.903125 12.2 \nL 275.670313 12.2 \nQ 273.670313 12.2 273.670313 14.2 \nL 273.670313 43.1125 \nQ 273.670313 45.1125 275.670313 45.1125 \nz\n\" style=\"fill:#ffffff;opacity:0.8;stroke:#cccccc;stroke-linejoin:miter;\"/>\n    </g>\n    <g id=\"line2d_17\">\n     <path d=\"M 277.670313 20.298437 \nL 297.670313 20.298437 \n\" style=\"fill:none;stroke:#1f77b4;stroke-linecap:square;stroke-width:1.5;\"/>\n    </g>\n    <g id=\"line2d_18\"/>\n    <g id=\"text_15\">\n     <!-- start_logit -->\n     <defs>\n      <path d=\"M 44.28125 53.078125 \nL 44.28125 44.578125 \nQ 40.484375 46.53125 36.375 47.5 \nQ 32.28125 48.484375 27.875 48.484375 \nQ 21.1875 48.484375 17.84375 46.4375 \nQ 14.5 44.390625 14.5 40.28125 \nQ 14.5 37.15625 16.890625 35.375 \nQ 19.28125 33.59375 26.515625 31.984375 \nL 29.59375 31.296875 \nQ 39.15625 29.25 43.1875 25.515625 \nQ 47.21875 21.78125 47.21875 15.09375 \nQ 47.21875 7.46875 41.1875 3.015625 \nQ 35.15625 -1.421875 24.609375 -1.421875 \nQ 20.21875 -1.421875 15.453125 -0.5625 \nQ 10.6875 0.296875 5.421875 2 \nL 5.421875 11.28125 \nQ 10.40625 8.6875 15.234375 7.390625 \nQ 20.0625 6.109375 24.8125 6.109375 \nQ 31.15625 6.109375 34.5625 8.28125 \nQ 37.984375 10.453125 37.984375 14.40625 \nQ 37.984375 18.0625 35.515625 20.015625 \nQ 33.0625 21.96875 24.703125 23.78125 \nL 21.578125 24.515625 \nQ 13.234375 26.265625 9.515625 29.90625 \nQ 5.8125 33.546875 5.8125 39.890625 \nQ 5.8125 47.609375 11.28125 51.796875 \nQ 16.75 56 26.8125 56 \nQ 31.78125 56 36.171875 55.265625 \nQ 40.578125 54.546875 44.28125 53.078125 \nz\n\" id=\"DejaVuSans-115\"/>\n      <path d=\"M 18.3125 70.21875 \nL 18.3125 54.6875 \nL 36.8125 54.6875 \nL 36.8125 47.703125 \nL 18.3125 47.703125 \nL 18.3125 18.015625 \nQ 18.3125 11.328125 20.140625 9.421875 \nQ 21.96875 7.515625 27.59375 7.515625 \nL 36.8125 7.515625 \nL 36.8125 0 \nL 27.59375 0 \nQ 17.1875 0 13.234375 3.875 \nQ 9.28125 7.765625 9.28125 18.015625 \nL 9.28125 47.703125 \nL 2.6875 47.703125 \nL 2.6875 54.6875 \nL 9.28125 54.6875 \nL 9.28125 70.21875 \nz\n\" id=\"DejaVuSans-116\"/>\n      <path d=\"M 34.28125 27.484375 \nQ 23.390625 27.484375 19.1875 25 \nQ 14.984375 22.515625 14.984375 16.5 \nQ 14.984375 11.71875 18.140625 8.90625 \nQ 21.296875 6.109375 26.703125 6.109375 \nQ 34.1875 6.109375 38.703125 11.40625 \nQ 43.21875 16.703125 43.21875 25.484375 \nL 43.21875 27.484375 \nz\nM 52.203125 31.203125 \nL 52.203125 0 \nL 43.21875 0 \nL 43.21875 8.296875 \nQ 40.140625 3.328125 35.546875 0.953125 \nQ 30.953125 -1.421875 24.3125 -1.421875 \nQ 15.921875 -1.421875 10.953125 3.296875 \nQ 6 8.015625 6 15.921875 \nQ 6 25.140625 12.171875 29.828125 \nQ 18.359375 34.515625 30.609375 34.515625 \nL 43.21875 34.515625 \nL 43.21875 35.40625 \nQ 43.21875 41.609375 39.140625 45 \nQ 35.0625 48.390625 27.6875 48.390625 \nQ 23 48.390625 18.546875 47.265625 \nQ 14.109375 46.140625 10.015625 43.890625 \nL 10.015625 52.203125 \nQ 14.9375 54.109375 19.578125 55.046875 \nQ 24.21875 56 28.609375 56 \nQ 40.484375 56 46.34375 49.84375 \nQ 52.203125 43.703125 52.203125 31.203125 \nz\n\" id=\"DejaVuSans-97\"/>\n      <path d=\"M 41.109375 46.296875 \nQ 39.59375 47.171875 37.8125 47.578125 \nQ 36.03125 48 33.890625 48 \nQ 26.265625 48 22.1875 43.046875 \nQ 18.109375 38.09375 18.109375 28.8125 \nL 18.109375 0 \nL 9.078125 0 \nL 9.078125 54.6875 \nL 18.109375 54.6875 \nL 18.109375 46.1875 \nQ 20.953125 51.171875 25.484375 53.578125 \nQ 30.03125 56 36.53125 56 \nQ 37.453125 56 38.578125 55.875 \nQ 39.703125 55.765625 41.0625 55.515625 \nz\n\" id=\"DejaVuSans-114\"/>\n      <path d=\"M 50.984375 -16.609375 \nL 50.984375 -23.578125 \nL -0.984375 -23.578125 \nL -0.984375 -16.609375 \nz\n\" id=\"DejaVuSans-95\"/>\n      <path d=\"M 9.421875 75.984375 \nL 18.40625 75.984375 \nL 18.40625 0 \nL 9.421875 0 \nz\n\" id=\"DejaVuSans-108\"/>\n      <path d=\"M 30.609375 48.390625 \nQ 23.390625 48.390625 19.1875 42.75 \nQ 14.984375 37.109375 14.984375 27.296875 \nQ 14.984375 17.484375 19.15625 11.84375 \nQ 23.34375 6.203125 30.609375 6.203125 \nQ 37.796875 6.203125 41.984375 11.859375 \nQ 46.1875 17.53125 46.1875 27.296875 \nQ 46.1875 37.015625 41.984375 42.703125 \nQ 37.796875 48.390625 30.609375 48.390625 \nz\nM 30.609375 56 \nQ 42.328125 56 49.015625 48.375 \nQ 55.71875 40.765625 55.71875 27.296875 \nQ 55.71875 13.875 49.015625 6.21875 \nQ 42.328125 -1.421875 30.609375 -1.421875 \nQ 18.84375 -1.421875 12.171875 6.21875 \nQ 5.515625 13.875 5.515625 27.296875 \nQ 5.515625 40.765625 12.171875 48.375 \nQ 18.84375 56 30.609375 56 \nz\n\" id=\"DejaVuSans-111\"/>\n      <path d=\"M 45.40625 27.984375 \nQ 45.40625 37.75 41.375 43.109375 \nQ 37.359375 48.484375 30.078125 48.484375 \nQ 22.859375 48.484375 18.828125 43.109375 \nQ 14.796875 37.75 14.796875 27.984375 \nQ 14.796875 18.265625 18.828125 12.890625 \nQ 22.859375 7.515625 30.078125 7.515625 \nQ 37.359375 7.515625 41.375 12.890625 \nQ 45.40625 18.265625 45.40625 27.984375 \nz\nM 54.390625 6.78125 \nQ 54.390625 -7.171875 48.1875 -13.984375 \nQ 42 -20.796875 29.203125 -20.796875 \nQ 24.46875 -20.796875 20.265625 -20.09375 \nQ 16.0625 -19.390625 12.109375 -17.921875 \nL 12.109375 -9.1875 \nQ 16.0625 -11.328125 19.921875 -12.34375 \nQ 23.78125 -13.375 27.78125 -13.375 \nQ 36.625 -13.375 41.015625 -8.765625 \nQ 45.40625 -4.15625 45.40625 5.171875 \nL 45.40625 9.625 \nQ 42.625 4.78125 38.28125 2.390625 \nQ 33.9375 0 27.875 0 \nQ 17.828125 0 11.671875 7.65625 \nQ 5.515625 15.328125 5.515625 27.984375 \nQ 5.515625 40.671875 11.671875 48.328125 \nQ 17.828125 56 27.875 56 \nQ 33.9375 56 38.28125 53.609375 \nQ 42.625 51.21875 45.40625 46.390625 \nL 45.40625 54.6875 \nL 54.390625 54.6875 \nz\n\" id=\"DejaVuSans-103\"/>\n      <path d=\"M 9.421875 54.6875 \nL 18.40625 54.6875 \nL 18.40625 0 \nL 9.421875 0 \nz\nM 9.421875 75.984375 \nL 18.40625 75.984375 \nL 18.40625 64.59375 \nL 9.421875 64.59375 \nz\n\" id=\"DejaVuSans-105\"/>\n     </defs>\n     <g transform=\"translate(305.670313 23.798437)scale(0.1 -0.1)\">\n      <use xlink:href=\"#DejaVuSans-115\"/>\n      <use x=\"52.099609\" xlink:href=\"#DejaVuSans-116\"/>\n      <use x=\"91.308594\" xlink:href=\"#DejaVuSans-97\"/>\n      <use x=\"152.587891\" xlink:href=\"#DejaVuSans-114\"/>\n      <use x=\"193.701172\" xlink:href=\"#DejaVuSans-116\"/>\n      <use x=\"232.910156\" xlink:href=\"#DejaVuSans-95\"/>\n      <use x=\"282.910156\" xlink:href=\"#DejaVuSans-108\"/>\n      <use x=\"310.693359\" xlink:href=\"#DejaVuSans-111\"/>\n      <use x=\"371.875\" xlink:href=\"#DejaVuSans-103\"/>\n      <use x=\"435.351562\" xlink:href=\"#DejaVuSans-105\"/>\n      <use x=\"463.134766\" xlink:href=\"#DejaVuSans-116\"/>\n     </g>\n    </g>\n    <g id=\"line2d_19\">\n     <path d=\"M 277.670313 35.254687 \nL 297.670313 35.254687 \n\" style=\"fill:none;stroke:#ff7f0e;stroke-linecap:square;stroke-width:1.5;\"/>\n    </g>\n    <g id=\"line2d_20\"/>\n    <g id=\"text_16\">\n     <!-- end_logit -->\n     <defs>\n      <path d=\"M 56.203125 29.59375 \nL 56.203125 25.203125 \nL 14.890625 25.203125 \nQ 15.484375 15.921875 20.484375 11.0625 \nQ 25.484375 6.203125 34.421875 6.203125 \nQ 39.59375 6.203125 44.453125 7.46875 \nQ 49.3125 8.734375 54.109375 11.28125 \nL 54.109375 2.78125 \nQ 49.265625 0.734375 44.1875 -0.34375 \nQ 39.109375 -1.421875 33.890625 -1.421875 \nQ 20.796875 -1.421875 13.15625 6.1875 \nQ 5.515625 13.8125 5.515625 26.8125 \nQ 5.515625 40.234375 12.765625 48.109375 \nQ 20.015625 56 32.328125 56 \nQ 43.359375 56 49.78125 48.890625 \nQ 56.203125 41.796875 56.203125 29.59375 \nz\nM 47.21875 32.234375 \nQ 47.125 39.59375 43.09375 43.984375 \nQ 39.0625 48.390625 32.421875 48.390625 \nQ 24.90625 48.390625 20.390625 44.140625 \nQ 15.875 39.890625 15.1875 32.171875 \nz\n\" id=\"DejaVuSans-101\"/>\n      <path d=\"M 54.890625 33.015625 \nL 54.890625 0 \nL 45.90625 0 \nL 45.90625 32.71875 \nQ 45.90625 40.484375 42.875 44.328125 \nQ 39.84375 48.1875 33.796875 48.1875 \nQ 26.515625 48.1875 22.3125 43.546875 \nQ 18.109375 38.921875 18.109375 30.90625 \nL 18.109375 0 \nL 9.078125 0 \nL 9.078125 54.6875 \nL 18.109375 54.6875 \nL 18.109375 46.1875 \nQ 21.34375 51.125 25.703125 53.5625 \nQ 30.078125 56 35.796875 56 \nQ 45.21875 56 50.046875 50.171875 \nQ 54.890625 44.34375 54.890625 33.015625 \nz\n\" id=\"DejaVuSans-110\"/>\n      <path d=\"M 45.40625 46.390625 \nL 45.40625 75.984375 \nL 54.390625 75.984375 \nL 54.390625 0 \nL 45.40625 0 \nL 45.40625 8.203125 \nQ 42.578125 3.328125 38.25 0.953125 \nQ 33.9375 -1.421875 27.875 -1.421875 \nQ 17.96875 -1.421875 11.734375 6.484375 \nQ 5.515625 14.40625 5.515625 27.296875 \nQ 5.515625 40.1875 11.734375 48.09375 \nQ 17.96875 56 27.875 56 \nQ 33.9375 56 38.25 53.625 \nQ 42.578125 51.265625 45.40625 46.390625 \nz\nM 14.796875 27.296875 \nQ 14.796875 17.390625 18.875 11.75 \nQ 22.953125 6.109375 30.078125 6.109375 \nQ 37.203125 6.109375 41.296875 11.75 \nQ 45.40625 17.390625 45.40625 27.296875 \nQ 45.40625 37.203125 41.296875 42.84375 \nQ 37.203125 48.484375 30.078125 48.484375 \nQ 22.953125 48.484375 18.875 42.84375 \nQ 14.796875 37.203125 14.796875 27.296875 \nz\n\" id=\"DejaVuSans-100\"/>\n     </defs>\n     <g transform=\"translate(305.670313 38.754687)scale(0.1 -0.1)\">\n      <use xlink:href=\"#DejaVuSans-101\"/>\n      <use x=\"61.523438\" xlink:href=\"#DejaVuSans-110\"/>\n      <use x=\"124.902344\" xlink:href=\"#DejaVuSans-100\"/>\n      <use x=\"188.378906\" xlink:href=\"#DejaVuSans-95\"/>\n      <use x=\"238.378906\" xlink:href=\"#DejaVuSans-108\"/>\n      <use x=\"266.162109\" xlink:href=\"#DejaVuSans-111\"/>\n      <use x=\"327.34375\" xlink:href=\"#DejaVuSans-103\"/>\n      <use x=\"390.820312\" xlink:href=\"#DejaVuSans-105\"/>\n      <use x=\"418.603516\" xlink:href=\"#DejaVuSans-116\"/>\n     </g>\n    </g>\n   </g>\n  </g>\n </g>\n <defs>\n  <clipPath id=\"pad4760a599\">\n   <rect height=\"217.44\" width=\"334.8\" x=\"30.103125\" y=\"7.2\"/>\n  </clipPath>\n </defs>\n</svg>\n",
      "image/png": "[encoded data removed]"
     },
     "metadata": {
      "needs_background": "light"
     }
    },
    {
     "output_type": "stream",
     "name": "stdout",
     "text": "45 46\n"
    }
   ],
   "source": [
    "import matplotlib.pyplot as plt\n",
    "import numpy as np\n",
    "\n",
    "def softmax(a):\n",
    "    exp_a = np.exp(a)\n",
    "    sum_exp_a = np.sum(exp_a)\n",
    "    y = exp_a / sum_exp_a\n",
    "    return y\n",
    "\n",
    "start_logit = all_results[6].start_logits\n",
    "end_logit = all_results[6].end_logits\n",
    "index = np.arange(len(start_logit))\n",
    "\n",
    "# 13. Infer 모드의 model output을 plot해주세요.\n",
    "###################################################################################################\n",
    "# berore softmax\n",
    "plt.plot(index, start_logit, label='start_logit')\n",
    "plt.plot(index, end_logit, label='end_logit')\n",
    "plt.legend(loc='best')\n",
    "plt.show()\n",
    "\n",
    "# after softmax\n",
    "plt.plot(index, softmax(start_logit), label='start_logit')\n",
    "plt.plot(index, softmax(end_logit), label='end_logit')\n",
    "plt.legend(loc='best')\n",
    "plt.show()\n",
    "\n",
    "###################################################################################################\n",
    "\n",
    "\n",
    "pred_start_index = np.argmax(start_logit)\n",
    "pred_end_index = np.argmax(end_logit)\n",
    "print(np.argmax(start_logit), np.argmax(end_logit))"
   ]
  },
  {
   "cell_type": "code",
   "execution_count": 22,
   "metadata": {
    "tags": []
   },
   "outputs": [
    {
     "output_type": "stream",
     "name": "stdout",
     "text": "qas_id: 56be4db0acb8001400a502ef\n\n, question_text: Which NFL team won Super Bowl 50?\n\n, orig_answer_text: None\n\n, doc_tokens: [Super Bowl 50 was an American football game to determine the champion of the National Football League (NFL) for the 2015 season. The American Football Conference (AFC) champion Denver Broncos defeated the National Football Conference (NFC) champion Carolina Panthers 24–10 to earn their third Super Bowl title. The game was played on February 7, 2016, at Levi's Stadium in the San Francisco Bay Area at Santa Clara, California. As this was the 50th Super Bowl, the league emphasized the \"golden anniversary\" with various gold-themed initiatives, as well as temporarily suspending the tradition of naming each Super Bowl game with Roman numerals (under which the game would have been known as \"Super Bowl L\"), so that the logo could prominently feature the Arabic numerals 50.]\n\n\nAnswer: Denver Broncos\n"
    }
   ],
   "source": [
    "pred_start_index = np.argmax(start_logit)\n",
    "pred_end_index = np.argmax(end_logit)\n",
    "orig_doc_start = eval_features[6].token_to_orig_map[pred_start_index]\n",
    "orig_doc_end = eval_features[6].token_to_orig_map[pred_end_index]\n",
    "orig_tokens = eval_examples[eval_features[6].example_index].doc_tokens[orig_doc_start:(orig_doc_end + 1)]\n",
    "\n",
    "print(eval_examples[eval_features[6].example_index])\n",
    "print(\"\\n\\nAnswer: {}\".format(\" \".join(orig_tokens)))"
   ]
  },
  {
   "cell_type": "code",
   "execution_count": 24,
   "metadata": {
    "scrolled": true,
    "tags": []
   },
   "outputs": [
    {
     "output_type": "stream",
     "name": "stderr",
     "text": "08/12/2020 13:04:43 - INFO - bert_utils.bert_utils -   Writing predictions to: ./save/predictions/squad_test_predictions.json\n08/12/2020 13:04:43 - INFO - bert_utils.bert_utils -   Writing nbest to: ./save/predictions/nbest_squad_test_predictions.json\n"
    }
   ],
   "source": [
    "output_dir='./save/predictions'\n",
    "n_best_size=20\n",
    "max_answer_length=30\n",
    "do_lower_case=True\n",
    "verbose_logging=False\n",
    "\n",
    "output_prediction_file = os.path.join(output_dir, \"squad_test_predictions.json\")\n",
    "output_nbest_file = os.path.join(output_dir, \"nbest_squad_test_predictions.json\")\n",
    "all_predictions = write_predictions(eval_examples, eval_features, all_results,\n",
    "                  n_best_size, max_answer_length,\n",
    "                  do_lower_case, output_prediction_file,\n",
    "                  output_nbest_file, verbose_logging)"
   ]
  },
  {
   "cell_type": "markdown",
   "metadata": {},
   "source": [
    "## Get scores"
   ]
  },
  {
   "cell_type": "code",
   "execution_count": 25,
   "metadata": {
    "scrolled": true
   },
   "outputs": [],
   "source": [
    "with open('./datasets/squad_v1.1/dev-v1.1.json') as f:\n",
    "    dataset_json = json.load(f)\n",
    "    dataset = dataset_json['data']\n",
    "with open('./save/predictions/squad_test_predictions.json') as f:\n",
    "    preds = json.load(f)"
   ]
  },
  {
   "cell_type": "code",
   "execution_count": 26,
   "metadata": {
    "scrolled": true
   },
   "outputs": [
    {
     "output_type": "execute_result",
     "data": {
      "text/plain": "OrderedDict([('exact', 76.80227057710502),\n             ('f1', 84.01673185840188),\n             ('total', 10570)])"
     },
     "metadata": {},
     "execution_count": 26
    }
   ],
   "source": [
    "qid_to_has_ans = make_qid_to_has_ans(dataset)  # maps qid to True/False\n",
    "has_ans_qids = [k for k, v in qid_to_has_ans.items() if v]\n",
    "no_ans_qids = [k for k, v in qid_to_has_ans.items() if not v]\n",
    "exact, f1 = get_raw_scores(dataset, preds)\n",
    "\n",
    "out_eval = make_eval_dict(exact, f1)\n",
    "out_eval"
   ]
  },
  {
   "cell_type": "markdown",
   "metadata": {},
   "source": [
    "# KorQuAD v1"
   ]
  },
  {
   "cell_type": "code",
   "execution_count": null,
   "metadata": {},
   "outputs": [],
   "source": []
  }
 ],
 "metadata": {
  "kernelspec": {
   "display_name": "Python 3.7.7 64-bit ('0811_qa': conda)",
   "language": "python",
   "name": "python_defaultSpec_1597203855447"
  },
  "language_info": {
   "codemirror_mode": {
    "name": "ipython",
    "version": 3
   },
   "file_extension": ".py",
   "mimetype": "text/x-python",
   "name": "python",
   "nbconvert_exporter": "python",
   "pygments_lexer": "ipython3",
   "version": "3.7.7-final"
  }
 },
 "nbformat": 4,
 "nbformat_minor": 4
}