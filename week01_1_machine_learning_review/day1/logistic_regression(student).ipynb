{
 "cells": [
  {
   "cell_type": "markdown",
   "metadata": {},
   "source": [
    "<font color='blue'> please import packages below before starting </font>"
   ]
  },
  {
   "cell_type": "code",
   "execution_count": 1,
   "metadata": {},
   "outputs": [],
   "source": [
    "import pandas as pd\n",
    "import numpy as np\n",
    "from sklearn import metrics\n",
    "from sklearn.linear_model import LogisticRegression\n",
    "from sklearn.model_selection import train_test_split\n",
    "from sklearn.datasets import load_digits\n",
    "import matplotlib.pyplot as plt\n",
    "%matplotlib inline"
   ]
  },
  {
   "cell_type": "markdown",
   "metadata": {},
   "source": [
    "# Logistic Regression"
   ]
  },
  {
   "cell_type": "markdown",
   "metadata": {},
   "source": [
    "In this section, we are going to implement a logistic regression. <br>\n",
    "Let's bring up the data."
   ]
  },
  {
   "cell_type": "code",
   "execution_count": 2,
   "metadata": {},
   "outputs": [],
   "source": [
    "df = pd.read_csv('Student-Pass-Fail-Data.csv')"
   ]
  },
  {
   "cell_type": "markdown",
   "metadata": {},
   "source": [
    "A brief look at what we have:"
   ]
  },
  {
   "cell_type": "code",
   "execution_count": 3,
   "metadata": {
    "tags": []
   },
   "outputs": [
    {
     "output_type": "stream",
     "name": "stdout",
     "text": "(1000, 3)\n"
    },
    {
     "output_type": "execute_result",
     "data": {
      "text/plain": "   Self_Study_Daily  Tution_Monthly  Pass_Or_Fail\n0                 7              27             1\n1                 2              43             0\n2                 7              26             1\n3                 8              29             1\n4                 3              42             0",
      "text/html": "<div>\n<style scoped>\n    .dataframe tbody tr th:only-of-type {\n        vertical-align: middle;\n    }\n\n    .dataframe tbody tr th {\n        vertical-align: top;\n    }\n\n    .dataframe thead th {\n        text-align: right;\n    }\n</style>\n<table border=\"1\" class=\"dataframe\">\n  <thead>\n    <tr style=\"text-align: right;\">\n      <th></th>\n      <th>Self_Study_Daily</th>\n      <th>Tution_Monthly</th>\n      <th>Pass_Or_Fail</th>\n    </tr>\n  </thead>\n  <tbody>\n    <tr>\n      <th>0</th>\n      <td>7</td>\n      <td>27</td>\n      <td>1</td>\n    </tr>\n    <tr>\n      <th>1</th>\n      <td>2</td>\n      <td>43</td>\n      <td>0</td>\n    </tr>\n    <tr>\n      <th>2</th>\n      <td>7</td>\n      <td>26</td>\n      <td>1</td>\n    </tr>\n    <tr>\n      <th>3</th>\n      <td>8</td>\n      <td>29</td>\n      <td>1</td>\n    </tr>\n    <tr>\n      <th>4</th>\n      <td>3</td>\n      <td>42</td>\n      <td>0</td>\n    </tr>\n  </tbody>\n</table>\n</div>"
     },
     "metadata": {},
     "execution_count": 3
    }
   ],
   "source": [
    "# Check the dataset\n",
    "print(df.shape)\n",
    "df.head()"
   ]
  },
  {
   "cell_type": "markdown",
   "metadata": {},
   "source": [
    "We want to predict whether the student gets __pass or fail__. <br>\n",
    "So, let's split the table into two - (1) self_study_daily and tution_monthly (2) pass_or_fail"
   ]
  },
  {
   "cell_type": "code",
   "execution_count": 4,
   "metadata": {},
   "outputs": [],
   "source": [
    "# Define 'Self_Study_Daily', 'Tution_Monthly' as input data and 'Pass_Or_Fail' as output target\n",
    "X = df.drop('Pass_Or_Fail', axis=1) # axis=0(index), axis=1(column)\n",
    "y = df.Pass_Or_Fail"
   ]
  },
  {
   "cell_type": "markdown",
   "metadata": {},
   "source": [
    "From now on, it's exactly the same as we did with the linear regression. <br>\n",
    "The only difference is that we have to call the class variable __LogisitcRegression()__."
   ]
  },
  {
   "cell_type": "code",
   "execution_count": 5,
   "metadata": {},
   "outputs": [],
   "source": [
    "# Split the data and target into training dataset and test dataset\n",
    "X_train, X_test, y_train, y_test = train_test_split(X, y, test_size=0.2, random_state=2020)"
   ]
  },
  {
   "cell_type": "code",
   "execution_count": 6,
   "metadata": {},
   "outputs": [],
   "source": [
    "# Create the logistic regression object\n",
    "logreg = LogisticRegression()"
   ]
  },
  {
   "cell_type": "code",
   "execution_count": 7,
   "metadata": {},
   "outputs": [
    {
     "output_type": "execute_result",
     "data": {
      "text/plain": "LogisticRegression(C=1.0, class_weight=None, dual=False, fit_intercept=True,\n          intercept_scaling=1, max_iter=100, multi_class='warn',\n          n_jobs=None, penalty='l2', random_state=None, solver='warn',\n          tol=0.0001, verbose=0, warm_start=False)"
     },
     "metadata": {},
     "execution_count": 7
    }
   ],
   "source": [
    "# Train the model using the training sets\n",
    "logreg.fit(X_train, y_train)"
   ]
  },
  {
   "cell_type": "code",
   "execution_count": 8,
   "metadata": {},
   "outputs": [],
   "source": [
    "# Make predictions using the testing set\n",
    "y_pred = logreg.predict(X_test)"
   ]
  },
  {
   "cell_type": "code",
   "execution_count": 9,
   "metadata": {
    "tags": []
   },
   "outputs": [
    {
     "output_type": "stream",
     "name": "stdout",
     "text": "Coefficients: \n [[ 2.54032198 -0.62709942]]\nIntercept: \n [1.23380331]\n"
    }
   ],
   "source": [
    "# The coefficients\n",
    "print(\"Coefficients: \\n\", logreg.coef_)\n",
    "print(\"Intercept: \\n\", logreg.intercept_)"
   ]
  },
  {
   "cell_type": "markdown",
   "metadata": {},
   "source": [
    "For the classification problem, we can compute accuracy score. <br>\n",
    "Again, we have useful tools from the package that we have called above. <br>\n",
    "Try calling __metrics.accuracy_score__."
   ]
  },
  {
   "cell_type": "code",
   "execution_count": 10,
   "metadata": {
    "tags": []
   },
   "outputs": [
    {
     "output_type": "stream",
     "name": "stdout",
     "text": "The test accuracy: 95.50\n"
    }
   ],
   "source": [
    "# Find the accuracy\n",
    "acc = metrics.accuracy_score(y_test, y_pred) * 100 # percentage\n",
    "print(\"The test accuracy: %.2f\" % acc)"
   ]
  },
  {
   "cell_type": "markdown",
   "metadata": {},
   "source": [
    "#### ln(p/(1-p)) = 2.54x1 - 0.63x2 + 1.23 (x1: \"Self_Study_Daily\", x2: \"Tution_Monthly\")"
   ]
  },
  {
   "cell_type": "markdown",
   "metadata": {},
   "source": [
    "We can randomly generate an input data which, in this case, is a new student. <br>\n",
    "For np.array([a,b]), __a__ would be the value for self_study_daily whereas __b__ would be tution monthly."
   ]
  },
  {
   "cell_type": "code",
   "execution_count": 11,
   "metadata": {},
   "outputs": [
    {
     "output_type": "execute_result",
     "data": {
      "text/plain": "array([0])"
     },
     "metadata": {},
     "execution_count": 11
    }
   ],
   "source": [
    "# Predicting whether a new student will fail or pass\n",
    "First_friend = logreg.predict((np.array([4, 38]).reshape(1, -1)))\n",
    "First_friend "
   ]
  },
  {
   "cell_type": "markdown",
   "metadata": {},
   "source": [
    "Did the student got passed? Let's try another student."
   ]
  },
  {
   "cell_type": "code",
   "execution_count": 12,
   "metadata": {},
   "outputs": [
    {
     "output_type": "execute_result",
     "data": {
      "text/plain": "array([1])"
     },
     "metadata": {},
     "execution_count": 12
    }
   ],
   "source": [
    "# Predicting whether a new studuent will fail or pass\n",
    "Second_friend = logreg.predict((np.array([8, 29]).reshape(1, -1)))\n",
    "Second_friend"
   ]
  },
  {
   "cell_type": "markdown",
   "metadata": {},
   "source": [
    "Note that we reshaped our input with the function __reshape__. <br>\n",
    "This is because the function gets that data in the form of samples (e.g. [[sample1],[sample2],.. and so on]) <br>\n",
    "-1 means that we're allocating all the remaining dimension of the number of data into the second dimension."
   ]
  },
  {
   "cell_type": "code",
   "execution_count": 13,
   "metadata": {},
   "outputs": [
    {
     "output_type": "execute_result",
     "data": {
      "text/plain": "array([[ 1, 11]])"
     },
     "metadata": {},
     "execution_count": 13
    }
   ],
   "source": [
    "np.array([1, 11]).reshape(1, -1)"
   ]
  },
  {
   "cell_type": "markdown",
   "metadata": {},
   "source": [
    "# [Practice 2] : the digit dataset (classification)\n",
    "### P2.1. You should fill in the blank between # and # with code"
   ]
  },
  {
   "cell_type": "code",
   "execution_count": 14,
   "metadata": {},
   "outputs": [],
   "source": [
    "import pandas as pd\n",
    "import numpy as np\n",
    "from sklearn import metrics\n",
    "from sklearn.linear_model import LogisticRegression\n",
    "from sklearn.model_selection import train_test_split\n",
    "from sklearn.datasets import load_digits\n",
    "import matplotlib.pyplot as plt\n",
    "%matplotlib inline"
   ]
  },
  {
   "cell_type": "code",
   "execution_count": 15,
   "metadata": {},
   "outputs": [],
   "source": [
    "# Load the dataset (Digits Dataset)\n",
    "digits = load_digits()\n",
    "X, y = digits.data, digits.target"
   ]
  },
  {
   "cell_type": "code",
   "execution_count": 18,
   "metadata": {
    "tags": []
   },
   "outputs": [
    {
     "output_type": "stream",
     "name": "stdout",
     "text": "(1797, 64)\n64\n"
    }
   ],
   "source": [
    "# Check the dataset\n",
    "#######################################\n",
    "# 1797개의 digits dataset\n",
    "print(X.shape)\n",
    "# 1개의 digit 당 8*8=64 dimentional features\n",
    "print(X.shape[1])\n",
    "#######################################"
   ]
  },
  {
   "cell_type": "markdown",
   "metadata": {},
   "source": [
    "### P2.2. You should write down the answers of the number of data and features in ( ? )\n",
    "#### The number of data : ( 1797 )\n",
    "#### The number of features : ( 64 )"
   ]
  },
  {
   "cell_type": "code",
   "execution_count": 19,
   "metadata": {},
   "outputs": [
    {
     "output_type": "display_data",
     "data": {
      "text/plain": "<Figure size 1440x288 with 5 Axes>",
      "image/svg+xml": "<?xml version=\"1.0\" encoding=\"utf-8\" standalone=\"no\"?>\n<!DOCTYPE svg PUBLIC \"-//W3C//DTD SVG 1.1//EN\"\n  \"http://www.w3.org/Graphics/SVG/1.1/DTD/svg11.dtd\">\n<!-- Created with matplotlib (https://matplotlib.org/) -->\n<svg height=\"267.084418pt\" version=\"1.1\" viewBox=\"0 0 1147.2625 267.084418\" width=\"1147.2625pt\" xmlns=\"http://www.w3.org/2000/svg\" xmlns:xlink=\"http://www.w3.org/1999/xlink\">\n <defs>\n  <style type=\"text/css\">\n*{stroke-linecap:butt;stroke-linejoin:round;}\n  </style>\n </defs>\n <g id=\"figure_1\">\n  <g id=\"patch_1\">\n   <path d=\"M 0 267.084418 \nL 1147.2625 267.084418 \nL 1147.2625 0 \nL 0 0 \nz\n\" style=\"fill:none;\"/>\n  </g>\n  <g id=\"axes_1\">\n   <g id=\"patch_2\">\n    <path d=\"M 20.5625 243.206293 \nL 212.976293 243.206293 \nL 212.976293 50.7925 \nL 20.5625 50.7925 \nz\n\" style=\"fill:#ffffff;\"/>\n   </g>\n   <g clip-path=\"url(#p8c2bd5fce5)\">\n    <image height=\"193\" id=\"image04530a4062\" transform=\"scale(1 -1)translate(0 -193)\" width=\"193\" x=\"20.5625\" xlink:href=\"data:image/png;base64,\niVBORw0KGgoAAAANSUhEUgAAAMEAAADBCAYAAAB2QtScAAAABHNCSVQICAgIfAhkiAAAAxBJREFUeJzt3FFRY1EQRdHL1BgACbEAEmIBJICERAJYwEIkgASeBLAQCTMqGirstQScQFK77l9frbX+rQv2+Pg4un84HEb3t20b3V9rrYeHh/HPuGR/fvoPgJ8mAvJEQJ4IyBMBeSIgTwTkiYA8EZAnAvJEQJ4IyBMBeSIgTwTkiYA8EZAnAvJEQJ4IyBMBeSIgTwTkXa3hu0O73W5yfn18fIzuPz09je7f39+P7q81/xvc3d2N7k/zEpAnAvJEQJ4IyBMBeSIgTwTkiYA8EZAnAvJEQJ4IyBMBeSIgTwTkiYA8EZAnAvJEQJ4IyBMBeSIgTwTk/Z3+gOmbN9u2je6fTqfR/ff399H9tdZ6e3sb3T8cDqP7Ly8vo/teAvJEQJ4IyBMBeSIgTwTkiYA8EZAnAvJEQJ4IyBMBeSIgTwTkiYA8EZAnAvJEQJ4IyBMBeSIgTwTkiYC88btD19fXo/vTd4emnc/n8c+Y/o6mf+NpXgLyRECeCMgTAXkiIE8E5ImAPBGQJwLyRECeCMgTAXkiIE8E5ImAPBGQJwLyRECeCMgTAXkiIE8E5ImAPBGQN358a/q41H6/H93/Db7jwNcl8xKQJwLyRECeCMgTAXkiIE8E5ImAPBGQJwLyRECeCMgTAXkiIE8E5ImAPBGQJwLyRECeCMgTAXkiIE8E5F383aHb29vR/d1uN7r/9fU1ur/W/He0bdvo/jQvAXkiIE8E5ImAPBGQJwLyRECeCMgTAXkiIE8E5ImAPBGQJwLyRECeCMgTAXkiIE8E5ImAPBGQJwLyREDe+N2h6Zs003d7Pj8/R/dPp9Po/lpr7ff70f3X19fR/WleAvJEQJ4IyBMBeSIgTwTkiYA8EZAnAvJEQJ4IyBMBeSIgTwTkiYA8EZAnAvJEQJ4IyBMBeSIgTwTkiYC88btD047H4+j+8/Pz6P75fB7dX2utm5ub0f3v+B8meQnIEwF5IiBPBOSJgDwRkCcC8kRAngjIEwF5IiBPBOSJgDwRkCcC8kRAngjIEwF5IiBPBOSJgDwRkCcC8v4DKpRIjk0n/jIAAAAASUVORK5CYII=\" y=\"-50.206293\"/>\n   </g>\n   <g id=\"matplotlib.axis_1\">\n    <g id=\"xtick_1\">\n     <g id=\"line2d_1\">\n      <defs>\n       <path d=\"M 0 0 \nL 0 3.5 \n\" id=\"mb4807147e5\" style=\"stroke:#000000;stroke-width:0.8;\"/>\n      </defs>\n      <g>\n       <use style=\"stroke:#000000;stroke-width:0.8;\" x=\"32.588362\" xlink:href=\"#mb4807147e5\" y=\"243.206293\"/>\n      </g>\n     </g>\n     <g id=\"text_1\">\n      <!-- 0 -->\n      <defs>\n       <path d=\"M 31.78125 66.40625 \nQ 24.171875 66.40625 20.328125 58.90625 \nQ 16.5 51.421875 16.5 36.375 \nQ 16.5 21.390625 20.328125 13.890625 \nQ 24.171875 6.390625 31.78125 6.390625 \nQ 39.453125 6.390625 43.28125 13.890625 \nQ 47.125 21.390625 47.125 36.375 \nQ 47.125 51.421875 43.28125 58.90625 \nQ 39.453125 66.40625 31.78125 66.40625 \nz\nM 31.78125 74.21875 \nQ 44.046875 74.21875 50.515625 64.515625 \nQ 56.984375 54.828125 56.984375 36.375 \nQ 56.984375 17.96875 50.515625 8.265625 \nQ 44.046875 -1.421875 31.78125 -1.421875 \nQ 19.53125 -1.421875 13.0625 8.265625 \nQ 6.59375 17.96875 6.59375 36.375 \nQ 6.59375 54.828125 13.0625 64.515625 \nQ 19.53125 74.21875 31.78125 74.21875 \nz\n\" id=\"DejaVuSans-48\"/>\n      </defs>\n      <g transform=\"translate(29.407112 257.804731)scale(0.1 -0.1)\">\n       <use xlink:href=\"#DejaVuSans-48\"/>\n      </g>\n     </g>\n    </g>\n    <g id=\"xtick_2\">\n     <g id=\"line2d_2\">\n      <g>\n       <use style=\"stroke:#000000;stroke-width:0.8;\" x=\"80.69181\" xlink:href=\"#mb4807147e5\" y=\"243.206293\"/>\n      </g>\n     </g>\n     <g id=\"text_2\">\n      <!-- 2 -->\n      <defs>\n       <path d=\"M 19.1875 8.296875 \nL 53.609375 8.296875 \nL 53.609375 0 \nL 7.328125 0 \nL 7.328125 8.296875 \nQ 12.9375 14.109375 22.625 23.890625 \nQ 32.328125 33.6875 34.8125 36.53125 \nQ 39.546875 41.84375 41.421875 45.53125 \nQ 43.3125 49.21875 43.3125 52.78125 \nQ 43.3125 58.59375 39.234375 62.25 \nQ 35.15625 65.921875 28.609375 65.921875 \nQ 23.96875 65.921875 18.8125 64.3125 \nQ 13.671875 62.703125 7.8125 59.421875 \nL 7.8125 69.390625 \nQ 13.765625 71.78125 18.9375 73 \nQ 24.125 74.21875 28.421875 74.21875 \nQ 39.75 74.21875 46.484375 68.546875 \nQ 53.21875 62.890625 53.21875 53.421875 \nQ 53.21875 48.921875 51.53125 44.890625 \nQ 49.859375 40.875 45.40625 35.40625 \nQ 44.1875 33.984375 37.640625 27.21875 \nQ 31.109375 20.453125 19.1875 8.296875 \nz\n\" id=\"DejaVuSans-50\"/>\n      </defs>\n      <g transform=\"translate(77.51056 257.804731)scale(0.1 -0.1)\">\n       <use xlink:href=\"#DejaVuSans-50\"/>\n      </g>\n     </g>\n    </g>\n    <g id=\"xtick_3\">\n     <g id=\"line2d_3\">\n      <g>\n       <use style=\"stroke:#000000;stroke-width:0.8;\" x=\"128.795259\" xlink:href=\"#mb4807147e5\" y=\"243.206293\"/>\n      </g>\n     </g>\n     <g id=\"text_3\">\n      <!-- 4 -->\n      <defs>\n       <path d=\"M 37.796875 64.3125 \nL 12.890625 25.390625 \nL 37.796875 25.390625 \nz\nM 35.203125 72.90625 \nL 47.609375 72.90625 \nL 47.609375 25.390625 \nL 58.015625 25.390625 \nL 58.015625 17.1875 \nL 47.609375 17.1875 \nL 47.609375 0 \nL 37.796875 0 \nL 37.796875 17.1875 \nL 4.890625 17.1875 \nL 4.890625 26.703125 \nz\n\" id=\"DejaVuSans-52\"/>\n      </defs>\n      <g transform=\"translate(125.614009 257.804731)scale(0.1 -0.1)\">\n       <use xlink:href=\"#DejaVuSans-52\"/>\n      </g>\n     </g>\n    </g>\n    <g id=\"xtick_4\">\n     <g id=\"line2d_4\">\n      <g>\n       <use style=\"stroke:#000000;stroke-width:0.8;\" x=\"176.898707\" xlink:href=\"#mb4807147e5\" y=\"243.206293\"/>\n      </g>\n     </g>\n     <g id=\"text_4\">\n      <!-- 6 -->\n      <defs>\n       <path d=\"M 33.015625 40.375 \nQ 26.375 40.375 22.484375 35.828125 \nQ 18.609375 31.296875 18.609375 23.390625 \nQ 18.609375 15.53125 22.484375 10.953125 \nQ 26.375 6.390625 33.015625 6.390625 \nQ 39.65625 6.390625 43.53125 10.953125 \nQ 47.40625 15.53125 47.40625 23.390625 \nQ 47.40625 31.296875 43.53125 35.828125 \nQ 39.65625 40.375 33.015625 40.375 \nz\nM 52.59375 71.296875 \nL 52.59375 62.3125 \nQ 48.875 64.0625 45.09375 64.984375 \nQ 41.3125 65.921875 37.59375 65.921875 \nQ 27.828125 65.921875 22.671875 59.328125 \nQ 17.53125 52.734375 16.796875 39.40625 \nQ 19.671875 43.65625 24.015625 45.921875 \nQ 28.375 48.1875 33.59375 48.1875 \nQ 44.578125 48.1875 50.953125 41.515625 \nQ 57.328125 34.859375 57.328125 23.390625 \nQ 57.328125 12.15625 50.6875 5.359375 \nQ 44.046875 -1.421875 33.015625 -1.421875 \nQ 20.359375 -1.421875 13.671875 8.265625 \nQ 6.984375 17.96875 6.984375 36.375 \nQ 6.984375 53.65625 15.1875 63.9375 \nQ 23.390625 74.21875 37.203125 74.21875 \nQ 40.921875 74.21875 44.703125 73.484375 \nQ 48.484375 72.75 52.59375 71.296875 \nz\n\" id=\"DejaVuSans-54\"/>\n      </defs>\n      <g transform=\"translate(173.717457 257.804731)scale(0.1 -0.1)\">\n       <use xlink:href=\"#DejaVuSans-54\"/>\n      </g>\n     </g>\n    </g>\n   </g>\n   <g id=\"matplotlib.axis_2\">\n    <g id=\"ytick_1\">\n     <g id=\"line2d_5\">\n      <defs>\n       <path d=\"M 0 0 \nL -3.5 0 \n\" id=\"m35e537eec8\" style=\"stroke:#000000;stroke-width:0.8;\"/>\n      </defs>\n      <g>\n       <use style=\"stroke:#000000;stroke-width:0.8;\" x=\"20.5625\" xlink:href=\"#m35e537eec8\" y=\"62.818362\"/>\n      </g>\n     </g>\n     <g id=\"text_5\">\n      <!-- 0 -->\n      <g transform=\"translate(7.2 66.617581)scale(0.1 -0.1)\">\n       <use xlink:href=\"#DejaVuSans-48\"/>\n      </g>\n     </g>\n    </g>\n    <g id=\"ytick_2\">\n     <g id=\"line2d_6\">\n      <g>\n       <use style=\"stroke:#000000;stroke-width:0.8;\" x=\"20.5625\" xlink:href=\"#m35e537eec8\" y=\"86.870086\"/>\n      </g>\n     </g>\n     <g id=\"text_6\">\n      <!-- 1 -->\n      <defs>\n       <path d=\"M 12.40625 8.296875 \nL 28.515625 8.296875 \nL 28.515625 63.921875 \nL 10.984375 60.40625 \nL 10.984375 69.390625 \nL 28.421875 72.90625 \nL 38.28125 72.90625 \nL 38.28125 8.296875 \nL 54.390625 8.296875 \nL 54.390625 0 \nL 12.40625 0 \nz\n\" id=\"DejaVuSans-49\"/>\n      </defs>\n      <g transform=\"translate(7.2 90.669305)scale(0.1 -0.1)\">\n       <use xlink:href=\"#DejaVuSans-49\"/>\n      </g>\n     </g>\n    </g>\n    <g id=\"ytick_3\">\n     <g id=\"line2d_7\">\n      <g>\n       <use style=\"stroke:#000000;stroke-width:0.8;\" x=\"20.5625\" xlink:href=\"#m35e537eec8\" y=\"110.92181\"/>\n      </g>\n     </g>\n     <g id=\"text_7\">\n      <!-- 2 -->\n      <g transform=\"translate(7.2 114.721029)scale(0.1 -0.1)\">\n       <use xlink:href=\"#DejaVuSans-50\"/>\n      </g>\n     </g>\n    </g>\n    <g id=\"ytick_4\">\n     <g id=\"line2d_8\">\n      <g>\n       <use style=\"stroke:#000000;stroke-width:0.8;\" x=\"20.5625\" xlink:href=\"#m35e537eec8\" y=\"134.973534\"/>\n      </g>\n     </g>\n     <g id=\"text_8\">\n      <!-- 3 -->\n      <defs>\n       <path d=\"M 40.578125 39.3125 \nQ 47.65625 37.796875 51.625 33 \nQ 55.609375 28.21875 55.609375 21.1875 \nQ 55.609375 10.40625 48.1875 4.484375 \nQ 40.765625 -1.421875 27.09375 -1.421875 \nQ 22.515625 -1.421875 17.65625 -0.515625 \nQ 12.796875 0.390625 7.625 2.203125 \nL 7.625 11.71875 \nQ 11.71875 9.328125 16.59375 8.109375 \nQ 21.484375 6.890625 26.8125 6.890625 \nQ 36.078125 6.890625 40.9375 10.546875 \nQ 45.796875 14.203125 45.796875 21.1875 \nQ 45.796875 27.640625 41.28125 31.265625 \nQ 36.765625 34.90625 28.71875 34.90625 \nL 20.21875 34.90625 \nL 20.21875 43.015625 \nL 29.109375 43.015625 \nQ 36.375 43.015625 40.234375 45.921875 \nQ 44.09375 48.828125 44.09375 54.296875 \nQ 44.09375 59.90625 40.109375 62.90625 \nQ 36.140625 65.921875 28.71875 65.921875 \nQ 24.65625 65.921875 20.015625 65.03125 \nQ 15.375 64.15625 9.8125 62.3125 \nL 9.8125 71.09375 \nQ 15.4375 72.65625 20.34375 73.4375 \nQ 25.25 74.21875 29.59375 74.21875 \nQ 40.828125 74.21875 47.359375 69.109375 \nQ 53.90625 64.015625 53.90625 55.328125 \nQ 53.90625 49.265625 50.4375 45.09375 \nQ 46.96875 40.921875 40.578125 39.3125 \nz\n\" id=\"DejaVuSans-51\"/>\n      </defs>\n      <g transform=\"translate(7.2 138.772753)scale(0.1 -0.1)\">\n       <use xlink:href=\"#DejaVuSans-51\"/>\n      </g>\n     </g>\n    </g>\n    <g id=\"ytick_5\">\n     <g id=\"line2d_9\">\n      <g>\n       <use style=\"stroke:#000000;stroke-width:0.8;\" x=\"20.5625\" xlink:href=\"#m35e537eec8\" y=\"159.025259\"/>\n      </g>\n     </g>\n     <g id=\"text_9\">\n      <!-- 4 -->\n      <g transform=\"translate(7.2 162.824477)scale(0.1 -0.1)\">\n       <use xlink:href=\"#DejaVuSans-52\"/>\n      </g>\n     </g>\n    </g>\n    <g id=\"ytick_6\">\n     <g id=\"line2d_10\">\n      <g>\n       <use style=\"stroke:#000000;stroke-width:0.8;\" x=\"20.5625\" xlink:href=\"#m35e537eec8\" y=\"183.076983\"/>\n      </g>\n     </g>\n     <g id=\"text_10\">\n      <!-- 5 -->\n      <defs>\n       <path d=\"M 10.796875 72.90625 \nL 49.515625 72.90625 \nL 49.515625 64.59375 \nL 19.828125 64.59375 \nL 19.828125 46.734375 \nQ 21.96875 47.46875 24.109375 47.828125 \nQ 26.265625 48.1875 28.421875 48.1875 \nQ 40.625 48.1875 47.75 41.5 \nQ 54.890625 34.8125 54.890625 23.390625 \nQ 54.890625 11.625 47.5625 5.09375 \nQ 40.234375 -1.421875 26.90625 -1.421875 \nQ 22.3125 -1.421875 17.546875 -0.640625 \nQ 12.796875 0.140625 7.71875 1.703125 \nL 7.71875 11.625 \nQ 12.109375 9.234375 16.796875 8.0625 \nQ 21.484375 6.890625 26.703125 6.890625 \nQ 35.15625 6.890625 40.078125 11.328125 \nQ 45.015625 15.765625 45.015625 23.390625 \nQ 45.015625 31 40.078125 35.4375 \nQ 35.15625 39.890625 26.703125 39.890625 \nQ 22.75 39.890625 18.8125 39.015625 \nQ 14.890625 38.140625 10.796875 36.28125 \nz\n\" id=\"DejaVuSans-53\"/>\n      </defs>\n      <g transform=\"translate(7.2 186.876202)scale(0.1 -0.1)\">\n       <use xlink:href=\"#DejaVuSans-53\"/>\n      </g>\n     </g>\n    </g>\n    <g id=\"ytick_7\">\n     <g id=\"line2d_11\">\n      <g>\n       <use style=\"stroke:#000000;stroke-width:0.8;\" x=\"20.5625\" xlink:href=\"#m35e537eec8\" y=\"207.128707\"/>\n      </g>\n     </g>\n     <g id=\"text_11\">\n      <!-- 6 -->\n      <g transform=\"translate(7.2 210.927926)scale(0.1 -0.1)\">\n       <use xlink:href=\"#DejaVuSans-54\"/>\n      </g>\n     </g>\n    </g>\n    <g id=\"ytick_8\">\n     <g id=\"line2d_12\">\n      <g>\n       <use style=\"stroke:#000000;stroke-width:0.8;\" x=\"20.5625\" xlink:href=\"#m35e537eec8\" y=\"231.180431\"/>\n      </g>\n     </g>\n     <g id=\"text_12\">\n      <!-- 7 -->\n      <defs>\n       <path d=\"M 8.203125 72.90625 \nL 55.078125 72.90625 \nL 55.078125 68.703125 \nL 28.609375 0 \nL 18.3125 0 \nL 43.21875 64.59375 \nL 8.203125 64.59375 \nz\n\" id=\"DejaVuSans-55\"/>\n      </defs>\n      <g transform=\"translate(7.2 234.97965)scale(0.1 -0.1)\">\n       <use xlink:href=\"#DejaVuSans-55\"/>\n      </g>\n     </g>\n    </g>\n   </g>\n   <g id=\"patch_3\">\n    <path d=\"M 20.5625 243.206293 \nL 20.5625 50.7925 \n\" style=\"fill:none;stroke:#000000;stroke-linecap:square;stroke-linejoin:miter;stroke-width:0.8;\"/>\n   </g>\n   <g id=\"patch_4\">\n    <path d=\"M 212.976293 243.206293 \nL 212.976293 50.7925 \n\" style=\"fill:none;stroke:#000000;stroke-linecap:square;stroke-linejoin:miter;stroke-width:0.8;\"/>\n   </g>\n   <g id=\"patch_5\">\n    <path d=\"M 20.5625 243.206293 \nL 212.976293 243.206293 \n\" style=\"fill:none;stroke:#000000;stroke-linecap:square;stroke-linejoin:miter;stroke-width:0.8;\"/>\n   </g>\n   <g id=\"patch_6\">\n    <path d=\"M 20.5625 50.7925 \nL 212.976293 50.7925 \n\" style=\"fill:none;stroke:#000000;stroke-linecap:square;stroke-linejoin:miter;stroke-width:0.8;\"/>\n   </g>\n   <g id=\"text_13\">\n    <!-- Training data: 0 -->\n    <defs>\n     <path d=\"M -0.296875 72.90625 \nL 61.375 72.90625 \nL 61.375 64.59375 \nL 35.5 64.59375 \nL 35.5 0 \nL 25.59375 0 \nL 25.59375 64.59375 \nL -0.296875 64.59375 \nz\n\" id=\"DejaVuSans-84\"/>\n     <path d=\"M 41.109375 46.296875 \nQ 39.59375 47.171875 37.8125 47.578125 \nQ 36.03125 48 33.890625 48 \nQ 26.265625 48 22.1875 43.046875 \nQ 18.109375 38.09375 18.109375 28.8125 \nL 18.109375 0 \nL 9.078125 0 \nL 9.078125 54.6875 \nL 18.109375 54.6875 \nL 18.109375 46.1875 \nQ 20.953125 51.171875 25.484375 53.578125 \nQ 30.03125 56 36.53125 56 \nQ 37.453125 56 38.578125 55.875 \nQ 39.703125 55.765625 41.0625 55.515625 \nz\n\" id=\"DejaVuSans-114\"/>\n     <path d=\"M 34.28125 27.484375 \nQ 23.390625 27.484375 19.1875 25 \nQ 14.984375 22.515625 14.984375 16.5 \nQ 14.984375 11.71875 18.140625 8.90625 \nQ 21.296875 6.109375 26.703125 6.109375 \nQ 34.1875 6.109375 38.703125 11.40625 \nQ 43.21875 16.703125 43.21875 25.484375 \nL 43.21875 27.484375 \nz\nM 52.203125 31.203125 \nL 52.203125 0 \nL 43.21875 0 \nL 43.21875 8.296875 \nQ 40.140625 3.328125 35.546875 0.953125 \nQ 30.953125 -1.421875 24.3125 -1.421875 \nQ 15.921875 -1.421875 10.953125 3.296875 \nQ 6 8.015625 6 15.921875 \nQ 6 25.140625 12.171875 29.828125 \nQ 18.359375 34.515625 30.609375 34.515625 \nL 43.21875 34.515625 \nL 43.21875 35.40625 \nQ 43.21875 41.609375 39.140625 45 \nQ 35.0625 48.390625 27.6875 48.390625 \nQ 23 48.390625 18.546875 47.265625 \nQ 14.109375 46.140625 10.015625 43.890625 \nL 10.015625 52.203125 \nQ 14.9375 54.109375 19.578125 55.046875 \nQ 24.21875 56 28.609375 56 \nQ 40.484375 56 46.34375 49.84375 \nQ 52.203125 43.703125 52.203125 31.203125 \nz\n\" id=\"DejaVuSans-97\"/>\n     <path d=\"M 9.421875 54.6875 \nL 18.40625 54.6875 \nL 18.40625 0 \nL 9.421875 0 \nz\nM 9.421875 75.984375 \nL 18.40625 75.984375 \nL 18.40625 64.59375 \nL 9.421875 64.59375 \nz\n\" id=\"DejaVuSans-105\"/>\n     <path d=\"M 54.890625 33.015625 \nL 54.890625 0 \nL 45.90625 0 \nL 45.90625 32.71875 \nQ 45.90625 40.484375 42.875 44.328125 \nQ 39.84375 48.1875 33.796875 48.1875 \nQ 26.515625 48.1875 22.3125 43.546875 \nQ 18.109375 38.921875 18.109375 30.90625 \nL 18.109375 0 \nL 9.078125 0 \nL 9.078125 54.6875 \nL 18.109375 54.6875 \nL 18.109375 46.1875 \nQ 21.34375 51.125 25.703125 53.5625 \nQ 30.078125 56 35.796875 56 \nQ 45.21875 56 50.046875 50.171875 \nQ 54.890625 44.34375 54.890625 33.015625 \nz\n\" id=\"DejaVuSans-110\"/>\n     <path d=\"M 45.40625 27.984375 \nQ 45.40625 37.75 41.375 43.109375 \nQ 37.359375 48.484375 30.078125 48.484375 \nQ 22.859375 48.484375 18.828125 43.109375 \nQ 14.796875 37.75 14.796875 27.984375 \nQ 14.796875 18.265625 18.828125 12.890625 \nQ 22.859375 7.515625 30.078125 7.515625 \nQ 37.359375 7.515625 41.375 12.890625 \nQ 45.40625 18.265625 45.40625 27.984375 \nz\nM 54.390625 6.78125 \nQ 54.390625 -7.171875 48.1875 -13.984375 \nQ 42 -20.796875 29.203125 -20.796875 \nQ 24.46875 -20.796875 20.265625 -20.09375 \nQ 16.0625 -19.390625 12.109375 -17.921875 \nL 12.109375 -9.1875 \nQ 16.0625 -11.328125 19.921875 -12.34375 \nQ 23.78125 -13.375 27.78125 -13.375 \nQ 36.625 -13.375 41.015625 -8.765625 \nQ 45.40625 -4.15625 45.40625 5.171875 \nL 45.40625 9.625 \nQ 42.625 4.78125 38.28125 2.390625 \nQ 33.9375 0 27.875 0 \nQ 17.828125 0 11.671875 7.65625 \nQ 5.515625 15.328125 5.515625 27.984375 \nQ 5.515625 40.671875 11.671875 48.328125 \nQ 17.828125 56 27.875 56 \nQ 33.9375 56 38.28125 53.609375 \nQ 42.625 51.21875 45.40625 46.390625 \nL 45.40625 54.6875 \nL 54.390625 54.6875 \nz\n\" id=\"DejaVuSans-103\"/>\n     <path id=\"DejaVuSans-32\"/>\n     <path d=\"M 45.40625 46.390625 \nL 45.40625 75.984375 \nL 54.390625 75.984375 \nL 54.390625 0 \nL 45.40625 0 \nL 45.40625 8.203125 \nQ 42.578125 3.328125 38.25 0.953125 \nQ 33.9375 -1.421875 27.875 -1.421875 \nQ 17.96875 -1.421875 11.734375 6.484375 \nQ 5.515625 14.40625 5.515625 27.296875 \nQ 5.515625 40.1875 11.734375 48.09375 \nQ 17.96875 56 27.875 56 \nQ 33.9375 56 38.25 53.625 \nQ 42.578125 51.265625 45.40625 46.390625 \nz\nM 14.796875 27.296875 \nQ 14.796875 17.390625 18.875 11.75 \nQ 22.953125 6.109375 30.078125 6.109375 \nQ 37.203125 6.109375 41.296875 11.75 \nQ 45.40625 17.390625 45.40625 27.296875 \nQ 45.40625 37.203125 41.296875 42.84375 \nQ 37.203125 48.484375 30.078125 48.484375 \nQ 22.953125 48.484375 18.875 42.84375 \nQ 14.796875 37.203125 14.796875 27.296875 \nz\n\" id=\"DejaVuSans-100\"/>\n     <path d=\"M 18.3125 70.21875 \nL 18.3125 54.6875 \nL 36.8125 54.6875 \nL 36.8125 47.703125 \nL 18.3125 47.703125 \nL 18.3125 18.015625 \nQ 18.3125 11.328125 20.140625 9.421875 \nQ 21.96875 7.515625 27.59375 7.515625 \nL 36.8125 7.515625 \nL 36.8125 0 \nL 27.59375 0 \nQ 17.1875 0 13.234375 3.875 \nQ 9.28125 7.765625 9.28125 18.015625 \nL 9.28125 47.703125 \nL 2.6875 47.703125 \nL 2.6875 54.6875 \nL 9.28125 54.6875 \nL 9.28125 70.21875 \nz\n\" id=\"DejaVuSans-116\"/>\n     <path d=\"M 11.71875 12.40625 \nL 22.015625 12.40625 \nL 22.015625 0 \nL 11.71875 0 \nz\nM 11.71875 51.703125 \nL 22.015625 51.703125 \nL 22.015625 39.3125 \nL 11.71875 39.3125 \nz\n\" id=\"DejaVuSans-58\"/>\n    </defs>\n    <g transform=\"translate(37.252209 22.396875)scale(0.2 -0.2)\">\n     <use xlink:href=\"#DejaVuSans-84\"/>\n     <use x=\"60.865234\" xlink:href=\"#DejaVuSans-114\"/>\n     <use x=\"101.978516\" xlink:href=\"#DejaVuSans-97\"/>\n     <use x=\"163.257812\" xlink:href=\"#DejaVuSans-105\"/>\n     <use x=\"191.041016\" xlink:href=\"#DejaVuSans-110\"/>\n     <use x=\"254.419922\" xlink:href=\"#DejaVuSans-105\"/>\n     <use x=\"282.203125\" xlink:href=\"#DejaVuSans-110\"/>\n     <use x=\"345.582031\" xlink:href=\"#DejaVuSans-103\"/>\n     <use x=\"409.058594\" xlink:href=\"#DejaVuSans-32\"/>\n     <use x=\"440.845703\" xlink:href=\"#DejaVuSans-100\"/>\n     <use x=\"504.322266\" xlink:href=\"#DejaVuSans-97\"/>\n     <use x=\"565.601562\" xlink:href=\"#DejaVuSans-116\"/>\n     <use x=\"604.810547\" xlink:href=\"#DejaVuSans-97\"/>\n     <use x=\"666.089844\" xlink:href=\"#DejaVuSans-58\"/>\n     <use x=\"699.78125\" xlink:href=\"#DejaVuSans-32\"/>\n     <use x=\"731.568359\" xlink:href=\"#DejaVuSans-48\"/>\n    </g>\n    <!--  -->\n    <g transform=\"translate(116.769397 44.7925)scale(0.2 -0.2)\"/>\n   </g>\n  </g>\n  <g id=\"axes_2\">\n   <g id=\"patch_7\">\n    <path d=\"M 251.459052 243.206293 \nL 443.872845 243.206293 \nL 443.872845 50.7925 \nL 251.459052 50.7925 \nz\n\" style=\"fill:#ffffff;\"/>\n   </g>\n   <g clip-path=\"url(#p0bac673ac3)\">\n    <image height=\"193\" id=\"imageaaf7141f6a\" transform=\"scale(1 -1)translate(0 -193)\" width=\"193\" x=\"251.459052\" xlink:href=\"data:image/png;base64,\niVBORw0KGgoAAAANSUhEUgAAAMEAAADBCAYAAAB2QtScAAAABHNCSVQICAgIfAhkiAAAAspJREFUeJzt3EFRY1EURdFHV+ZECk5iIThAAlKIgzhIJCRO4gAU9Ii6/aH3WgLOv5Ndb/af1lqfi786n8+j+4fDYXR/rbVOp9Po/vF4HN2f9mfrA2BrIiBPBOSJgDwRkCcC8kRAngjIEwF5IiBPBOSJgDwRkCcC8kRAngjIEwF5IiBPBOSJgDwRkCcC8kRA3m7rA75rv9+P7v+L/wJNu16vW5/wo3kJyBMBeSIgTwTkiYA8EZAnAvJEQJ4IyBMBeSIgTwTkiYA8EZAnAvJEQJ4IyBMBeSIgTwTkiYA8EZAnAvJEQJ4IyBMBeSIgTwTkiYA8EZAnAvJEQJ4IyBMBeSIgTwTkiYA8EZAnAvJEQJ4IyBMBeSIgTwTkiYA8EZAnAvJ2Wx/AvNvttvUJP5qXgDwRkCcC8kRAngjIEwF5IiBPBOSJgDwRkCcC8kRAngjIEwF5IiBPBOSJgDwRkCcC8kRAngjIEwF5IiBPBOSN/3zr7e1tdP/9/X10/3/weDy2PuFH8xKQJwLyRECeCMgTAXkiIE8E5ImAPBGQJwLyRECeCMgTAXkiIE8E5ImAPBGQJwLyRECeCMgTAXkiIE8E5D2ttT63PuI7Xl5eRvev1+vo/vPz8+j+Wmu9vr6O7n98fIzuT/MSkCcC8kRAngjIEwF5IiBPBOSJgDwRkCcC8kRAngjIEwF5IiBPBOSJgDwRkCcC8kRAngjIEwF5IiBPBOTttj7gu2632+j+9H+HDofD6P5a8/9m+u28BOSJgDwRkCcC8kRAngjIEwF5IiBPBOSJgDwRkCcC8kRAngjIEwF5IiBPBOSJgDwRkCcC8kRAngjIEwF5v/6/Q9P2+/3o/v1+H91fa63L5TL+jd/MS0CeCMgTAXkiIE8E5ImAPBGQJwLyRECeCMgTAXkiIE8E5ImAPBGQJwLyRECeCMgTAXkiIE8E5ImAPBGQ9wV2/CYD/EpWNAAAAABJRU5ErkJggg==\" y=\"-50.206293\"/>\n   </g>\n   <g id=\"matplotlib.axis_3\">\n    <g id=\"xtick_5\">\n     <g id=\"line2d_13\">\n      <g>\n       <use style=\"stroke:#000000;stroke-width:0.8;\" x=\"263.484914\" xlink:href=\"#mb4807147e5\" y=\"243.206293\"/>\n      </g>\n     </g>\n     <g id=\"text_14\">\n      <!-- 0 -->\n      <g transform=\"translate(260.303664 257.804731)scale(0.1 -0.1)\">\n       <use xlink:href=\"#DejaVuSans-48\"/>\n      </g>\n     </g>\n    </g>\n    <g id=\"xtick_6\">\n     <g id=\"line2d_14\">\n      <g>\n       <use style=\"stroke:#000000;stroke-width:0.8;\" x=\"311.588362\" xlink:href=\"#mb4807147e5\" y=\"243.206293\"/>\n      </g>\n     </g>\n     <g id=\"text_15\">\n      <!-- 2 -->\n      <g transform=\"translate(308.407112 257.804731)scale(0.1 -0.1)\">\n       <use xlink:href=\"#DejaVuSans-50\"/>\n      </g>\n     </g>\n    </g>\n    <g id=\"xtick_7\">\n     <g id=\"line2d_15\">\n      <g>\n       <use style=\"stroke:#000000;stroke-width:0.8;\" x=\"359.69181\" xlink:href=\"#mb4807147e5\" y=\"243.206293\"/>\n      </g>\n     </g>\n     <g id=\"text_16\">\n      <!-- 4 -->\n      <g transform=\"translate(356.51056 257.804731)scale(0.1 -0.1)\">\n       <use xlink:href=\"#DejaVuSans-52\"/>\n      </g>\n     </g>\n    </g>\n    <g id=\"xtick_8\">\n     <g id=\"line2d_16\">\n      <g>\n       <use style=\"stroke:#000000;stroke-width:0.8;\" x=\"407.795259\" xlink:href=\"#mb4807147e5\" y=\"243.206293\"/>\n      </g>\n     </g>\n     <g id=\"text_17\">\n      <!-- 6 -->\n      <g transform=\"translate(404.614009 257.804731)scale(0.1 -0.1)\">\n       <use xlink:href=\"#DejaVuSans-54\"/>\n      </g>\n     </g>\n    </g>\n   </g>\n   <g id=\"matplotlib.axis_4\">\n    <g id=\"ytick_9\">\n     <g id=\"line2d_17\">\n      <g>\n       <use style=\"stroke:#000000;stroke-width:0.8;\" x=\"251.459052\" xlink:href=\"#m35e537eec8\" y=\"62.818362\"/>\n      </g>\n     </g>\n     <g id=\"text_18\">\n      <!-- 0 -->\n      <g transform=\"translate(238.096552 66.617581)scale(0.1 -0.1)\">\n       <use xlink:href=\"#DejaVuSans-48\"/>\n      </g>\n     </g>\n    </g>\n    <g id=\"ytick_10\">\n     <g id=\"line2d_18\">\n      <g>\n       <use style=\"stroke:#000000;stroke-width:0.8;\" x=\"251.459052\" xlink:href=\"#m35e537eec8\" y=\"86.870086\"/>\n      </g>\n     </g>\n     <g id=\"text_19\">\n      <!-- 1 -->\n      <g transform=\"translate(238.096552 90.669305)scale(0.1 -0.1)\">\n       <use xlink:href=\"#DejaVuSans-49\"/>\n      </g>\n     </g>\n    </g>\n    <g id=\"ytick_11\">\n     <g id=\"line2d_19\">\n      <g>\n       <use style=\"stroke:#000000;stroke-width:0.8;\" x=\"251.459052\" xlink:href=\"#m35e537eec8\" y=\"110.92181\"/>\n      </g>\n     </g>\n     <g id=\"text_20\">\n      <!-- 2 -->\n      <g transform=\"translate(238.096552 114.721029)scale(0.1 -0.1)\">\n       <use xlink:href=\"#DejaVuSans-50\"/>\n      </g>\n     </g>\n    </g>\n    <g id=\"ytick_12\">\n     <g id=\"line2d_20\">\n      <g>\n       <use style=\"stroke:#000000;stroke-width:0.8;\" x=\"251.459052\" xlink:href=\"#m35e537eec8\" y=\"134.973534\"/>\n      </g>\n     </g>\n     <g id=\"text_21\">\n      <!-- 3 -->\n      <g transform=\"translate(238.096552 138.772753)scale(0.1 -0.1)\">\n       <use xlink:href=\"#DejaVuSans-51\"/>\n      </g>\n     </g>\n    </g>\n    <g id=\"ytick_13\">\n     <g id=\"line2d_21\">\n      <g>\n       <use style=\"stroke:#000000;stroke-width:0.8;\" x=\"251.459052\" xlink:href=\"#m35e537eec8\" y=\"159.025259\"/>\n      </g>\n     </g>\n     <g id=\"text_22\">\n      <!-- 4 -->\n      <g transform=\"translate(238.096552 162.824477)scale(0.1 -0.1)\">\n       <use xlink:href=\"#DejaVuSans-52\"/>\n      </g>\n     </g>\n    </g>\n    <g id=\"ytick_14\">\n     <g id=\"line2d_22\">\n      <g>\n       <use style=\"stroke:#000000;stroke-width:0.8;\" x=\"251.459052\" xlink:href=\"#m35e537eec8\" y=\"183.076983\"/>\n      </g>\n     </g>\n     <g id=\"text_23\">\n      <!-- 5 -->\n      <g transform=\"translate(238.096552 186.876202)scale(0.1 -0.1)\">\n       <use xlink:href=\"#DejaVuSans-53\"/>\n      </g>\n     </g>\n    </g>\n    <g id=\"ytick_15\">\n     <g id=\"line2d_23\">\n      <g>\n       <use style=\"stroke:#000000;stroke-width:0.8;\" x=\"251.459052\" xlink:href=\"#m35e537eec8\" y=\"207.128707\"/>\n      </g>\n     </g>\n     <g id=\"text_24\">\n      <!-- 6 -->\n      <g transform=\"translate(238.096552 210.927926)scale(0.1 -0.1)\">\n       <use xlink:href=\"#DejaVuSans-54\"/>\n      </g>\n     </g>\n    </g>\n    <g id=\"ytick_16\">\n     <g id=\"line2d_24\">\n      <g>\n       <use style=\"stroke:#000000;stroke-width:0.8;\" x=\"251.459052\" xlink:href=\"#m35e537eec8\" y=\"231.180431\"/>\n      </g>\n     </g>\n     <g id=\"text_25\">\n      <!-- 7 -->\n      <g transform=\"translate(238.096552 234.97965)scale(0.1 -0.1)\">\n       <use xlink:href=\"#DejaVuSans-55\"/>\n      </g>\n     </g>\n    </g>\n   </g>\n   <g id=\"patch_8\">\n    <path d=\"M 251.459052 243.206293 \nL 251.459052 50.7925 \n\" style=\"fill:none;stroke:#000000;stroke-linecap:square;stroke-linejoin:miter;stroke-width:0.8;\"/>\n   </g>\n   <g id=\"patch_9\">\n    <path d=\"M 443.872845 243.206293 \nL 443.872845 50.7925 \n\" style=\"fill:none;stroke:#000000;stroke-linecap:square;stroke-linejoin:miter;stroke-width:0.8;\"/>\n   </g>\n   <g id=\"patch_10\">\n    <path d=\"M 251.459052 243.206293 \nL 443.872845 243.206293 \n\" style=\"fill:none;stroke:#000000;stroke-linecap:square;stroke-linejoin:miter;stroke-width:0.8;\"/>\n   </g>\n   <g id=\"patch_11\">\n    <path d=\"M 251.459052 50.7925 \nL 443.872845 50.7925 \n\" style=\"fill:none;stroke:#000000;stroke-linecap:square;stroke-linejoin:miter;stroke-width:0.8;\"/>\n   </g>\n   <g id=\"text_26\">\n    <!-- Training data: 1 -->\n    <g transform=\"translate(268.148761 22.396875)scale(0.2 -0.2)\">\n     <use xlink:href=\"#DejaVuSans-84\"/>\n     <use x=\"60.865234\" xlink:href=\"#DejaVuSans-114\"/>\n     <use x=\"101.978516\" xlink:href=\"#DejaVuSans-97\"/>\n     <use x=\"163.257812\" xlink:href=\"#DejaVuSans-105\"/>\n     <use x=\"191.041016\" xlink:href=\"#DejaVuSans-110\"/>\n     <use x=\"254.419922\" xlink:href=\"#DejaVuSans-105\"/>\n     <use x=\"282.203125\" xlink:href=\"#DejaVuSans-110\"/>\n     <use x=\"345.582031\" xlink:href=\"#DejaVuSans-103\"/>\n     <use x=\"409.058594\" xlink:href=\"#DejaVuSans-32\"/>\n     <use x=\"440.845703\" xlink:href=\"#DejaVuSans-100\"/>\n     <use x=\"504.322266\" xlink:href=\"#DejaVuSans-97\"/>\n     <use x=\"565.601562\" xlink:href=\"#DejaVuSans-116\"/>\n     <use x=\"604.810547\" xlink:href=\"#DejaVuSans-97\"/>\n     <use x=\"666.089844\" xlink:href=\"#DejaVuSans-58\"/>\n     <use x=\"699.78125\" xlink:href=\"#DejaVuSans-32\"/>\n     <use x=\"731.568359\" xlink:href=\"#DejaVuSans-49\"/>\n    </g>\n    <!--  -->\n    <g transform=\"translate(347.665948 44.7925)scale(0.2 -0.2)\"/>\n   </g>\n  </g>\n  <g id=\"axes_3\">\n   <g id=\"patch_12\">\n    <path d=\"M 482.355603 243.206293 \nL 674.769397 243.206293 \nL 674.769397 50.7925 \nL 482.355603 50.7925 \nz\n\" style=\"fill:#ffffff;\"/>\n   </g>\n   <g clip-path=\"url(#pbd16a8f881)\">\n    <image height=\"193\" id=\"image492a7af51f\" transform=\"scale(1 -1)translate(0 -193)\" width=\"193\" x=\"482.355603\" xlink:href=\"data:image/png;base64,\niVBORw0KGgoAAAANSUhEUgAAAMEAAADBCAYAAAB2QtScAAAABHNCSVQICAgIfAhkiAAAAxBJREFUeJzt3FFNo1EURtHbCQKQUAfUAgpAAhLqgEooDpBQFIADkICEooBRME+TA2n2WgK+v2myc9/OZq31vfin3W43un84HEb311rr7u5udP/p6Wl0f7/fj+7/GV2HCyAC8kRAngjIEwF5IiBPBOSJgDwRkCcC8kRAngjIEwF5IiBPBOSJgDwRkCcC8kRAngjIEwF5IiBPBORdTX9g+m7P8/Pz6P7Nzc3o/k94eXkZ3X99fR3dn+YlIE8E5ImAPBGQJwLyRECeCMgTAXkiIE8E5ImAPBGQJwLyRECeCMgTAXkiIE8E5ImAPBGQJwLyRECeCMgbvzv08PAwun/pd4Hu7+/HvzF9d+jSeQnIEwF5IiBPBOSJgDwRkCcC8kRAngjIEwF5IiBPBOSJgDwRkCcC8kRAngjIEwF5IiBPBOSJgDwRkCcC8jZrre/JD1xfX0/Or/1+P7o/fRdou92O7v/EN87n8+j+NC8BeSIgTwTkiYA8EZAnAvJEQJ4IyBMBeSIgTwTkiYA8EZAnAvJEQJ4IyBMBeSIgTwTkiYA8EZAnAvJEQJ4IyBs/vjVt+rjX9PGt4/E4ur/WWm9vb6P70//RNC8BeSIgTwTkiYA8EZAnAvJEQJ4IyBMBeSIgTwTkiYA8EZAnAvJEQJ4IyBMBeSIgTwTkiYA8EZAnAvJEQN7F3x06HA6j+9M3dU6n0+j+Wms9Pj6O7m82m9H9aV4C8kRAngjIEwF5IiBPBOSJgDwRkCcC8kRAngjIEwF5IiBPBOSJgDwRkCcC8kRAngjIEwF5IiBPBOSJgLyLvzu02+1G99/f30f3v76+RvfXWut8Po/ub7fb0f1pXgLyRECeCMgTAXkiIE8E5ImAPBGQJwLyRECeCMgTAXkiIE8E5ImAPBGQJwLyRECeCMgTAXkiIE8E5ImAvKvf/gH/6+PjY3T/9vZ2dP90Oo3ur7XW5+fn+DcumZeAPBGQJwLyRECeCMgTAXkiIE8E5ImAPBGQJwLyRECeCMgTAXkiIE8E5ImAPBGQJwLyRECeCMgTAXkiIO8vOUw7X7aFmasAAAAASUVORK5CYII=\" y=\"-50.206293\"/>\n   </g>\n   <g id=\"matplotlib.axis_5\">\n    <g id=\"xtick_9\">\n     <g id=\"line2d_25\">\n      <g>\n       <use style=\"stroke:#000000;stroke-width:0.8;\" x=\"494.381466\" xlink:href=\"#mb4807147e5\" y=\"243.206293\"/>\n      </g>\n     </g>\n     <g id=\"text_27\">\n      <!-- 0 -->\n      <g transform=\"translate(491.200216 257.804731)scale(0.1 -0.1)\">\n       <use xlink:href=\"#DejaVuSans-48\"/>\n      </g>\n     </g>\n    </g>\n    <g id=\"xtick_10\">\n     <g id=\"line2d_26\">\n      <g>\n       <use style=\"stroke:#000000;stroke-width:0.8;\" x=\"542.484914\" xlink:href=\"#mb4807147e5\" y=\"243.206293\"/>\n      </g>\n     </g>\n     <g id=\"text_28\">\n      <!-- 2 -->\n      <g transform=\"translate(539.303664 257.804731)scale(0.1 -0.1)\">\n       <use xlink:href=\"#DejaVuSans-50\"/>\n      </g>\n     </g>\n    </g>\n    <g id=\"xtick_11\">\n     <g id=\"line2d_27\">\n      <g>\n       <use style=\"stroke:#000000;stroke-width:0.8;\" x=\"590.588362\" xlink:href=\"#mb4807147e5\" y=\"243.206293\"/>\n      </g>\n     </g>\n     <g id=\"text_29\">\n      <!-- 4 -->\n      <g transform=\"translate(587.407112 257.804731)scale(0.1 -0.1)\">\n       <use xlink:href=\"#DejaVuSans-52\"/>\n      </g>\n     </g>\n    </g>\n    <g id=\"xtick_12\">\n     <g id=\"line2d_28\">\n      <g>\n       <use style=\"stroke:#000000;stroke-width:0.8;\" x=\"638.69181\" xlink:href=\"#mb4807147e5\" y=\"243.206293\"/>\n      </g>\n     </g>\n     <g id=\"text_30\">\n      <!-- 6 -->\n      <g transform=\"translate(635.51056 257.804731)scale(0.1 -0.1)\">\n       <use xlink:href=\"#DejaVuSans-54\"/>\n      </g>\n     </g>\n    </g>\n   </g>\n   <g id=\"matplotlib.axis_6\">\n    <g id=\"ytick_17\">\n     <g id=\"line2d_29\">\n      <g>\n       <use style=\"stroke:#000000;stroke-width:0.8;\" x=\"482.355603\" xlink:href=\"#m35e537eec8\" y=\"62.818362\"/>\n      </g>\n     </g>\n     <g id=\"text_31\">\n      <!-- 0 -->\n      <g transform=\"translate(468.993103 66.617581)scale(0.1 -0.1)\">\n       <use xlink:href=\"#DejaVuSans-48\"/>\n      </g>\n     </g>\n    </g>\n    <g id=\"ytick_18\">\n     <g id=\"line2d_30\">\n      <g>\n       <use style=\"stroke:#000000;stroke-width:0.8;\" x=\"482.355603\" xlink:href=\"#m35e537eec8\" y=\"86.870086\"/>\n      </g>\n     </g>\n     <g id=\"text_32\">\n      <!-- 1 -->\n      <g transform=\"translate(468.993103 90.669305)scale(0.1 -0.1)\">\n       <use xlink:href=\"#DejaVuSans-49\"/>\n      </g>\n     </g>\n    </g>\n    <g id=\"ytick_19\">\n     <g id=\"line2d_31\">\n      <g>\n       <use style=\"stroke:#000000;stroke-width:0.8;\" x=\"482.355603\" xlink:href=\"#m35e537eec8\" y=\"110.92181\"/>\n      </g>\n     </g>\n     <g id=\"text_33\">\n      <!-- 2 -->\n      <g transform=\"translate(468.993103 114.721029)scale(0.1 -0.1)\">\n       <use xlink:href=\"#DejaVuSans-50\"/>\n      </g>\n     </g>\n    </g>\n    <g id=\"ytick_20\">\n     <g id=\"line2d_32\">\n      <g>\n       <use style=\"stroke:#000000;stroke-width:0.8;\" x=\"482.355603\" xlink:href=\"#m35e537eec8\" y=\"134.973534\"/>\n      </g>\n     </g>\n     <g id=\"text_34\">\n      <!-- 3 -->\n      <g transform=\"translate(468.993103 138.772753)scale(0.1 -0.1)\">\n       <use xlink:href=\"#DejaVuSans-51\"/>\n      </g>\n     </g>\n    </g>\n    <g id=\"ytick_21\">\n     <g id=\"line2d_33\">\n      <g>\n       <use style=\"stroke:#000000;stroke-width:0.8;\" x=\"482.355603\" xlink:href=\"#m35e537eec8\" y=\"159.025259\"/>\n      </g>\n     </g>\n     <g id=\"text_35\">\n      <!-- 4 -->\n      <g transform=\"translate(468.993103 162.824477)scale(0.1 -0.1)\">\n       <use xlink:href=\"#DejaVuSans-52\"/>\n      </g>\n     </g>\n    </g>\n    <g id=\"ytick_22\">\n     <g id=\"line2d_34\">\n      <g>\n       <use style=\"stroke:#000000;stroke-width:0.8;\" x=\"482.355603\" xlink:href=\"#m35e537eec8\" y=\"183.076983\"/>\n      </g>\n     </g>\n     <g id=\"text_36\">\n      <!-- 5 -->\n      <g transform=\"translate(468.993103 186.876202)scale(0.1 -0.1)\">\n       <use xlink:href=\"#DejaVuSans-53\"/>\n      </g>\n     </g>\n    </g>\n    <g id=\"ytick_23\">\n     <g id=\"line2d_35\">\n      <g>\n       <use style=\"stroke:#000000;stroke-width:0.8;\" x=\"482.355603\" xlink:href=\"#m35e537eec8\" y=\"207.128707\"/>\n      </g>\n     </g>\n     <g id=\"text_37\">\n      <!-- 6 -->\n      <g transform=\"translate(468.993103 210.927926)scale(0.1 -0.1)\">\n       <use xlink:href=\"#DejaVuSans-54\"/>\n      </g>\n     </g>\n    </g>\n    <g id=\"ytick_24\">\n     <g id=\"line2d_36\">\n      <g>\n       <use style=\"stroke:#000000;stroke-width:0.8;\" x=\"482.355603\" xlink:href=\"#m35e537eec8\" y=\"231.180431\"/>\n      </g>\n     </g>\n     <g id=\"text_38\">\n      <!-- 7 -->\n      <g transform=\"translate(468.993103 234.97965)scale(0.1 -0.1)\">\n       <use xlink:href=\"#DejaVuSans-55\"/>\n      </g>\n     </g>\n    </g>\n   </g>\n   <g id=\"patch_13\">\n    <path d=\"M 482.355603 243.206293 \nL 482.355603 50.7925 \n\" style=\"fill:none;stroke:#000000;stroke-linecap:square;stroke-linejoin:miter;stroke-width:0.8;\"/>\n   </g>\n   <g id=\"patch_14\">\n    <path d=\"M 674.769397 243.206293 \nL 674.769397 50.7925 \n\" style=\"fill:none;stroke:#000000;stroke-linecap:square;stroke-linejoin:miter;stroke-width:0.8;\"/>\n   </g>\n   <g id=\"patch_15\">\n    <path d=\"M 482.355603 243.206293 \nL 674.769397 243.206293 \n\" style=\"fill:none;stroke:#000000;stroke-linecap:square;stroke-linejoin:miter;stroke-width:0.8;\"/>\n   </g>\n   <g id=\"patch_16\">\n    <path d=\"M 482.355603 50.7925 \nL 674.769397 50.7925 \n\" style=\"fill:none;stroke:#000000;stroke-linecap:square;stroke-linejoin:miter;stroke-width:0.8;\"/>\n   </g>\n   <g id=\"text_39\">\n    <!-- Training data: 2 -->\n    <g transform=\"translate(499.045313 22.396875)scale(0.2 -0.2)\">\n     <use xlink:href=\"#DejaVuSans-84\"/>\n     <use x=\"60.865234\" xlink:href=\"#DejaVuSans-114\"/>\n     <use x=\"101.978516\" xlink:href=\"#DejaVuSans-97\"/>\n     <use x=\"163.257812\" xlink:href=\"#DejaVuSans-105\"/>\n     <use x=\"191.041016\" xlink:href=\"#DejaVuSans-110\"/>\n     <use x=\"254.419922\" xlink:href=\"#DejaVuSans-105\"/>\n     <use x=\"282.203125\" xlink:href=\"#DejaVuSans-110\"/>\n     <use x=\"345.582031\" xlink:href=\"#DejaVuSans-103\"/>\n     <use x=\"409.058594\" xlink:href=\"#DejaVuSans-32\"/>\n     <use x=\"440.845703\" xlink:href=\"#DejaVuSans-100\"/>\n     <use x=\"504.322266\" xlink:href=\"#DejaVuSans-97\"/>\n     <use x=\"565.601562\" xlink:href=\"#DejaVuSans-116\"/>\n     <use x=\"604.810547\" xlink:href=\"#DejaVuSans-97\"/>\n     <use x=\"666.089844\" xlink:href=\"#DejaVuSans-58\"/>\n     <use x=\"699.78125\" xlink:href=\"#DejaVuSans-32\"/>\n     <use x=\"731.568359\" xlink:href=\"#DejaVuSans-50\"/>\n    </g>\n    <!--  -->\n    <g transform=\"translate(578.5625 44.7925)scale(0.2 -0.2)\"/>\n   </g>\n  </g>\n  <g id=\"axes_4\">\n   <g id=\"patch_17\">\n    <path d=\"M 713.252155 243.206293 \nL 905.665948 243.206293 \nL 905.665948 50.7925 \nL 713.252155 50.7925 \nz\n\" style=\"fill:#ffffff;\"/>\n   </g>\n   <g clip-path=\"url(#p85fa47b3f1)\">\n    <image height=\"193\" id=\"imagec067f3f6b5\" transform=\"scale(1 -1)translate(0 -193)\" width=\"193\" x=\"713.252155\" xlink:href=\"data:image/png;base64,\niVBORw0KGgoAAAANSUhEUgAAAMEAAADBCAYAAAB2QtScAAAABHNCSVQICAgIfAhkiAAAAwJJREFUeJzt3FFNa1EURdHDCwawgJYiASQUCa0FJFRLrwUkUAuVACLIpq+ZYwhYvYHMnL/9sNb6XnfscDiM7u/3+9H9v7Bt2+j++/v76P60f7f+ALg1EZAnAvJEQJ4IyBMBeSIgTwTkiYA8EZAnAvJEQJ4IyBMBeSIgTwTkiYA8EZAnAvJEQJ4IyBMBeSIg7/HWH/BbT09Po/vTN3Wmv3+ttU6n0/hvTJr+H3gJyBMBeSIgTwTkiYA8EZAnAvJEQJ4IyBMBeSIgTwTkiYA8EZAnAvJEQJ4IyBMBeSIgTwTkiYA8EZAnAvLu/u7Q8Xi89Sf8yl/cHdq2bXT/er2O7k/zEpAnAvJEQJ4IyBMBeSIgTwTkiYA8EZAnAvJEQJ4IyBMBeSIgTwTkiYA8EZAnAvJEQJ4IyBMBeSIgTwTkPay1vm/9Ef+z6btA5/N5dP8vvLy8jO5P3zXyEpAnAvJEQJ4IyBMBeSIgTwTkiYA8EZAnAvJEQJ4IyBMBeSIgTwTkiYA8EZAnAvJEQJ4IyBMBeSIgTwTkiYC8x1t/wG89Pz+P7n99fY3ub9s2ur/WWm9vb6P708expnkJyBMBeSIgTwTkiYA8EZAnAvJEQJ4IyBMBeSIgTwTkiYA8EZAnAvJEQJ4IyBMBeSIgTwTkiYA8EZAnAvLG7w5N3wWavnlzuVxG96f/Pmvd/12gaV4C8kRAngjIEwF5IiBPBOSJgDwRkCcC8kRAngjIEwF5IiBPBOSJgDwRkCcC8kRAngjIEwF5IiBPBOSJgLzxu0P7/X50//X1dXT/4+NjdP90Oo3ur7XWbrcb3d+2bXR/mpeAPBGQJwLyRECeCMgTAXkiIE8E5ImAPBGQJwLyRECeCMgTAXkiIE8E5ImAPBGQJwLyRECeCMgTAXkiIG/87tDxeBzdv16vo/vTd4Eul8vo/lprfX5+jv/GPfMSkCcC8kRAngjIEwF5IiBPBOSJgDwRkCcC8kRAngjIEwF5IiBPBOSJgDwRkCcC8kRAngjIEwF5IiBPBOT9ANgIQFqKLua1AAAAAElFTkSuQmCC\" y=\"-50.206293\"/>\n   </g>\n   <g id=\"matplotlib.axis_7\">\n    <g id=\"xtick_13\">\n     <g id=\"line2d_37\">\n      <g>\n       <use style=\"stroke:#000000;stroke-width:0.8;\" x=\"725.278017\" xlink:href=\"#mb4807147e5\" y=\"243.206293\"/>\n      </g>\n     </g>\n     <g id=\"text_40\">\n      <!-- 0 -->\n      <g transform=\"translate(722.096767 257.804731)scale(0.1 -0.1)\">\n       <use xlink:href=\"#DejaVuSans-48\"/>\n      </g>\n     </g>\n    </g>\n    <g id=\"xtick_14\">\n     <g id=\"line2d_38\">\n      <g>\n       <use style=\"stroke:#000000;stroke-width:0.8;\" x=\"773.381466\" xlink:href=\"#mb4807147e5\" y=\"243.206293\"/>\n      </g>\n     </g>\n     <g id=\"text_41\">\n      <!-- 2 -->\n      <g transform=\"translate(770.200216 257.804731)scale(0.1 -0.1)\">\n       <use xlink:href=\"#DejaVuSans-50\"/>\n      </g>\n     </g>\n    </g>\n    <g id=\"xtick_15\">\n     <g id=\"line2d_39\">\n      <g>\n       <use style=\"stroke:#000000;stroke-width:0.8;\" x=\"821.484914\" xlink:href=\"#mb4807147e5\" y=\"243.206293\"/>\n      </g>\n     </g>\n     <g id=\"text_42\">\n      <!-- 4 -->\n      <g transform=\"translate(818.303664 257.804731)scale(0.1 -0.1)\">\n       <use xlink:href=\"#DejaVuSans-52\"/>\n      </g>\n     </g>\n    </g>\n    <g id=\"xtick_16\">\n     <g id=\"line2d_40\">\n      <g>\n       <use style=\"stroke:#000000;stroke-width:0.8;\" x=\"869.588362\" xlink:href=\"#mb4807147e5\" y=\"243.206293\"/>\n      </g>\n     </g>\n     <g id=\"text_43\">\n      <!-- 6 -->\n      <g transform=\"translate(866.407112 257.804731)scale(0.1 -0.1)\">\n       <use xlink:href=\"#DejaVuSans-54\"/>\n      </g>\n     </g>\n    </g>\n   </g>\n   <g id=\"matplotlib.axis_8\">\n    <g id=\"ytick_25\">\n     <g id=\"line2d_41\">\n      <g>\n       <use style=\"stroke:#000000;stroke-width:0.8;\" x=\"713.252155\" xlink:href=\"#m35e537eec8\" y=\"62.818362\"/>\n      </g>\n     </g>\n     <g id=\"text_44\">\n      <!-- 0 -->\n      <g transform=\"translate(699.889655 66.617581)scale(0.1 -0.1)\">\n       <use xlink:href=\"#DejaVuSans-48\"/>\n      </g>\n     </g>\n    </g>\n    <g id=\"ytick_26\">\n     <g id=\"line2d_42\">\n      <g>\n       <use style=\"stroke:#000000;stroke-width:0.8;\" x=\"713.252155\" xlink:href=\"#m35e537eec8\" y=\"86.870086\"/>\n      </g>\n     </g>\n     <g id=\"text_45\">\n      <!-- 1 -->\n      <g transform=\"translate(699.889655 90.669305)scale(0.1 -0.1)\">\n       <use xlink:href=\"#DejaVuSans-49\"/>\n      </g>\n     </g>\n    </g>\n    <g id=\"ytick_27\">\n     <g id=\"line2d_43\">\n      <g>\n       <use style=\"stroke:#000000;stroke-width:0.8;\" x=\"713.252155\" xlink:href=\"#m35e537eec8\" y=\"110.92181\"/>\n      </g>\n     </g>\n     <g id=\"text_46\">\n      <!-- 2 -->\n      <g transform=\"translate(699.889655 114.721029)scale(0.1 -0.1)\">\n       <use xlink:href=\"#DejaVuSans-50\"/>\n      </g>\n     </g>\n    </g>\n    <g id=\"ytick_28\">\n     <g id=\"line2d_44\">\n      <g>\n       <use style=\"stroke:#000000;stroke-width:0.8;\" x=\"713.252155\" xlink:href=\"#m35e537eec8\" y=\"134.973534\"/>\n      </g>\n     </g>\n     <g id=\"text_47\">\n      <!-- 3 -->\n      <g transform=\"translate(699.889655 138.772753)scale(0.1 -0.1)\">\n       <use xlink:href=\"#DejaVuSans-51\"/>\n      </g>\n     </g>\n    </g>\n    <g id=\"ytick_29\">\n     <g id=\"line2d_45\">\n      <g>\n       <use style=\"stroke:#000000;stroke-width:0.8;\" x=\"713.252155\" xlink:href=\"#m35e537eec8\" y=\"159.025259\"/>\n      </g>\n     </g>\n     <g id=\"text_48\">\n      <!-- 4 -->\n      <g transform=\"translate(699.889655 162.824477)scale(0.1 -0.1)\">\n       <use xlink:href=\"#DejaVuSans-52\"/>\n      </g>\n     </g>\n    </g>\n    <g id=\"ytick_30\">\n     <g id=\"line2d_46\">\n      <g>\n       <use style=\"stroke:#000000;stroke-width:0.8;\" x=\"713.252155\" xlink:href=\"#m35e537eec8\" y=\"183.076983\"/>\n      </g>\n     </g>\n     <g id=\"text_49\">\n      <!-- 5 -->\n      <g transform=\"translate(699.889655 186.876202)scale(0.1 -0.1)\">\n       <use xlink:href=\"#DejaVuSans-53\"/>\n      </g>\n     </g>\n    </g>\n    <g id=\"ytick_31\">\n     <g id=\"line2d_47\">\n      <g>\n       <use style=\"stroke:#000000;stroke-width:0.8;\" x=\"713.252155\" xlink:href=\"#m35e537eec8\" y=\"207.128707\"/>\n      </g>\n     </g>\n     <g id=\"text_50\">\n      <!-- 6 -->\n      <g transform=\"translate(699.889655 210.927926)scale(0.1 -0.1)\">\n       <use xlink:href=\"#DejaVuSans-54\"/>\n      </g>\n     </g>\n    </g>\n    <g id=\"ytick_32\">\n     <g id=\"line2d_48\">\n      <g>\n       <use style=\"stroke:#000000;stroke-width:0.8;\" x=\"713.252155\" xlink:href=\"#m35e537eec8\" y=\"231.180431\"/>\n      </g>\n     </g>\n     <g id=\"text_51\">\n      <!-- 7 -->\n      <g transform=\"translate(699.889655 234.97965)scale(0.1 -0.1)\">\n       <use xlink:href=\"#DejaVuSans-55\"/>\n      </g>\n     </g>\n    </g>\n   </g>\n   <g id=\"patch_18\">\n    <path d=\"M 713.252155 243.206293 \nL 713.252155 50.7925 \n\" style=\"fill:none;stroke:#000000;stroke-linecap:square;stroke-linejoin:miter;stroke-width:0.8;\"/>\n   </g>\n   <g id=\"patch_19\">\n    <path d=\"M 905.665948 243.206293 \nL 905.665948 50.7925 \n\" style=\"fill:none;stroke:#000000;stroke-linecap:square;stroke-linejoin:miter;stroke-width:0.8;\"/>\n   </g>\n   <g id=\"patch_20\">\n    <path d=\"M 713.252155 243.206293 \nL 905.665948 243.206293 \n\" style=\"fill:none;stroke:#000000;stroke-linecap:square;stroke-linejoin:miter;stroke-width:0.8;\"/>\n   </g>\n   <g id=\"patch_21\">\n    <path d=\"M 713.252155 50.7925 \nL 905.665948 50.7925 \n\" style=\"fill:none;stroke:#000000;stroke-linecap:square;stroke-linejoin:miter;stroke-width:0.8;\"/>\n   </g>\n   <g id=\"text_52\">\n    <!-- Training data: 3 -->\n    <g transform=\"translate(729.941864 22.396875)scale(0.2 -0.2)\">\n     <use xlink:href=\"#DejaVuSans-84\"/>\n     <use x=\"60.865234\" xlink:href=\"#DejaVuSans-114\"/>\n     <use x=\"101.978516\" xlink:href=\"#DejaVuSans-97\"/>\n     <use x=\"163.257812\" xlink:href=\"#DejaVuSans-105\"/>\n     <use x=\"191.041016\" xlink:href=\"#DejaVuSans-110\"/>\n     <use x=\"254.419922\" xlink:href=\"#DejaVuSans-105\"/>\n     <use x=\"282.203125\" xlink:href=\"#DejaVuSans-110\"/>\n     <use x=\"345.582031\" xlink:href=\"#DejaVuSans-103\"/>\n     <use x=\"409.058594\" xlink:href=\"#DejaVuSans-32\"/>\n     <use x=\"440.845703\" xlink:href=\"#DejaVuSans-100\"/>\n     <use x=\"504.322266\" xlink:href=\"#DejaVuSans-97\"/>\n     <use x=\"565.601562\" xlink:href=\"#DejaVuSans-116\"/>\n     <use x=\"604.810547\" xlink:href=\"#DejaVuSans-97\"/>\n     <use x=\"666.089844\" xlink:href=\"#DejaVuSans-58\"/>\n     <use x=\"699.78125\" xlink:href=\"#DejaVuSans-32\"/>\n     <use x=\"731.568359\" xlink:href=\"#DejaVuSans-51\"/>\n    </g>\n    <!--  -->\n    <g transform=\"translate(809.459052 44.7925)scale(0.2 -0.2)\"/>\n   </g>\n  </g>\n  <g id=\"axes_5\">\n   <g id=\"patch_22\">\n    <path d=\"M 944.148707 243.206293 \nL 1136.5625 243.206293 \nL 1136.5625 50.7925 \nL 944.148707 50.7925 \nz\n\" style=\"fill:#ffffff;\"/>\n   </g>\n   <g clip-path=\"url(#p5a4c407dcc)\">\n    <image height=\"193\" id=\"image06ebaa9563\" transform=\"scale(1 -1)translate(0 -193)\" width=\"193\" x=\"944.148707\" xlink:href=\"data:image/png;base64,\niVBORw0KGgoAAAANSUhEUgAAAMEAAADBCAYAAAB2QtScAAAABHNCSVQICAgIfAhkiAAAAxJJREFUeJzt3EFRc0kYhtFmij3BwXWABXCAhFjAARLAQXAADmIBBSAhKMgomJrFX99kqOccAe/tu3iqd3211jov/tG2baP7X19fo/trrfXw8DC6fzweR/en/XXpA8CliYA8EZAnAvJEQJ4IyBMBeSIgTwTkiYA8EZAnAvJEQJ4IyBMBeSIgTwTkiYA8EZAnAvJEQJ4IyBMBedeXPsD/3W63G93/+fkZ3V9rrf1+P7rv3SH45URAngjIEwF5IiBPBOSJgDwRkCcC8kRAngjIEwF5IiBPBOSJgDwRkCcC8kRAngjIEwF5IiBPBOSJgLyrtdZ58gP39/eT8+v9/X10/+bmZnT/8/NzdH+tte7u7kb3b29vR/dPp9PovpuAPBGQJwLyRECeCMgTAXkiIE8E5ImAPBGQJwLyRECeCMgTAXkiIE8E5ImAPBGQJwLyRECeCMgTAXkiIO96+gPT7/ZM77+9vY3u7/f70f211jqfR5+WWo+Pj6P7h8NhdN9NQJ4IyBMBeSIgTwTkiYA8EZAnAvJEQJ4IyBMBeSIgTwTkiYA8EZAnAvJEQJ4IyBMBeSIgTwTkiYA8EZAnAvLGH9/6+PgY3X96ehrdf35+Ht3/L7y+vo7ub9s2uj/NTUCeCMgTAXkiIE8E5ImAPBGQJwLyRECeCMgTAXkiIE8E5ImAPBGQJwLyRECeCMgTAXkiIE8E5ImAPBGQd7XWOl/6EH9it9uN7h+Px9H9l5eX0f215v9h2vf39+i+m4A8EZAnAvJEQJ4IyBMBeSIgTwTkiYA8EZAnAvJEQJ4IyBMBeSIgTwTkiYA8EZAnAvJEQJ4IyBMBeSIg7/rSB/hTp9NpdP9wOIzub9s2ur/W/Ls9v52bgDwRkCcC8kRAngjIEwF5IiBPBOSJgDwRkCcC8kRAngjIEwF5IiBPBOSJgDwRkCcC8kRAngjIEwF5IiDv1787NG363aHpff6dm4A8EZAnAvJEQJ4IyBMBeSIgTwTkiYA8EZAnAvJEQJ4IyBMBeSIgTwTkiYA8EZAnAvJEQJ4IyBMBeSIg728pET59yzJn4AAAAABJRU5ErkJggg==\" y=\"-50.206293\"/>\n   </g>\n   <g id=\"matplotlib.axis_9\">\n    <g id=\"xtick_17\">\n     <g id=\"line2d_49\">\n      <g>\n       <use style=\"stroke:#000000;stroke-width:0.8;\" x=\"956.174569\" xlink:href=\"#mb4807147e5\" y=\"243.206293\"/>\n      </g>\n     </g>\n     <g id=\"text_53\">\n      <!-- 0 -->\n      <g transform=\"translate(952.993319 257.804731)scale(0.1 -0.1)\">\n       <use xlink:href=\"#DejaVuSans-48\"/>\n      </g>\n     </g>\n    </g>\n    <g id=\"xtick_18\">\n     <g id=\"line2d_50\">\n      <g>\n       <use style=\"stroke:#000000;stroke-width:0.8;\" x=\"1004.278017\" xlink:href=\"#mb4807147e5\" y=\"243.206293\"/>\n      </g>\n     </g>\n     <g id=\"text_54\">\n      <!-- 2 -->\n      <g transform=\"translate(1001.096767 257.804731)scale(0.1 -0.1)\">\n       <use xlink:href=\"#DejaVuSans-50\"/>\n      </g>\n     </g>\n    </g>\n    <g id=\"xtick_19\">\n     <g id=\"line2d_51\">\n      <g>\n       <use style=\"stroke:#000000;stroke-width:0.8;\" x=\"1052.381466\" xlink:href=\"#mb4807147e5\" y=\"243.206293\"/>\n      </g>\n     </g>\n     <g id=\"text_55\">\n      <!-- 4 -->\n      <g transform=\"translate(1049.200216 257.804731)scale(0.1 -0.1)\">\n       <use xlink:href=\"#DejaVuSans-52\"/>\n      </g>\n     </g>\n    </g>\n    <g id=\"xtick_20\">\n     <g id=\"line2d_52\">\n      <g>\n       <use style=\"stroke:#000000;stroke-width:0.8;\" x=\"1100.484914\" xlink:href=\"#mb4807147e5\" y=\"243.206293\"/>\n      </g>\n     </g>\n     <g id=\"text_56\">\n      <!-- 6 -->\n      <g transform=\"translate(1097.303664 257.804731)scale(0.1 -0.1)\">\n       <use xlink:href=\"#DejaVuSans-54\"/>\n      </g>\n     </g>\n    </g>\n   </g>\n   <g id=\"matplotlib.axis_10\">\n    <g id=\"ytick_33\">\n     <g id=\"line2d_53\">\n      <g>\n       <use style=\"stroke:#000000;stroke-width:0.8;\" x=\"944.148707\" xlink:href=\"#m35e537eec8\" y=\"62.818362\"/>\n      </g>\n     </g>\n     <g id=\"text_57\">\n      <!-- 0 -->\n      <g transform=\"translate(930.786207 66.617581)scale(0.1 -0.1)\">\n       <use xlink:href=\"#DejaVuSans-48\"/>\n      </g>\n     </g>\n    </g>\n    <g id=\"ytick_34\">\n     <g id=\"line2d_54\">\n      <g>\n       <use style=\"stroke:#000000;stroke-width:0.8;\" x=\"944.148707\" xlink:href=\"#m35e537eec8\" y=\"86.870086\"/>\n      </g>\n     </g>\n     <g id=\"text_58\">\n      <!-- 1 -->\n      <g transform=\"translate(930.786207 90.669305)scale(0.1 -0.1)\">\n       <use xlink:href=\"#DejaVuSans-49\"/>\n      </g>\n     </g>\n    </g>\n    <g id=\"ytick_35\">\n     <g id=\"line2d_55\">\n      <g>\n       <use style=\"stroke:#000000;stroke-width:0.8;\" x=\"944.148707\" xlink:href=\"#m35e537eec8\" y=\"110.92181\"/>\n      </g>\n     </g>\n     <g id=\"text_59\">\n      <!-- 2 -->\n      <g transform=\"translate(930.786207 114.721029)scale(0.1 -0.1)\">\n       <use xlink:href=\"#DejaVuSans-50\"/>\n      </g>\n     </g>\n    </g>\n    <g id=\"ytick_36\">\n     <g id=\"line2d_56\">\n      <g>\n       <use style=\"stroke:#000000;stroke-width:0.8;\" x=\"944.148707\" xlink:href=\"#m35e537eec8\" y=\"134.973534\"/>\n      </g>\n     </g>\n     <g id=\"text_60\">\n      <!-- 3 -->\n      <g transform=\"translate(930.786207 138.772753)scale(0.1 -0.1)\">\n       <use xlink:href=\"#DejaVuSans-51\"/>\n      </g>\n     </g>\n    </g>\n    <g id=\"ytick_37\">\n     <g id=\"line2d_57\">\n      <g>\n       <use style=\"stroke:#000000;stroke-width:0.8;\" x=\"944.148707\" xlink:href=\"#m35e537eec8\" y=\"159.025259\"/>\n      </g>\n     </g>\n     <g id=\"text_61\">\n      <!-- 4 -->\n      <g transform=\"translate(930.786207 162.824477)scale(0.1 -0.1)\">\n       <use xlink:href=\"#DejaVuSans-52\"/>\n      </g>\n     </g>\n    </g>\n    <g id=\"ytick_38\">\n     <g id=\"line2d_58\">\n      <g>\n       <use style=\"stroke:#000000;stroke-width:0.8;\" x=\"944.148707\" xlink:href=\"#m35e537eec8\" y=\"183.076983\"/>\n      </g>\n     </g>\n     <g id=\"text_62\">\n      <!-- 5 -->\n      <g transform=\"translate(930.786207 186.876202)scale(0.1 -0.1)\">\n       <use xlink:href=\"#DejaVuSans-53\"/>\n      </g>\n     </g>\n    </g>\n    <g id=\"ytick_39\">\n     <g id=\"line2d_59\">\n      <g>\n       <use style=\"stroke:#000000;stroke-width:0.8;\" x=\"944.148707\" xlink:href=\"#m35e537eec8\" y=\"207.128707\"/>\n      </g>\n     </g>\n     <g id=\"text_63\">\n      <!-- 6 -->\n      <g transform=\"translate(930.786207 210.927926)scale(0.1 -0.1)\">\n       <use xlink:href=\"#DejaVuSans-54\"/>\n      </g>\n     </g>\n    </g>\n    <g id=\"ytick_40\">\n     <g id=\"line2d_60\">\n      <g>\n       <use style=\"stroke:#000000;stroke-width:0.8;\" x=\"944.148707\" xlink:href=\"#m35e537eec8\" y=\"231.180431\"/>\n      </g>\n     </g>\n     <g id=\"text_64\">\n      <!-- 7 -->\n      <g transform=\"translate(930.786207 234.97965)scale(0.1 -0.1)\">\n       <use xlink:href=\"#DejaVuSans-55\"/>\n      </g>\n     </g>\n    </g>\n   </g>\n   <g id=\"patch_23\">\n    <path d=\"M 944.148707 243.206293 \nL 944.148707 50.7925 \n\" style=\"fill:none;stroke:#000000;stroke-linecap:square;stroke-linejoin:miter;stroke-width:0.8;\"/>\n   </g>\n   <g id=\"patch_24\">\n    <path d=\"M 1136.5625 243.206293 \nL 1136.5625 50.7925 \n\" style=\"fill:none;stroke:#000000;stroke-linecap:square;stroke-linejoin:miter;stroke-width:0.8;\"/>\n   </g>\n   <g id=\"patch_25\">\n    <path d=\"M 944.148707 243.206293 \nL 1136.5625 243.206293 \n\" style=\"fill:none;stroke:#000000;stroke-linecap:square;stroke-linejoin:miter;stroke-width:0.8;\"/>\n   </g>\n   <g id=\"patch_26\">\n    <path d=\"M 944.148707 50.7925 \nL 1136.5625 50.7925 \n\" style=\"fill:none;stroke:#000000;stroke-linecap:square;stroke-linejoin:miter;stroke-width:0.8;\"/>\n   </g>\n   <g id=\"text_65\">\n    <!-- Training data: 4 -->\n    <g transform=\"translate(960.838416 22.396875)scale(0.2 -0.2)\">\n     <use xlink:href=\"#DejaVuSans-84\"/>\n     <use x=\"60.865234\" xlink:href=\"#DejaVuSans-114\"/>\n     <use x=\"101.978516\" xlink:href=\"#DejaVuSans-97\"/>\n     <use x=\"163.257812\" xlink:href=\"#DejaVuSans-105\"/>\n     <use x=\"191.041016\" xlink:href=\"#DejaVuSans-110\"/>\n     <use x=\"254.419922\" xlink:href=\"#DejaVuSans-105\"/>\n     <use x=\"282.203125\" xlink:href=\"#DejaVuSans-110\"/>\n     <use x=\"345.582031\" xlink:href=\"#DejaVuSans-103\"/>\n     <use x=\"409.058594\" xlink:href=\"#DejaVuSans-32\"/>\n     <use x=\"440.845703\" xlink:href=\"#DejaVuSans-100\"/>\n     <use x=\"504.322266\" xlink:href=\"#DejaVuSans-97\"/>\n     <use x=\"565.601562\" xlink:href=\"#DejaVuSans-116\"/>\n     <use x=\"604.810547\" xlink:href=\"#DejaVuSans-97\"/>\n     <use x=\"666.089844\" xlink:href=\"#DejaVuSans-58\"/>\n     <use x=\"699.78125\" xlink:href=\"#DejaVuSans-32\"/>\n     <use x=\"731.568359\" xlink:href=\"#DejaVuSans-52\"/>\n    </g>\n    <!--  -->\n    <g transform=\"translate(1040.355603 44.7925)scale(0.2 -0.2)\"/>\n   </g>\n  </g>\n </g>\n <defs>\n  <clipPath id=\"p8c2bd5fce5\">\n   <rect height=\"192.413793\" width=\"192.413793\" x=\"20.5625\" y=\"50.7925\"/>\n  </clipPath>\n  <clipPath id=\"p0bac673ac3\">\n   <rect height=\"192.413793\" width=\"192.413793\" x=\"251.459052\" y=\"50.7925\"/>\n  </clipPath>\n  <clipPath id=\"pbd16a8f881\">\n   <rect height=\"192.413793\" width=\"192.413793\" x=\"482.355603\" y=\"50.7925\"/>\n  </clipPath>\n  <clipPath id=\"p85fa47b3f1\">\n   <rect height=\"192.413793\" width=\"192.413793\" x=\"713.252155\" y=\"50.7925\"/>\n  </clipPath>\n  <clipPath id=\"p5a4c407dcc\">\n   <rect height=\"192.413793\" width=\"192.413793\" x=\"944.148707\" y=\"50.7925\"/>\n  </clipPath>\n </defs>\n</svg>\n",
      "image/png": "[encoded data removed]"
     },
     "metadata": {
      "needs_background": "light"
     }
    }
   ],
   "source": [
    "plt.figure(figsize=(20, 4))\n",
    "for index, (image, label) in enumerate(zip(X[0:5], y[0:5])):\n",
    "    plt.subplot(1, 5, index+1)\n",
    "    plt.imshow(np.reshape(image, (8, 8)), cmap=plt.cm.gray)\n",
    "    plt.title('Training data: %i\\n' % label, fontsize=20)"
   ]
  },
  {
   "cell_type": "code",
   "execution_count": 20,
   "metadata": {},
   "outputs": [],
   "source": [
    "# Split the data into training an dtest sets (Digits Dataset)\n",
    "#######################################\n",
    "####### Use random_state = 2020 #######\n",
    "X_train, X_test, y_train, y_test = train_test_split(X, y, random_state=2020)\n",
    "#######################################"
   ]
  },
  {
   "cell_type": "code",
   "execution_count": 23,
   "metadata": {},
   "outputs": [
    {
     "output_type": "execute_result",
     "data": {
      "text/plain": "LogisticRegression(C=1.0, class_weight=None, dual=False, fit_intercept=True,\n          intercept_scaling=1, max_iter=100, multi_class='warn',\n          n_jobs=None, penalty='l2', random_state=None, solver='warn',\n          tol=0.0001, verbose=0, warm_start=False)"
     },
     "metadata": {},
     "execution_count": 23
    }
   ],
   "source": [
    "# Make an instance of the Model\n",
    "#################################################\n",
    "logistic = LogisticRegression()\n",
    "#################################################\n",
    "\n",
    "# Train the model using the training sets\n",
    "#################################################\n",
    "logistic.fit(X_train, y_train)\n",
    "#################################################"
   ]
  },
  {
   "cell_type": "code",
   "execution_count": 24,
   "metadata": {},
   "outputs": [
    {
     "output_type": "execute_result",
     "data": {
      "text/plain": "array([4])"
     },
     "metadata": {},
     "execution_count": 24
    }
   ],
   "source": [
    "# Make the prediction of first element of test datasets\n",
    "logistic.predict(X_test[0].reshape(1, -1))"
   ]
  },
  {
   "cell_type": "markdown",
   "metadata": {},
   "source": [
    "### P2.3. You should write down the answer of the first digit of test datasets which fitted model predicts\n",
    "#### The first digit of test datasets : ( 4 )"
   ]
  },
  {
   "cell_type": "code",
   "execution_count": 25,
   "metadata": {
    "tags": []
   },
   "outputs": [
    {
     "output_type": "stream",
     "name": "stdout",
     "text": "[4 3 6 4 8 7 2 2 1 2]\n"
    }
   ],
   "source": [
    "# Make the prediction of first ten test datasets\n",
    "##################################################################\n",
    "y_pred = logistic.predict(X_test[:10])\n",
    "print(y_pred)\n",
    "##################################################################"
   ]
  },
  {
   "cell_type": "markdown",
   "metadata": {},
   "source": [
    "### P2.4. You should write down the answer of the first ten digits of test datasets which fitted model predicts\n",
    "#### The first ten digits of test datasets : (4, 3, 6, 4, 8, 7, 2, 2, 1, 2)"
   ]
  },
  {
   "cell_type": "code",
   "execution_count": 26,
   "metadata": {},
   "outputs": [],
   "source": [
    "# Make predictions on entire test data\n",
    "##################################################################\n",
    "y_pred = logistic.predict(X_test)\n",
    "##################################################################"
   ]
  },
  {
   "cell_type": "code",
   "execution_count": 27,
   "metadata": {
    "tags": []
   },
   "outputs": [
    {
     "output_type": "stream",
     "name": "stdout",
     "text": "Coefficients: \n [[ 0.00000000e+00 -4.06101084e-02 -5.00057306e-02  2.24109001e-02\n  -6.53713933e-02 -3.87159755e-01 -2.14741026e-01 -5.02863536e-03\n  -1.51070757e-05 -1.00680427e-01 -2.05175000e-02  1.55047710e-01\n   1.11857132e-01  2.87287412e-01  2.42044744e-02 -6.55928331e-03\n  -3.45996330e-03  1.12748234e-01  1.99660275e-01 -6.03869339e-02\n  -3.68736227e-01  2.88537935e-01 -7.62520289e-02 -9.72293755e-03\n  -1.72900703e-03  2.17024007e-02 -3.60607215e-02 -1.62437805e-01\n  -5.66055095e-01 -3.13209135e-02  1.30473199e-01 -2.16773991e-03\n   0.00000000e+00  2.52225320e-01  1.49359814e-01 -1.76344613e-01\n  -5.50268998e-01 -8.10864704e-02 -3.90189753e-02  0.00000000e+00\n  -4.85963625e-03  7.83256174e-03  1.29411368e-01 -2.19109111e-01\n  -4.17501150e-01  3.51969232e-02  1.02629409e-01 -7.32358364e-05\n  -1.73030524e-02 -8.32770597e-02  2.21347036e-02  4.02789473e-03\n   1.58634043e-01  4.64483721e-02 -2.00348401e-01 -7.51589330e-02\n  -4.67592568e-06 -5.04031189e-02 -1.80675592e-01 -1.47520899e-02\n  -2.51478964e-01 -9.55547977e-02 -1.73432747e-01 -6.24060395e-02]\n [ 0.00000000e+00 -5.32277100e-02 -7.04771070e-02  2.42107798e-01\n  -6.34196937e-01  4.43249444e-01 -2.47875407e-01 -2.25393036e-01\n  -1.39138172e-05 -1.24052693e+00 -5.39570390e-01 -5.68729230e-01\n   2.76077079e-02  4.18923559e-02 -4.15965538e-01 -1.06948567e-02\n   3.92440430e-01  6.41639683e-01  3.33760680e-01  7.68265361e-01\n   3.53067671e-01 -1.99551138e-01  2.70565665e-01 -8.05407769e-02\n  -5.50496771e-01 -3.74520804e-01 -1.01268192e-01  4.99968583e-03\n   8.04860620e-03  8.11529427e-02 -5.11514173e-01 -4.88548190e-06\n   0.00000000e+00 -4.25296361e-02  9.41329053e-02 -2.82194722e-02\n   1.09959112e-01 -5.63177482e-02 -4.94782952e-01  0.00000000e+00\n  -2.19172800e-05 -4.47748829e-01 -6.86214592e-02 -4.09846343e-02\n  -4.16024837e-02 -1.61317454e-01 -1.44044918e-01 -1.16568598e-02\n  -1.04971025e-02 -2.90863351e-01 -5.00250135e-02  3.05718219e-01\n   5.15693085e-02 -1.92081081e-02 -4.08599989e-01  6.77204332e-01\n  -3.49626918e-03 -1.80912157e-01  7.96752800e-02 -2.46153741e-01\n   1.04278768e-01  1.08444707e-03 -1.26811617e-01  2.10676157e-01]\n [ 0.00000000e+00  5.46244432e-02 -9.29017166e-02 -8.39589832e-03\n   1.99205692e-02 -2.47470057e-01 -1.43269403e-01 -6.54927367e-03\n  -6.06504063e-04  9.66979196e-02  2.38184776e-01 -1.90544912e-01\n   2.15840192e-01 -9.13558619e-02 -4.99192792e-02 -2.14015667e-03\n  -5.85009351e-04 -1.16645343e-03  3.46183242e-02 -1.97999895e-01\n   1.55281845e-01 -7.37251503e-02  5.14257944e-02 -1.88768183e-04\n  -5.25492741e-05 -2.56246716e-01 -5.76649084e-01 -4.75250882e-01\n  -3.30278758e-01  1.54991843e-01 -1.39301253e-01 -1.02021509e-05\n   0.00000000e+00 -2.51721849e-01 -5.01670237e-01 -2.72799560e-01\n  -2.41874838e-01 -2.39315083e-01 -5.76010121e-01  0.00000000e+00\n  -6.81413744e-05  7.19040347e-02  1.25025350e-01  4.90369133e-01\n  -3.47397948e-01 -4.45054445e-01 -3.94642607e-01  1.39952205e-02\n   4.56020320e-03  2.19270407e-01  6.68542036e-03  4.05126200e-01\n   2.75976995e-01  2.64108904e-01  1.62304615e-01 -5.31153404e-02\n   1.53521448e-03  1.20350938e-01  6.44431762e-02 -1.45881090e-02\n  -2.89488128e-02  2.14276348e-01  3.55027623e-01 -3.64306687e-02]\n [ 0.00000000e+00  6.59550522e-01 -7.55585311e-01  1.87928032e-01\n   3.21050488e-01 -1.85005862e-01 -3.30741256e-01  1.89609780e-01\n  -8.89299193e-04 -2.73500812e-01  3.62341119e-01 -9.22206394e-03\n  -1.17480058e-01  6.44222193e-01  8.39156677e-01 -3.45726454e-01\n  -1.73200209e-06  1.56699074e-01 -7.97609671e-01 -2.56183430e-01\n   1.48682043e-01 -5.69614925e-01  2.77308489e-01 -6.54999336e-04\n  -1.25184658e-07 -4.46056275e-01 -3.74349848e-01 -6.13194937e-02\n   8.81115599e-02 -3.58831134e-01 -2.04251877e+00 -2.92081663e-07\n   0.00000000e+00 -3.73947004e-01 -3.93345381e-01  3.55093052e-02\n  -6.14699406e-02 -1.09603612e-01  2.17833286e-01  0.00000000e+00\n  -1.03991839e-06  2.93912216e-01 -2.73075311e-01 -6.97284521e-01\n   2.50625427e-01  4.91453769e-01  3.04857844e-01 -4.12718691e-02\n  -1.19117770e-06 -2.47084636e-01 -8.40201704e-02 -3.77233697e-01\n   1.35656337e-02  1.63091198e-01  5.22582060e-01 -2.07198506e-01\n  -1.49035527e-07  7.10160973e-02  4.21388127e-01 -3.95687509e-01\n   4.88124283e-01 -3.46731986e-01 -4.67534418e-03 -8.67441561e-01]\n [ 0.00000000e+00 -1.05646629e-02 -2.80688387e-01 -6.87248674e-01\n  -3.38785950e-01 -4.20651781e-01 -3.22095178e-01  5.39165906e-02\n  -1.64102130e-05 -4.68466619e-02 -1.29837342e-01 -3.81909139e-01\n  -3.15591526e-01 -1.19223325e-01 -2.19938461e-01  1.09577992e-01\n  -6.85650346e-03  1.83269534e-01  2.68225255e-01  7.65526175e-02\n  -2.88469259e-02 -4.17173723e-03  7.11870375e-02  6.64760773e-02\n   3.62688986e-02  1.05303928e-02  4.30987341e-01 -5.42243761e-02\n  -4.46904627e-02  7.32511701e-02  4.40962468e-01  1.35556367e-03\n   0.00000000e+00  4.93890786e-03  1.29947722e-01  1.39235560e-01\n   2.18027861e-01  7.75002481e-02  2.36977765e-01  0.00000000e+00\n   9.97202861e-04  4.85609028e-01 -5.57421089e-02  3.40809775e-01\n   1.54267116e-01  1.67818293e-01  6.94940064e-02 -4.11207573e-04\n   1.47122208e-03  2.48067386e-01 -1.80622706e-01  1.39171016e-01\n   1.79837737e-01 -2.99642469e-01 -3.98587375e-01 -3.53640954e-03\n  -1.40433447e-05 -7.65207816e-02 -1.75187449e-01 -1.66545353e-01\n  -2.59454122e-01 -3.03671578e-01 -1.29946453e-01 -1.15700042e-03]\n [ 0.00000000e+00  5.23141039e-02  4.30010202e-01 -6.95103810e-02\n   2.63357862e-01  3.47804201e-01  5.58075841e-01 -1.18796106e-01\n   1.23712033e-02  2.17367780e-01  1.82963760e-01  1.01897251e-01\n   2.12860995e-02 -1.91237595e-01 -1.04440849e-02 -5.08964588e-02\n  -3.52920948e-02 -2.00198990e-01  3.15630801e-01  1.81469912e-01\n  -5.67470845e-01 -8.43856111e-01 -1.09799606e+00 -2.00298464e-03\n  -3.46040494e-02  8.45735809e-02  1.35731189e-01 -1.76152372e-01\n   2.69693149e-01  2.07880628e-01 -7.59202488e-01 -1.46593168e-05\n   0.00000000e+00 -2.51455019e-01  1.32351784e-01 -1.63630600e-01\n  -3.16842962e-01 -2.37686606e-01 -2.73496123e-02  0.00000000e+00\n   1.22546731e-05 -2.85024608e-01 -2.33144105e-01 -3.17629736e-01\n  -2.32980863e-01  8.55935829e-02 -1.66340175e-01 -7.67885446e-04\n   1.63014935e-05  1.02323869e-01 -2.62305482e-01 -1.53845526e-01\n  -1.11141625e-01 -7.38697316e-02 -1.56386383e-01 -4.16296749e-03\n   1.85099000e-06  1.66346318e-02  1.84486146e-01  8.53276265e-02\n  -1.56708180e-01 -1.34443910e-01 -2.28585988e-01 -1.59438302e-02]\n [ 0.00000000e+00 -3.80131200e-02 -3.73165596e-01 -1.64740645e-01\n  -9.84739795e-02 -2.19077687e-01 -2.63085904e-01 -1.46628755e-04\n  -2.43441641e-05 -3.94618675e-01 -1.06881026e-01 -2.26815728e-01\n  -3.94041738e-01 -4.51365757e-02  1.34694471e-01 -3.76024162e-04\n  -1.90283465e-02  1.99468316e-02  1.89189592e-01  9.64204547e-02\n  -5.66111905e-01 -8.20334562e-01 -1.73713379e-01 -6.61042119e-04\n  -9.53965294e-03  2.95285381e-01  8.70815203e-02  2.44444506e-01\n   6.67376210e-03 -1.55977626e-01 -7.05199994e-01 -2.74374161e-05\n   0.00000000e+00  2.17420851e-01  8.09802147e-02  2.92437362e-01\n  -1.12380555e-01  7.85286542e-03 -3.68707428e-02  0.00000000e+00\n  -8.83561563e-04 -7.63067738e-01  6.02047600e-01 -1.60974507e-01\n   2.50599677e-02 -8.33769265e-02  3.53515394e-01  9.36356891e-02\n  -2.67503537e-04 -4.14080662e-01  4.68198164e-01  8.21690863e-02\n   4.57187322e-03  2.60140861e-01  1.02648347e-01 -2.98387211e-01\n  -1.17858992e-06 -2.38279918e-02 -3.35545315e-01 -2.93169929e-01\n  -3.65457650e-01  2.09205495e-01 -1.28487179e-01 -2.29081523e-01]\n [ 0.00000000e+00 -1.88824064e-01  3.26870226e-01  4.69614273e-02\n  -2.96422974e-02  3.20251742e-01  3.86692602e-01  1.52968624e-01\n  -8.58478693e-06 -6.69826334e-02  2.98963283e-01 -2.02487140e-02\n   7.62299862e-01 -1.12786313e-01 -2.13014631e-01  2.26679139e-01\n  -3.79978008e-06 -3.79515791e-01 -3.03329231e-01 -3.48747537e-01\n  -1.22538253e-01  1.56353849e-01  1.39657393e-01  5.37711598e-02\n  -3.70160362e-06 -3.81280428e-01 -4.78980764e-02 -4.78811139e-01\n  -8.03661016e-02  1.94881985e-01  1.09536433e-01 -1.57761998e-03\n   0.00000000e+00  1.55656331e-01 -2.10128147e-01  6.54639458e-03\n   1.33939684e-01  1.91723063e-01  1.52913381e-01  0.00000000e+00\n  -6.40370032e-05 -2.95793286e-01  2.75600518e-01  3.82775792e-02\n   1.83963037e-01  7.49944973e-02 -1.03602177e-02 -1.91327310e-05\n  -2.48182402e-05 -2.09838802e-01  3.90942728e-02 -2.43292092e-02\n  -6.71504514e-01 -9.99088543e-01 -1.73845552e-01 -3.04847249e-04\n  -4.67252782e-06 -3.87857099e-01 -1.92414811e-01 -3.75053347e-01\n  -2.66085668e-01 -6.50154068e-01 -2.33285228e-01 -1.05769976e-02]\n [ 0.00000000e+00 -1.80335108e-01  3.12686180e-01 -1.86453281e-01\n   1.94472983e-02 -9.26147246e-02 -3.83511398e-01 -2.13561173e-01\n   1.07448601e+00 -1.04941747e-01  2.03821469e-01  2.93946766e-03\n  -1.85976177e-01  1.06914844e-01  1.84279948e-01 -2.15628821e-01\n  -5.27406804e-01  1.85261672e-01  1.33148994e-01  3.22375749e-02\n   2.79758179e-02  1.32955402e-01  8.03502537e-02 -9.86873358e-02\n  -5.41412248e-01 -1.68313056e-01 -6.06723329e-02  1.70688760e-01\n  -1.40524424e-01 -3.01945363e-02 -1.88052452e-01 -4.94619659e-04\n   0.00000000e+00 -6.10955901e-01 -1.28009005e-01  3.14518692e-01\n  -3.50019388e-02  2.39138641e-02 -8.97496391e-01  0.00000000e+00\n  -2.47008037e-03  2.93356705e-01  1.53138000e-01  5.64540823e-03\n   1.19500331e-01  1.86972640e-02 -9.70778377e-02 -1.00892693e-01\n  -7.16238856e-04 -2.04212590e-01  1.41694523e-01 -2.57386391e-01\n  -2.39110029e-01  8.23570745e-02  1.12198875e-01 -3.10781558e-01\n  -2.35661490e-04  4.11453815e-02 -6.03417071e-01 -7.66602513e-02\n   1.17603522e-01 -2.18453574e-01 -1.94707501e-01  4.97971703e-02]\n [ 0.00000000e+00 -7.22114041e-01 -1.37777525e-01  1.41238914e-01\n   1.04463972e-02 -1.10410149e-01 -3.08507477e-01 -1.56699840e-02\n  -6.94755755e-03  1.87929058e-02  6.54260937e-02  1.91203974e-01\n  -6.17640919e-02 -2.46407334e-01  2.79329595e-01 -2.24409039e-01\n  -1.56114452e-02  1.97928448e-01  1.75413528e-01  1.70964957e-01\n   1.65581782e-01  8.99986498e-01  1.00196725e-01 -7.01096123e-01\n  -4.34406638e-03 -2.64852567e-01  2.99779997e-01  2.96495556e-01\n  -4.59507610e-02  2.73599480e-01 -2.45063272e-01 -1.41848932e-03\n   0.00000000e+00 -6.28406082e-01 -4.00128594e-01  5.46949044e-01\n  -2.63280656e-01 -2.09437840e-01 -1.37695525e-01  0.00000000e+00\n  -1.53485872e-06 -2.30281119e-01 -6.78639936e-01 -1.59729225e+00\n  -1.02784688e+00 -3.68655800e-01 -4.55729067e-01  1.15981868e-02\n  -1.85129671e-06  2.29055101e-01 -7.37788348e-02  1.59386313e-01\n   4.05923470e-02 -4.47135795e-01 -1.85230534e-01 -2.81701252e-02\n  -2.05184102e-07 -4.50712307e-01 -3.45974966e-02 -2.60394135e-03\n  -9.63781760e-02  1.63713656e-01 -1.71666733e-01 -5.16328953e-01]]\nIntercepts: \n [-0.02062908 -2.28101394 -0.03542623 -0.39363235  0.0090496  -0.0749671\n -0.0650558  -0.01541936 -2.33205255 -1.12418084]\nTest accuracy: 96.89\n"
    }
   ],
   "source": [
    "# Find the coefficients and Intercept\n",
    "##################################################################\n",
    "############# It could be a line or two lines ####################\n",
    "print(\"Coefficients: \\n\", logistic.coef_)\n",
    "print(\"Intercepts: \\n\", logistic.intercept_)\n",
    "\n",
    "##################################################################\n",
    "\n",
    "# Find the accuracy an\n",
    "##################################################################\n",
    "############# It could be a line or two lines ####################\n",
    "#print(\"Test accuracy: %.2f\" % (metrics.accuracy_score(y_test, y_pred)*100))\n",
    "acc = metrics.accuracy_score(y_test, y_pred) * 100\n",
    "print(\"Test accuracy: %.2f\" % acc)\n",
    "##################################################################"
   ]
  },
  {
   "cell_type": "markdown",
   "metadata": {},
   "source": [
    "### P2.5. You should write down the answer of the test accuracy\n",
    "#### The test accuracy : ( 96.89 )"
   ]
  }
 ],
 "metadata": {
  "kernelspec": {
   "display_name": "Python 3",
   "language": "python",
   "name": "python3"
  },
  "language_info": {
   "codemirror_mode": {
    "name": "ipython",
    "version": 3
   },
   "file_extension": ".py",
   "mimetype": "text/x-python",
   "name": "python",
   "nbconvert_exporter": "python",
   "pygments_lexer": "ipython3",
   "version": "3.7.6"
  }
 },
 "nbformat": 4,
 "nbformat_minor": 4
}