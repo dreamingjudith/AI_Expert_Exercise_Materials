{
 "cells": [
  {
   "cell_type": "markdown",
   "metadata": {},
   "source": [
    "<font color='blue'> please import packages below before starting </font>"
   ]
  },
  {
   "cell_type": "code",
   "execution_count": null,
   "metadata": {},
   "outputs": [],
   "source": [
    "import matplotlib.pyplot as plt\n",
    "import numpy as np\n",
    "from sklearn import datasets, linear_model\n",
    "from sklearn.metrics import mean_squared_error, r2_score\n",
    "from sklearn.datasets import make_regression\n",
    "from sklearn.model_selection import train_test_split\n",
    "import pandas as pd"
   ]
  },
  {
   "cell_type": "markdown",
   "metadata": {},
   "source": [
    "# Simple Linear Regression"
   ]
  },
  {
   "cell_type": "markdown",
   "metadata": {},
   "source": [
    "## Artificial simple regression dataset"
   ]
  },
  {
   "cell_type": "markdown",
   "metadata": {},
   "source": [
    "First, let's generate a simple regression problem. <br>\n",
    "Function __make_regression__ generates a random linear regression model <br>\n",
    "where it returns input, corresponding output, and coefficients for the underlying function."
   ]
  },
  {
   "cell_type": "markdown",
   "metadata": {},
   "source": [
    "parameters: n_samples=100, n_features=1, bias=100, noise=10, coef=True, random_state=1"
   ]
  },
  {
   "cell_type": "code",
   "execution_count": null,
   "metadata": {},
   "outputs": [],
   "source": [
    "X, y, coef = "
   ]
  },
  {
   "cell_type": "markdown",
   "metadata": {},
   "source": [
    "Take a look of what we've got:"
   ]
  },
  {
   "cell_type": "code",
   "execution_count": null,
   "metadata": {
    "scrolled": true
   },
   "outputs": [],
   "source": [
    "# Check the dataset\n",
    "print(\"X : \" + str(X))\n",
    "print(\"y : \" + str(y))\n",
    "print(X.shape, y.shape)"
   ]
  },
  {
   "cell_type": "markdown",
   "metadata": {},
   "source": [
    "We can visualize our data with the package __matplotlib__ which we call as __plt__. The function __scatter__ literally shows a scatter plot."
   ]
  },
  {
   "cell_type": "code",
   "execution_count": null,
   "metadata": {},
   "outputs": [],
   "source": [
    "plt."
   ]
  },
  {
   "cell_type": "markdown",
   "metadata": {},
   "source": [
    "To evaluate the model that we would acquire in later steps, we should split the dataset. <br>\n",
    "Again, there are predefined functions that help us get through by simpling calling. <br>\n",
    "__train_test_split__ tear the data apart into two - training dataset and test dataset(note that we should define the test_size!)"
   ]
  },
  {
   "cell_type": "code",
   "execution_count": null,
   "metadata": {},
   "outputs": [],
   "source": [
    "X_train, X_test, y_train, y_test = train_test_split(X, y, test_size=0.2, random_state=1)"
   ]
  },
  {
   "cell_type": "markdown",
   "metadata": {},
   "source": [
    "and we have class variable called __LinearRegression__ that generates ordinary least squares linear regression. <br>\n",
    "State the class variable, call function __fit()__ that literally fits the model to the given data. <br>\n",
    "For each function, please take a careful look at what they have as parameters!"
   ]
  },
  {
   "cell_type": "code",
   "execution_count": null,
   "metadata": {},
   "outputs": [],
   "source": [
    "# Generate linear regression class object\n",
    "regressor = linear_model.LinearRegression()\n",
    "\n",
    "# Train linear regression model with training dataset\n",
    "regressor."
   ]
  },
  {
   "cell_type": "markdown",
   "metadata": {},
   "source": [
    "Now that we have our fitted function, let's compute the prediction for the test dataset. <br>\n",
    "As an input, we should have X_test."
   ]
  },
  {
   "cell_type": "code",
   "execution_count": null,
   "metadata": {},
   "outputs": [],
   "source": [
    "# Predict the test dataset\n",
    "y_pred = regressor."
   ]
  },
  {
   "cell_type": "markdown",
   "metadata": {},
   "source": [
    "Let's check what our function is:"
   ]
  },
  {
   "cell_type": "code",
   "execution_count": null,
   "metadata": {},
   "outputs": [],
   "source": [
    "# The coefficients\n",
    "print(\"Coefficients: \\n\", regressor.coef_)\n",
    "print(\"Intercept: \\n\", regressor.intercept_)"
   ]
  },
  {
   "cell_type": "markdown",
   "metadata": {},
   "source": [
    "We can provide a numerical measure for the evaluation of the model. <br>\n",
    "In this problem, we can comput MSE(mean squared error) and coefficient of determination(square of correlation r)."
   ]
  },
  {
   "cell_type": "code",
   "execution_count": null,
   "metadata": {},
   "outputs": [],
   "source": [
    "# The mean squared error\n",
    "print(\"Mean squared error: %.2f\" % mean_squared_error(y_test, y_pred))\n",
    "\n",
    "# The coefficient of determination: 1 is perfect prediction\n",
    "print(\"Coefficient of determination: %.2f\" % r2_score(y_test, y_pred))"
   ]
  },
  {
   "cell_type": "markdown",
   "metadata": {},
   "source": [
    "### y = 81.343x + 102.141"
   ]
  },
  {
   "cell_type": "markdown",
   "metadata": {},
   "source": [
    "We can check whether our function really fits the model! <br>\n",
    "Remember that we have used __plt__ in the previous steps for the visualization. <br>\n",
    "Let's plot the data and the function."
   ]
  },
  {
   "cell_type": "code",
   "execution_count": null,
   "metadata": {},
   "outputs": [],
   "source": [
    "# Scatter the training dataset & Plot predicted linear regression model\n",
    "plt.\n",
    "plt.\n",
    "plt.xlabel('data')\n",
    "plt.ylabel('target')\n",
    "plt.legend()"
   ]
  },
  {
   "cell_type": "markdown",
   "metadata": {},
   "source": [
    "Our function is obtained with the _training dataset_. Now, evaluate the function with our _test dataset_. <br>\n",
    "We have already made a prediction above as __y_pred__. <br>\n",
    "Let's plot and see:"
   ]
  },
  {
   "cell_type": "code",
   "execution_count": null,
   "metadata": {},
   "outputs": [],
   "source": [
    "# Compare the actual and predicted targets\n",
    "plt.\n",
    "plt.\n",
    "plt.xlabel('data')\n",
    "plt.ylabel('target')\n",
    "plt.legend()"
   ]
  },
  {
   "cell_type": "markdown",
   "metadata": {},
   "source": [
    "# Multiple Linear Regression"
   ]
  },
  {
   "cell_type": "markdown",
   "metadata": {},
   "source": [
    "## California housing dataset"
   ]
  },
  {
   "cell_type": "markdown",
   "metadata": {},
   "source": [
    "In this section, we are extending our problem from simple to multiple linear regression. <br>\n",
    "That means we are searching for a function that has more than one predictor(e.g. x variables)"
   ]
  },
  {
   "cell_type": "markdown",
   "metadata": {},
   "source": [
    "The steps are exactly the same. <br>\n",
    "The only difference is that the data has different number of features."
   ]
  },
  {
   "cell_type": "code",
   "execution_count": null,
   "metadata": {},
   "outputs": [],
   "source": [
    "# Load the california housing dataset\n",
    "dataset = datasets.fetch_california_housing()\n",
    "X, y = dataset.data , dataset.target\n",
    "\n",
    "# Check the dataset\n",
    "print(X.shape, y.shape)"
   ]
  },
  {
   "cell_type": "code",
   "execution_count": null,
   "metadata": {},
   "outputs": [],
   "source": [
    "# Split the data and target into training dataset and test dataset\n",
    "?, ?, ?, ? = train_test_split(?, ?, test_size=0.2, random_state=1)"
   ]
  },
  {
   "cell_type": "code",
   "execution_count": null,
   "metadata": {},
   "outputs": [],
   "source": [
    "# Create Linear regression object\n",
    "regressor = linear_model.LinearRegression()\n",
    "\n",
    "# Train the model using the training sets\n",
    "regressor.fit(X_train, y_train)\n",
    "\n",
    "# Make predictions using the testing set\n",
    "y_pred = regressor.predict(X_test)"
   ]
  },
  {
   "cell_type": "code",
   "execution_count": null,
   "metadata": {},
   "outputs": [],
   "source": [
    "# The coefficients\n",
    "print(\"Coefficients: \\n\", regressor.coef_)\n",
    "print(\"Intercept: \\n\", regressor.intercept_)\n",
    "\n",
    "# The mean squared error\n",
    "print(\"Mean squared error: %.2f\" % mean_squared_error(y_test, y_pred))\n",
    "\n",
    "# The coefficient of determination: 1 is perfect prediction\n",
    "print(\"Coefficient of determination: %.2f\" % r2_score(y_test, y_pred))"
   ]
  },
  {
   "cell_type": "markdown",
   "metadata": {},
   "source": [
    "#### y = 0.439x1 + 0.0097x2 - 0.105x3 + 0.631x4 - 0.0000037x5 - 0.0034x6 - 0.426x7 - 0.441x8 - 37.5"
   ]
  },
  {
   "cell_type": "markdown",
   "metadata": {},
   "source": [
    "Again, let's plot our predicted values so that we can check the performance. <br>\n",
    "__pd__ is the name that we have for the package __pandas__ which provides some useful tools for data analysis. <br>\n",
    "Here, we are going to wrap up the result with a table."
   ]
  },
  {
   "cell_type": "code",
   "execution_count": null,
   "metadata": {},
   "outputs": [],
   "source": [
    "# Scatter the Actual and predicted target\n",
    "plt.scatter(y_test, y_pred)\n",
    "plt.xlabel(\"actual target\")\n",
    "plt.ylabel(\"predicted target\")\n",
    "\n",
    "# Make the table between 'actual' and 'predicted'\n",
    "df = pd.\n",
    "df"
   ]
  },
  {
   "cell_type": "markdown",
   "metadata": {},
   "source": [
    "# [Practice 1] : the boston house-prices dataset (regression)\n",
    "### P1.1. You should fill in the blank between # and # with code"
   ]
  },
  {
   "cell_type": "code",
   "execution_count": null,
   "metadata": {},
   "outputs": [],
   "source": [
    "import matplotlib.pyplot as plt\n",
    "import numpy as np\n",
    "from sklearn import datasets, linear_model\n",
    "from sklearn.metrics import mean_squared_error, r2_score\n",
    "from sklearn.datasets import make_regression\n",
    "from sklearn.model_selection import train_test_split\n",
    "import pandas as pd"
   ]
  },
  {
   "cell_type": "code",
   "execution_count": null,
   "metadata": {
    "scrolled": true
   },
   "outputs": [],
   "source": [
    "# Load the diabetes dataset\n",
    "boston = datasets.load_boston()\n",
    "X, y = boston.data, boston.target\n",
    "\n",
    "# Check the number of datasets and the number of features\n",
    "#################################################\n",
    "\n",
    "#################################################\n",
    "\n",
    "# Split the data and target into training dataset and test dataset\n",
    "#################################################\n",
    "######### Use random_state=2020 #################\n",
    "\n",
    "#################################################"
   ]
  },
  {
   "cell_type": "code",
   "execution_count": null,
   "metadata": {},
   "outputs": [],
   "source": [
    "# Create Linear regression object\n",
    "#################################################\n",
    "\n",
    "#################################################\n",
    "\n",
    "# Train the model using the training sets\n",
    "#################################################\n",
    "\n",
    "#################################################\n",
    "\n",
    "# Make predictions using the testing set\n",
    "#################################################\n",
    "\n",
    "#################################################"
   ]
  },
  {
   "cell_type": "code",
   "execution_count": null,
   "metadata": {},
   "outputs": [],
   "source": [
    "# The coefficients and Intercept\n",
    "#################################################\n",
    "\n",
    "\n",
    "#################################################\n",
    "\n",
    "# The mean squared error\n",
    "#################################################\n",
    "\n",
    "#################################################\n",
    "\n",
    "# The coefficient of determination: 1 is perfect prediction\n",
    "#################################################\n",
    "\n",
    "#################################################"
   ]
  },
  {
   "cell_type": "markdown",
   "metadata": {},
   "source": [
    "### P1.2. You should write down the formation between features(x1, x2, ...) and target"
   ]
  },
  {
   "cell_type": "markdown",
   "metadata": {},
   "source": [
    "#### y(target) = ?\n",
    "answer : y = 0.439x1 + 0.00969x2 - 0.105x3 + 0.632x4 - 0.00000368x5 - 0.00345x6 - 0.426x7 - 0.441x8 - 37.516"
   ]
  },
  {
   "cell_type": "code",
   "execution_count": null,
   "metadata": {},
   "outputs": [],
   "source": [
    "# Scatter the Actual and predicted target\n",
    "plt.scatter(y_test, y_pred)\n",
    "plt.xlabel(\"actual target\")\n",
    "plt.ylabel(\"predicted target\")\n",
    "\n",
    "\n",
    "# Make the table between 'actual' and 'predicted'\n",
    "df = pd.DataFrame({'Actual':y_test, 'Predicted':y_pred})\n",
    "df"
   ]
  },
  {
   "cell_type": "code",
   "execution_count": null,
   "metadata": {},
   "outputs": [],
   "source": []
  }
 ],
 "metadata": {
  "kernelspec": {
   "display_name": "Python 3",
   "language": "python",
   "name": "python3"
  },
  "language_info": {
   "codemirror_mode": {
    "name": "ipython",
    "version": 3
   },
   "file_extension": ".py",
   "mimetype": "text/x-python",
   "name": "python",
   "nbconvert_exporter": "python",
   "pygments_lexer": "ipython3",
   "version": "3.7.6"
  }
 },
 "nbformat": 4,
 "nbformat_minor": 4
}
