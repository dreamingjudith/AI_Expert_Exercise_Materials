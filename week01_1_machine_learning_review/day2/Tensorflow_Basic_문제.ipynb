{
 "cells": [
  {
   "cell_type": "markdown",
   "metadata": {},
   "source": [
    "# 0. 시작하기 전에\n",
    "\n",
    "> 여기에 사용된 그림들은 [텐서플로우 공식 문서](https://www.tensorflow.org/guide/tensor)에서 가져왔습니다.\n",
    "\n",
    "시작하기에 앞서 **텐서(Tensor)** 가 무엇인지 짚고 넘어가도록 하겠습니다.\n",
    "\n",
    "**텐서**란 간단하게 말씀드리면 **고차원의 데이터**를 저장하기 위한 그릇이라고 이해하시면 되겠습니다. 여러분이 고등학교 수학에서 배웠을 거라 생각되는 **스칼라(Scalar)**, **벡터(Vector)** 와 **행렬(Matrix)** 는 텐서의 특수한 케이스라 생각하시면 됩니다. 즉 각각을 한단어로 얘기하면 **스칼라 = 0차원 텐서**, **벡터 = 1차원 텐서**, **행렬 = 2차원 텐서**가 되겠습니다."
   ]
  },
  {
   "cell_type": "markdown",
   "metadata": {},
   "source": [
    "- 텐서로 표현한 **스칼라, 벡터, 행렬** 예시\n",
    "\n",
    "<table>\n",
    "<tr>\n",
    "  <th>스칼라, shape: <code>[]</code></th>\n",
    "  <th>벡터, shape: <code>[3]</code></th>\n",
    "  <th>행렬, shape: <code>[3, 2]</code></th>\n",
    "</tr>\n",
    "<tr>\n",
    "  <td>\n",
    "   <img src=\"images/tensor/scalar.png\" alt=\"A scalar, the number 4\" />\n",
    "  </td>\n",
    "\n",
    "  <td>\n",
    "   <img src=\"images/tensor/vector.png\" alt=\"The line with 3 sections, each one containing a number.\"/>\n",
    "  </td>\n",
    "  <td>\n",
    "   <img src=\"images/tensor/matrix.png\" alt=\"A 3x2 grid, with each cell containing a number.\">\n",
    "  </td>\n",
    "</tr>\n",
    "</table>\n",
    "\n",
    "---"
   ]
  },
  {
   "cell_type": "markdown",
   "metadata": {},
   "source": [
    "기계학습에서는 이들 뿐만 아니라 그 이상의 차원을 가지는 데이터도 굉장히 자주 사용됩니다. 따라서 이들을 처리하기 위해 **텐서**라는 추상적인 개념을 구현하고 이들에게 필요한 연산을 지원하는 소프트웨어 라이브러리 중 하나가 바로 **텐서플로우(Tensorflow)** 인 것입니다.\n",
    "\n",
    "따라서 텐서플로우를 이용하면 다음과 같은 3차원, 4차원 데이터도 손쉽게 다룰 수 있습니다.\n",
    "\n",
    "---"
   ]
  },
  {
   "cell_type": "markdown",
   "metadata": {},
   "source": [
    "- **3차원 텐서**\n",
    "\n",
    "<table>\n",
    "<tr>\n",
    "  <th colspan=3>A 3-axis tensor, shape: <code>[3, 2, 5]</code></th>\n",
    "<tr>\n",
    "<tr>\n",
    "  <td>\n",
    "   <img src=\"images/tensor/3-axis_numpy.png\"/>\n",
    "  </td>\n",
    "  <td>\n",
    "   <img src=\"images/tensor/3-axis_front.png\"/>\n",
    "  </td>\n",
    "\n",
    "  <td>\n",
    "   <img src=\"images/tensor/3-axis_block.png\"/>\n",
    "  </td>\n",
    "</tr>\n",
    "\n",
    "</table>\n",
    "\n",
    "---"
   ]
  },
  {
   "cell_type": "markdown",
   "metadata": {},
   "source": [
    "- **4차원 텐서**\n",
    "\n",
    "<table>\n",
    "<tr>\n",
    "  <th colspan=2>A rank-4 tensor, shape: <code>[3, 2, 4, 5]</code></th>\n",
    "</tr>\n",
    "<tr>\n",
    "  <td>\n",
    "<img src=\"images/tensor/shape.png\" alt=\"A tensor shape is like a vector.\">\n",
    "    <td>\n",
    "<img src=\"images/tensor/4-axis_block.png\" alt=\"A 4-axis tensor\">\n",
    "  </td>\n",
    "  </tr>\n",
    "</table>\n",
    "\n",
    "---\n",
    "\n",
    "잘 아시겠지만, 4차원부터는 인간의 관념으로 시각화가 불가능하기 때문에 위의 그림과 같이 표현할 수 밖에 없게 됩니다.\n",
    "\n",
    "이번 실습에서는 이러한 텐서들을 텐서플로우에서 **만들고 연산하는** 방법과 기계학습을 위해 필수로 알아야 하는 텐서플로우 내의 개념들을 실습해보도록 하겠습니다."
   ]
  },
  {
   "cell_type": "markdown",
   "metadata": {},
   "source": [
    "# 1. Tensorflow Basic\n",
    "\n",
    "이 실습에서는 Tensorflow에서 가장 핵심이 되는 **텐서**를 만들고 조작하는 함수를 알아보도록 하겠습니다. Tensorflow 내에서 텐서는 `Tensor` 클래스를 통해 구현됩니다. 필수는 아니지만, 실습을 하면서 Tensor의 구체적인 정보가 필요하신 분들은 다음 [**링크**](https://www.tensorflow.org/guide/tensor)를 참조해주세요.\n",
    "\n",
    "Tensorflow에서 사용하는 함수들에 대해선 다음 링크를 참조해주세요. 텐서 실습시에 필요한 함수를 찾아보기에 유용할 것입니다.\n",
    "\n",
    "[**Tensorflow API 문서**](https://www.tensorflow.org/api_docs/python/tf#functions_2)\n",
    "\n",
    "- **시작하기에 앞서**: 본 실습의 모든 답안은 **한줄**로 작성할 수 있습니다. `None`으로 채워진 코드를 모두 바꿔주세요"
   ]
  },
  {
   "cell_type": "code",
   "execution_count": 1,
   "metadata": {},
   "outputs": [],
   "source": [
    "import tensorflow as tf"
   ]
  },
  {
   "cell_type": "code",
   "execution_count": 2,
   "metadata": {},
   "outputs": [],
   "source": [
    "# 두 텐서가 완전히 같은지를 판별하는 함수입니다.\n",
    "# 넘어가셔도 좋습니다.\n",
    "def compare_tensors(x, y):\n",
    "    diff = len(tf.where(tf.math.equal(x, y) == False))\n",
    "    \n",
    "    if diff == 0:\n",
    "        return True\n",
    "    else:\n",
    "        return False"
   ]
  },
  {
   "cell_type": "markdown",
   "metadata": {},
   "source": [
    "## 1.1 Constant Tensors\n",
    "\n",
    "모든 값이 **상수**인 텐서를 만드는 함수를 알아봅니다."
   ]
  },
  {
   "cell_type": "code",
   "execution_count": 3,
   "metadata": {
    "tags": []
   },
   "outputs": [
    {
     "output_type": "stream",
     "name": "stdout",
     "text": "[t1]\n tf.Tensor(8, shape=(), dtype=int32)\n\n[t2]\n: tf.Tensor(\n[[0. 0. 0. 0. 0.]\n [0. 0. 0. 0. 0.]\n [0. 0. 0. 0. 0.]], shape=(3, 5), dtype=float32)\n\n[t3]\n tf.Tensor(\n[[[1. 1. 1. 1. 1. 1.]\n  [1. 1. 1. 1. 1. 1.]]\n\n [[1. 1. 1. 1. 1. 1.]\n  [1. 1. 1. 1. 1. 1.]]\n\n [[1. 1. 1. 1. 1. 1.]\n  [1. 1. 1. 1. 1. 1.]]\n\n [[1. 1. 1. 1. 1. 1.]\n  [1. 1. 1. 1. 1. 1.]]], shape=(4, 2, 6), dtype=float32)\n\n[t4]\n tf.Tensor(\n[[[7 7 7 7]\n  [7 7 7 7]\n  [7 7 7 7]\n  [7 7 7 7]\n  [7 7 7 7]]\n\n [[7 7 7 7]\n  [7 7 7 7]\n  [7 7 7 7]\n  [7 7 7 7]\n  [7 7 7 7]]], shape=(2, 5, 4), dtype=int32)\n\n[t5]\n tf.Tensor(\n[[1 2 3]\n [4 5 6]], shape=(2, 3), dtype=int32)\n"
    }
   ],
   "source": [
    "#################################################\n",
    "# TODO: 8의 값을 가지는 스칼라 텐서를 만드세요.\n",
    "\n",
    "# Hint: API 문서에서 \"상수\"랑 연관있는 함수를 찾으세요. (c로 시작하는 함수)\n",
    "t1 = tf.constant(8)\n",
    "#################################################\n",
    "\n",
    "print('[t1]\\n', t1)\n",
    "print()\n",
    "\n",
    "#################################################\n",
    "# TODO: 0의 값을 가지는 (3 X 5) 텐서를 만드세요.\n",
    "#       코드는 한줄로만 작성해야 합니다.\n",
    "\n",
    "# Hint: API 문서에서 \"0\"이랑 연관있는 함수를 찾으세요. (z로 시작하는 함수)\n",
    "t2 = tf.zeros(shape=(3, 5))\n",
    "#################################################\n",
    "\n",
    "print('[t2]\\n:', t2)\n",
    "print()\n",
    "\n",
    "#########################################################\n",
    "# TODO: 모든 원소의 값이 1인 (4 X 2 X 6) 텐서를 만드세요.\n",
    "#       코드는 한줄로만 작성해야 합니다. \n",
    "\n",
    "# Hint: API 문서에서 \"1\"이랑 연관있는 함수를 찾으세요 (o로 시작하는 함수)\n",
    "t3 = tf.ones(shape=(4, 2, 6))\n",
    "#########################################################\n",
    "\n",
    "print('[t3]\\n', t3)\n",
    "print()\n",
    "################################################################################\n",
    "# TODO: 모든 원소의 값이 7인 (2 X 5 X 4) 텐서를 만드세요.\n",
    "#       코드는 한줄로만 작성해야 합니다. 위의 함수들과는 다른 함수를 사용해야 합니다.\n",
    "\n",
    "# Hint: API 문서에서 \"채우다\"랑 연관있는 함수를 찾으세요 (f로 시작하는 함수)\n",
    "t4 = tf.fill((2, 5, 4), 7)\n",
    "################################################################################\n",
    "\n",
    "print('[t4]\\n', t4)\n",
    "print()\n",
    "############################################################\n",
    "# TODO: [1, 2, 3, 4, 5, 6]의 값으로 (2 X 3) 텐서를 만드세요.\n",
    "#       반드시 [1, 2, 3, 4, 5, 6]을 input으로 주되,\n",
    "#       이를 (2 X 3) 으로 바꿀 수 있는 argument를 찾아보세요.\n",
    "#       코드는 한줄로만 작성해야 합니다.\n",
    "\n",
    "# Hint: t1을 만들 때 사용한 함수에서 \"모양\"을 지정하는 argument를 찾으세요.\n",
    "t5 = tf.constant([1, 2, 3, 4, 5, 6], shape=(2, 3))\n",
    "############################################################\n",
    "\n",
    "print('[t5]\\n', t5)"
   ]
  },
  {
   "cell_type": "markdown",
   "metadata": {},
   "source": [
    "## 1.2. Random Tensors\n",
    "\n",
    "텐서의 각 원소를 **임의**로 지정하는 함수를 알아봅니다.\n",
    "\n",
    "**임의**의 것을 다루는 함수들은 `tf.random` 모듈 내에 있습니다.\n",
    "\n",
    "**[tf.random 모듈 API 문서](https://www.tensorflow.org/api_docs/python/tf/random#functions_2)**"
   ]
  },
  {
   "cell_type": "code",
   "execution_count": 4,
   "metadata": {
    "tags": []
   },
   "outputs": [
    {
     "output_type": "stream",
     "name": "stdout",
     "text": "[rand_t1]\n tf.Tensor(\n[[-2.4046578e+00 -2.3890927e+00  1.7833508e+00 -1.5023218e+00]\n [-5.4486282e-04 -5.0134611e-01 -7.7926201e-01 -2.5646713e+00]\n [-4.3001470e-01 -1.0267419e+00  1.8098092e+00 -9.2778307e-01]\n [-6.2344633e-02 -8.9523911e-01  3.3514613e-01 -2.5981578e-01]\n [ 3.2710505e-01 -1.7180382e+00 -3.1354606e-01 -2.0487127e+00]\n [ 9.0171313e-01 -4.1337857e-01 -1.3884579e+00 -3.4358630e-01]\n [-2.8841323e-01  1.1770872e-01 -7.2498763e-01  1.0482236e+00]], shape=(7, 4), dtype=float32)\n\n[rand_t2]\n tf.Tensor(\n[[[0.00959551 1.8765503  0.19789016]\n  [1.0842608  2.6457067  1.5005189 ]\n  [0.08259702 1.6408428  1.6145504 ]\n  [1.6893722  0.37927902 0.9761796 ]]\n\n [[2.005598   1.5331972  2.7420306 ]\n  [1.0648663  0.6500448  1.4101685 ]\n  [0.35023355 1.5725112  1.8342361 ]\n  [0.95523727 1.078616   2.1341739 ]]\n\n [[2.8579183  2.4350133  1.3316549 ]\n  [2.711091   1.8657961  0.8589277 ]\n  [0.41197872 1.2924188  1.0941936 ]\n  [1.0285889  0.42260563 0.47364485]]\n\n [[2.9291973  2.3528543  0.1345371 ]\n  [2.081379   1.2024068  1.0125142 ]\n  [0.05446851 2.0987527  1.9121307 ]\n  [2.4217863  0.531935   1.8966694 ]]\n\n [[1.7761688  2.3566747  1.8997364 ]\n  [2.5629587  1.6493204  0.90859544]\n  [2.7331295  1.5828699  1.679109  ]\n  [2.2644472  1.7821455  0.26844049]]], shape=(5, 4, 3), dtype=float32)\n\n"
    }
   ],
   "source": [
    "seed = 3921\n",
    "\n",
    "#######################################################################\n",
    "# TODO: 평균 0, 표준편차 1인 정규 분포에서 생성된 (7 X 4) 텐서를 만드세요.\n",
    "#        seed 값을 꼭 위의 변수로 설정해주세요!\n",
    "\n",
    "# Hint: random 모듈 내에서 \"정규\"랑 연관있는 함수를 찾으세요. (n으로 시작하는 함수)\n",
    "#       seed값 넣는 것도 잊지 마세요!\n",
    "rand_t1 = tf.random.normal((7, 4), mean=0, stddev=1, seed=seed)\n",
    "#######################################################################\n",
    "\n",
    "print('[rand_t1]\\n', rand_t1)\n",
    "print()\n",
    "\n",
    "####################################################################################\n",
    "# TODO: 최소값 0, 최대값 3인 균등(uniform) 분포에서 생성된 (5 X 4 X 3) 텐서를 만드세요.\n",
    "#       seed 값을 꼭 위의 변수로 설정해주세요!\n",
    "\n",
    "# Hint: random 모듈 내에서 \"균등\"과 연관있는 함수를 찾으세요. (u로 시작하는 함수)\n",
    "#       마찬가지로 seed값 넣는 것도 잊지 마세요!\n",
    "rand_t2 = tf.random.uniform((5, 4, 3), minval=0, maxval=3, seed=seed)\n",
    "####################################################################################\n",
    "\n",
    "print('[rand_t2]\\n', rand_t2)\n",
    "print()"
   ]
  },
  {
   "cell_type": "markdown",
   "metadata": {},
   "source": [
    "## 1.3. Tensor Arithmetic\n",
    "\n",
    "두개 이상의 텐서의 **사칙연산과 행렬곱**을 구하는 함수를 알아봅니다.\n",
    "\n",
    "더불어, 하나의 텐서의 모든 원소들의 **합, 평균, 최대값**을 구하는 함수 또한 알아봅니다.\n",
    "\n",
    "**Hint**: 합, 평균, 최대의 경우에는 모든 원소들을 하나의 값으로 **감소(reduce)** 시키는 것이므로 이것에 유의하여 함수를 찾아보세요.\n",
    "\n",
    "이들은 주로 `tf` 모듈 내에 있습니다.\n",
    "\n",
    "[**Tensorflow API 문서**](https://www.tensorflow.org/api_docs/python/tf#functions_2)\n",
    "\n",
    "---\n",
    "\n",
    "이번 섹션의 마지막 문제는 `tf.math`의 모듈도 필요합니다.\n",
    "\n",
    "[**tf.math 모듈 API 문서**](https://www.tensorflow.org/api_docs/python/tf/math#functions_2)"
   ]
  },
  {
   "cell_type": "code",
   "execution_count": 6,
   "metadata": {
    "tags": []
   },
   "outputs": [
    {
     "output_type": "stream",
     "name": "stdout",
     "text": "<PASS> add_1 and add_2 are same!\n\n<PASS> mul_1 and mul_2 are same!\n\n<PASS> mat_mul_1 and mat_mul_2 are same!\n\n[mean_mat_mul_1]: tf.Tensor(355, shape=(), dtype=int32)\n[sum_mat_mul_1]: tf.Tensor(6390, shape=(), dtype=int32)\n[max_mat_mul_1]: tf.Tensor(660, shape=(), dtype=int32)\n"
    }
   ],
   "source": [
    "#####################################################################\n",
    "# TODO: 1부터 12까지의 값을 연속적으로 가지는 (3 X 4) 텐서를 만드세요.\n",
    "#       값을 연속으로 생성할 수 있는 Tensorflow 내의 함수를 사용하세요.\n",
    "\n",
    "# Hint: 상수 텐서를 만드는 함수를 사용하세요.\n",
    "#       연속적인 값을 위해서는 맨 위의 소개에 있는 텐서플로우 전체 API 문서에서\n",
    "#       \"범위\"랑 연관 있는 함수를 찾으세요 (r로 시작하는 함수)\n",
    "#       즉, 코드 형태가 tf.c...(tf.r..., s...)의 형태로 이루어져야 합니다.\n",
    "t1 = tf.constant(tf.range(1, 13), shape=(3, 4))\n",
    "#####################################################################\n",
    "\n",
    "#####################################################################\n",
    "# TODO: 13부터 24까지의 값을 연속적으로 가지는 (3 X 4) 텐서를 만드세요.\n",
    "#       값을 연속으로 생성할 수 있는 Tensorflow 내의 함수를 사용하세요.\n",
    "\n",
    "# Hint: 바로 위의 t1과 거의 같게 만들면 됩니다.\n",
    "#       범위만 주의해서 넣어주세요.\n",
    "t2 = tf.constant(tf.range(13, 25), shape=(3, 4))\n",
    "#####################################################################\n",
    "\n",
    "#####################################################################\n",
    "# TODO: t1과 t2를 원소별로(element-wise) 더한 텐서를 구하세요.\n",
    "# add_1과 add_2를 서로 다른 방식으로 계산하되, 둘의 결과는 같아야 합니다.\n",
    "\n",
    "# Hint: Python에서 더하기 위해 사용하는 연산자와 tensorflow에서 두 텐서를 더하기 위해\n",
    "#       사용하는 함수를 각각 사용하면 됩니다.\n",
    "#       당연히 add_2 = add_1과 같이 하면 안됩니다.\n",
    "add_1 = t1 + t2\n",
    "add_2 = tf.add(t1, t2)\n",
    "#####################################################################\n",
    "\n",
    "assert compare_tensors(add_1, add_2)\n",
    "print('<PASS> add_1 and add_2 are same!\\n')\n",
    "\n",
    "#####################################################################\n",
    "# TODO: t1과 t2를 원소별로 곱한 텐서를 구하세요.\n",
    "# mul_1과 mul_2를 서로 다른 방식으로 계산하되, 둘의 결과는 같아야 합니다.\n",
    "\n",
    "# Hint: Python에서 곱하기 위해 사용하는 연산자와 tensorflow에서 두 텐서를 곱하기 위해\n",
    "#       사용하는 함수를 각각 사용하면 됩니다.\n",
    "#       당연히 mul_2 = mul_1과 같이 하면 안됩니다.\n",
    "mul_1 = t1 * t2\n",
    "mul_2 = tf.multiply(t1, t2)\n",
    "#####################################################################\n",
    "\n",
    "assert compare_tensors(mul_1, mul_2)\n",
    "print('<PASS> mul_1 and mul_2 are same!\\n')\n",
    "\n",
    "#####################################################################\n",
    "# TODO: 1부터 24까지의 값을 연속적으로 가지는 (4 X 6) 텐서를 만드세요.\n",
    "#       값을 연속으로 생성할 수 있는 Tensorflow 내의 함수를 사용하세요.\n",
    "\n",
    "# Hint: 위의 t1이나 t2와 거의 같게 만들면 됩니다.\n",
    "#       범위만 주의해서 넣어주세요.\n",
    "t3 = tf.constant(tf.range(1, 25), shape=(4, 6))\n",
    "#####################################################################\n",
    "\n",
    "#############################################################################\n",
    "# TODO: t1과 t3 사이의 행렬곱(matrix multiplication)을 구하세요.\n",
    "# mat_mul_1과 mat_mul_2를 서로 다른 방식으로 계산하되, 둘의 결과는 같아야 합니다.\n",
    "\n",
    "# Hint: Python에서 행렬 곱셈을 위해 사용하는 연산자와 tensorflow에서 두 텐서의 행렬 곱셈을 위해\n",
    "#       사용하는 함수를 각각 사용하면 됩니다.\n",
    "#       당연히 mat_mul_2 = mat_mul_1과 같이 하면 안됩니다.\n",
    "\n",
    "# Hint2: 실습 시작 때 강조했듯 본 실습의 모든 답안은 한줄로 작성할 수 있습니다.\n",
    "#        따라서 행렬 곱셈을 위한 연산자 또한 더하기나 곱셈처럼 하나의 기호만을 사용하여 한줄로 작성할 수 있습니다.\n",
    "#        Google에서 찾아보시되, numpy 등이나 기타 한줄이 넘어가는 코드는 무시하셔도 됩니다.\n",
    "mat_mul_1 = tf.matmul(t1, t3)\n",
    "mat_mul_2 = t1 @ t3\n",
    "#####################################################################\n",
    "\n",
    "assert compare_tensors(mat_mul_1, mat_mul_2)\n",
    "print('<PASS> mat_mul_1 and mat_mul_2 are same!\\n')\n",
    "\n",
    "###############################################################\n",
    "# TODO: mat_mul_1의 전체 평균과 전체 합, 최대값을 각각 구하세요.\n",
    "\n",
    "# Hint: 이 문제를 위한 함수는 tf.math 모듈 내에 있습니다.\n",
    "#       세 함수 모두 여러개의 값을 하나의 값으로 \"감소\" 시키는 역할을 합니다.\n",
    "#       따라서 \"감소\"와 연관 있는 함수를 찾으세요 (r로 시작하는 함수)\n",
    "mean_mat_mul_1 = tf.math.reduce_mean(mat_mul_1)\n",
    "sum_mat_mul_1 = tf.math.reduce_sum(mat_mul_1)\n",
    "max_mat_mul_1 = tf.math.reduce_max(mat_mul_1)\n",
    "###############################################################\n",
    "\n",
    "print('[mean_mat_mul_1]:', mean_mat_mul_1)\n",
    "print('[sum_mat_mul_1]:', sum_mat_mul_1)\n",
    "print('[max_mat_mul_1]:', max_mat_mul_1)"
   ]
  },
  {
   "cell_type": "markdown",
   "metadata": {},
   "source": [
    "## 1.4. Tensor Reshape"
   ]
  },
  {
   "cell_type": "code",
   "execution_count": 7,
   "metadata": {
    "tags": []
   },
   "outputs": [
    {
     "output_type": "stream",
     "name": "stdout",
     "text": "[t1_reshape1]\n tf.Tensor(\n[[ 1  2  3  4  5  6]\n [ 7  8  9 10 11 12]\n [13 14 15 16 17 18]\n [19 20 21 22 23 24]], shape=(4, 6), dtype=int32)\n\n[t1_reshape2]\n tf.Tensor(\n[[ 1  2  3  4  5  6  7  8]\n [ 9 10 11 12 13 14 15 16]\n [17 18 19 20 21 22 23 24]], shape=(3, 8), dtype=int32)\n"
    }
   ],
   "source": [
    "#######################################################################\n",
    "# TODO: 1부터 24까지의 값을 연속적으로 가지는 (2 X 3 X 4) 텐서를 만드세요.\n",
    "\n",
    "# Hint: \"연속\"과 \"상수\"와 관련된 함수를 또 활용해주시면 됩니다.\n",
    "t1 = tf.constant(tf.range(1, 25), shape=(2, 3, 4))\n",
    "#######################################################################\n",
    "\n",
    "###########################################\n",
    "# TODO: t1 텐서를 (4 X 6) 텐서로 변환하세요.\n",
    "\n",
    "# Hint: API 문서에서 \"다시 모양을 바꾸다\"랑 연관 있는 함수를 찾아주세요. (r로 시작하는 함수)\n",
    "t1_reshape1 = tf.reshape(t1, shape=(4, 6))\n",
    "###########################################\n",
    "\n",
    "print('[t1_reshape1]\\n', t1_reshape1)\n",
    "print()\n",
    "\n",
    "###################################################\n",
    "# TODO: t1 텐서를 행이 3개인 2차원 텐서로 변환하세요.\n",
    "#       행 개수만 지정해야 합니다!\n",
    "\n",
    "# Hint: API 문서에서 \"다시 모양을 바꾸다\"랑 연관 있는 함수를 찾아주세요. (r로 시작하는 함수)\n",
    "#       더불어 모양을 지정해주실 때 \"음수\"값을 잘 활용해 보세요!\n",
    "#       텐서플로우에서 \"음수\"가 가지는 의미를 검색해보시면 좋겠습니다.\n",
    "t1_reshape2 = tf.reshape(t1, shape=(3, -1))\n",
    "###################################################\n",
    "\n",
    "print('[t1_reshape2]\\n', t1_reshape2)"
   ]
  },
  {
   "cell_type": "markdown",
   "metadata": {},
   "source": [
    "# 2. Variable Tensor\n",
    "\n",
    "**Variable 텐서**는 변화하는 값을 저장하기 위한 클래스입니다. 지금까지 사용한 함수로 생성된 텐서는 한번 생성되면 그 값을 변화시킬 수 없습니다. 하지만 모델이 학습되기 위해서는 모델을 구성하는 **weight 텐서**가 변화해야 하기 때문에 이때는 값이 **변화하는** 텐서가 필요합니다. 따라서 이 경우에 사용하는 텐서가 바로 **Variable** 텐서입니다.\n",
    "\n",
    "Variable 텐서에 사용할 수 있는 함수들은 다음 문서에서 찾아볼 수 있습니다.\n",
    "\n",
    "[**Variable 텐서 API 문서**](https://www.tensorflow.org/api_docs/python/tf/Variable#methods_2)"
   ]
  },
  {
   "cell_type": "markdown",
   "metadata": {},
   "source": [
    "## 2.1 Variable"
   ]
  },
  {
   "cell_type": "code",
   "execution_count": 10,
   "metadata": {
    "tags": []
   },
   "outputs": [
    {
     "output_type": "stream",
     "name": "stdout",
     "text": "[var_t]:\n <tf.Variable 'Variable:0' shape=(3, 3) dtype=int32, numpy=\narray([[1, 2, 3],\n       [4, 5, 6],\n       [7, 8, 9]], dtype=int32)>\n\n[var_t2]\n <tf.Variable 'Variable:0' shape=(2, 2) dtype=int32, numpy=\narray([[1, 2],\n       [3, 4]], dtype=int32)>\n\n[var_t3]\n <tf.Variable 'UnreadVariable' shape=(2, 2) dtype=int32, numpy=\narray([[5, 6],\n       [7, 8]], dtype=int32)>\n\n[var_t4]\n <tf.Variable 'UnreadVariable' shape=(2, 2) dtype=int32, numpy=\narray([[ 7,  9],\n       [11, 13]], dtype=int32)>\n\n[var_t5]\n <tf.Variable 'UnreadVariable' shape=(2, 2) dtype=int32, numpy=\narray([[6, 6],\n       [6, 6]], dtype=int32)>\n"
    }
   ],
   "source": [
    "######################################################################\n",
    "# TODO: 1부터 9까지의 값을 순서대로 가지는 3 x 3 Variable 텐서를 만드세요\n",
    "\n",
    "# Hint: API 문서에서 \"변수\"와 연관 있는 함수를 찾아보세요. (V(대문자)로 시작하는 함수)\n",
    "var_t = tf.Variable([[1, 2, 3], [4, 5, 6], [7, 8, 9]])\n",
    "######################################################################\n",
    "\n",
    "print('[var_t]:\\n', var_t)\n",
    "print()\n",
    "\n",
    "################################################################\n",
    "# TODO: constant를 이용해 1부터 4까지의 값을 가지는 텐서를 만들고\n",
    "#       Variable 텐서로 변환하세요\n",
    "\n",
    "# Hint: \"상수\" 텐서를 만드는 함수와\n",
    "#       \"변수\" 텐서를 만드는 함수를 활용하시면 됩니다.\n",
    "cons_t = tf.constant(tf.range(1, 5), shape=(2, 2))\n",
    "var_t2 = tf.Variable(cons_t)\n",
    "################################################################\n",
    "\n",
    "print('[var_t2]\\n', var_t2)\n",
    "print()\n",
    "\n",
    "########################################################################\n",
    "# TODO: 위에서 생성한 var_t2의 값을 5에서 8까지의 값이 들어가도록 바꾸세요\n",
    "\n",
    "# Hint: Variable 텐서의 API 문서에서 \"할당하다\"와 연관 있는 함수를 찾아주세요 (a로 시작하는 함수)\n",
    "var_t3 = var_t2.assign(tf.constant(tf.range(5, 9), shape=(2, 2)))\n",
    "########################################################################\n",
    "\n",
    "print('[var_t3]\\n', var_t3)\n",
    "print()\n",
    "\n",
    "############################################################\n",
    "# TODO: var_t3에 [[2, 3], [4, 5]]로 이루어진 텐서를 더하세요\n",
    "#       반드시 Variable 텐서에 사용되는 함수를 이용해야 합니다.\n",
    "\n",
    "# Hint: Variable 텐서의 API 문서에서 \"더해서 할당하다\"와 연관 있는 함수를 찾아주세요 (a로 시작하는 함수)\n",
    "#       할당만 하는 함수와는 다릅니다!\n",
    "var_t4 = var_t3.assign_add([[2, 3], [4, 5]])\n",
    "############################################################\n",
    "\n",
    "print('[var_t4]\\n', var_t4)\n",
    "print()\n",
    "\n",
    "############################################################\n",
    "# TODO: var_t4에 [[1, 3], [5, 7]]로 이루어진 텐서를 빼세요\n",
    "#       반드시 Variable 텐서에 사용되는 함수를 이용해야 합니다.\n",
    "\n",
    "# Hint: Variable 텐서의 API 문서에서 \"빼서 할당하다\"와 연관 있는 함수를 찾아주세요 (a로 시작하는 함수)\n",
    "#       마찬가지로 할당만 하는 함수와는 다릅니다!\n",
    "var_t5 = var_t4.assign_sub([[1, 3], [5, 7]])\n",
    "############################################################\n",
    "\n",
    "print('[var_t5]\\n', var_t5)"
   ]
  },
  {
   "cell_type": "markdown",
   "metadata": {},
   "source": [
    "## 2.2 Gradient\n",
    "\n",
    "Variable 텐서를 사용하는 가장 큰 이유는 Gradient 계산, 즉 미분을 하기 위함입니다. 앞서 소개해드린 대로 모델의 학습을 위해 **손실 함수(Loss Function)** 을 정의하고 이를 최적화하기 위해 Automatic Differentiation을 수행하는데, 이번 실습에서는 Tensorflow에서 미분을 관리하는 `GradientTape` 이라는 것을 알아보도록 하겠습니다."
   ]
  },
  {
   "cell_type": "code",
   "execution_count": 11,
   "metadata": {
    "tags": []
   },
   "outputs": [
    {
     "output_type": "stream",
     "name": "stdout",
     "text": "tf.Tensor(6.0, shape=(), dtype=float32)\n"
    }
   ],
   "source": [
    "# 다음은 GradientTape을 어떻게 사용하는지에 대한 간단한 예시입니다.\n",
    "# 여기서는 x가 Variable 텐서가 아닌 일반 텐서임을 유의해주세요.\n",
    "x = tf.constant(3.0)\n",
    "with tf.GradientTape() as tape:\n",
    "    tape.watch(x) # x가 Variable이 아니기 때문에 x를 GradientTape이 추적할 수 있도록 해줍니다.\n",
    "    y = x * x # y = x ^ 2\n",
    "    \n",
    "dy_dx = tape.gradient(y, x) # dy = 2x\n",
    "print(dy_dx)"
   ]
  },
  {
   "cell_type": "code",
   "execution_count": 12,
   "metadata": {
    "tags": []
   },
   "outputs": [
    {
     "output_type": "stream",
     "name": "stdout",
     "text": "dw / dz: tf.Tensor([68. 68.], shape=(2,), dtype=float32)\ndw / dx: tf.Tensor([408. 408.], shape=(2,), dtype=float32)\ndw / dy: tf.Tensor([680. 680.], shape=(2,), dtype=float32)\n"
    }
   ],
   "source": [
    "######################################################################################\n",
    "# TODO: z = x ^ 2 + y ^ 2와 w = z ^ 2 함수를 구현한 뒤에 dw_dz, dw_dx, dw_dy를 구하세요.\n",
    "# x와 y는 각각 [3.0, 3.0]과 [5.0, 5.0]의 초기값을 갖는 Variable 텐서여야 합니다.\n",
    "\n",
    "# Hint: \"변수\" 텐서 만들어주시면 됩니다.\n",
    "x = tf.Variable([3.0, 3.0])\n",
    "y = tf.Variable([5.0, 5.0])\n",
    "\n",
    "# gradient() 함수를 여러번 사용하기 위해서는 persistent=True를 설정해야 합니다.\n",
    "with tf.GradientTape(persistent=True) as tape:\n",
    "    # <위의 예시와 다소 달라 혹시나 하신 분들> Variable 텐서를 사용하면 watch() 함수는 필요하지 않습니다.\n",
    "    z = x**2 + y**2 # z = x ^ 2 + y ^ 2\n",
    "    w = z**2 # w = z ^ 2\n",
    "\n",
    "print('dw / dz:', tape.gradient(w, z)) # z에 대한 w의 미분 (dw / dz)\n",
    "print('dw / dx:', tape.gradient(w, x)) # x에 대한 w의 미분 (dw / dx)\n",
    "print('dw / dy:', tape.gradient(w, y)) # y에 대한 w의 미분 (dw / dy)\n",
    "######################################################################################"
   ]
  }
 ],
 "metadata": {
  "kernelspec": {
   "display_name": "Python 3",
   "language": "python",
   "name": "python3"
  },
  "language_info": {
   "codemirror_mode": {
    "name": "ipython",
    "version": 3
   },
   "file_extension": ".py",
   "mimetype": "text/x-python",
   "name": "python",
   "nbconvert_exporter": "python",
   "pygments_lexer": "ipython3",
   "version": "3.7.6"
  }
 },
 "nbformat": 4,
 "nbformat_minor": 4
}