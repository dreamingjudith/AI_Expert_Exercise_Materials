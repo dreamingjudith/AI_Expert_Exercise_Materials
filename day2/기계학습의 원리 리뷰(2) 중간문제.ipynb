{
 "cells": [
  {
   "cell_type": "code",
   "execution_count": null,
   "metadata": {},
   "outputs": [],
   "source": [
    "# Basic setting\n",
    "import pickle\n",
    "import numpy as np\n",
    "import tensorflow as tf\n",
    "import matplotlib.pyplot as plt\n",
    "%matplotlib inline"
   ]
  },
  {
   "cell_type": "code",
   "execution_count": null,
   "metadata": {},
   "outputs": [],
   "source": [
    "# Load the dataset\n",
    "with open('midterm.pickle', 'rb') as f:\n",
    "    X, y = pickle.load(f)"
   ]
  },
  {
   "cell_type": "code",
   "execution_count": null,
   "metadata": {
    "scrolled": true
   },
   "outputs": [],
   "source": [
    "# Check the dataset distribution    \n",
    "plt.scatter(X, y)\n",
    "plt.show()"
   ]
  },
  {
   "cell_type": "markdown",
   "metadata": {},
   "source": [
    "## [문제] 주어진 X, y의 데이터에 최적화된 2차 회귀 모델을 Tensorflow와 Gradient Descent를 이용해 찾으시오.\n",
    "\n",
    "### HINT\n",
    "1. **2차 회귀 모형**\n",
    "\\begin{equation*}\n",
    "f(x) = w_1X^2 + w_2X + b\n",
    "\\end{equation*}\n",
    "2. **MSE loss (Mean Squared Error)**\n",
    "\\begin{equation*}\n",
    "\\left( \\frac{1}{n} \\sum_{i=1}^n (y_i - (wX_i + b))^2 \\right)\n",
    "\\end{equation*}"
   ]
  },
  {
   "cell_type": "code",
   "execution_count": null,
   "metadata": {},
   "outputs": [],
   "source": [
    "# Training setting\n",
    "epochs = 1000\n",
    "learning_rate = 1e-8\n",
    "\n",
    "#################################################\n",
    "### Define model weights and bias parameters ####\n",
    "############## HINT : tf.Variable ###############\n",
    "w1 = \n",
    "w2 =\n",
    "b =\n",
    "\n",
    "\n",
    "# Perform Gradient Descent\n",
    "for i in range(epochs):\n",
    "    \n",
    "####### Hint : Consider multiple weights  #######\n",
    "\n",
    "    # Define MSE loss function (Hint: tf.GradientTape(), tf.reduce_mean())\n",
    "    with ??? as tape:\n",
    "        loss = ???((y ? (w1 ? X**2 ? w2 ? X ? b))**2)\n",
    "        \n",
    "    # Get gradients of parameters (Hint: tape.gradient())\n",
    "    dw1, dw2, db = ???(?, [?, ?, ?])\n",
    "    \n",
    "    # Update model weights and bias (Hint : assign_sub())\n",
    "    w1.???(? * ?)\n",
    "    w2.???(? * ?)\n",
    "    b.???(? * ?)\n",
    "    \n",
    "#################################################\n",
    "    \n",
    "# Convert parameters type from tensor to numpy\n",
    "w1 = w1.numpy()\n",
    "w2 = w2.numpy()\n",
    "b = b.numpy()\n",
    "\n",
    "# Print the trained parameters value\n",
    "print('Trained model weights 1 : %.4f' % w1)\n",
    "print('Trained model weights 2 : %.4f' % w2)\n",
    "print('Trained model bias : %.4f' % b)"
   ]
  },
  {
   "cell_type": "code",
   "execution_count": null,
   "metadata": {},
   "outputs": [],
   "source": [
    "# Visualize the trained linear regression model\n",
    "plt.scatter(X, y)   # scatter the original data\n",
    "y_pred = w1*X**2 + w2*X + b\n",
    "plt.plot(X, y_pred, color='red')\n",
    "plt.show()"
   ]
  },
  {
   "cell_type": "markdown",
   "metadata": {},
   "source": [
    " "
   ]
  }
 ],
 "metadata": {
  "kernelspec": {
   "display_name": "Python 3",
   "language": "python",
   "name": "python3"
  },
  "language_info": {
   "codemirror_mode": {
    "name": "ipython",
    "version": 3
   },
   "file_extension": ".py",
   "mimetype": "text/x-python",
   "name": "python",
   "nbconvert_exporter": "python",
   "pygments_lexer": "ipython3",
   "version": "3.7.3"
  }
 },
 "nbformat": 4,
 "nbformat_minor": 2
}
