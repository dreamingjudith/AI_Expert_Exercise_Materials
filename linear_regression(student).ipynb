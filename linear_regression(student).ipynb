{
 "cells": [
  {
   "cell_type": "markdown",
   "metadata": {},
   "source": [
    "<font color='blue'> please import packages below before starting </font>"
   ]
  },
  {
   "cell_type": "code",
   "execution_count": 2,
   "metadata": {},
   "outputs": [],
   "source": [
    "import matplotlib.pyplot as plt\n",
    "import numpy as np\n",
    "from sklearn import datasets, linear_model\n",
    "from sklearn.metrics import mean_squared_error, r2_score\n",
    "from sklearn.datasets import make_regression\n",
    "from sklearn.model_selection import train_test_split\n",
    "import pandas as pd"
   ]
  },
  {
   "cell_type": "markdown",
   "metadata": {},
   "source": [
    "# Simple Linear Regression"
   ]
  },
  {
   "cell_type": "markdown",
   "metadata": {},
   "source": [
    "## Artificial simple regression dataset"
   ]
  },
  {
   "cell_type": "markdown",
   "metadata": {},
   "source": [
    "First, let's generate a simple regression problem. <br>\n",
    "Function __make_regression__ generates a random linear regression model <br>\n",
    "where it returns input, corresponding output, and coefficients for the underlying function."
   ]
  },
  {
   "cell_type": "markdown",
   "metadata": {},
   "source": [
    "parameters: n_samples=100, n_features=1, bias=100, noise=10, coef=True, random_state=1"
   ]
  },
  {
   "cell_type": "code",
   "execution_count": 3,
   "metadata": {},
   "outputs": [],
   "source": [
    "X, y, coef = "
   ]
  },
  {
   "cell_type": "markdown",
   "metadata": {},
   "source": [
    "Take a look of what we've got:"
   ]
  },
  {
   "cell_type": "code",
   "execution_count": 4,
   "metadata": {
    "scrolled": true
   },
   "outputs": [
    {
     "name": "stdout",
     "output_type": "stream",
     "text": [
      "X : [[-0.61175641]\n",
      " [-0.24937038]\n",
      " [ 0.48851815]\n",
      " [ 0.76201118]\n",
      " [ 1.51981682]\n",
      " [ 0.37756379]\n",
      " [ 0.51292982]\n",
      " [-0.67124613]\n",
      " [-1.39649634]\n",
      " [ 0.31563495]\n",
      " [-0.63699565]\n",
      " [-0.39675353]\n",
      " [-1.10061918]\n",
      " [ 0.90085595]\n",
      " [-1.09989127]\n",
      " [ 0.82797464]\n",
      " [-0.07557171]\n",
      " [-0.35224985]\n",
      " [-0.67066229]\n",
      " [-1.07296862]\n",
      " [-0.30620401]\n",
      " [ 2.18557541]\n",
      " [ 0.86540763]\n",
      " [ 0.19829972]\n",
      " [-0.38405435]\n",
      " [-0.68372786]\n",
      " [ 0.05080775]\n",
      " [ 0.58281521]\n",
      " [ 1.25286816]\n",
      " [-0.75439794]\n",
      " [-0.34934272]\n",
      " [-0.88762896]\n",
      " [ 0.18656139]\n",
      " [ 0.87616892]\n",
      " [ 0.83898341]\n",
      " [-0.50446586]\n",
      " [-0.34385368]\n",
      " [ 1.6924546 ]\n",
      " [-2.3015387 ]\n",
      " [ 0.93110208]\n",
      " [ 2.10025514]\n",
      " [ 1.46210794]\n",
      " [-0.84520564]\n",
      " [-0.87785842]\n",
      " [-0.3224172 ]\n",
      " [ 0.88514116]\n",
      " [ 0.16003707]\n",
      " [ 1.13162939]\n",
      " [-0.37528495]\n",
      " [ 0.50249434]\n",
      " [-0.20889423]\n",
      " [ 0.12015895]\n",
      " [ 0.58662319]\n",
      " [ 0.3190391 ]\n",
      " [-0.69166075]\n",
      " [ 0.69803203]\n",
      " [ 1.19891788]\n",
      " [-0.20075807]\n",
      " [ 0.53035547]\n",
      " [ 0.74204416]\n",
      " [ 0.41005165]\n",
      " [ 0.11900865]\n",
      " [-0.7612069 ]\n",
      " [ 0.42349435]\n",
      " [ 0.30017032]\n",
      " [-1.1425182 ]\n",
      " [ 0.18515642]\n",
      " [-0.93576943]\n",
      " [-0.62000084]\n",
      " [-1.11731035]\n",
      " [-1.44411381]\n",
      " [-0.22232814]\n",
      " [ 1.62434536]\n",
      " [ 0.61720311]\n",
      " [-0.6871727 ]\n",
      " [ 0.07734007]\n",
      " [-0.0126646 ]\n",
      " [-0.63873041]\n",
      " [ 1.13376944]\n",
      " [ 1.74481176]\n",
      " [ 0.90159072]\n",
      " [-2.06014071]\n",
      " [ 0.2344157 ]\n",
      " [-0.17242821]\n",
      " [ 0.12182127]\n",
      " [ 1.14472371]\n",
      " [-0.12289023]\n",
      " [-0.74715829]\n",
      " [ 0.28558733]\n",
      " [-2.02220122]\n",
      " [ 0.23009474]\n",
      " [-0.26788808]\n",
      " [-0.52817175]\n",
      " [ 1.12948391]\n",
      " [ 0.19091548]\n",
      " [-0.29809284]\n",
      " [ 1.65980218]\n",
      " [ 0.04359686]\n",
      " [ 0.04221375]\n",
      " [-0.19183555]]\n",
      "y : [ 47.5431146   84.60560134 131.09298076 181.29922354 233.5013812\n",
      " 131.88110117 137.20705164  59.96820329  -6.17554223 124.639066\n",
      "  51.49953198  79.81952981   7.92651763 154.55792402  11.96730036\n",
      " 167.24781801  90.10697887  58.06415472  40.26512924  29.47521548\n",
      "  73.22549093 277.61698746 167.46572572 121.33659327  75.22840147\n",
      "  51.65846425 102.47827403 145.80048542 208.55222544  37.24617548\n",
      "  72.93654777  33.73848126 116.88850749 172.89287434 192.45898132\n",
      "  68.29301456  57.94240506 258.71803893 -89.16666685 171.82648428\n",
      " 267.51735412 211.50394103  30.67456893  35.1891274   66.20091286\n",
      " 172.34371505 126.9415416  185.89817092  70.45828119 137.39534229\n",
      "  70.71258074 112.02641447 163.3414933  126.43950925  52.34417313\n",
      " 161.57186756 196.14806434  93.67887635 121.45691711 158.19302951\n",
      " 142.33541142 103.75391925  55.95332581 136.96121561 130.16415401\n",
      "  16.09240932 117.32833857  26.43626485  65.02791617  16.55643582\n",
      " -17.44672502  76.1155859  241.09227065 151.3687163   42.4931287\n",
      " 118.48181592  84.81138362  51.8307846  195.78274149 245.70060609\n",
      " 197.38413861 -74.06609658 111.19686853  81.55154375 127.50826761\n",
      " 195.49878769  90.40179133  43.60929246 130.82136659 -81.59266703\n",
      " 104.52545955  87.45312552  61.02936689 183.28349563 116.48951451\n",
      "  75.99037697 233.02472573 112.06315399 127.25915157  79.10540659]\n",
      "(100, 1) (100,)\n"
     ]
    }
   ],
   "source": [
    "# Check the dataset\n",
    "print(\"X : \" + str(X))\n",
    "print(\"y : \" + str(y))\n",
    "print(X.shape, y.shape)"
   ]
  },
  {
   "cell_type": "markdown",
   "metadata": {},
   "source": [
    "We can visualize our data with the package __matplotlib__ which we call as __plt__. The function __scatter__ literally shows a scatter plot."
   ]
  },
  {
   "cell_type": "code",
   "execution_count": 5,
   "metadata": {},
   "outputs": [
    {
     "data": {
      "text/plain": [
       "<matplotlib.collections.PathCollection at 0x7f80ac477150>"
      ]
     },
     "execution_count": 5,
     "metadata": {},
     "output_type": "execute_result"
    },
    {
     "data": {
      "image/png": "[encoded data removed]",
      "text/plain": [
       "<Figure size 432x288 with 1 Axes>"
      ]
     },
     "metadata": {
      "needs_background": "light"
     },
     "output_type": "display_data"
    }
   ],
   "source": [
    "plt."
   ]
  },
  {
   "cell_type": "markdown",
   "metadata": {},
   "source": [
    "To evaluate the model that we would acquire in later steps, we should split the dataset. <br>\n",
    "Again, there are predefined functions that help us get through by simpling calling. <br>\n",
    "__train_test_split__ tear the data apart into two - training dataset and test dataset(note that we should define the test_size!)"
   ]
  },
  {
   "cell_type": "code",
   "execution_count": 6,
   "metadata": {},
   "outputs": [],
   "source": [
    "X_train, X_test, y_train, y_test = train_test_split(X, y, test_size=0.2, random_state=1)"
   ]
  },
  {
   "cell_type": "markdown",
   "metadata": {},
   "source": [
    "and we have class variable called __LinearRegression__ that generates ordinary least squares linear regression. <br>\n",
    "State the class variable, call function __fit()__ that literally fits the model to the given data. <br>\n",
    "For each function, please take a careful look at what they have as parameters!"
   ]
  },
  {
   "cell_type": "code",
   "execution_count": 7,
   "metadata": {},
   "outputs": [
    {
     "data": {
      "text/plain": [
       "LinearRegression(copy_X=True, fit_intercept=True, n_jobs=None, normalize=False)"
      ]
     },
     "execution_count": 7,
     "metadata": {},
     "output_type": "execute_result"
    }
   ],
   "source": [
    "# Generate linear regression class object\n",
    "regressor = linear_model.LinearRegression()\n",
    "\n",
    "# Train linear regression model with training dataset\n",
    "regressor."
   ]
  },
  {
   "cell_type": "markdown",
   "metadata": {},
   "source": [
    "Now that we have our fitted function, let's compute the prediction for the test dataset. <br>\n",
    "As an input, we should have X_test."
   ]
  },
  {
   "cell_type": "code",
   "execution_count": 8,
   "metadata": {},
   "outputs": [],
   "source": [
    "# Predict the test dataset\n",
    "y_pred = regressor."
   ]
  },
  {
   "cell_type": "markdown",
   "metadata": {},
   "source": [
    "Let's check what our function is:"
   ]
  },
  {
   "cell_type": "code",
   "execution_count": 9,
   "metadata": {},
   "outputs": [
    {
     "name": "stdout",
     "output_type": "stream",
     "text": [
      "Coefficients: \n",
      " [81.34306536]\n",
      "Intercept: \n",
      " 102.14114424158029\n"
     ]
    }
   ],
   "source": [
    "# The coefficients\n",
    "print(\"Coefficients: \\n\", regressor.coef_)\n",
    "print(\"Intercept: \\n\", regressor.intercept_)"
   ]
  },
  {
   "cell_type": "markdown",
   "metadata": {},
   "source": [
    "We can provide a numerical measure for the evaluation of the model. <br>\n",
    "In this problem, we can comput MSE(mean squared error) and coefficient of determination(square of correlation r)."
   ]
  },
  {
   "cell_type": "code",
   "execution_count": 10,
   "metadata": {},
   "outputs": [
    {
     "name": "stdout",
     "output_type": "stream",
     "text": [
      "Mean squared error: 96.62\n",
      "Coefficient of determination: 0.98\n"
     ]
    }
   ],
   "source": [
    "# The mean squared error\n",
    "print(\"Mean squared error: %.2f\" % mean_squared_error(y_test, y_pred))\n",
    "\n",
    "# The coefficient of determination: 1 is perfect prediction\n",
    "print(\"Coefficient of determination: %.2f\" % r2_score(y_test, y_pred))"
   ]
  },
  {
   "cell_type": "markdown",
   "metadata": {},
   "source": [
    "### y = 81.343x + 102.141"
   ]
  },
  {
   "cell_type": "markdown",
   "metadata": {},
   "source": [
    "We can check whether our function really fits the model! <br>\n",
    "Remember that we have used __plt__ in the previous steps for the visualization. <br>\n",
    "Let's plot the data and the function."
   ]
  },
  {
   "cell_type": "code",
   "execution_count": 7,
   "metadata": {},
   "outputs": [
    {
     "data": {
      "text/plain": [
       "<matplotlib.legend.Legend at 0x29badd46b38>"
      ]
     },
     "execution_count": 7,
     "metadata": {},
     "output_type": "execute_result"
    },
    {
     "data": {
      "image/png": "[encoded data removed]",
      "text/plain": [
       "<Figure size 432x288 with 1 Axes>"
      ]
     },
     "metadata": {
      "needs_background": "light"
     },
     "output_type": "display_data"
    }
   ],
   "source": [
    "# Scatter the training dataset & Plot predicted linear regression model\n",
    "plt.\n",
    "plt.\n",
    "plt.xlabel('data')\n",
    "plt.ylabel('target')\n",
    "plt.legend()"
   ]
  },
  {
   "cell_type": "markdown",
   "metadata": {},
   "source": [
    "Our function is obtained with the _training dataset_. Now, evaluate the function with our _test dataset_. <br>\n",
    "We have already made a prediction above as __y_pred__. <br>\n",
    "Let's plot and see:"
   ]
  },
  {
   "cell_type": "code",
   "execution_count": 11,
   "metadata": {},
   "outputs": [
    {
     "data": {
      "text/plain": [
       "<matplotlib.legend.Legend at 0x7f80ac3eaa10>"
      ]
     },
     "execution_count": 11,
     "metadata": {},
     "output_type": "execute_result"
    },
    {
     "data": {
      "image/png": "[encoded data removed]",
      "text/plain": [
       "<Figure size 432x288 with 1 Axes>"
      ]
     },
     "metadata": {
      "needs_background": "light"
     },
     "output_type": "display_data"
    }
   ],
   "source": [
    "# Compare the actual and predicted targets\n",
    "plt.\n",
    "plt.\n",
    "plt.xlabel('data')\n",
    "plt.ylabel('target')\n",
    "plt.legend()"
   ]
  },
  {
   "cell_type": "markdown",
   "metadata": {},
   "source": [
    "# Multiple Linear Regression"
   ]
  },
  {
   "cell_type": "markdown",
   "metadata": {},
   "source": [
    "## California housing dataset"
   ]
  },
  {
   "cell_type": "markdown",
   "metadata": {},
   "source": [
    "In this section, we are extending our problem from simple to multiple linear regression. <br>\n",
    "That means we are searching for a function that has more than one predictor(e.g. x variables)"
   ]
  },
  {
   "cell_type": "markdown",
   "metadata": {},
   "source": [
    "The steps are exactly the same. <br>\n",
    "The only difference is that the data has different number of features."
   ]
  },
  {
   "cell_type": "code",
   "execution_count": 9,
   "metadata": {},
   "outputs": [
    {
     "name": "stdout",
     "output_type": "stream",
     "text": [
      "(20640, 8) (20640,)\n"
     ]
    }
   ],
   "source": [
    "# Load the california housing dataset\n",
    "dataset = datasets.fetch_california_housing()\n",
    "X, y = dataset.data , dataset.target\n",
    "\n",
    "# Check the dataset\n",
    "print(X.shape, y.shape)"
   ]
  },
  {
   "cell_type": "code",
   "execution_count": 10,
   "metadata": {},
   "outputs": [],
   "source": [
    "# Split the data and target into training dataset and test dataset\n",
    "?, ?, ?, ? = train_test_split(?, ?, test_size=0.2, random_state=1)"
   ]
  },
  {
   "cell_type": "code",
   "execution_count": 11,
   "metadata": {},
   "outputs": [],
   "source": [
    "# Create Linear regression object\n",
    "regressor = linear_model.LinearRegression()\n",
    "\n",
    "# Train the model using the training sets\n",
    "regressor.fit(X_train, y_train)\n",
    "\n",
    "# Make predictions using the testing set\n",
    "y_pred = regressor.predict(X_test)"
   ]
  },
  {
   "cell_type": "code",
   "execution_count": 12,
   "metadata": {},
   "outputs": [
    {
     "name": "stdout",
     "output_type": "stream",
     "text": [
      "Coefficients: \n",
      " [ 4.38565392e-01  9.68722037e-03 -1.04705005e-01  6.32189474e-01\n",
      " -3.67690711e-06 -3.44771323e-03 -4.25964056e-01 -4.40601114e-01]\n",
      "Intercept: \n",
      " -37.51575415983653\n",
      "Mean squared error: 0.53\n",
      "Coefficient of determination: 0.60\n"
     ]
    }
   ],
   "source": [
    "# The coefficients\n",
    "print(\"Coefficients: \\n\", regressor.coef_)\n",
    "print(\"Intercept: \\n\", regressor.intercept_)\n",
    "\n",
    "# The mean squared error\n",
    "print(\"Mean squared error: %.2f\" % mean_squared_error(y_test, y_pred))\n",
    "\n",
    "# The coefficient of determination: 1 is perfect prediction\n",
    "print(\"Coefficient of determination: %.2f\" % r2_score(y_test, y_pred))"
   ]
  },
  {
   "cell_type": "markdown",
   "metadata": {},
   "source": [
    "#### y = 0.439x1 + 0.0097x2 - 0.105x3 + 0.631x4 - 0.0000037x5 - 0.0034x6 - 0.426x7 - 0.441x8 - 37.5"
   ]
  },
  {
   "cell_type": "markdown",
   "metadata": {},
   "source": [
    "Again, let's plot our predicted values so that we can check the performance. <br>\n",
    "__pd__ is the name that we have for the package __pandas__ which provides some useful tools for data analysis. <br>\n",
    "Here, we are going to wrap up the result with a table."
   ]
  },
  {
   "cell_type": "code",
   "execution_count": 13,
   "metadata": {},
   "outputs": [
    {
     "data": {
      "text/html": [
       "<div>\n",
       "<style scoped>\n",
       "    .dataframe tbody tr th:only-of-type {\n",
       "        vertical-align: middle;\n",
       "    }\n",
       "\n",
       "    .dataframe tbody tr th {\n",
       "        vertical-align: top;\n",
       "    }\n",
       "\n",
       "    .dataframe thead th {\n",
       "        text-align: right;\n",
       "    }\n",
       "</style>\n",
       "<table border=\"1\" class=\"dataframe\">\n",
       "  <thead>\n",
       "    <tr style=\"text-align: right;\">\n",
       "      <th></th>\n",
       "      <th>Actual</th>\n",
       "      <th>Predicted</th>\n",
       "    </tr>\n",
       "  </thead>\n",
       "  <tbody>\n",
       "    <tr>\n",
       "      <th>0</th>\n",
       "      <td>3.55000</td>\n",
       "      <td>2.125677</td>\n",
       "    </tr>\n",
       "    <tr>\n",
       "      <th>1</th>\n",
       "      <td>0.70700</td>\n",
       "      <td>0.939771</td>\n",
       "    </tr>\n",
       "    <tr>\n",
       "      <th>2</th>\n",
       "      <td>2.29400</td>\n",
       "      <td>2.708872</td>\n",
       "    </tr>\n",
       "    <tr>\n",
       "      <th>3</th>\n",
       "      <td>1.12500</td>\n",
       "      <td>1.712957</td>\n",
       "    </tr>\n",
       "    <tr>\n",
       "      <th>4</th>\n",
       "      <td>2.25400</td>\n",
       "      <td>2.826805</td>\n",
       "    </tr>\n",
       "    <tr>\n",
       "      <th>5</th>\n",
       "      <td>2.63000</td>\n",
       "      <td>3.495084</td>\n",
       "    </tr>\n",
       "    <tr>\n",
       "      <th>6</th>\n",
       "      <td>2.26800</td>\n",
       "      <td>3.013057</td>\n",
       "    </tr>\n",
       "    <tr>\n",
       "      <th>7</th>\n",
       "      <td>1.66200</td>\n",
       "      <td>1.630133</td>\n",
       "    </tr>\n",
       "    <tr>\n",
       "      <th>8</th>\n",
       "      <td>1.18000</td>\n",
       "      <td>1.742161</td>\n",
       "    </tr>\n",
       "    <tr>\n",
       "      <th>9</th>\n",
       "      <td>1.56300</td>\n",
       "      <td>2.020309</td>\n",
       "    </tr>\n",
       "    <tr>\n",
       "      <th>10</th>\n",
       "      <td>2.93800</td>\n",
       "      <td>2.283009</td>\n",
       "    </tr>\n",
       "    <tr>\n",
       "      <th>11</th>\n",
       "      <td>0.97500</td>\n",
       "      <td>0.845054</td>\n",
       "    </tr>\n",
       "    <tr>\n",
       "      <th>12</th>\n",
       "      <td>0.63500</td>\n",
       "      <td>1.331533</td>\n",
       "    </tr>\n",
       "    <tr>\n",
       "      <th>13</th>\n",
       "      <td>3.14900</td>\n",
       "      <td>2.704046</td>\n",
       "    </tr>\n",
       "    <tr>\n",
       "      <th>14</th>\n",
       "      <td>0.92400</td>\n",
       "      <td>1.247204</td>\n",
       "    </tr>\n",
       "    <tr>\n",
       "      <th>15</th>\n",
       "      <td>1.17200</td>\n",
       "      <td>1.823423</td>\n",
       "    </tr>\n",
       "    <tr>\n",
       "      <th>16</th>\n",
       "      <td>4.85000</td>\n",
       "      <td>3.822312</td>\n",
       "    </tr>\n",
       "    <tr>\n",
       "      <th>17</th>\n",
       "      <td>1.41900</td>\n",
       "      <td>2.039287</td>\n",
       "    </tr>\n",
       "    <tr>\n",
       "      <th>18</th>\n",
       "      <td>1.88500</td>\n",
       "      <td>1.501989</td>\n",
       "    </tr>\n",
       "    <tr>\n",
       "      <th>19</th>\n",
       "      <td>2.28600</td>\n",
       "      <td>2.785086</td>\n",
       "    </tr>\n",
       "    <tr>\n",
       "      <th>20</th>\n",
       "      <td>0.71200</td>\n",
       "      <td>0.013556</td>\n",
       "    </tr>\n",
       "    <tr>\n",
       "      <th>21</th>\n",
       "      <td>1.08500</td>\n",
       "      <td>1.888477</td>\n",
       "    </tr>\n",
       "    <tr>\n",
       "      <th>22</th>\n",
       "      <td>0.56400</td>\n",
       "      <td>1.040565</td>\n",
       "    </tr>\n",
       "    <tr>\n",
       "      <th>23</th>\n",
       "      <td>1.74400</td>\n",
       "      <td>2.238183</td>\n",
       "    </tr>\n",
       "    <tr>\n",
       "      <th>24</th>\n",
       "      <td>2.45200</td>\n",
       "      <td>2.964362</td>\n",
       "    </tr>\n",
       "    <tr>\n",
       "      <th>25</th>\n",
       "      <td>0.92600</td>\n",
       "      <td>1.411651</td>\n",
       "    </tr>\n",
       "    <tr>\n",
       "      <th>26</th>\n",
       "      <td>1.02400</td>\n",
       "      <td>1.154333</td>\n",
       "    </tr>\n",
       "    <tr>\n",
       "      <th>27</th>\n",
       "      <td>2.56100</td>\n",
       "      <td>2.568723</td>\n",
       "    </tr>\n",
       "    <tr>\n",
       "      <th>28</th>\n",
       "      <td>4.71600</td>\n",
       "      <td>4.093090</td>\n",
       "    </tr>\n",
       "    <tr>\n",
       "      <th>29</th>\n",
       "      <td>1.22500</td>\n",
       "      <td>1.640556</td>\n",
       "    </tr>\n",
       "    <tr>\n",
       "      <th>...</th>\n",
       "      <td>...</td>\n",
       "      <td>...</td>\n",
       "    </tr>\n",
       "    <tr>\n",
       "      <th>4098</th>\n",
       "      <td>1.19400</td>\n",
       "      <td>1.354614</td>\n",
       "    </tr>\n",
       "    <tr>\n",
       "      <th>4099</th>\n",
       "      <td>2.68100</td>\n",
       "      <td>2.412803</td>\n",
       "    </tr>\n",
       "    <tr>\n",
       "      <th>4100</th>\n",
       "      <td>3.88300</td>\n",
       "      <td>3.101938</td>\n",
       "    </tr>\n",
       "    <tr>\n",
       "      <th>4101</th>\n",
       "      <td>3.24700</td>\n",
       "      <td>3.519217</td>\n",
       "    </tr>\n",
       "    <tr>\n",
       "      <th>4102</th>\n",
       "      <td>1.81300</td>\n",
       "      <td>0.856617</td>\n",
       "    </tr>\n",
       "    <tr>\n",
       "      <th>4103</th>\n",
       "      <td>2.71600</td>\n",
       "      <td>2.204403</td>\n",
       "    </tr>\n",
       "    <tr>\n",
       "      <th>4104</th>\n",
       "      <td>2.59600</td>\n",
       "      <td>2.640309</td>\n",
       "    </tr>\n",
       "    <tr>\n",
       "      <th>4105</th>\n",
       "      <td>1.67600</td>\n",
       "      <td>1.731466</td>\n",
       "    </tr>\n",
       "    <tr>\n",
       "      <th>4106</th>\n",
       "      <td>1.31300</td>\n",
       "      <td>1.669037</td>\n",
       "    </tr>\n",
       "    <tr>\n",
       "      <th>4107</th>\n",
       "      <td>2.75000</td>\n",
       "      <td>1.269708</td>\n",
       "    </tr>\n",
       "    <tr>\n",
       "      <th>4108</th>\n",
       "      <td>3.38700</td>\n",
       "      <td>2.928760</td>\n",
       "    </tr>\n",
       "    <tr>\n",
       "      <th>4109</th>\n",
       "      <td>2.19700</td>\n",
       "      <td>2.888542</td>\n",
       "    </tr>\n",
       "    <tr>\n",
       "      <th>4110</th>\n",
       "      <td>5.00001</td>\n",
       "      <td>4.441711</td>\n",
       "    </tr>\n",
       "    <tr>\n",
       "      <th>4111</th>\n",
       "      <td>0.71300</td>\n",
       "      <td>0.878347</td>\n",
       "    </tr>\n",
       "    <tr>\n",
       "      <th>4112</th>\n",
       "      <td>1.93800</td>\n",
       "      <td>2.385836</td>\n",
       "    </tr>\n",
       "    <tr>\n",
       "      <th>4113</th>\n",
       "      <td>0.90600</td>\n",
       "      <td>1.649328</td>\n",
       "    </tr>\n",
       "    <tr>\n",
       "      <th>4114</th>\n",
       "      <td>2.60800</td>\n",
       "      <td>2.403777</td>\n",
       "    </tr>\n",
       "    <tr>\n",
       "      <th>4115</th>\n",
       "      <td>3.42700</td>\n",
       "      <td>3.142466</td>\n",
       "    </tr>\n",
       "    <tr>\n",
       "      <th>4116</th>\n",
       "      <td>2.21900</td>\n",
       "      <td>2.634699</td>\n",
       "    </tr>\n",
       "    <tr>\n",
       "      <th>4117</th>\n",
       "      <td>2.68400</td>\n",
       "      <td>2.169608</td>\n",
       "    </tr>\n",
       "    <tr>\n",
       "      <th>4118</th>\n",
       "      <td>3.15500</td>\n",
       "      <td>2.821320</td>\n",
       "    </tr>\n",
       "    <tr>\n",
       "      <th>4119</th>\n",
       "      <td>1.95700</td>\n",
       "      <td>2.151571</td>\n",
       "    </tr>\n",
       "    <tr>\n",
       "      <th>4120</th>\n",
       "      <td>1.71700</td>\n",
       "      <td>1.605444</td>\n",
       "    </tr>\n",
       "    <tr>\n",
       "      <th>4121</th>\n",
       "      <td>2.29600</td>\n",
       "      <td>2.575331</td>\n",
       "    </tr>\n",
       "    <tr>\n",
       "      <th>4122</th>\n",
       "      <td>1.32700</td>\n",
       "      <td>1.774126</td>\n",
       "    </tr>\n",
       "    <tr>\n",
       "      <th>4123</th>\n",
       "      <td>0.68200</td>\n",
       "      <td>0.973345</td>\n",
       "    </tr>\n",
       "    <tr>\n",
       "      <th>4124</th>\n",
       "      <td>2.25000</td>\n",
       "      <td>1.749852</td>\n",
       "    </tr>\n",
       "    <tr>\n",
       "      <th>4125</th>\n",
       "      <td>3.50000</td>\n",
       "      <td>2.946084</td>\n",
       "    </tr>\n",
       "    <tr>\n",
       "      <th>4126</th>\n",
       "      <td>2.27300</td>\n",
       "      <td>2.638755</td>\n",
       "    </tr>\n",
       "    <tr>\n",
       "      <th>4127</th>\n",
       "      <td>1.41700</td>\n",
       "      <td>1.469852</td>\n",
       "    </tr>\n",
       "  </tbody>\n",
       "</table>\n",
       "<p>4128 rows × 2 columns</p>\n",
       "</div>"
      ],
      "text/plain": [
       "       Actual  Predicted\n",
       "0     3.55000   2.125677\n",
       "1     0.70700   0.939771\n",
       "2     2.29400   2.708872\n",
       "3     1.12500   1.712957\n",
       "4     2.25400   2.826805\n",
       "5     2.63000   3.495084\n",
       "6     2.26800   3.013057\n",
       "7     1.66200   1.630133\n",
       "8     1.18000   1.742161\n",
       "9     1.56300   2.020309\n",
       "10    2.93800   2.283009\n",
       "11    0.97500   0.845054\n",
       "12    0.63500   1.331533\n",
       "13    3.14900   2.704046\n",
       "14    0.92400   1.247204\n",
       "15    1.17200   1.823423\n",
       "16    4.85000   3.822312\n",
       "17    1.41900   2.039287\n",
       "18    1.88500   1.501989\n",
       "19    2.28600   2.785086\n",
       "20    0.71200   0.013556\n",
       "21    1.08500   1.888477\n",
       "22    0.56400   1.040565\n",
       "23    1.74400   2.238183\n",
       "24    2.45200   2.964362\n",
       "25    0.92600   1.411651\n",
       "26    1.02400   1.154333\n",
       "27    2.56100   2.568723\n",
       "28    4.71600   4.093090\n",
       "29    1.22500   1.640556\n",
       "...       ...        ...\n",
       "4098  1.19400   1.354614\n",
       "4099  2.68100   2.412803\n",
       "4100  3.88300   3.101938\n",
       "4101  3.24700   3.519217\n",
       "4102  1.81300   0.856617\n",
       "4103  2.71600   2.204403\n",
       "4104  2.59600   2.640309\n",
       "4105  1.67600   1.731466\n",
       "4106  1.31300   1.669037\n",
       "4107  2.75000   1.269708\n",
       "4108  3.38700   2.928760\n",
       "4109  2.19700   2.888542\n",
       "4110  5.00001   4.441711\n",
       "4111  0.71300   0.878347\n",
       "4112  1.93800   2.385836\n",
       "4113  0.90600   1.649328\n",
       "4114  2.60800   2.403777\n",
       "4115  3.42700   3.142466\n",
       "4116  2.21900   2.634699\n",
       "4117  2.68400   2.169608\n",
       "4118  3.15500   2.821320\n",
       "4119  1.95700   2.151571\n",
       "4120  1.71700   1.605444\n",
       "4121  2.29600   2.575331\n",
       "4122  1.32700   1.774126\n",
       "4123  0.68200   0.973345\n",
       "4124  2.25000   1.749852\n",
       "4125  3.50000   2.946084\n",
       "4126  2.27300   2.638755\n",
       "4127  1.41700   1.469852\n",
       "\n",
       "[4128 rows x 2 columns]"
      ]
     },
     "execution_count": 13,
     "metadata": {},
     "output_type": "execute_result"
    },
    {
     "data": {
      "image/png": "[encoded data removed]",
      "text/plain": [
       "<Figure size 432x288 with 1 Axes>"
      ]
     },
     "metadata": {
      "needs_background": "light"
     },
     "output_type": "display_data"
    }
   ],
   "source": [
    "# Scatter the Actual and predicted target\n",
    "plt.scatter(y_test, y_pred)\n",
    "plt.xlabel(\"actual target\")\n",
    "plt.ylabel(\"predicted target\")\n",
    "\n",
    "# Make the table between 'actual' and 'predicted'\n",
    "df = pd.\n",
    "df"
   ]
  },
  {
   "cell_type": "markdown",
   "metadata": {},
   "source": [
    "# [Practice 1] : the boston house-prices dataset (regression)\n",
    "### P1.1. You should fill in the blank between # and # with code"
   ]
  },
  {
   "cell_type": "code",
   "execution_count": 14,
   "metadata": {},
   "outputs": [],
   "source": [
    "import matplotlib.pyplot as plt\n",
    "import numpy as np\n",
    "from sklearn import datasets, linear_model\n",
    "from sklearn.metrics import mean_squared_error, r2_score\n",
    "from sklearn.datasets import make_regression\n",
    "from sklearn.model_selection import train_test_split\n",
    "import pandas as pd"
   ]
  },
  {
   "cell_type": "code",
   "execution_count": 15,
   "metadata": {
    "scrolled": true
   },
   "outputs": [
    {
     "name": "stdout",
     "output_type": "stream",
     "text": [
      "(506, 13) (506,)\n"
     ]
    }
   ],
   "source": [
    "# Load the diabetes dataset\n",
    "boston = datasets.load_boston()\n",
    "X, y = boston.data, boston.target\n",
    "\n",
    "# Check the number of datasets and the number of features\n",
    "#################################################\n",
    "print(X.shape, y.shape)\n",
    "#################################################\n",
    "\n",
    "# Split the data and target into training dataset and test dataset\n",
    "#################################################\n",
    "######### Use random_state=2020 #################\n",
    "X_train, X_test, y_train, y_test = train_test_split(X, y, test_size=0.2, random_state=2020)\n",
    "#################################################"
   ]
  },
  {
   "cell_type": "code",
   "execution_count": 16,
   "metadata": {},
   "outputs": [],
   "source": [
    "# Create Linear regression object\n",
    "#################################################\n",
    "linear_regression = linear_model.LinearRegression()\n",
    "#################################################\n",
    "\n",
    "# Train the model using the training sets\n",
    "#################################################\n",
    "linear_regression.fit(X_train, y_train)\n",
    "#################################################\n",
    "\n",
    "# Make predictions using the testing set\n",
    "#################################################\n",
    "y_pred = linear_regression.predict(X_test)\n",
    "#################################################"
   ]
  },
  {
   "cell_type": "code",
   "execution_count": 17,
   "metadata": {},
   "outputs": [
    {
     "name": "stdout",
     "output_type": "stream",
     "text": [
      "Coefficients: \n",
      " [-1.06957244e-01  4.45558546e-02  2.37053116e-02  2.23742166e+00\n",
      " -1.68583938e+01  3.87986730e+00  5.46111202e-05 -1.37954394e+00\n",
      "  3.04718275e-01 -1.21659387e-02 -9.14169249e-01  9.14771590e-03\n",
      " -5.27828497e-01]\n",
      "Intercept: \n",
      " 34.66730943114037\n",
      "Mean squared error: 19.77\n",
      "Coefficient of determination: 0.77\n"
     ]
    }
   ],
   "source": [
    "# The coefficients and Intercept\n",
    "#################################################\n",
    "print(\"Coefficients: \\n\", linear_regression.coef_)\n",
    "print(\"Intercept: \\n\", linear_regression.intercept_)\n",
    "#################################################\n",
    "\n",
    "# The mean squared error\n",
    "#################################################\n",
    "print(\"Mean squared error: %.2f\" % mean_squared_error(y_test, y_pred))\n",
    "#################################################\n",
    "\n",
    "# The coefficient of determination: 1 is perfect prediction\n",
    "#################################################\n",
    "print(\"Coefficient of determination: %.2f\" % r2_score(y_test, y_pred))\n",
    "#################################################"
   ]
  },
  {
   "cell_type": "markdown",
   "metadata": {},
   "source": [
    "### P1.2. You should write down the formation between features(x1, x2, ...) and target"
   ]
  },
  {
   "cell_type": "markdown",
   "metadata": {},
   "source": [
    "#### y(target) = ?\n",
    "answer : y = 0.439x1 + 0.00969x2 - 0.105x3 + 0.632x4 - 0.00000368x5 - 0.00345x6 - 0.426x7 - 0.441x8 - 37.516"
   ]
  },
  {
   "cell_type": "code",
   "execution_count": 18,
   "metadata": {},
   "outputs": [
    {
     "data": {
      "text/html": [
       "<div>\n",
       "<style scoped>\n",
       "    .dataframe tbody tr th:only-of-type {\n",
       "        vertical-align: middle;\n",
       "    }\n",
       "\n",
       "    .dataframe tbody tr th {\n",
       "        vertical-align: top;\n",
       "    }\n",
       "\n",
       "    .dataframe thead th {\n",
       "        text-align: right;\n",
       "    }\n",
       "</style>\n",
       "<table border=\"1\" class=\"dataframe\">\n",
       "  <thead>\n",
       "    <tr style=\"text-align: right;\">\n",
       "      <th></th>\n",
       "      <th>Actual</th>\n",
       "      <th>Predicted</th>\n",
       "    </tr>\n",
       "  </thead>\n",
       "  <tbody>\n",
       "    <tr>\n",
       "      <th>0</th>\n",
       "      <td>27.5</td>\n",
       "      <td>20.001015</td>\n",
       "    </tr>\n",
       "    <tr>\n",
       "      <th>1</th>\n",
       "      <td>20.5</td>\n",
       "      <td>20.287920</td>\n",
       "    </tr>\n",
       "    <tr>\n",
       "      <th>2</th>\n",
       "      <td>6.3</td>\n",
       "      <td>11.011102</td>\n",
       "    </tr>\n",
       "    <tr>\n",
       "      <th>3</th>\n",
       "      <td>24.8</td>\n",
       "      <td>30.963638</td>\n",
       "    </tr>\n",
       "    <tr>\n",
       "      <th>4</th>\n",
       "      <td>23.1</td>\n",
       "      <td>25.107758</td>\n",
       "    </tr>\n",
       "    <tr>\n",
       "      <th>5</th>\n",
       "      <td>14.5</td>\n",
       "      <td>18.299688</td>\n",
       "    </tr>\n",
       "    <tr>\n",
       "      <th>6</th>\n",
       "      <td>16.5</td>\n",
       "      <td>22.345849</td>\n",
       "    </tr>\n",
       "    <tr>\n",
       "      <th>7</th>\n",
       "      <td>15.0</td>\n",
       "      <td>25.531198</td>\n",
       "    </tr>\n",
       "    <tr>\n",
       "      <th>8</th>\n",
       "      <td>10.2</td>\n",
       "      <td>16.961331</td>\n",
       "    </tr>\n",
       "    <tr>\n",
       "      <th>9</th>\n",
       "      <td>22.3</td>\n",
       "      <td>27.417211</td>\n",
       "    </tr>\n",
       "    <tr>\n",
       "      <th>10</th>\n",
       "      <td>31.5</td>\n",
       "      <td>31.327226</td>\n",
       "    </tr>\n",
       "    <tr>\n",
       "      <th>11</th>\n",
       "      <td>14.3</td>\n",
       "      <td>14.189273</td>\n",
       "    </tr>\n",
       "    <tr>\n",
       "      <th>12</th>\n",
       "      <td>24.4</td>\n",
       "      <td>23.175665</td>\n",
       "    </tr>\n",
       "    <tr>\n",
       "      <th>13</th>\n",
       "      <td>50.0</td>\n",
       "      <td>40.167311</td>\n",
       "    </tr>\n",
       "    <tr>\n",
       "      <th>14</th>\n",
       "      <td>11.0</td>\n",
       "      <td>14.494092</td>\n",
       "    </tr>\n",
       "    <tr>\n",
       "      <th>15</th>\n",
       "      <td>21.7</td>\n",
       "      <td>20.782468</td>\n",
       "    </tr>\n",
       "    <tr>\n",
       "      <th>16</th>\n",
       "      <td>9.5</td>\n",
       "      <td>13.284064</td>\n",
       "    </tr>\n",
       "    <tr>\n",
       "      <th>17</th>\n",
       "      <td>23.8</td>\n",
       "      <td>25.626987</td>\n",
       "    </tr>\n",
       "    <tr>\n",
       "      <th>18</th>\n",
       "      <td>17.1</td>\n",
       "      <td>20.161979</td>\n",
       "    </tr>\n",
       "    <tr>\n",
       "      <th>19</th>\n",
       "      <td>21.8</td>\n",
       "      <td>21.369327</td>\n",
       "    </tr>\n",
       "    <tr>\n",
       "      <th>20</th>\n",
       "      <td>18.1</td>\n",
       "      <td>17.459769</td>\n",
       "    </tr>\n",
       "    <tr>\n",
       "      <th>21</th>\n",
       "      <td>30.8</td>\n",
       "      <td>31.456375</td>\n",
       "    </tr>\n",
       "    <tr>\n",
       "      <th>22</th>\n",
       "      <td>17.8</td>\n",
       "      <td>17.729449</td>\n",
       "    </tr>\n",
       "    <tr>\n",
       "      <th>23</th>\n",
       "      <td>23.2</td>\n",
       "      <td>27.248734</td>\n",
       "    </tr>\n",
       "    <tr>\n",
       "      <th>24</th>\n",
       "      <td>5.0</td>\n",
       "      <td>6.647874</td>\n",
       "    </tr>\n",
       "    <tr>\n",
       "      <th>25</th>\n",
       "      <td>10.2</td>\n",
       "      <td>6.502598</td>\n",
       "    </tr>\n",
       "    <tr>\n",
       "      <th>26</th>\n",
       "      <td>24.1</td>\n",
       "      <td>25.690011</td>\n",
       "    </tr>\n",
       "    <tr>\n",
       "      <th>27</th>\n",
       "      <td>11.7</td>\n",
       "      <td>16.271865</td>\n",
       "    </tr>\n",
       "    <tr>\n",
       "      <th>28</th>\n",
       "      <td>31.5</td>\n",
       "      <td>32.909837</td>\n",
       "    </tr>\n",
       "    <tr>\n",
       "      <th>29</th>\n",
       "      <td>10.4</td>\n",
       "      <td>14.644859</td>\n",
       "    </tr>\n",
       "    <tr>\n",
       "      <th>...</th>\n",
       "      <td>...</td>\n",
       "      <td>...</td>\n",
       "    </tr>\n",
       "    <tr>\n",
       "      <th>72</th>\n",
       "      <td>29.4</td>\n",
       "      <td>30.747010</td>\n",
       "    </tr>\n",
       "    <tr>\n",
       "      <th>73</th>\n",
       "      <td>22.5</td>\n",
       "      <td>17.956281</td>\n",
       "    </tr>\n",
       "    <tr>\n",
       "      <th>74</th>\n",
       "      <td>20.0</td>\n",
       "      <td>23.055650</td>\n",
       "    </tr>\n",
       "    <tr>\n",
       "      <th>75</th>\n",
       "      <td>21.7</td>\n",
       "      <td>21.022511</td>\n",
       "    </tr>\n",
       "    <tr>\n",
       "      <th>76</th>\n",
       "      <td>16.1</td>\n",
       "      <td>21.749266</td>\n",
       "    </tr>\n",
       "    <tr>\n",
       "      <th>77</th>\n",
       "      <td>24.7</td>\n",
       "      <td>25.221932</td>\n",
       "    </tr>\n",
       "    <tr>\n",
       "      <th>78</th>\n",
       "      <td>19.4</td>\n",
       "      <td>25.557567</td>\n",
       "    </tr>\n",
       "    <tr>\n",
       "      <th>79</th>\n",
       "      <td>50.0</td>\n",
       "      <td>32.361634</td>\n",
       "    </tr>\n",
       "    <tr>\n",
       "      <th>80</th>\n",
       "      <td>20.6</td>\n",
       "      <td>22.502590</td>\n",
       "    </tr>\n",
       "    <tr>\n",
       "      <th>81</th>\n",
       "      <td>11.8</td>\n",
       "      <td>12.283660</td>\n",
       "    </tr>\n",
       "    <tr>\n",
       "      <th>82</th>\n",
       "      <td>26.7</td>\n",
       "      <td>32.746352</td>\n",
       "    </tr>\n",
       "    <tr>\n",
       "      <th>83</th>\n",
       "      <td>43.1</td>\n",
       "      <td>37.065811</td>\n",
       "    </tr>\n",
       "    <tr>\n",
       "      <th>84</th>\n",
       "      <td>34.9</td>\n",
       "      <td>34.528714</td>\n",
       "    </tr>\n",
       "    <tr>\n",
       "      <th>85</th>\n",
       "      <td>13.8</td>\n",
       "      <td>12.115177</td>\n",
       "    </tr>\n",
       "    <tr>\n",
       "      <th>86</th>\n",
       "      <td>20.5</td>\n",
       "      <td>20.580972</td>\n",
       "    </tr>\n",
       "    <tr>\n",
       "      <th>87</th>\n",
       "      <td>18.7</td>\n",
       "      <td>20.696135</td>\n",
       "    </tr>\n",
       "    <tr>\n",
       "      <th>88</th>\n",
       "      <td>34.7</td>\n",
       "      <td>30.812666</td>\n",
       "    </tr>\n",
       "    <tr>\n",
       "      <th>89</th>\n",
       "      <td>10.9</td>\n",
       "      <td>18.638460</td>\n",
       "    </tr>\n",
       "    <tr>\n",
       "      <th>90</th>\n",
       "      <td>14.2</td>\n",
       "      <td>18.347210</td>\n",
       "    </tr>\n",
       "    <tr>\n",
       "      <th>91</th>\n",
       "      <td>17.5</td>\n",
       "      <td>18.485620</td>\n",
       "    </tr>\n",
       "    <tr>\n",
       "      <th>92</th>\n",
       "      <td>19.3</td>\n",
       "      <td>22.228705</td>\n",
       "    </tr>\n",
       "    <tr>\n",
       "      <th>93</th>\n",
       "      <td>19.5</td>\n",
       "      <td>17.199234</td>\n",
       "    </tr>\n",
       "    <tr>\n",
       "      <th>94</th>\n",
       "      <td>19.5</td>\n",
       "      <td>20.451751</td>\n",
       "    </tr>\n",
       "    <tr>\n",
       "      <th>95</th>\n",
       "      <td>24.5</td>\n",
       "      <td>21.728217</td>\n",
       "    </tr>\n",
       "    <tr>\n",
       "      <th>96</th>\n",
       "      <td>11.7</td>\n",
       "      <td>14.779678</td>\n",
       "    </tr>\n",
       "    <tr>\n",
       "      <th>97</th>\n",
       "      <td>50.0</td>\n",
       "      <td>43.166719</td>\n",
       "    </tr>\n",
       "    <tr>\n",
       "      <th>98</th>\n",
       "      <td>23.1</td>\n",
       "      <td>16.982640</td>\n",
       "    </tr>\n",
       "    <tr>\n",
       "      <th>99</th>\n",
       "      <td>17.6</td>\n",
       "      <td>16.695795</td>\n",
       "    </tr>\n",
       "    <tr>\n",
       "      <th>100</th>\n",
       "      <td>16.3</td>\n",
       "      <td>11.856101</td>\n",
       "    </tr>\n",
       "    <tr>\n",
       "      <th>101</th>\n",
       "      <td>23.3</td>\n",
       "      <td>26.147119</td>\n",
       "    </tr>\n",
       "  </tbody>\n",
       "</table>\n",
       "<p>102 rows × 2 columns</p>\n",
       "</div>"
      ],
      "text/plain": [
       "     Actual  Predicted\n",
       "0      27.5  20.001015\n",
       "1      20.5  20.287920\n",
       "2       6.3  11.011102\n",
       "3      24.8  30.963638\n",
       "4      23.1  25.107758\n",
       "5      14.5  18.299688\n",
       "6      16.5  22.345849\n",
       "7      15.0  25.531198\n",
       "8      10.2  16.961331\n",
       "9      22.3  27.417211\n",
       "10     31.5  31.327226\n",
       "11     14.3  14.189273\n",
       "12     24.4  23.175665\n",
       "13     50.0  40.167311\n",
       "14     11.0  14.494092\n",
       "15     21.7  20.782468\n",
       "16      9.5  13.284064\n",
       "17     23.8  25.626987\n",
       "18     17.1  20.161979\n",
       "19     21.8  21.369327\n",
       "20     18.1  17.459769\n",
       "21     30.8  31.456375\n",
       "22     17.8  17.729449\n",
       "23     23.2  27.248734\n",
       "24      5.0   6.647874\n",
       "25     10.2   6.502598\n",
       "26     24.1  25.690011\n",
       "27     11.7  16.271865\n",
       "28     31.5  32.909837\n",
       "29     10.4  14.644859\n",
       "..      ...        ...\n",
       "72     29.4  30.747010\n",
       "73     22.5  17.956281\n",
       "74     20.0  23.055650\n",
       "75     21.7  21.022511\n",
       "76     16.1  21.749266\n",
       "77     24.7  25.221932\n",
       "78     19.4  25.557567\n",
       "79     50.0  32.361634\n",
       "80     20.6  22.502590\n",
       "81     11.8  12.283660\n",
       "82     26.7  32.746352\n",
       "83     43.1  37.065811\n",
       "84     34.9  34.528714\n",
       "85     13.8  12.115177\n",
       "86     20.5  20.580972\n",
       "87     18.7  20.696135\n",
       "88     34.7  30.812666\n",
       "89     10.9  18.638460\n",
       "90     14.2  18.347210\n",
       "91     17.5  18.485620\n",
       "92     19.3  22.228705\n",
       "93     19.5  17.199234\n",
       "94     19.5  20.451751\n",
       "95     24.5  21.728217\n",
       "96     11.7  14.779678\n",
       "97     50.0  43.166719\n",
       "98     23.1  16.982640\n",
       "99     17.6  16.695795\n",
       "100    16.3  11.856101\n",
       "101    23.3  26.147119\n",
       "\n",
       "[102 rows x 2 columns]"
      ]
     },
     "execution_count": 18,
     "metadata": {},
     "output_type": "execute_result"
    },
    {
     "data": {
      "image/png": "[encoded data removed]",
      "text/plain": [
       "<Figure size 432x288 with 1 Axes>"
      ]
     },
     "metadata": {
      "needs_background": "light"
     },
     "output_type": "display_data"
    }
   ],
   "source": [
    "# Scatter the Actual and predicted target\n",
    "plt.scatter(y_test, y_pred)\n",
    "plt.xlabel(\"actual target\")\n",
    "plt.ylabel(\"predicted target\")\n",
    "\n",
    "\n",
    "# Make the table between 'actual' and 'predicted'\n",
    "df = pd.DataFrame({'Actual':y_test, 'Predicted':y_pred})\n",
    "df"
   ]
  },
  {
   "cell_type": "code",
   "execution_count": null,
   "metadata": {},
   "outputs": [],
   "source": []
  }
 ],
 "metadata": {
  "kernelspec": {
   "display_name": "Python 3",
   "language": "python",
   "name": "python3"
  },
  "language_info": {
   "codemirror_mode": {
    "name": "ipython",
    "version": 3
   },
   "file_extension": ".py",
   "mimetype": "text/x-python",
   "name": "python",
   "nbconvert_exporter": "python",
   "pygments_lexer": "ipython3",
   "version": "3.7.6"
  }
 },
 "nbformat": 4,
 "nbformat_minor": 4
}
