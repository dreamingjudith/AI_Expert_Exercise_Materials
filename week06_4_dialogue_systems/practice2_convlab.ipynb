{
 "cells": [
  {
   "cell_type": "markdown",
   "metadata": {},
   "source": [
    "# Practice 2. ConvLab을 이용한 Pipelined 대화 시스템 구축\n",
    "\n",
    "# 목차\n",
    "\n",
    "## Step 1. MultiWOZ 데이터셋을 살펴보자\n",
    "\n",
    "## Step 2. ConvLab을 활용해 Pipelined 대화 시스템을 구축하자\n",
    "\n",
    "## Step 3. ConvLab에서 제공하는 모듈들로 모델들을 구성 및 진단하고, 평가하자\n",
    "\n",
    "## Additional. End-to-end Neural Pipeline (ACL 2020) 모델을 사용해보자"
   ]
  },
  {
   "cell_type": "markdown",
   "metadata": {},
   "source": [
    "# Step 1. MultiWOZ 데이터셋을 살펴보자\n",
    "\n",
    "## Step 1.0 사전설정\n",
    "\n",
    "아래 코드를 도와주는 module들이며, 필요시 수정할 수 있습니다."
   ]
  },
  {
   "cell_type": "code",
   "execution_count": 1,
   "metadata": {},
   "outputs": [],
   "source": [
    "import json\n",
    "import os\n",
    "import zipfile\n",
    "import sys\n",
    "from collections import Counter\n",
    "from nltk.tokenize import word_tokenize\n",
    "\n",
    "from textwrap import indent\n",
    "from pprint import pformat\n",
    "from pprint import pprint\n",
    "\n",
    "CUDA_IDX = '0'\n",
    "os.environ['CUDA_VISIBLE_DEVICES'] = CUDA_IDX\n",
    "\n",
    "def read_zipped_json(filepath, filename):\n",
    "    archive = zipfile.ZipFile(filepath, 'r')\n",
    "    return json.load(archive.open(filename))\n",
    "\n",
    "def pprint_manual(user_manual, name):\n",
    "    \"\"\"print user manual\n",
    "        argument 'name' is needed to discriminate 'WOZ' from others\n",
    "    \"\"\"\n",
    "    print('    User manual (message) : ')\n",
    "    if 'WOZ' in name:\n",
    "        print(\" \"*8, user_manual)\n",
    "    else:\n",
    "        for manual_one in user_manual:            print(\" \"*8, manual_one)\n",
    "\n",
    "\n",
    "def pprint_goal(goal, name):\n",
    "    \"\"\"print user's goal\n",
    "        argument 'name' is needed to discriminate \"WOZ\" from others.\n",
    "    \"\"\"\n",
    "    if 'WOZ' in name:\n",
    "        pass\n",
    "    else:\n",
    "        for i, mes in enumerate(goal['message']):\n",
    "            mes = mes.replace('<span class=\\'emphasis\\'>', '')\n",
    "            mes = mes.replace('</span>', '')\n",
    "            goal['message'][i] = mes\n",
    "\n",
    "    print(\"[Goals]\")\n",
    "    user_manual = None\n",
    "    for key, value in goal.items():\n",
    "        if not value:           # empty\n",
    "            continue\n",
    "        elif key == 'message':  # user manual\n",
    "            user_manual = value\n",
    "        else:                   # valid domain\n",
    "            domain = key        \n",
    "            print(indent(pformat({domain : value}), ' '*4))\n",
    "    pprint_manual(user_manual, name)  \n",
    "\n",
    "def get_valid_domains(goal):\n",
    "    \"\"\"return valid domains for pretty print\"\"\"\n",
    "    domains = []\n",
    "    for key, value in goal.items():\n",
    "        if not value:           # empty\n",
    "            continue\n",
    "        elif key == 'message':  # user manual\n",
    "            continue\n",
    "        else:                   # valid domain\n",
    "            domains.append(key)\n",
    "    return domains\n",
    "\n",
    "def pprint_turns(log, domains):\n",
    "    \"\"\"pretty print for dialogue turns\"\"\"\n",
    "    \n",
    "    # signal for stopping print\n",
    "    signal = None\n",
    "    \n",
    "    for i, log_one in enumerate(log):\n",
    "        \n",
    "        # dummy input function for pausing\n",
    "        print('-' * 20 + '1. Enter to keep going 2. Type \\'stop\\' and Enter to stop printing ' + '-' * 40)\n",
    "        signal = input()\n",
    "        if 'stop' in signal:\n",
    "            break\n",
    "\n",
    "        # check whether system turn or not\n",
    "        bool_sys_turn = False\n",
    "        if log_one['metadata']:\n",
    "            bool_sys_turn = True\n",
    "\n",
    "        # delete span_info\n",
    "        if 'span_info' in log_one:\n",
    "            del log_one['span_info']\n",
    "\n",
    "        # delete unnecessary domains\n",
    "        domain_pairs = log_one['metadata']\n",
    "        del_domains = []\n",
    "        for dom, _ in domain_pairs.items():\n",
    "            if not dom in domains:\n",
    "                del_domains.append(dom)\n",
    "        for dom in del_domains:\n",
    "            del domain_pairs[dom]\n",
    "    \n",
    "        # pretty print\n",
    "        if bool_sys_turn: print(\"[SYS]\", end=\" \")\n",
    "        else:             print(\"[USR]\", end=\" \")\n",
    "        print(\"(turn {})\".format(i))\n",
    "\n",
    "        log_one['1. dialogue_state'] = log_one['metadata']\n",
    "        log_one['2. dialogue_act'] = log_one['dialog_act']\n",
    "        log_one['3. text'] = log_one['text']\n",
    "        del log_one['metadata']\n",
    "        del log_one['dialog_act']\n",
    "        del log_one['text']\n",
    "        print(indent(pformat(log_one, width=100), ' ' * 4))\n",
    "    \n",
    "    # transform signal to boolean\n",
    "    if 'stop' in signal:\n",
    "        signal = True\n",
    "    else: \n",
    "        signal = False\n",
    "    return signal"
   ]
  },
  {
   "cell_type": "markdown",
   "metadata": {},
   "source": [
    "### Step 1.1 MultiWOZ 데이터셋을 불러옵니다.\n",
    "\n",
    "MultiWOZ 데이터셋은 7개의 domain ('hotel', 'train', 'attraction', 'restaurant' 'taxi', 'policy', 'hospital') 으로 구성되어 있으며, 여행정보를 얻고자 하는 'user' 와 이를 도와주는 'system'이 나누는 대화에 대한 데이터 셋입니다.\n",
    "약 10,000개의 대화 뭉치로 구성되어 있으며, train, validation, test용으로 구분되어 있습니다.\n",
    "\n",
    "아래 코드를 실행하면, MultiWOZ 데이터 셋 내 train용 데이터 이름 100개가 출력 됩니다."
   ]
  },
  {
   "cell_type": "code",
   "execution_count": 2,
   "metadata": {
    "tags": []
   },
   "outputs": [
    {
     "output_type": "stream",
     "name": "stdout",
     "text": "current directory : /home/com10/0813_dialogue_system\nload ConvLab-2/data/multiwoz/train.json...! \nnumber of dialogues : 8434\nload ConvLab-2/data/multiwoz/val.json...! \nnumber of dialogues : 999\nload ConvLab-2/data/multiwoz/test.json...! \nnumber of dialogues : 1000\n\n['SNG01856', 'SNG0129', 'MUL2168', 'SNG01445', 'MUL2105', 'PMUL1690', 'MUL2395', 'SNG0190', 'PMUL1170', 'SNG01741', 'PMUL4899', 'MUL2261', 'SSNG0348', 'MUL0784', 'MUL0886', 'PMUL2512', 'SNG0548', 'MUL1474', 'PMUL4372', 'PMUL4047', 'PMUL0151', 'MUL0586', 'PMUL3552', 'PMUL1539', 'MUL1790', 'PMUL3021', 'SNG0699', 'SNG0228', 'PMUL3296', 'MUL1434', 'PMUL2203', 'PMUL3250', 'PMUL0510', 'MUL1124', 'PMUL3719', 'SNG0297', 'PMUL2049', 'SNG01722', 'PMUL2100', 'MUL1853', 'MUL2694', 'SNG1006', 'SNG1345', 'MUL1299', 'MUL1490', 'PMUL2749', 'MUL1628', 'PMUL2202', 'SNG01450', 'SNG0131', 'SNG0984', 'PMUL1419', 'SNG0798', 'MUL0161', 'PMUL2803', 'MUL0925', 'MUL1005', 'SNG0104', 'SNG1197', 'MUL1265', 'WOZ20259', 'MUL1223', 'PMUL2596', 'MUL2037', 'MUL1497', 'MUL2256', 'MUL0076', 'WOZ20114', 'MUL1100', 'PMUL4469', 'PMUL0263', 'PMUL3597', 'PMUL1454', 'MUL1618', 'PMUL3342', 'PMUL0906', 'PMUL0695', 'PMUL0307', 'PMUL3045', 'MUL1113', 'SNG0385', 'SNG0285', 'SNG1134', 'PMUL2082', 'PMUL3031', 'PMUL1499', 'SNG1097', 'PMUL0608', 'PMUL4191', 'MUL0265', 'PMUL0433', 'WOZ20214', 'MUL1567', 'WOZ20593', 'PMUL4487', 'MUL2535', 'PMUL0552', 'PMUL0621', 'PMUL1229', 'PMUL1169']\n"
    }
   ],
   "source": [
    "cur_dir = os.path.abspath(os.curdir)\n",
    "print(\"current directory :\", cur_dir)\n",
    "data_dir = \"ConvLab-2/data/multiwoz\"\n",
    "processed_data_dir = os.path.join(cur_dir, 'multiwoz_data/all_data')\n",
    "if not os.path.exists(processed_data_dir):\n",
    "    os.makedirs(processed_data_dir)\n",
    "\n",
    "data_key = ['train', 'val', 'test']\n",
    "data = {}\n",
    "for key in data_key:\n",
    "    data[key] = read_zipped_json(os.path.join(data_dir, key + '.json.zip'), key + '.json')\n",
    "    print('load {}.json...! '.format(os.path.join(data_dir, key)))\n",
    "    print('number of dialogues : {}'.format(len(data[key])))\n",
    "print()\n",
    "\n",
    "# print available dialogue name until 100\n",
    "print(list(data['train'].keys())[:100])\n"
   ]
  },
  {
   "cell_type": "markdown",
   "metadata": {},
   "source": [
    "## Step 1.2 데이터가 어떻게 생겼는지 살펴봅시다.\n",
    "\n",
    "위의 출력된 데이터 이름들 중 몇개를 파이썬 리스트 안에 삽입하여 dialogue 를 확인할 수 있습니다. (ex. names = \\['SNG0943', 'MUL1801'] ))\n",
    "\n",
    "한 dialogue는 크게\n",
    "\n",
    "1. user의 goal, (코드 상에서 'goal'))\n",
    "\n",
    "2. system과 user의 대화, (코드 상에서 'dialogue_turns'))\n",
    "\n",
    "로 구분 됩니다.\n",
    "\n",
    "***\n",
    "\n",
    "user (\\[USR]])는 정의된 goal 및 manual을 읽고, 해당 goal을 달성하기 위해 대화를 수행합니다.\n",
    "\n",
    "system (\\[SYS])은 user의 goal을 알지 못하고, 대화를 통해 (1)user가 원하는 조건을 파악하고, (2)user가 원하는 정보를 제공하며, (3)필요시 예약을 수행합니다.\n",
    "\n",
    "***\n",
    "\n",
    "goal 내에서,\n",
    "\n",
    "`info`는 user 입장에서, system에게 user가 원하는 조건 및 니즈를 알려주고자(inform) 하는 내용이고,\n",
    "\n",
    "`reqt`는 user 입장에서, system에게 uesr가 요청하고자(request) 하는 내용입니다.\n",
    "\n",
    "***\n",
    "\n",
    "본 데이터셋의 경우 __system model을 만드는 것__을 목표로 합니다.\n",
    "\n",
    "***\n",
    "\n",
    "아래 코드를 실행하면 goal 및 발화를 살펴볼 수 있으며, Enter로 넘길 수 있습니다. \n",
    "\n",
    "그만 보고 싶다면 stop을 입력 후 Enter 합니다."
   ]
  },
  {
   "cell_type": "code",
   "execution_count": 3,
   "metadata": {
    "tags": [
     "outputPrepend"
    ]
   },
   "outputs": [
    {
     "output_type": "stream",
     "name": "stdout",
     "text": "ting ----------------------------------------\n[SYS] (turn 3)\n    {'1. dialogue_state': {'hotel': {'book': {'booked': [], 'day': '', 'people': '', 'stay': ''},\n                                     'semi': {'area': 'not mentioned',\n                                              'internet': 'not mentioned',\n                                              'name': 'not mentioned',\n                                              'parking': 'yes',\n                                              'pricerange': 'not mentioned',\n                                              'stars': '4',\n                                              'type': 'not mentioned'}}},\n     '2. dialogue_act': {'Hotel-Request': [['Area', '?']]},\n     '3. text': \"Is there a particular area of the city where you 'd like to stay ?\"}\n--------------------1. Enter to keep going 2. Type 'stop' and Enter to stop printing ----------------------------------------\n[USR] (turn 4)\n    {'1. dialogue_state': {},\n     '2. dialogue_act': {'Hotel-Inform': [['Type', 'guesthouse'], ['Area', 'dontcare']]},\n     '3. text': \"No , I do n't care about the area , either . But do you have a guesthouse ?\"}\n--------------------1. Enter to keep going 2. Type 'stop' and Enter to stop printing ----------------------------------------\n[SYS] (turn 5)\n    {'1. dialogue_state': {'hotel': {'book': {'booked': [], 'day': '', 'people': '', 'stay': ''},\n                                     'semi': {'area': 'dontcare',\n                                              'internet': 'not mentioned',\n                                              'name': 'not mentioned',\n                                              'parking': 'yes',\n                                              'pricerange': 'dontcare',\n                                              'stars': '4',\n                                              'type': 'guesthouse'}}},\n     '2. dialogue_act': {'Hotel-Inform': [['Stars', '4'], ['Choice', '16'], ['Type', 'guesthouses']]},\n     '3. text': 'I have 16 guesthouses that are 4 star and have parking , do you have any other '\n                'requirements to help narrow the search ?'}\n--------------------1. Enter to keep going 2. Type 'stop' and Enter to stop printing ----------------------------------------\n[USR] (turn 6)\n    {'1. dialogue_state': {},\n     '2. dialogue_act': {'Hotel-Inform': [['Internet', 'yes']]},\n     '3. text': 'Do any of those have free wifi ?'}\n--------------------1. Enter to keep going 2. Type 'stop' and Enter to stop printing ----------------------------------------\n[SYS] (turn 7)\n    {'1. dialogue_state': {'hotel': {'book': {'booked': [], 'day': '', 'people': '', 'stay': ''},\n                                     'semi': {'area': 'dontcare',\n                                              'internet': 'yes',\n                                              'name': 'not mentioned',\n                                              'parking': 'yes',\n                                              'pricerange': 'dontcare',\n                                              'stars': '4',\n                                              'type': 'guesthouse'}}},\n     '2. dialogue_act': {'Hotel-Inform': [['Internet', 'none'], ['Choice', 'number']],\n                         'Hotel-Recommend': [['Name', 'Archway House']]},\n     '3. text': 'Yes . There are a number of hotels with wifi .   Archway House is one of them that I '\n                'can recommend .'}\n--------------------1. Enter to keep going 2. Type 'stop' and Enter to stop printing ----------------------------------------\n[USR] (turn 8)\n    {'1. dialogue_state': {},\n     '2. dialogue_act': {'Hotel-Request': [['Price', '?'], ['Addr', '?']]},\n     '3. text': 'Sure , what is its address and price range ?'}\n--------------------1. Enter to keep going 2. Type 'stop' and Enter to stop printing ----------------------------------------\n[SYS] (turn 9)\n    {'1. dialogue_state': {'hotel': {'book': {'booked': [], 'day': '', 'people': '', 'stay': ''},\n                                     'semi': {'area': 'dontcare',\n                                              'internet': 'yes',\n                                              'name': 'not mentioned',\n                                              'parking': 'yes',\n                                              'pricerange': 'dontcare',\n                                              'stars': '4',\n                                              'type': 'guesthouse'}}},\n     '2. dialogue_act': {'Hotel-Inform': [['Name', 'Archway house'],\n                                          ['Addr', '52 gilbert road'],\n                                          ['Price', 'moderate']],\n                         'general-reqmore': [['none', 'none']]},\n     '3. text': 'Archway house is in the moderate price range . They are located at : 52 gilbert road '\n                '. Anythign else you need ?'}\n--------------------1. Enter to keep going 2. Type 'stop' and Enter to stop printing ----------------------------------------\n[USR] (turn 10)\n    {'1. dialogue_state': {},\n     '2. dialogue_act': {'Hotel-Request': [['Price', '?']]},\n     '3. text': 'What is the price range ?'}\n--------------------1. Enter to keep going 2. Type 'stop' and Enter to stop printing ----------------------------------------\n[SYS] (turn 11)\n    {'1. dialogue_state': {'hotel': {'book': {'booked': [], 'day': '', 'people': '', 'stay': ''},\n                                     'semi': {'area': 'dontcare',\n                                              'internet': 'yes',\n                                              'name': 'not mentioned',\n                                              'parking': 'yes',\n                                              'pricerange': 'dontcare',\n                                              'stars': '4',\n                                              'type': 'guesthouse'}}},\n     '2. dialogue_act': {'Booking-Inform': [['none', 'none']],\n                         'Hotel-Inform': [['Price', 'moderately']]},\n     '3. text': \"I 'm sorry , I only know that it is moderately priced .   Can I book a room for you ?\"}\n--------------------1. Enter to keep going 2. Type 'stop' and Enter to stop printing ----------------------------------------\n[USR] (turn 12)\n    {'1. dialogue_state': {}, '2. dialogue_act': {}, '3. text': \"no that 's fine .\"}\n--------------------1. Enter to keep going 2. Type 'stop' and Enter to stop printing ----------------------------------------\n[SYS] (turn 13)\n    {'1. dialogue_state': {'hotel': {'book': {'booked': [], 'day': '', 'people': '', 'stay': ''},\n                                     'semi': {'area': 'dontcare',\n                                              'internet': 'yes',\n                                              'name': 'not mentioned',\n                                              'parking': 'yes',\n                                              'pricerange': 'dontcare',\n                                              'stars': '4',\n                                              'type': 'guesthouse'}}},\n     '2. dialogue_act': {'general-reqmore': [['none', 'none']]},\n     '3. text': 'Is there anything else you will need today ?'}\n--------------------1. Enter to keep going 2. Type 'stop' and Enter to stop printing ----------------------------------------\n[USR] (turn 14)\n    {'1. dialogue_state': {},\n     '2. dialogue_act': {'general-thank': [['none', 'none']]},\n     '3. text': \"No that 's all . Thanks !\"}\n--------------------1. Enter to keep going 2. Type 'stop' and Enter to stop printing ----------------------------------------\n[SYS] (turn 15)\n    {'1. dialogue_state': {'hotel': {'book': {'booked': [], 'day': '', 'people': '', 'stay': ''},\n                                     'semi': {'area': 'dontcare',\n                                              'internet': 'yes',\n                                              'name': 'not mentioned',\n                                              'parking': 'yes',\n                                              'pricerange': 'dontcare',\n                                              'stars': '4',\n                                              'type': 'guesthouse'}}},\n     '2. dialogue_act': {'general-bye': [['none', 'none']]},\n     '3. text': 'You have a nice day .   Good bye .'}\n\n-----------------------------------------------------------------------------------------------------------------------------\n[Dialogue name] 'MUL1801'\n[Goals]\n    {'attraction': {'fail_info': {'name': 'cambridge museum of technology'},\n                    'info': {'name': 'lynne strover gallery'},\n                    'reqt': ['address', 'entrance fee']}}\n    {'train': {'fail_info': {},\n               'info': {'day': 'tuesday',\n                        'departure': 'cambridge',\n                        'destination': 'london kings cross',\n                        'leaveAt': '15:15'},\n               'reqt': ['trainID', 'arriveBy', 'price']}}\n    User manual (message) : \n         You are looking for information in Cambridge\n         You are looking for a train. The train should depart from cambridge and should go to london kings cross\n         The train should leave after 15:15 and should leave on tuesday\n         Make sure you get train ID, arrival time, and price\n         You are also looking for a particular attraction. Its name is called lynne strover gallery\n         Make sure you get address and entrance fee\n--------------------1. Enter to keep going 2. Type 'stop' and Enter to stop printing ----------------------------------------\n[USR] (turn 0)\n    {'1. dialogue_state': {},\n     '2. dialogue_act': {'Train-Inform': [['Dest', 'london kings cross'], ['Depart', 'cambridge']]},\n     '3. text': 'I need assistance finding a train departing from Cambridge and arriving at London '\n                'Kings Cross .'}\n--------------------1. Enter to keep going 2. Type 'stop' and Enter to stop printing ----------------------------------------\n[SYS] (turn 1)\n    {'1. dialogue_state': {'attraction': {'book': {'booked': []},\n                                          'semi': {'area': '', 'name': '', 'type': ''}},\n                           'train': {'book': {'booked': [], 'people': ''},\n                                     'semi': {'arriveBy': 'not mentioned',\n                                              'day': 'not mentioned',\n                                              'departure': 'cambridge',\n                                              'destination': 'london kings cross',\n                                              'leaveAt': 'not mentioned'}}},\n     '2. dialogue_act': {'Train-Inform': [['Choice', 'quite a few']], 'Train-Request': [['Day', '?']]},\n     '3. text': 'We have quite a few options available to you . Is there a particular day you are '\n                'looking to travel ?'}\n--------------------1. Enter to keep going 2. Type 'stop' and Enter to stop printing ----------------------------------------\n[USR] (turn 2)\n    {'1. dialogue_state': {},\n     '2. dialogue_act': {'Train-Inform': [['Day', 'tuesday'], ['Leave', '15:15']]},\n     '3. text': \"I 'm leaving after 15:15 on Tuesday . What 's available then ?\"}\n--------------------1. Enter to keep going 2. Type 'stop' and Enter to stop printing ----------------------------------------\n[SYS] (turn 3)\n    {'1. dialogue_state': {'attraction': {'book': {'booked': []},\n                                          'semi': {'area': '', 'name': '', 'type': ''}},\n                           'train': {'book': {'booked': [], 'people': ''},\n                                     'semi': {'arriveBy': 'not mentioned',\n                                              'day': 'tuesday',\n                                              'departure': 'cambridge',\n                                              'destination': 'london kings cross',\n                                              'leaveAt': '15:15'}}},\n     '2. dialogue_act': {'Train-Inform': [['Choice', 'four']], 'Train-Request': [['Arrive', '?']]},\n     '3. text': 'I have four , what time would you prefer to arrive by ?'}\n--------------------1. Enter to keep going 2. Type 'stop' and Enter to stop printing ----------------------------------------\n[USR] (turn 4)\n    {'1. dialogue_state': {},\n     '2. dialogue_act': {'Train-Inform': [['Arrive', 'dontcare']]},\n     '3. text': \"It does n't matter .\"}\n--------------------1. Enter to keep going 2. Type 'stop' and Enter to stop printing ----------------------------------------\n[SYS] (turn 5)\n    {'1. dialogue_state': {'attraction': {'book': {'booked': []},\n                                          'semi': {'area': '', 'name': '', 'type': ''}},\n                           'train': {'book': {'booked': [], 'people': ''},\n                                     'semi': {'arriveBy': 'dontcare',\n                                              'day': 'tuesday',\n                                              'departure': 'cambridge',\n                                              'destination': 'london kings cross',\n                                              'leaveAt': '15:15'}}},\n     '2. dialogue_act': {'Train-Inform': [['Id', 'TR0945'], ['Leave', '17:00'], ['Day', 'tuesday']]},\n     '3. text': 'TR0945 leaves on tuesday at 17:00 . Would you like me to book it for you ?'}\n--------------------1. Enter to keep going 2. Type 'stop' and Enter to stop printing ----------------------------------------\n[USR] (turn 6)\n    {'1. dialogue_state': {},\n     '2. dialogue_act': {'Train-Request': [['Arrive', '?']]},\n     '3. text': 'Yes please . Could you also tell me how much it is & what time it arrives ?'}\n--------------------1. Enter to keep going 2. Type 'stop' and Enter to stop printing ----------------------------------------\n[SYS] (turn 7)\n    {'1. dialogue_state': {'attraction': {'book': {'booked': []},\n                                          'semi': {'area': '', 'name': '', 'type': ''}},\n                           'train': {'book': {'booked': [{'reference': 'FGAHEJD9',\n                                                          'trainID': 'TR0945'}],\n                                              'people': '1'},\n                                     'semi': {'arriveBy': 'dontcare',\n                                              'day': 'tuesday',\n                                              'departure': 'cambridge',\n                                              'destination': 'london kings cross',\n                                              'leaveAt': '15:15'}}},\n     '2. dialogue_act': {'Train-OfferBooked': [['Arrive', '17:51'],\n                                               ['Ref', 'FGAHEJD9'],\n                                               ['Ticket', '23.60 pounds'],\n                                               ['Leave', '17:00']]},\n     '3. text': 'Okay , I have booked the 17:00 train for you . The arrival time is 17:51 . Your '\n                'reference number is FGAHEJD9 and the price is 23.60 pounds .'}\n--------------------1. Enter to keep going 2. Type 'stop' and Enter to stop printing ----------------------------------------\n[USR] (turn 8)\n    {'1. dialogue_state': {},\n     '2. dialogue_act': {'Attraction-Inform': [['Name', 'lynne strover gallery']],\n                         'Attraction-Request': [['Addr', '?']]},\n     '3. text': 'I am also looking for a particular attraction . The name of the place is Lynne '\n                'Strover Gallery . Can you give me the address and fee ?'}\n--------------------1. Enter to keep going 2. Type 'stop' and Enter to stop printing ----------------------------------------\n[SYS] (turn 9)\n    {'1. dialogue_state': {'attraction': {'book': {'booked': []},\n                                          'semi': {'area': 'not mentioned',\n                                                   'name': 'lynne strover gallery',\n                                                   'type': 'not mentioned'}},\n                           'train': {'book': {'booked': [{'reference': 'FGAHEJD9',\n                                                          'trainID': 'TR0945'}],\n                                              'people': '1'},\n                                     'semi': {'arriveBy': 'dontcare',\n                                              'day': 'tuesday',\n                                              'departure': 'cambridge',\n                                              'destination': 'london kings cross',\n                                              'leaveAt': '15:15'}}},\n     '2. dialogue_act': {'Attraction-Inform': [['Fee', 'free'],\n                                               ['Addr', '23 high street'],\n                                               ['Addr', 'fen ditton'],\n                                               ['Name', 'Lynne Strover Gallery']],\n                         'general-reqmore': [['none', 'none']]},\n     '3. text': \"Lynne Strover Gallery 's address is 23 high street , fen ditton , entrance is free . \"\n                'Can I do anything else for you today ?'}\n--------------------1. Enter to keep going 2. Type 'stop' and Enter to stop printing ----------------------------------------\n[USR] (turn 10)\n    {'1. dialogue_state': {},\n     '2. dialogue_act': {},\n     '3. text': 'May I have the postal code for the Gallery as well please ?'}\n--------------------1. Enter to keep going 2. Type 'stop' and Enter to stop printing ----------------------------------------\n[SYS] (turn 11)\n    {'1. dialogue_state': {'attraction': {'book': {'booked': []},\n                                          'semi': {'area': 'not mentioned',\n                                                   'name': 'lynne strover gallery',\n                                                   'type': 'not mentioned'}},\n                           'train': {'book': {'booked': [{'reference': 'FGAHEJD9',\n                                                          'trainID': 'TR0945'}],\n                                              'people': '1'},\n                                     'semi': {'arriveBy': 'dontcare',\n                                              'day': 'tuesday',\n                                              'departure': 'cambridge',\n                                              'destination': 'london kings cross',\n                                              'leaveAt': '15:15'}}},\n     '2. dialogue_act': {'Attraction-Inform': [['Post', 'cb30aq']],\n                         'general-reqmore': [['none', 'none']]},\n     '3. text': \"Yes , it 's cb30aq . Is there anything else I can tell you about it ? Or something \"\n                'else I can help you with ?'}\n--------------------1. Enter to keep going 2. Type 'stop' and Enter to stop printing ----------------------------------------\n[USR] (turn 12)\n    {'1. dialogue_state': {},\n     '2. dialogue_act': {},\n     '3. text': \"No , that 's all I needed . Have a nice day .\"}\n--------------------1. Enter to keep going 2. Type 'stop' and Enter to stop printing ----------------------------------------\n[SYS] (turn 13)\n    {'1. dialogue_state': {'attraction': {'book': {'booked': []},\n                                          'semi': {'area': 'not mentioned',\n                                                   'name': 'lynne strover gallery',\n                                                   'type': 'not mentioned'}},\n                           'train': {'book': {'booked': [{'reference': 'FGAHEJD9',\n                                                          'trainID': 'TR0945'}],\n                                              'people': '1'},\n                                     'semi': {'arriveBy': 'dontcare',\n                                              'day': 'tuesday',\n                                              'departure': 'cambridge',\n                                              'destination': 'london kings cross',\n                                              'leaveAt': '15:15'}}},\n     '2. dialogue_act': {'general-bye': [['none', 'none']], 'general-greet': [['none', 'none']]},\n     '3. text': 'Thank you ! Enjoy your visit to Cambridge . Goodbye .'}\n"
    }
   ],
   "source": [
    "# You can handle dialogue_names\n",
    "dialogue_names = ['SNG0943', 'MUL1801']\n",
    "\n",
    "for name in dialogue_names:\n",
    "    \n",
    "    print()\n",
    "    print('-' * 125)\n",
    "    print(\"[Dialogue name] \\'{}\\'\".format(name))\n",
    "\n",
    "    # access datum using name\n",
    "    datum = data['train'][name]\n",
    "    goal = datum['goal']\n",
    "    dialogue_turns = datum['log']\n",
    "\n",
    "    # print goal and dialogue turns\n",
    "    pprint_goal(goal, name)\n",
    "    valid_domains = get_valid_domains(goal)\n",
    "    break_signal = pprint_turns(dialogue_turns, valid_domains)  # If you don't want to see print, please comment!\n",
    "    # break_signal = pprint_turns(dialogue_turns, valid_domains)    Like this!\n",
    "\n",
    "    if break_signal:\n",
    "        break"
   ]
  },
  {
   "cell_type": "markdown",
   "metadata": {},
   "source": [
    "# Step 2. ConvLab을 활용해 Pipelined 대화 시스템을 구축하자\n",
    "\n",
    "## Step 2.0 필요한 module들을 정의합니다\n",
    "\n",
    "아래 코드를 도와주는 module들 이며, 필요시 수정할 수 있습니다."
   ]
  },
  {
   "cell_type": "code",
   "execution_count": 4,
   "metadata": {
    "tags": []
   },
   "outputs": [
    {
     "output_type": "stream",
     "name": "stdout",
     "text": "Collecting en_core_web_sm==2.1.0\n  Downloading https://github.com/explosion/spacy-models/releases/download/en_core_web_sm-2.1.0/en_core_web_sm-2.1.0.tar.gz (11.1 MB)\n\u001b[K     |████████████████████████████████| 11.1 MB 1.8 MB/s \n\u001b[?25hBuilding wheels for collected packages: en-core-web-sm\n  Building wheel for en-core-web-sm (setup.py) ... \u001b[?25ldone\n\u001b[?25h  Created wheel for en-core-web-sm: filename=en_core_web_sm-2.1.0-py3-none-any.whl size=11074433 sha256=aeb12833ceb6bf651a2d8efda70ea2c1b640d39f602f85d5691521786f5224e2\n  Stored in directory: /tmp/pip-ephem-wheel-cache-i2w1m6dg/wheels/59/4f/8c/0dbaab09a776d1fa3740e9465078bfd903cc22f3985382b496\nSuccessfully built en-core-web-sm\nInstalling collected packages: en-core-web-sm\nSuccessfully installed en-core-web-sm-2.1.0\n\u001b[38;5;2m✔ Download and installation successful\u001b[0m\nYou can now load the model via spacy.load('en_core_web_sm')\n"
    }
   ],
   "source": [
    "!python -m spacy download en_core_web_sm"
   ]
  },
  {
   "cell_type": "code",
   "execution_count": 5,
   "metadata": {
    "tags": []
   },
   "outputs": [],
   "source": [
    "# common import: convlab2.$module.$model.$dataset\n",
    "from convlab2.nlu.jointBERT.multiwoz import BERTNLU\n",
    "from convlab2.nlu.milu.multiwoz import MILU\n",
    "from convlab2.dst.rule.multiwoz import RuleDST\n",
    "from convlab2.policy.rule.multiwoz import RulePolicy\n",
    "from convlab2.nlg.template.multiwoz import TemplateNLG\n",
    "from convlab2.dialog_agent import BiSession, Agent, PipelineAgent\n",
    "from convlab2.evaluator.multiwoz_eval import MultiWozEvaluator\n",
    "from pprint import pprint\n",
    "import random\n",
    "import numpy as np\n",
    "import torch\n",
    "import spacy\n",
    "\n",
    "import logging \n",
    "# uncessary logging block\n",
    "mpl_logger = logging.getLogger('matplotlib') \n",
    "mpl_logger.setLevel(logging.WARNING) \n",
    "cntp_logger = logging.getLogger('urllib3.connectionpool')\n",
    "cntp_logger.setLevel(logging.WARNING)\n",
    "ttu_logger = logging.getLogger('transformers.tokenization_utils')\n",
    "ttu_logger.setLevel(logging.WARNING)\n",
    "tcu_logger = logging.getLogger('transformers.configuration_utils')\n",
    "tcu_logger.setLevel(logging.WARNING)\n",
    "tmu_logger = logging.getLogger('transformers.modeling_utils')\n",
    "tmu_logger.setLevel(logging.WARNING)\n",
    "logging.getLogger().setLevel(logging.INFO)\n",
    "import warnings\n",
    "warnings.filterwarnings(\"ignore\")\n",
    "\n",
    "def set_seed(r_seed):\n",
    "    random.seed(r_seed)\n",
    "    np.random.seed(r_seed)\n",
    "    torch.manual_seed(r_seed)\n"
   ]
  },
  {
   "cell_type": "markdown",
   "metadata": {},
   "source": [
    "## Step 2.1 Pipelined 대화 시스템 예시를 살펴봅시다.\n",
    "\n",
    "우선, system model을 pipelined 대화 시스템으로 구성했을 때, 대화를 어떻게 수행할 수 있는지 살펴봅시다.\n",
    "\n",
    "pipelined 대화 모델은 크게 4가지로 구성되어 있습니다.\n",
    "\n",
    "NLU (Natural Language Understanding (언어 인식 모듈)) : 직전의 상대방 발화를 이해 및 해석 합니다.\n",
    "\n",
    "DST (Dialogue State Tracking (대화 상태 추적 모듈)) : 현재까지 대화의 맥락을 추적하고, 변경 사항을 업데이트 합니다.\n",
    "\n",
    "Dialogue Policy (대화 정책 모듈) : 다음 발화를 위해 구조화된 단어 형태로 정책을 결정 합니다. (자연스러운 문장의 형태가 아닌, 의도만을 결정합니다.)\n",
    "\n",
    "NLG (Natural Language Generation (언어 생성 모듈)) : 결정된 정책을 가지고, 사람이 이해할 수 있는 자연어를 생성합니다.\n",
    "\n",
    "-----------------\n",
    "\n",
    "아래는 가장 기본적인 Pipelined 대화 시스템을 구성한 예시입니다.\n",
    "\n",
    "BERT NLU : 앞선 practice 1에서 다룬 BERT NLU\n",
    "\n",
    "RuleDST : Rule 기반 DST module\n",
    "\n",
    "RulePolicy : Rule 기반 Policy module\n",
    "\n",
    "TemplateNLG : Template 기반 (정해진 템플릿 위에서 단어를 채워넣는 방식) NLG module\n",
    "\n",
    "4가지 모듈에 대해 정의를 끝마쳤다면, PipelineAgent라는 wrapper 에 씌워 sys_agent를 선언합니다."
   ]
  },
  {
   "cell_type": "code",
   "execution_count": 6,
   "metadata": {
    "tags": []
   },
   "outputs": [
    {
     "output_type": "stream",
     "name": "stdout",
     "text": "Load from https://convlab.blob.core.windows.net/convlab-2/milu_multiwoz_all_context.tar.gz\n100%|██████████| 10943993/10943993 [00:13<00:00, 787808.83B/s]\n"
    }
   ],
   "source": [
    "spacy.load('en_core_web_sm')\n",
    "# MILU\n",
    "sys_nlu = MILU()\n",
    "# simple rule DST\n",
    "sys_dst = RuleDST()\n",
    "# rule policy\n",
    "sys_policy = RulePolicy()\n",
    "# template NLG\n",
    "sys_nlg = TemplateNLG(is_user=False)\n",
    "# assemble\n",
    "sys_agent = PipelineAgent(sys_nlu, sys_dst, sys_policy, sys_nlg, name='sys')"
   ]
  },
  {
   "cell_type": "markdown",
   "metadata": {},
   "source": [
    "sys_agent.response(\"user의 발화\", print_nlu=False, print_dst=False, print_pol=False) 를 하면, user의 발화에 대한 응답을 합니다.\n",
    "\n",
    "print_nlu, print_dst, print_pol을 True로 변경하면, 해당하는 value를 print 해볼 수 있습니다."
   ]
  },
  {
   "cell_type": "code",
   "execution_count": 7,
   "metadata": {},
   "outputs": [
    {
     "output_type": "execute_result",
     "data": {
      "text/plain": "'Will cityroomz be alright ? Of course , would a hotel be OK ? We have 3 such places .'"
     },
     "metadata": {},
     "execution_count": 7
    }
   ],
   "source": [
    "sys_agent.init_session()\n",
    "sys_agent.response(\"I want to find a moderate hotel\", print_nlu=False, print_dst=False, print_pol=False)"
   ]
  },
  {
   "cell_type": "code",
   "execution_count": 8,
   "metadata": {},
   "outputs": [
    {
     "output_type": "execute_result",
     "data": {
      "text/plain": "'It is a hotel .'"
     },
     "metadata": {},
     "execution_count": 8
    }
   ],
   "source": [
    "sys_agent.response(\"Which type of hotel is it ?\")"
   ]
  },
  {
   "cell_type": "code",
   "execution_count": 9,
   "metadata": {},
   "outputs": [
    {
     "output_type": "execute_result",
     "data": {
      "text/plain": "'It is located at 74 chesterton road.'"
     },
     "metadata": {},
     "execution_count": 9
    }
   ],
   "source": [
    "sys_agent.response(\"OK , where is its address ?\")"
   ]
  },
  {
   "cell_type": "code",
   "execution_count": 10,
   "metadata": {},
   "outputs": [
    {
     "output_type": "execute_result",
     "data": {
      "text/plain": "'You are welcome . Have a good day !.'"
     },
     "metadata": {},
     "execution_count": 10
    }
   ],
   "source": [
    "sys_agent.response(\"Thank you !\")"
   ]
  },
  {
   "cell_type": "code",
   "execution_count": 11,
   "metadata": {},
   "outputs": [
    {
     "output_type": "execute_result",
     "data": {
      "text/plain": "'The good luck chinese food takeaway sounds like it might be what you are looking for . The reference number is 00000003 . Yes there are 3 different places that match your description .'"
     },
     "metadata": {},
     "execution_count": 11
    }
   ],
   "source": [
    "sys_agent.response(\"Try to find me a Chinese restaurant in south area .\")"
   ]
  },
  {
   "cell_type": "code",
   "execution_count": 12,
   "metadata": {},
   "outputs": [
    {
     "output_type": "execute_result",
     "data": {
      "text/plain": "'It is chinese food .'"
     },
     "metadata": {},
     "execution_count": 12
    }
   ],
   "source": [
    "sys_agent.response(\"Which kind of food it provides ?\")"
   ]
  },
  {
   "cell_type": "code",
   "execution_count": 13,
   "metadata": {},
   "outputs": [
    {
     "output_type": "execute_result",
     "data": {
      "text/plain": "'All set . Your reference number is 00000003 .'"
     },
     "metadata": {},
     "execution_count": 13
    }
   ],
   "source": [
    "sys_agent.response(\"Book a table for 5 , this Sunday .\")"
   ]
  },
  {
   "cell_type": "markdown",
   "metadata": {},
   "source": [
    "## Step 2.2 system agent와 대화할 user simulator를 구성해봅시다.\n",
    "\n",
    "system model의 성능을 알아보기 위해서는 user 역할을 할 수 있는 user simulator가 필요합니다. \n",
    "\n",
    "사람이 매번 user의 역할을 하여 대화를 주고 받는 것은 많은 노동력을 필요로 하기 때문입니다. \n",
    "\n",
    "특히, Dialog Policy를 RL agent로 두었을 때, 다양한 대화 시도를 위해서 user simulator 는 필수적입니다.\n",
    "\n",
    "ConvLab에서는 RulePolicy(character='usr')로 두었을 때, `Agenda` policy로 변환되며, 이는 user의 goal을 기반으로 하는 user model을 정의할 수 있습니다. \n",
    "\n",
    "또한, `Agenda` policy는 dst 모델까지 함께 포함하고 있기 때문에 `user_dst = None` 이 됩니다.\n"
   ]
  },
  {
   "cell_type": "code",
   "execution_count": 14,
   "metadata": {
    "tags": []
   },
   "outputs": [
    {
     "output_type": "stream",
     "name": "stdout",
     "text": "Load from https://convlab.blob.core.windows.net/convlab-2/milu_multiwoz_all_context.tar.gz\nLoading goal model is done\n"
    }
   ],
   "source": [
    "# MILU\n",
    "user_nlu = MILU()\n",
    "# not use dst\n",
    "user_dst = None\n",
    "# rule policy\n",
    "user_policy = RulePolicy(character='usr')   # UserPolicyAgendaMultiWoz()\n",
    "# template NLG\n",
    "user_nlg = TemplateNLG(is_user=True)\n",
    "# user_nlg = SCLSTM(is_user=True)\n",
    "# assemble\n",
    "user_agent = PipelineAgent(user_nlu, user_dst, user_policy, user_nlg, name='user')"
   ]
  },
  {
   "cell_type": "markdown",
   "metadata": {},
   "source": [
    "## Step 2.3 user simulator 와 system model 간 대화를 수행해봅시다.\n",
    "\n",
    "지금까지, 우리는 user simulator와 system model을 정의 했습니다.\n",
    "\n",
    "`MultiWozEvaluator` 클래스는 성능을 평가하기 위해 사용됩니다. (user의 goal을 정의해줍니다.)\n",
    "\n",
    "`BiSession` 클래스는 user simulator와 system model의 대화 및 평가를 도와줍니다.\n",
    "\n",
    "`next_turn` 함수는 한 턴의 대화를 수행합니다.\n",
    "\n",
    "### 평가 지표\n",
    "\n",
    "- Success rate : 예약 성사 + recall == 1, 즉 유저의 조건에 부합하는 예약을 해내고, 물어보는 모든 정보에 대해 알맞은 값을 출력\n",
    "\n",
    "- Book rate : 예약 성사율 (= 예약 성공 수 / 예약 정답 수) \n",
    "\n",
    "- Inform precision : (TP) / (TP + FP), precision이 낮다는 것은 요청한 slot 외 불필요한 정보를 많이 알려주는 것으로 해석할 수 있음.\n",
    "\n",
    "- Inform recall : (TP) / (TP + FN), recall이 낮다는 것은 요청한 slot에 대해 대답하지 못한 것으로 해석 할 수 있음.\n",
    "\n",
    "- Inform F1 : Precision & Recall에 대한 조화 평균\n",
    "\n"
   ]
  },
  {
   "cell_type": "code",
   "execution_count": 15,
   "metadata": {
    "tags": []
   },
   "outputs": [
    {
     "output_type": "stream",
     "name": "stdout",
     "text": "init goal:\n{'attraction': {'info': {'area': 'centre', 'type': 'museum'},\n                'reqt': {'address': '?', 'phone': '?'}},\n 'train': {'info': {'arriveBy': '08:30',\n                    'day': 'monday',\n                    'departure': 'cambridge',\n                    'destination': 'peterborough'},\n           'reqt': {'price': '?', 'trainID': '?'}}}\n----------------------------------------------------------------------------------------------------\nuser: I also need a train. I need some information on a train going to peterborough . I would like to leave on monday. I 'd like to arrive by 08:30 .\nsys: Where are you departing from ?\n\nuser: I ' m also looking for a train from cambridge .\nsys: Would you like me to book the 08:30 train ? I can book your tickets for monday . Woudl you like me to book a train to peterborough for you ? Woudl you like me to book a train from cambridge for you ?\n\nuser: I need to book a train to peterborough .\nsys: I can get you tickets for an arrival time at 08:30 , that is the soonest , is that okay ? Would you like to take the train on monday ? Woudl you like me to book a train to peterborough for you ? Woudl you like me to book a train from cambridge for you ?\n\nuser: Give me the train id , please . Can you give me the price ?\nsys: The cost of the one way journey is 16.50 pounds . The train ID is TR3284 .\n\nuser: I want a train leaving on monday .\nsys: I can get you tickets for an arrival time at 08:30 , that is the soonest , is that okay ? I can book you on monday. Woudl you like me to book a train to peterborough for you ? Woudl you like me to book a train from cambridge for you ?\n\nuser: Can you help me plan a trip to see a particular attraction ? Do you have any museum attractions. Are there anything fun to do in city centre ?\nsys: I recommend the fitzwilliam museum , it 's got a lot of great features to watch !. We have 11 such location .\n\nuser: Can you give me the phone number ? Could I get the address for it ?\nsys: The phone number is 01223314960 . It 's located at 98 king street .\n\nuser: Actually , I ' m all set . Thank you ! Bye !.\nsys: Thank you and goodbye .\n\ntask success: 1\nbook rate: None\ninform precision/recall/f1: (1.0, 1.0, 1.0)\n--------------------------------------------------\nfinal goal:\n{'attraction': {'info': {'area': 'centre', 'type': 'museum'},\n                'reqt': {'address': '98 king street', 'phone': '01223314960'}},\n 'train': {'info': {'arriveBy': '08:30',\n                    'day': 'monday',\n                    'departure': 'cambridge',\n                    'destination': 'peterborough'},\n           'reqt': {'price': '16.50 pounds', 'trainID': 'TR3284'}}}\n====================================================================================================\n"
    }
   ],
   "source": [
    "evaluator = MultiWozEvaluator()\n",
    "sess = BiSession(sys_agent=sys_agent, user_agent=user_agent, kb_query=None, evaluator=evaluator)\n",
    "\n",
    "set_seed(20200804)\n",
    "\n",
    "sys_response = ''\n",
    "sess.init_session()\n",
    "print('init goal:')\n",
    "pprint(sess.evaluator.goal)\n",
    "print('-'*100)\n",
    "for i in range(20):\n",
    "    sys_response, user_response, session_over, reward = sess.next_turn(sys_response)\n",
    "    print('user:', user_response)\n",
    "    print('sys:', sys_response)\n",
    "    print()\n",
    "    if session_over is True:\n",
    "        break\n",
    "print('task success:', sess.evaluator.task_success())\n",
    "print('book rate:', sess.evaluator.book_rate())\n",
    "print('inform precision/recall/f1:', sess.evaluator.inform_F1())\n",
    "print('-'*50)\n",
    "print('final goal:')\n",
    "pprint(sess.evaluator.goal)\n",
    "\n",
    "print('='*100)"
   ]
  },
  {
   "cell_type": "markdown",
   "metadata": {},
   "source": [
    "# Step 3. ConvLab에서 제공하는 모듈들로 모델들을 구성 및 진단하고, 평가하자\n",
    "\n",
    "## Step 3.0. ConvLab 에서 지원하는 모델들을 load 합니다.\n",
    "\n",
    "이용가능한 model들:\n",
    "\n",
    "- NLU: BERTNLU, MILU, SVMNLU\n",
    "- DST: RuleDST\n",
    "- Word-DST: SUMBT, TRADE (set `sys_nlu` to `None`)\n",
    "- Policy: RulePolicy, Imitation, REINFORCE, PPO, GDPL\n",
    "- Word-Policy: MDRG, HDSA, LaRL (set `sys_nlg` to `None`)\n",
    "- NLG: Template, SCLSTM\n",
    "- End2End: Sequicity, DAMD, RNN_rollout (directly used as `sys_agent`)\n",
    "- Simulator policy: Agenda, VHUS (for `user_policy`)\n"
   ]
  },
  {
   "cell_type": "code",
   "execution_count": 16,
   "metadata": {
    "tags": []
   },
   "outputs": [
    {
     "output_type": "stream",
     "name": "stdout",
     "text": "Downloading from:  https://convlab.blob.core.windows.net/convlab-2/mdrg_model.zip\nLoad from https://convlab.blob.core.windows.net/convlab-2/mdrg_model.zip\n08/13/2020 16:52:35 - INFO - convlab2.util.allennlp_file_utils -   https://convlab.blob.core.windows.net/convlab-2/mdrg_model.zip not found in cache, downloading to /tmp/tmpel6_7ojg\n100%|██████████| 21577107/21577107 [00:14<00:00, 1454970.50B/s]\n08/13/2020 16:52:50 - INFO - convlab2.util.allennlp_file_utils -   copying /tmp/tmpel6_7ojg to cache at /home/com10/.convlab2/cache/b0bc758ff68dc79ef5287ddd38b6267f8784df273b2e6f7e496a1e9031c65ca5.ea9a4a5a9034b22be1093ea89deb230956f14487e2c2441b9ee59cef0fc252a2\n08/13/2020 16:52:50 - INFO - convlab2.util.allennlp_file_utils -   creating metadata file for /home/com10/.convlab2/cache/b0bc758ff68dc79ef5287ddd38b6267f8784df273b2e6f7e496a1e9031c65ca5.ea9a4a5a9034b22be1093ea89deb230956f14487e2c2441b9ee59cef0fc252a2\n08/13/2020 16:52:50 - INFO - convlab2.util.allennlp_file_utils -   removing temp file /tmp/tmpel6_7ojg\nExtracting...\nDownloading from:  https://convlab.blob.core.windows.net/convlab-2/mdrg_data.zip\nLoad from https://convlab.blob.core.windows.net/convlab-2/mdrg_data.zip\n08/13/2020 16:52:51 - INFO - convlab2.util.allennlp_file_utils -   https://convlab.blob.core.windows.net/convlab-2/mdrg_data.zip not found in cache, downloading to /tmp/tmp7cm_z1uh\n100%|██████████| 47104409/47104409 [00:34<00:00, 1361240.96B/s]\n08/13/2020 16:53:26 - INFO - convlab2.util.allennlp_file_utils -   copying /tmp/tmp7cm_z1uh to cache at /home/com10/.convlab2/cache/00a406587d87174b74198f14cae25cd2054923a471c59233f27ec80caef23686.da1518d0f3a98f95e2be9aee8474275aa3e182c5b9faccf16e9deac38752afce\n08/13/2020 16:53:26 - INFO - convlab2.util.allennlp_file_utils -   creating metadata file for /home/com10/.convlab2/cache/00a406587d87174b74198f14cae25cd2054923a471c59233f27ec80caef23686.da1518d0f3a98f95e2be9aee8474275aa3e182c5b9faccf16e9deac38752afce\n08/13/2020 16:53:26 - INFO - convlab2.util.allennlp_file_utils -   removing temp file /tmp/tmp7cm_z1uh\nExtracting...\nDownloading from:  https://convlab.blob.core.windows.net/convlab-2/mdrg_db.zip\nLoad from https://convlab.blob.core.windows.net/convlab-2/mdrg_db.zip\n08/13/2020 16:53:29 - INFO - convlab2.util.allennlp_file_utils -   https://convlab.blob.core.windows.net/convlab-2/mdrg_db.zip not found in cache, downloading to /tmp/tmpd3a1z3b6\n100%|██████████| 183081/183081 [00:00<00:00, 480506.46B/s]\n08/13/2020 16:53:30 - INFO - convlab2.util.allennlp_file_utils -   copying /tmp/tmpd3a1z3b6 to cache at /home/com10/.convlab2/cache/a9766cc757fb79e7ac5266715dd065c687f884e5dc06840bba4d3b07307eb95b.b7bac7303e20c54957b367fa386215aaa595d5df9fb04341554b2067d458679c\n08/13/2020 16:53:30 - INFO - convlab2.util.allennlp_file_utils -   creating metadata file for /home/com10/.convlab2/cache/a9766cc757fb79e7ac5266715dd065c687f884e5dc06840bba4d3b07307eb95b.b7bac7303e20c54957b367fa386215aaa595d5df9fb04341554b2067d458679c\n08/13/2020 16:53:30 - INFO - convlab2.util.allennlp_file_utils -   removing temp file /tmp/tmpd3a1z3b6\nExtracting...\n[nltk_data] Downloading package stopwords to /home/com10/nltk_data...\n[nltk_data]   Unzipping corpora/stopwords.zip.\n"
    }
   ],
   "source": [
    "# available NLU models\n",
    "from convlab2.nlu.svm.multiwoz import SVMNLU\n",
    "from convlab2.nlu.jointBERT.multiwoz import BERTNLU\n",
    "from convlab2.nlu.milu.multiwoz import MILU\n",
    "# available DST models\n",
    "from convlab2.dst.rule.multiwoz import RuleDST\n",
    "#from convlab2.dst.mdbt.multiwoz import MDBT\n",
    "from convlab2.dst.sumbt.multiwoz import SUMBT\n",
    "from convlab2.dst.trade.multiwoz import TRADE\n",
    "# available Policy models\n",
    "from convlab2.policy.rule.multiwoz import RulePolicy\n",
    "from convlab2.policy.ppo.multiwoz import PPOPolicy\n",
    "from convlab2.policy.pg.multiwoz import PGPolicy\n",
    "from convlab2.policy.mle.multiwoz import MLEPolicy\n",
    "from convlab2.policy.gdpl.multiwoz import GDPLPolicy\n",
    "#from convlab2.policy.vhus.multiwoz import UserPolicyVHUS\n",
    "from convlab2.policy.mdrg.multiwoz import MDRGWordPolicy\n",
    "from convlab2.policy.hdsa.multiwoz import HDSA\n",
    "from convlab2.policy.larl.multiwoz import LaRL\n",
    "# available NLG models\n",
    "from convlab2.nlg.template.multiwoz import TemplateNLG\n",
    "from convlab2.nlg.sclstm.multiwoz import SCLSTM\n",
    "# available E2E models\n",
    "from convlab2.e2e.sequicity.multiwoz import Sequicity\n",
    "from convlab2.e2e.damd.multiwoz import Damd"
   ]
  },
  {
   "cell_type": "markdown",
   "metadata": {},
   "source": [
    "## Step 3.1. ConvLab에서 지원하는 모델들을 가지고 나만의 대화시스템을 만들어 봅시다.\n",
    "\n",
    "Word-DST 모델들은 NLU와 DST가 합쳐진 모델을 의미합니다. 따라서, 별도의 NLU 모델 없이 사용할 수 있습니다.\n",
    "\n",
    "따라서, (1) NLU+RuleDST 또는 (2) Word-DST 로 조합이 가능합니다.\n",
    "\n",
    "**\\[주의!]** Word-DST 의 경우 sys_nlu = None 이어야 합니다.\n",
    "\n",
    "Word-Policy 모델들은 Dialogue Policy 와 NLG 가 합쳐진 모델을 의미합니다. 따라서 별도의 NLG 모델없이 사용할 수 있습니다.\n",
    "\n",
    "따라서, (1) Policy+NLG 또는 Word-Policy 로 조합이 가능합니다.\n",
    "\n",
    "**\\[주의!]** Word-Policy 의 경우 sys_nlg = None 이어야 합니다.\n",
    "\n",
    "`PipelineAgent` class를 이용해 Pipelined 대화 시스템을 만들 수 있습니다. 또는 End-to-End model를 사용할 수도 있습니다.\n",
    "\n"
   ]
  },
  {
   "cell_type": "code",
   "execution_count": 17,
   "metadata": {
    "tags": [
     "outputPrepend"
    ]
   },
   "outputs": [
    {
     "output_type": "stream",
     "name": "stdout",
     "text": "irectional': True, 'dropout': 0.5, 'hidden_size': 200, 'input_size': 400, 'num_layers': 1, 'type': 'lstm'}, 'label_encoding': 'BIO', 'regularizer': [['scalar_parameters', {'alpha': 0.1, 'type': 'l2'}]], 'text_field_embedder': {'token_embedders': {'token_characters': {'embedding': {'embedding_dim': 16}, 'encoder': {'conv_layer_activation': 'relu', 'embedding_dim': 16, 'ngram_filter_sizes': [3], 'num_filters': 128, 'type': 'cnn'}, 'type': 'character_encoding'}, 'tokens': {'embedding_dim': 50, 'trainable': True, 'type': 'embedding'}}}, 'type': 'milu'} and extras {'vocab'}\n08/13/2020 16:56:12 - INFO - allennlp.common.params -   model.type = milu\n08/13/2020 16:56:12 - INFO - allennlp.common.from_params -   instantiating class <class 'convlab2.nlu.milu.model.MILU'> from params {'attention': {'matrix_dim': 400, 'type': 'bilinear', 'vector_dim': 400}, 'attention_for_intent': False, 'attention_for_tag': False, 'context_for_intent': True, 'context_for_tag': False, 'dropout': 0.3, 'encoder': {'bidirectional': True, 'dropout': 0.5, 'hidden_size': 200, 'input_size': 178, 'num_layers': 1, 'type': 'lstm'}, 'include_start_end_transitions': False, 'intent_encoder': {'bidirectional': True, 'dropout': 0.5, 'hidden_size': 200, 'input_size': 400, 'num_layers': 1, 'type': 'lstm'}, 'label_encoding': 'BIO', 'regularizer': [['scalar_parameters', {'alpha': 0.1, 'type': 'l2'}]], 'text_field_embedder': {'token_embedders': {'token_characters': {'embedding': {'embedding_dim': 16}, 'encoder': {'conv_layer_activation': 'relu', 'embedding_dim': 16, 'ngram_filter_sizes': [3], 'num_filters': 128, 'type': 'cnn'}, 'type': 'character_encoding'}, 'tokens': {'embedding_dim': 50, 'trainable': True, 'type': 'embedding'}}}} and extras {'vocab'}\n08/13/2020 16:56:12 - INFO - allennlp.common.from_params -   instantiating class <class 'allennlp.modules.text_field_embedders.text_field_embedder.TextFieldEmbedder'> from params {'token_embedders': {'token_characters': {'embedding': {'embedding_dim': 16}, 'encoder': {'conv_layer_activation': 'relu', 'embedding_dim': 16, 'ngram_filter_sizes': [3], 'num_filters': 128, 'type': 'cnn'}, 'type': 'character_encoding'}, 'tokens': {'embedding_dim': 50, 'trainable': True, 'type': 'embedding'}}} and extras {'vocab'}\n08/13/2020 16:56:12 - INFO - allennlp.common.params -   model.text_field_embedder.type = basic\n08/13/2020 16:56:12 - INFO - allennlp.common.params -   model.text_field_embedder.embedder_to_indexer_map = None\n08/13/2020 16:56:12 - INFO - allennlp.common.params -   model.text_field_embedder.allow_unmatched_keys = False\n08/13/2020 16:56:12 - INFO - allennlp.common.from_params -   instantiating class <class 'allennlp.modules.token_embedders.token_embedder.TokenEmbedder'> from params {'embedding': {'embedding_dim': 16}, 'encoder': {'conv_layer_activation': 'relu', 'embedding_dim': 16, 'ngram_filter_sizes': [3], 'num_filters': 128, 'type': 'cnn'}, 'type': 'character_encoding'} and extras {'vocab'}\n08/13/2020 16:56:12 - INFO - allennlp.common.params -   model.text_field_embedder.token_embedders.token_characters.type = character_encoding\n08/13/2020 16:56:12 - INFO - allennlp.common.params -   model.text_field_embedder.token_embedders.token_characters.embedding.num_embeddings = None\n08/13/2020 16:56:12 - INFO - allennlp.common.params -   model.text_field_embedder.token_embedders.token_characters.embedding.vocab_namespace = token_characters\n08/13/2020 16:56:12 - INFO - allennlp.common.params -   model.text_field_embedder.token_embedders.token_characters.embedding.embedding_dim = 16\n08/13/2020 16:56:12 - INFO - allennlp.common.params -   model.text_field_embedder.token_embedders.token_characters.embedding.pretrained_file = None\n08/13/2020 16:56:12 - INFO - allennlp.common.params -   model.text_field_embedder.token_embedders.token_characters.embedding.projection_dim = None\n08/13/2020 16:56:12 - INFO - allennlp.common.params -   model.text_field_embedder.token_embedders.token_characters.embedding.trainable = True\n08/13/2020 16:56:12 - INFO - allennlp.common.params -   model.text_field_embedder.token_embedders.token_characters.embedding.padding_index = None\n08/13/2020 16:56:12 - INFO - allennlp.common.params -   model.text_field_embedder.token_embedders.token_characters.embedding.max_norm = None\n08/13/2020 16:56:12 - INFO - allennlp.common.params -   model.text_field_embedder.token_embedders.token_characters.embedding.norm_type = 2.0\n08/13/2020 16:56:12 - INFO - allennlp.common.params -   model.text_field_embedder.token_embedders.token_characters.embedding.scale_grad_by_freq = False\n08/13/2020 16:56:12 - INFO - allennlp.common.params -   model.text_field_embedder.token_embedders.token_characters.embedding.sparse = False\n08/13/2020 16:56:12 - INFO - allennlp.common.from_params -   instantiating class <class 'allennlp.modules.seq2vec_encoders.seq2vec_encoder.Seq2VecEncoder'> from params {'conv_layer_activation': 'relu', 'embedding_dim': 16, 'ngram_filter_sizes': [3], 'num_filters': 128, 'type': 'cnn'} and extras set()\n08/13/2020 16:56:12 - INFO - allennlp.common.params -   model.text_field_embedder.token_embedders.token_characters.encoder.type = cnn\n08/13/2020 16:56:12 - INFO - allennlp.common.from_params -   instantiating class <class 'allennlp.modules.seq2vec_encoders.cnn_encoder.CnnEncoder'> from params {'conv_layer_activation': 'relu', 'embedding_dim': 16, 'ngram_filter_sizes': [3], 'num_filters': 128} and extras set()\n08/13/2020 16:56:12 - INFO - allennlp.common.params -   model.text_field_embedder.token_embedders.token_characters.encoder.embedding_dim = 16\n08/13/2020 16:56:12 - INFO - allennlp.common.params -   model.text_field_embedder.token_embedders.token_characters.encoder.num_filters = 128\n08/13/2020 16:56:12 - INFO - allennlp.common.params -   model.text_field_embedder.token_embedders.token_characters.encoder.ngram_filter_sizes = [3]\n08/13/2020 16:56:12 - INFO - allennlp.common.params -   model.text_field_embedder.token_embedders.token_characters.encoder.conv_layer_activation = relu\n08/13/2020 16:56:12 - INFO - allennlp.common.registrable -   instantiating registered subclass relu of <class 'allennlp.nn.activations.Activation'>\n08/13/2020 16:56:12 - INFO - allennlp.common.params -   model.text_field_embedder.token_embedders.token_characters.encoder.output_dim = None\n08/13/2020 16:56:12 - INFO - allennlp.common.params -   model.text_field_embedder.token_embedders.token_characters.dropout = 0.0\n08/13/2020 16:56:12 - INFO - allennlp.common.from_params -   instantiating class <class 'allennlp.modules.token_embedders.token_embedder.TokenEmbedder'> from params {'embedding_dim': 50, 'trainable': True, 'type': 'embedding'} and extras {'vocab'}\n08/13/2020 16:56:12 - INFO - allennlp.common.params -   model.text_field_embedder.token_embedders.tokens.type = embedding\n08/13/2020 16:56:12 - INFO - allennlp.common.params -   model.text_field_embedder.token_embedders.tokens.num_embeddings = None\n08/13/2020 16:56:12 - INFO - allennlp.common.params -   model.text_field_embedder.token_embedders.tokens.vocab_namespace = tokens\n08/13/2020 16:56:12 - INFO - allennlp.common.params -   model.text_field_embedder.token_embedders.tokens.embedding_dim = 50\n08/13/2020 16:56:12 - INFO - allennlp.common.params -   model.text_field_embedder.token_embedders.tokens.pretrained_file = None\n08/13/2020 16:56:12 - INFO - allennlp.common.params -   model.text_field_embedder.token_embedders.tokens.projection_dim = None\n08/13/2020 16:56:12 - INFO - allennlp.common.params -   model.text_field_embedder.token_embedders.tokens.trainable = True\n08/13/2020 16:56:12 - INFO - allennlp.common.params -   model.text_field_embedder.token_embedders.tokens.padding_index = None\n08/13/2020 16:56:12 - INFO - allennlp.common.params -   model.text_field_embedder.token_embedders.tokens.max_norm = None\n08/13/2020 16:56:12 - INFO - allennlp.common.params -   model.text_field_embedder.token_embedders.tokens.norm_type = 2.0\n08/13/2020 16:56:12 - INFO - allennlp.common.params -   model.text_field_embedder.token_embedders.tokens.scale_grad_by_freq = False\n08/13/2020 16:56:12 - INFO - allennlp.common.params -   model.text_field_embedder.token_embedders.tokens.sparse = False\n08/13/2020 16:56:12 - INFO - allennlp.common.from_params -   instantiating class <class 'allennlp.modules.seq2seq_encoders.seq2seq_encoder.Seq2SeqEncoder'> from params {'bidirectional': True, 'dropout': 0.5, 'hidden_size': 200, 'input_size': 178, 'num_layers': 1, 'type': 'lstm'} and extras {'vocab'}\n08/13/2020 16:56:12 - INFO - allennlp.common.params -   model.encoder.type = lstm\n08/13/2020 16:56:12 - INFO - allennlp.common.params -   model.encoder.batch_first = True\n08/13/2020 16:56:12 - INFO - allennlp.common.params -   model.encoder.stateful = False\n08/13/2020 16:56:12 - INFO - allennlp.common.params -   Converting Params object to dict; logging of default values will not occur when dictionary parameters are used subsequently.\n08/13/2020 16:56:12 - INFO - allennlp.common.params -   CURRENTLY DEFINED PARAMETERS: \n08/13/2020 16:56:12 - INFO - allennlp.common.params -   model.encoder.bidirectional = True\n08/13/2020 16:56:12 - INFO - allennlp.common.params -   model.encoder.dropout = 0.5\n08/13/2020 16:56:12 - INFO - allennlp.common.params -   model.encoder.hidden_size = 200\n08/13/2020 16:56:12 - INFO - allennlp.common.params -   model.encoder.input_size = 178\n08/13/2020 16:56:12 - INFO - allennlp.common.params -   model.encoder.num_layers = 1\n08/13/2020 16:56:12 - INFO - allennlp.common.params -   model.encoder.batch_first = True\n08/13/2020 16:56:12 - INFO - allennlp.common.from_params -   instantiating class <class 'allennlp.modules.seq2seq_encoders.seq2seq_encoder.Seq2SeqEncoder'> from params {'bidirectional': True, 'dropout': 0.5, 'hidden_size': 200, 'input_size': 400, 'num_layers': 1, 'type': 'lstm'} and extras {'vocab'}\n08/13/2020 16:56:12 - INFO - allennlp.common.params -   model.intent_encoder.type = lstm\n08/13/2020 16:56:12 - INFO - allennlp.common.params -   model.intent_encoder.batch_first = True\n08/13/2020 16:56:12 - INFO - allennlp.common.params -   model.intent_encoder.stateful = False\n08/13/2020 16:56:12 - INFO - allennlp.common.params -   Converting Params object to dict; logging of default values will not occur when dictionary parameters are used subsequently.\n08/13/2020 16:56:12 - INFO - allennlp.common.params -   CURRENTLY DEFINED PARAMETERS: \n08/13/2020 16:56:12 - INFO - allennlp.common.params -   model.intent_encoder.bidirectional = True\n08/13/2020 16:56:12 - INFO - allennlp.common.params -   model.intent_encoder.dropout = 0.5\n08/13/2020 16:56:12 - INFO - allennlp.common.params -   model.intent_encoder.hidden_size = 200\n08/13/2020 16:56:12 - INFO - allennlp.common.params -   model.intent_encoder.input_size = 400\n08/13/2020 16:56:12 - INFO - allennlp.common.params -   model.intent_encoder.num_layers = 1\n08/13/2020 16:56:12 - INFO - allennlp.common.params -   model.intent_encoder.batch_first = True\n08/13/2020 16:56:12 - INFO - allennlp.common.from_params -   instantiating class <class 'allennlp.modules.attention.attention.Attention'> from params {'matrix_dim': 400, 'type': 'bilinear', 'vector_dim': 400} and extras {'vocab'}\n08/13/2020 16:56:12 - INFO - allennlp.common.params -   model.attention.type = bilinear\n08/13/2020 16:56:12 - INFO - allennlp.common.from_params -   instantiating class <class 'allennlp.modules.attention.bilinear_attention.BilinearAttention'> from params {'matrix_dim': 400, 'vector_dim': 400} and extras {'vocab'}\n08/13/2020 16:56:12 - INFO - allennlp.common.params -   model.attention.vector_dim = 400\n08/13/2020 16:56:12 - INFO - allennlp.common.params -   model.attention.matrix_dim = 400\n08/13/2020 16:56:12 - INFO - allennlp.common.params -   model.attention.normalize = True\n08/13/2020 16:56:12 - INFO - allennlp.common.registrable -   instantiating registered subclass linear of <class 'allennlp.nn.activations.Activation'>\n08/13/2020 16:56:12 - INFO - allennlp.common.params -   model.context_for_intent = True\n08/13/2020 16:56:12 - INFO - allennlp.common.params -   model.context_for_tag = False\n08/13/2020 16:56:12 - INFO - allennlp.common.params -   model.attention_for_intent = False\n08/13/2020 16:56:12 - INFO - allennlp.common.params -   model.attention_for_tag = False\n08/13/2020 16:56:12 - INFO - allennlp.common.params -   model.sequence_label_namespace = labels\n08/13/2020 16:56:12 - INFO - allennlp.common.params -   model.intent_label_namespace = intent_labels\n08/13/2020 16:56:12 - INFO - allennlp.common.params -   model.label_encoding = BIO\n08/13/2020 16:56:12 - INFO - allennlp.common.params -   model.include_start_end_transitions = False\n08/13/2020 16:56:12 - INFO - allennlp.common.params -   model.crf_decoding = False\n08/13/2020 16:56:12 - INFO - allennlp.common.params -   model.constrain_crf_decoding = None\n08/13/2020 16:56:12 - INFO - allennlp.common.params -   model.focal_loss_gamma = None\n08/13/2020 16:56:12 - INFO - allennlp.common.params -   model.nongeneral_intent_weight = 5.0\n08/13/2020 16:56:12 - INFO - allennlp.common.params -   model.num_train_examples = None\n08/13/2020 16:56:12 - INFO - allennlp.common.params -   model.calculate_span_f1 = None\n08/13/2020 16:56:12 - INFO - allennlp.common.params -   model.dropout = 0.3\n08/13/2020 16:56:12 - INFO - allennlp.common.params -   model.verbose_metrics = False\n08/13/2020 16:56:12 - INFO - allennlp.common.params -   model.regularizer.0.1.type = l2\n08/13/2020 16:56:12 - INFO - allennlp.common.registrable -   instantiating registered subclass l2 of <class 'allennlp.nn.regularizers.regularizer.Regularizer'>\n08/13/2020 16:56:12 - INFO - allennlp.nn.initializers -   Initializing parameters\n08/13/2020 16:56:12 - INFO - allennlp.nn.initializers -   Done initializing parameters; the following parameters are using their default initialization from their code\n08/13/2020 16:56:12 - INFO - allennlp.nn.initializers -      attention._bias\n08/13/2020 16:56:12 - INFO - allennlp.nn.initializers -      attention._weight_matrix\n08/13/2020 16:56:12 - INFO - allennlp.nn.initializers -      encoder._module.bias_hh_l0\n08/13/2020 16:56:12 - INFO - allennlp.nn.initializers -      encoder._module.bias_hh_l0_reverse\n08/13/2020 16:56:12 - INFO - allennlp.nn.initializers -      encoder._module.bias_ih_l0\n08/13/2020 16:56:12 - INFO - allennlp.nn.initializers -      encoder._module.bias_ih_l0_reverse\n08/13/2020 16:56:12 - INFO - allennlp.nn.initializers -      encoder._module.weight_hh_l0\n08/13/2020 16:56:12 - INFO - allennlp.nn.initializers -      encoder._module.weight_hh_l0_reverse\n08/13/2020 16:56:12 - INFO - allennlp.nn.initializers -      encoder._module.weight_ih_l0\n08/13/2020 16:56:12 - INFO - allennlp.nn.initializers -      encoder._module.weight_ih_l0_reverse\n08/13/2020 16:56:12 - INFO - allennlp.nn.initializers -      intent_encoder._module.bias_hh_l0\n08/13/2020 16:56:12 - INFO - allennlp.nn.initializers -      intent_encoder._module.bias_hh_l0_reverse\n08/13/2020 16:56:12 - INFO - allennlp.nn.initializers -      intent_encoder._module.bias_ih_l0\n08/13/2020 16:56:12 - INFO - allennlp.nn.initializers -      intent_encoder._module.bias_ih_l0_reverse\n08/13/2020 16:56:12 - INFO - allennlp.nn.initializers -      intent_encoder._module.weight_hh_l0\n08/13/2020 16:56:12 - INFO - allennlp.nn.initializers -      intent_encoder._module.weight_hh_l0_reverse\n08/13/2020 16:56:12 - INFO - allennlp.nn.initializers -      intent_encoder._module.weight_ih_l0\n08/13/2020 16:56:12 - INFO - allennlp.nn.initializers -      intent_encoder._module.weight_ih_l0_reverse\n08/13/2020 16:56:12 - INFO - allennlp.nn.initializers -      intent_projection_layer.bias\n08/13/2020 16:56:12 - INFO - allennlp.nn.initializers -      intent_projection_layer.weight\n08/13/2020 16:56:12 - INFO - allennlp.nn.initializers -      tag_projection_layer._module.bias\n08/13/2020 16:56:12 - INFO - allennlp.nn.initializers -      tag_projection_layer._module.weight\n08/13/2020 16:56:12 - INFO - allennlp.nn.initializers -      text_field_embedder.token_embedder_token_characters._embedding._module.weight\n08/13/2020 16:56:12 - INFO - allennlp.nn.initializers -      text_field_embedder.token_embedder_token_characters._encoder._module.conv_layer_0.bias\n08/13/2020 16:56:12 - INFO - allennlp.nn.initializers -      text_field_embedder.token_embedder_token_characters._encoder._module.conv_layer_0.weight\n08/13/2020 16:56:12 - INFO - allennlp.nn.initializers -      text_field_embedder.token_embedder_tokens.weight\n08/13/2020 16:56:12 - INFO - allennlp.common.from_params -   instantiating class <class 'allennlp.data.dataset_readers.dataset_reader.DatasetReader'> from params {'context_size': 3, 'token_indexers': {'token_characters': {'min_padding_length': 3, 'type': 'characters'}, 'tokens': {'lowercase_tokens': True, 'type': 'single_id'}}, 'type': 'milu'} and extras set()\n08/13/2020 16:56:12 - INFO - allennlp.common.params -   dataset_reader.type = milu\n08/13/2020 16:56:12 - INFO - allennlp.common.from_params -   instantiating class <class 'convlab2.nlu.milu.dataset_reader.MILUDatasetReader'> from params {'context_size': 3, 'token_indexers': {'token_characters': {'min_padding_length': 3, 'type': 'characters'}, 'tokens': {'lowercase_tokens': True, 'type': 'single_id'}}} and extras set()\n08/13/2020 16:56:12 - INFO - allennlp.common.params -   dataset_reader.context_size = 3\n08/13/2020 16:56:12 - INFO - allennlp.common.params -   dataset_reader.agent = None\n08/13/2020 16:56:12 - INFO - allennlp.common.params -   dataset_reader.random_context_size = True\n08/13/2020 16:56:12 - INFO - allennlp.common.params -   dataset_reader.token_delimiter = None\n08/13/2020 16:56:12 - INFO - allennlp.common.from_params -   instantiating class <class 'allennlp.data.token_indexers.token_indexer.TokenIndexer'> from params {'min_padding_length': 3, 'type': 'characters'} and extras set()\n08/13/2020 16:56:12 - INFO - allennlp.common.params -   dataset_reader.token_indexers.token_characters.type = characters\n08/13/2020 16:56:12 - INFO - allennlp.common.from_params -   instantiating class <class 'allennlp.data.token_indexers.token_characters_indexer.TokenCharactersIndexer'> from params {'min_padding_length': 3} and extras set()\n08/13/2020 16:56:12 - INFO - allennlp.common.params -   dataset_reader.token_indexers.token_characters.namespace = token_characters\n08/13/2020 16:56:12 - INFO - allennlp.common.params -   dataset_reader.token_indexers.token_characters.start_tokens = None\n08/13/2020 16:56:12 - INFO - allennlp.common.params -   dataset_reader.token_indexers.token_characters.end_tokens = None\n08/13/2020 16:56:12 - INFO - allennlp.common.params -   dataset_reader.token_indexers.token_characters.min_padding_length = 3\n08/13/2020 16:56:12 - INFO - allennlp.common.params -   dataset_reader.token_indexers.token_characters.token_min_padding_length = 0\n08/13/2020 16:56:12 - INFO - allennlp.common.from_params -   instantiating class <class 'allennlp.data.token_indexers.token_indexer.TokenIndexer'> from params {'lowercase_tokens': True, 'type': 'single_id'} and extras set()\n08/13/2020 16:56:12 - INFO - allennlp.common.params -   dataset_reader.token_indexers.tokens.type = single_id\n08/13/2020 16:56:12 - INFO - allennlp.common.from_params -   instantiating class <class 'allennlp.data.token_indexers.single_id_token_indexer.SingleIdTokenIndexer'> from params {'lowercase_tokens': True} and extras set()\n08/13/2020 16:56:12 - INFO - allennlp.common.params -   dataset_reader.token_indexers.tokens.namespace = tokens\n08/13/2020 16:56:12 - INFO - allennlp.common.params -   dataset_reader.token_indexers.tokens.lowercase_tokens = True\n08/13/2020 16:56:12 - INFO - allennlp.common.params -   dataset_reader.token_indexers.tokens.start_tokens = None\n08/13/2020 16:56:12 - INFO - allennlp.common.params -   dataset_reader.token_indexers.tokens.end_tokens = None\n08/13/2020 16:56:12 - INFO - allennlp.common.params -   dataset_reader.token_indexers.tokens.token_min_padding_length = 0\n08/13/2020 16:56:12 - INFO - allennlp.common.params -   dataset_reader.lazy = False\n"
    }
   ],
   "source": [
    "# NLU+RuleDST:\n",
    "sys_nlu = MILU()\n",
    "# sys_nlu = SVMNLU()\n",
    "# sys_nlu = BERTNLU()\n",
    "sys_dst = RuleDST()\n",
    "\n",
    "# or Word-DST:\n",
    "# sys_nlu = None\n",
    "# sys_dst = SUMBT()\n",
    "# sys_dst = TRADE()\n",
    "#### (not working!) sys_dst = MDBT()\n",
    "\n",
    "# [Caution] In Word-DST case, sys_nlu must be \"None\"\n",
    "\n",
    "# Policy+NLG:\n",
    "sys_policy = RulePolicy()\n",
    "# sys_policy = PPOPolicy()\n",
    "# sys_policy = PGPolicy()\n",
    "# sys_policy = MLEPolicy()\n",
    "# sys_policy = GDPLPolicy()\n",
    "sys_nlg = TemplateNLG(is_user=False)\n",
    "#sys_nlg = SCLSTM(is_user=False)\n",
    "\n",
    "# or Word-Policy:\n",
    "# sys_policy = LaRL()\n",
    "# sys_policy = HDSA()\n",
    "# sys_policy = MDRGWordPolicy()\n",
    "# sys_nlg = None\n",
    "\n",
    "# [Caution] \"In Word-policy case, sys_nlg must be None\"\n",
    "\n",
    "sys_agent = PipelineAgent(sys_nlu, sys_dst, sys_policy, sys_nlg, 'sys')\n",
    "# sys_agent = Sequicity()\n",
    "# sys_agent = Damd()"
   ]
  },
  {
   "cell_type": "markdown",
   "metadata": {},
   "source": [
    "앞에서 했던 방식대로, user simulator도 정의해줍니다.\n",
    "\n",
    "(ConvLab에서는 RulePolicy(character='usr')로 두었을 때, `Agenda` policy로 변환되며, 이는 user의 goal을 기반으로 하는 user model을 정의할 수 있습니다. )"
   ]
  },
  {
   "cell_type": "code",
   "execution_count": 18,
   "metadata": {
    "tags": []
   },
   "outputs": [
    {
     "output_type": "stream",
     "name": "stdout",
     "text": "load train, size 8434\nload val, size 999\nload test, size 1000\nloaded train, size 113500\nloaded val, size 14730\nloaded test, size 14744\ndialog act num: 36\nsentence label num: 137\ntag num: 331\nintent num: 137\ntag num: 331\nLoad from model_file param\nLoad from https://convlab.blob.core.windows.net/convlab-2/bert_multiwoz_all_context.zip\n08/13/2020 16:59:07 - INFO - convlab2.util.allennlp_file_utils -   https://convlab.blob.core.windows.net/convlab-2/bert_multiwoz_all_context.zip not found in cache, downloading to /tmp/tmpf9ea4aoa\n100%|██████████| 425713245/425713245 [07:00<00:00, 1012736.71B/s]\n08/13/2020 17:06:08 - INFO - convlab2.util.allennlp_file_utils -   copying /tmp/tmpf9ea4aoa to cache at /home/com10/.convlab2/cache/fe2b28201c498bb510ae89111e6bb1710a013c23920583adafc3f2b140376b90.4fbb3a3c9025fd8bc79740ec9ac9f931fb88de0cece837a569fba203fa3df2a0\n08/13/2020 17:06:08 - INFO - convlab2.util.allennlp_file_utils -   creating metadata file for /home/com10/.convlab2/cache/fe2b28201c498bb510ae89111e6bb1710a013c23920583adafc3f2b140376b90.4fbb3a3c9025fd8bc79740ec9ac9f931fb88de0cece837a569fba203fa3df2a0\n08/13/2020 17:06:08 - INFO - convlab2.util.allennlp_file_utils -   removing temp file /tmp/tmpf9ea4aoa\nLoad from /home/com10/0813_dialogue_system/ConvLab-2/convlab2/nlu/jointBERT/multiwoz/output/all_context/pytorch_model.bin\nbert-base-uncased\nBERTNLU loaded\nLoading goal model is done\n"
    }
   ],
   "source": [
    "user_nlu = BERTNLU()\n",
    "# user_nlu = MILU()\n",
    "# user_nlu = SVMNLU()\n",
    "user_dst = None\n",
    "user_policy = RulePolicy(character='usr')\n",
    "# user_policy = UserPolicyVHUS(load_from_zip=True)\n",
    "user_nlg = TemplateNLG(is_user=True)\n",
    "# user_nlg = SCLSTM(is_user=True)\n",
    "user_agent = PipelineAgent(user_nlu, user_dst, user_policy, user_nlg, name='user')"
   ]
  },
  {
   "cell_type": "markdown",
   "metadata": {},
   "source": [
    "## Step 3.2 분석 툴을 사용해 system model을 진단해봅시다.\n",
    "\n",
    "Convlab2에서는 분석 툴(analysis tool)을 제공하며, 이를 통해 정의한 system model의 성능 및 취약점을 분석하고 진단할 수 있습니다.\n",
    "\n",
    "뿐만 아니라 HTML report를 작성해주어, 조금 더 풍부한 통계 정보를 얻어낼 수 있습니다. (results/\\$model_name\\$ 를 참조합니다)"
   ]
  },
  {
   "cell_type": "code",
   "execution_count": 19,
   "metadata": {
    "tags": []
   },
   "outputs": [
    {
     "output_type": "stream",
     "name": "stderr",
     "text": "dialogue:   5%|▌         | 1/20 [00:00<00:13,  1.40it/s]08/13/2020 17:06:31 - DEBUG - root -   Value not found in standard value set: [47932720631] (slot: phone domain: taxi)\n08/13/2020 17:06:31 - DEBUG - root -   Value not found in standard value set: [57253443034] (slot: phone domain: taxi)\n08/13/2020 17:06:31 - DEBUG - root -   Value not found in standard value set: [31316650087] (slot: phone domain: taxi)\n08/13/2020 17:06:31 - DEBUG - root -   Value not found in standard value set: [85878627496] (slot: phone domain: taxi)\n08/13/2020 17:06:31 - DEBUG - root -   Value not found in standard value set: [07233561887] (slot: phone domain: taxi)\n08/13/2020 17:06:31 - DEBUG - root -   Value not found in standard value set: [17343656291] (slot: phone domain: taxi)\n08/13/2020 17:06:31 - DEBUG - root -   Value not found in standard value set: [65450290121] (slot: phone domain: taxi)\n08/13/2020 17:06:31 - DEBUG - root -   Value not found in standard value set: [87288110405] (slot: phone domain: taxi)\n08/13/2020 17:06:31 - DEBUG - root -   Value not found in standard value set: [32650524200] (slot: phone domain: taxi)\n08/13/2020 17:06:31 - DEBUG - root -   Value not found in standard value set: [67804874195] (slot: phone domain: taxi)\n08/13/2020 17:06:31 - DEBUG - root -   Value not found in standard value set: [25994645825] (slot: phone domain: taxi)\n08/13/2020 17:06:31 - DEBUG - root -   Value not found in standard value set: [51707383217] (slot: phone domain: taxi)\n08/13/2020 17:06:31 - DEBUG - root -   Value not found in standard value set: [65504920416] (slot: phone domain: taxi)\n08/13/2020 17:06:31 - DEBUG - root -   Value not found in standard value set: [18407935217] (slot: phone domain: taxi)\ndialogue:  10%|█         | 2/20 [00:01<00:12,  1.40it/s]08/13/2020 17:06:31 - DEBUG - root -   Value not found in standard value set: [66] (slot: price domain: train)\ndialogue:  25%|██▌       | 5/20 [00:01<00:06,  2.18it/s]08/13/2020 17:06:32 - DEBUG - root -   Value not found in standard value set: [16599984273] (slot: phone domain: taxi)\n08/13/2020 17:06:32 - DEBUG - root -   Value not found in standard value set: [73545115219] (slot: phone domain: taxi)\n08/13/2020 17:06:32 - DEBUG - root -   Value not found in standard value set: [49658361436] (slot: phone domain: taxi)\n08/13/2020 17:06:32 - DEBUG - root -   Value not found in standard value set: [84820041884] (slot: phone domain: taxi)\n08/13/2020 17:06:32 - DEBUG - root -   Value not found in standard value set: [79220920205] (slot: phone domain: taxi)\n08/13/2020 17:06:32 - DEBUG - root -   Value not found in standard value set: [08329098485] (slot: phone domain: taxi)\n08/13/2020 17:06:32 - DEBUG - root -   Value not found in standard value set: [91405620737] (slot: phone domain: taxi)\n08/13/2020 17:06:32 - DEBUG - root -   Value not found in standard value set: [09130565871] (slot: phone domain: taxi)\n08/13/2020 17:06:32 - DEBUG - root -   Value not found in standard value set: [10180974450] (slot: phone domain: taxi)\n08/13/2020 17:06:32 - DEBUG - root -   Value not found in standard value set: [90925216566] (slot: phone domain: taxi)\ndialogue:  30%|███       | 6/20 [00:02<00:07,  1.93it/s]08/13/2020 17:06:32 - DEBUG - root -   Value not found in standard value set: [saturday] (slot: leaveAt domain: train)\n08/13/2020 17:06:32 - DEBUG - root -   Value not found in standard value set: [NOOFFER] (slot: departure domain: train)\n08/13/2020 17:06:32 - DEBUG - root -   Value not found in standard value set: [Dest] (slot: departure domain: train)\ndialogue:  50%|█████     | 10/20 [00:03<00:03,  3.33it/s]08/13/2020 17:06:33 - DEBUG - root -   Value not found in standard value set: [in town] (slot: area domain: restaurant)\ndialogue:  85%|████████▌ | 17/20 [00:04<00:00,  4.36it/s]08/13/2020 17:06:35 - DEBUG - root -   Value not found in standard value set: [85939446618] (slot: phone domain: taxi)\n08/13/2020 17:06:35 - DEBUG - root -   Value not found in standard value set: [39936927982] (slot: phone domain: taxi)\n08/13/2020 17:06:35 - DEBUG - root -   Value not found in standard value set: [84722864780] (slot: phone domain: taxi)\n08/13/2020 17:06:35 - DEBUG - root -   Value not found in standard value set: [27871012383] (slot: phone domain: taxi)\n08/13/2020 17:06:35 - DEBUG - root -   Value not found in standard value set: [29195858899] (slot: phone domain: taxi)\n08/13/2020 17:06:35 - DEBUG - root -   Value not found in standard value set: [82127923600] (slot: phone domain: taxi)\n08/13/2020 17:06:35 - DEBUG - root -   Value not found in standard value set: [61388749070] (slot: phone domain: taxi)\n08/13/2020 17:06:35 - DEBUG - root -   Value not found in standard value set: [64125283932] (slot: phone domain: taxi)\n08/13/2020 17:06:35 - DEBUG - root -   Value not found in standard value set: [45516280473] (slot: phone domain: taxi)\n08/13/2020 17:06:35 - DEBUG - root -   Value not found in standard value set: [43442327423] (slot: phone domain: taxi)\n08/13/2020 17:06:35 - DEBUG - root -   Value not found in standard value set: [25837492007] (slot: phone domain: taxi)\n08/13/2020 17:06:35 - DEBUG - root -   Value not found in standard value set: [80253096866] (slot: phone domain: taxi)\n08/13/2020 17:06:35 - DEBUG - root -   Value not found in standard value set: [99792634644] (slot: phone domain: taxi)\n08/13/2020 17:06:35 - DEBUG - root -   Value not found in standard value set: [96522664134] (slot: phone domain: taxi)\ndialogue:  90%|█████████ | 18/20 [00:05<00:00,  2.75it/s]08/13/2020 17:06:35 - DEBUG - root -   Value not found in standard value set: [96864220773] (slot: phone domain: taxi)\n08/13/2020 17:06:35 - DEBUG - root -   Value not found in standard value set: [46903350176] (slot: phone domain: taxi)\n08/13/2020 17:06:35 - DEBUG - root -   Value not found in standard value set: [64685146323] (slot: phone domain: taxi)\n08/13/2020 17:06:35 - DEBUG - root -   Value not found in standard value set: [46109889972] (slot: phone domain: taxi)\n08/13/2020 17:06:35 - DEBUG - root -   Value not found in standard value set: [65908813256] (slot: phone domain: taxi)\n08/13/2020 17:06:36 - DEBUG - root -   Value not found in standard value set: [47403647789] (slot: phone domain: taxi)\n08/13/2020 17:06:36 - DEBUG - root -   Value not found in standard value set: [21559125785] (slot: phone domain: taxi)\n08/13/2020 17:06:36 - DEBUG - root -   Value not found in standard value set: [97273996269] (slot: phone domain: taxi)\n08/13/2020 17:06:36 - DEBUG - root -   Value not found in standard value set: [04480428708] (slot: phone domain: taxi)\n08/13/2020 17:06:36 - DEBUG - root -   Value not found in standard value set: [86794794823] (slot: phone domain: taxi)\n08/13/2020 17:06:36 - DEBUG - root -   Value not found in standard value set: [73986571951] (slot: phone domain: taxi)\n08/13/2020 17:06:36 - DEBUG - root -   Value not found in standard value set: [91595639954] (slot: phone domain: taxi)\n08/13/2020 17:06:36 - DEBUG - root -   Value not found in standard value set: [42110591073] (slot: phone domain: taxi)\n08/13/2020 17:06:36 - DEBUG - root -   Value not found in standard value set: [20734023996] (slot: phone domain: taxi)\n08/13/2020 17:06:36 - DEBUG - root -   Value not found in standard value set: [26091778855] (slot: phone domain: taxi)\n08/13/2020 17:06:36 - DEBUG - root -   Value not found in standard value set: [77777216401] (slot: phone domain: taxi)\ndialogue: 100%|██████████| 20/20 [00:06<00:00,  3.11it/s]\n====================================================================================================\ncomplete number of dialogs/tot: 0.7\nsuccess number of dialogs/tot: 0.65\naverage precision: 0.7517857142857143\naverage recall: 0.8025\naverage f1: 0.7711996336996336\naverage book rate: 0.9761904761904762\naverage turn (succ): 14.615384615384615\naverage turn (all): 18.9\n====================================================================================================\n"
    },
    {
     "output_type": "execute_result",
     "data": {
      "text/plain": "(0.7,\n 0.65,\n 0.7517857142857143,\n 0.8025,\n 0.7711996336996336,\n 0.9761904761904762,\n 18.9)"
     },
     "metadata": {},
     "execution_count": 19
    }
   ],
   "source": [
    "from convlab2.util.analysis_tool.analyzer import Analyzer\n",
    "\n",
    "# if sys_nlu!=None, set use_nlu=True to collect more information\n",
    "analyzer = Analyzer(user_agent=user_agent, dataset='multiwoz')\n",
    "\n",
    "set_seed(20200131)\n",
    "analyzer.comprehensive_analyze(sys_agent=sys_agent, model_name='sys_agent', total_dialog=20)"
   ]
  },
  {
   "cell_type": "markdown",
   "metadata": {},
   "source": [
    "## Step 3.3 여러 개의 system model 간 성능을 비교해봅시다. \n",
    "\n",
    "서로 다른 3가지의 system model에 대한 결과를 아래에 채워봅시다. (vscode 기준, 더블 클릭하면 수정할 수 있습니다.)\n",
    "\n",
    "NLU       | DST       | Policy    | NLG          | Success rate | Book rate | Inform P | Inform R | Inform F1 | Turn(succ/all) |\n",
    "--------- | --------- | --------- | :----------: | :----------: | --------- | -------- | --------- | -------- | -------------- |\n",
    "-         | -         | -         | -            | -            | -         | -        | -         | -        | -              |\n",
    "-         | -         | -         | -            | -            | -         | -        | -         | -        | -              |\n",
    "-         | -         | -         | -            | -            | -         | -        | -         | -        | -              |"
   ]
  },
  {
   "cell_type": "code",
   "execution_count": 24,
   "metadata": {
    "tags": []
   },
   "outputs": [
    {
     "output_type": "stream",
     "name": "stdout",
     "text": "'portuguese', 'pricerange': '<nm>', 'name': '<nm>', 'area': 'north'}\nsystem action : restaurant nooffer food portuguese area north\nkb : None\ncurrent domain :  restaurant\ndialogue state : {'food': 'portuguese', 'pricerange': '<nm>', 'name': '<nm>', 'area': 'south'}\nsystem action : restaurant request restaurant inform choice two food portuguese area south\nkb : {'addr': 'Cambridge Leisure Park Clifton Way', 'area': 'south', 'food': 'portuguese', 'id': '12238', 'introduction': \"It's Nandos\", 'location': [52.19017, 0.13699], 'name': 'nandos', 'phone': '01223327908', 'post': 'cb17dy', 'pricerange': 'cheap', 'type': 'restaurant', 'ref': '00000041'}\ncurrent domain :  restaurant\ndialogue state : {'food': 'portuguese', 'pricerange': '<nm>', 'name': '<nm>', 'area': 'south'}\nsystem action : booking inform none none restaurant recommend name nandos food portuguese area south\nkb : {'addr': 'Cambridge Leisure Park Clifton Way', 'area': 'south', 'food': 'portuguese', 'id': '12238', 'introduction': \"It's Nandos\", 'location': [52.19017, 0.13699], 'name': 'nandos', 'phone': '01223327908', 'post': 'cb17dy', 'pricerange': 'cheap', 'type': 'restaurant', 'ref': '00000041'}\ncurrent domain :  restaurant\ndialogue state : {'food': 'portuguese', 'pricerange': '<nm>', 'name': '<nm>', 'area': 'south'}\nsystem action : booking request\nkb : {'addr': 'Cambridge Leisure Park Clifton Way', 'area': 'south', 'food': 'portuguese', 'id': '12238', 'introduction': \"It's Nandos\", 'location': [52.19017, 0.13699], 'name': 'nandos', 'phone': '01223327908', 'post': 'cb17dy', 'pricerange': 'cheap', 'type': 'restaurant', 'ref': '00000041'}\ncurrent domain :  restaurant\ndialogue state : {'food': 'portuguese', 'pricerange': '<nm>', 'name': '<nm>', 'area': 'south'}\nsystem action : booking inform none none restaurant inform name nandos\nkb : {'addr': 'Cambridge Leisure Park Clifton Way', 'area': 'south', 'food': 'portuguese', 'id': '12238', 'introduction': \"It's Nandos\", 'location': [52.19017, 0.13699], 'name': 'nandos', 'phone': '01223327908', 'post': 'cb17dy', 'pricerange': 'cheap', 'type': 'restaurant', 'ref': '00000041'}\ncurrent domain :  restaurant\ndialogue state : {'food': 'portuguese', 'pricerange': '<nm>', 'name': '<nm>', 'area': 'south'}\nsystem action : booking request\nkb : {'addr': 'Cambridge Leisure Park Clifton Way', 'area': 'south', 'food': 'portuguese', 'id': '12238', 'introduction': \"It's Nandos\", 'location': [52.19017, 0.13699], 'name': 'nandos', 'phone': '01223327908', 'post': 'cb17dy', 'pricerange': 'cheap', 'type': 'restaurant', 'ref': '00000041'}\ncurrent domain :  restaurant\ndialogue state : {'food': 'portuguese', 'pricerange': '<nm>', 'name': '<nm>', 'area': 'south'}\nsystem action : booking request\nkb : {'addr': 'Cambridge Leisure Park Clifton Way', 'area': 'south', 'food': 'portuguese', 'id': '12238', 'introduction': \"It's Nandos\", 'location': [52.19017, 0.13699], 'name': 'nandos', 'phone': '01223327908', 'post': 'cb17dy', 'pricerange': 'cheap', 'type': 'restaurant', 'ref': '00000041'}\ncurrent domain :  restaurant\ndialogue state : {'food': 'portuguese', 'pricerange': '<nm>', 'name': '<nm>', 'area': 'south'}\nsystem action : general reqmore none none restaurant inform name nandos\nkb : {'addr': 'Cambridge Leisure Park Clifton Way', 'area': 'south', 'food': 'portuguese', 'id': '12238', 'introduction': \"It's Nandos\", 'location': [52.19017, 0.13699], 'name': 'nandos', 'phone': '01223327908', 'post': 'cb17dy', 'pricerange': 'cheap', 'type': 'restaurant', 'ref': '00000041'}\ncurrent domain :  restaurant\ndialogue state : {'food': 'portuguese', 'pricerange': '<nm>', 'name': 'nandos', 'area': 'south'}\nsystem action : general reqmore none none restaurant inform phone [restaurant_phone] \nkb : {'addr': 'Cambridge Leisure Park Clifton Way', 'area': 'south', 'food': 'portuguese', 'id': '12238', 'introduction': \"It's Nandos\", 'location': [52.19017, 0.13699], 'name': 'nandos', 'phone': '01223327908', 'post': 'cb17dy', 'pricerange': 'cheap', 'type': 'restaurant', 'ref': '00000041'}\ndialogue:  60%|██████    | 12/20 [01:14<00:52,  6.61s/it]current domain :  restaurant\ndialogue state : {'food': 'portuguese', 'pricerange': '<nm>', 'name': 'nandos', 'area': 'south'}\nsystem action : general bye none none\nkb : {'addr': 'Cambridge Leisure Park Clifton Way', 'area': 'south', 'food': 'portuguese', 'id': '12238', 'introduction': \"It's Nandos\", 'location': [52.19017, 0.13699], 'name': 'nandos', 'phone': '01223327908', 'post': 'cb17dy', 'pricerange': 'cheap', 'type': 'restaurant', 'ref': '00000041'}\ncurrent domain :  attraction\ndialogue state : {'type': '<nm>', 'name': '<nm>', 'area': 'south'}\nsystem action : attraction request attraction inform choice several\nkb : {'addr': \"14 king's parade\", 'area': 'south', 'entrance fee': 'free', 'id': '6', 'location': [52.1725982, 0.1112224], 'name': 'byard art', 'openhours': 'it opens from 09:30 a.m. to 5:30 p.m. from monday to saturday, and from 11:00 a.m. to 4:00 p.m. on sunday', 'phone': '01223464646', 'post': 'cb21sj', 'pricerange': 'free', 'type': 'museum', 'ref': '00000005'}\ncurrent domain :  attraction\ndialogue state : {'type': '<nm>', 'name': '<nm>', 'area': 'south'}\nsystem action : attraction recommend name byard art\nkb : {'addr': \"14 king's parade\", 'area': 'south', 'entrance fee': 'free', 'id': '6', 'location': [52.1725982, 0.1112224], 'name': 'byard art', 'openhours': 'it opens from 09:30 a.m. to 5:30 p.m. from monday to saturday, and from 11:00 a.m. to 4:00 p.m. on sunday', 'phone': '01223464646', 'post': 'cb21sj', 'pricerange': 'free', 'type': 'museum', 'ref': '00000005'}\ncurrent domain :  attraction\ndialogue state : {'type': '<nm>', 'name': 'byard art', 'area': 'south'}\nsystem action : attraction inform phone [attraction_phone] addr 14 king's parade\nkb : {'addr': \"14 king's parade\", 'area': 'south', 'entrance fee': 'free', 'id': '6', 'location': [52.1725982, 0.1112224], 'name': 'byard art', 'openhours': 'it opens from 09:30 a.m. to 5:30 p.m. from monday to saturday, and from 11:00 a.m. to 4:00 p.m. on sunday', 'phone': '01223464646', 'post': 'cb21sj', 'pricerange': 'free', 'type': 'museum', 'ref': '00000005'}\ncurrent domain :  train\ndialogue state : {'destination': 'peterborough', 'day': '<nm> arriveBy <nm>', 'departure': 'cambridge'}\nsystem action : train nooffer destination peterborough day <nm> arriveby <nm> departure cambridge\nkb : None\ndialogue:  65%|██████▌   | 13/20 [01:17<00:37,  5.41s/it]current domain :  train\ndialogue state : {'destination': 'peterborough', 'day': 'sunday arriveBy <nm>', 'departure': 'cambridge'}\nsystem action : train nooffer destination peterborough day sunday arriveby <nm> departure cambridge\nkb : None\ncurrent domain :  train\ndialogue state : {'destination': 'cambridge', 'day': 'wednesday arriveBy <nm>', 'departure': 'peterborough'}\nsystem action : train nooffer destination cambridge day wednesday arriveby <nm> departure peterborough\nkb : None\ndialogue:  70%|███████   | 14/20 [01:18<00:25,  4.24s/it]current domain :  train\ndialogue state : {'destination': 'cambridge', 'day': 'wednesday arriveBy <nm>', 'departure': 'peterborough'}\nsystem action : train nooffer destination cambridge day wednesday arriveby <nm> departure peterborough\nkb : None\ncurrent domain :  train\ndialogue state : {'destination': '<nm>', 'day': 'monday arriveBy <nm>', 'departure': 'cambridge'}\nsystem action : train nooffer day monday arriveby <nm> departure cambridge\nkb : None\ndialogue:  75%|███████▌  | 15/20 [01:20<00:16,  3.33s/it]current domain :  train\ndialogue state : {'destination': '<nm>', 'day': 'monday arriveBy <nm>', 'departure': 'cambridge'}\nsystem action : train nooffer day monday arriveby <nm> departure cambridge\nkb : None\ncurrent domain :  train\ndialogue state : {'destination': 'norwich', 'day': '<nm> arriveBy <nm>', 'departure': 'cambridge'}\nsystem action : train nooffer destination norwich day <nm> arriveby <nm> departure cambridge\nkb : None\ndialogue:  80%|████████  | 16/20 [01:21<00:11,  2.76s/it]current domain :  train\ndialogue state : {'destination': 'norwich', 'day': '<nm> arriveBy <nm>', 'departure': 'cambridge'}\nsystem action : train nooffer destination norwich day <nm> arriveby <nm> departure cambridge\nkb : None\ncurrent domain :  hotel\ndialogue state : {'name': '<nm>', 'area': 'north', 'parking': '<nm>', 'pricerange': '<nm>', 'stars': '4', 'internet': '<nm>', 'type': 'guesthouse'}\nsystem action : hotel request hotel inform choice several\nkb : {'addr': '154 chesterton road', 'area': 'north', 'internet': 'yes', 'parking': 'yes', 'id': '1', 'location': [52.2157138888889, 0.133519444444444], 'name': 'acorn guest house', 'phone': '01223353888', 'post': 'cb41da', 'price': {'double': '75', 'family': '105', 'single': '50'}, 'pricerange': 'moderate', 'stars': '4', 'takesbookings': 'yes', 'type': 'guesthouse', 'ref': '00000001'}\ncurrent domain :  hotel\ndialogue state : {'name': '<nm>', 'area': 'north', 'parking': '<nm>', 'pricerange': '<nm>', 'stars': '4', 'internet': '<nm>', 'type': 'guesthouse'}\nsystem action : hotel recommend name acorn guest house booking inform none none\nkb : {'addr': '154 chesterton road', 'area': 'north', 'internet': 'yes', 'parking': 'yes', 'id': '1', 'location': [52.2157138888889, 0.133519444444444], 'name': 'acorn guest house', 'phone': '01223353888', 'post': 'cb41da', 'price': {'double': '75', 'family': '105', 'single': '50'}, 'pricerange': 'moderate', 'stars': '4', 'takesbookings': 'yes', 'type': 'guesthouse', 'ref': '00000001'}\ncurrent domain :  hotel\ndialogue state : {'name': '<nm>', 'area': 'north', 'parking': '<nm>', 'pricerange': 'expensive', 'stars': '4', 'internet': '<nm>', 'type': 'guesthouse'}\nsystem action : hotel nooffer area north pricerange expensive stars 4 type guesthouse\nkb : None\ncurrent domain :  hotel\ndialogue state : {'name': '<nm>', 'area': 'north', 'parking': '<nm>', 'pricerange': 'moderate', 'stars': '4', 'internet': '<nm>', 'type': 'guesthouse'}\nsystem action : hotel recommend name acorn guest house booking inform none none\nkb : {'addr': '154 chesterton road', 'area': 'north', 'internet': 'yes', 'parking': 'yes', 'id': '1', 'location': [52.2157138888889, 0.133519444444444], 'name': 'acorn guest house', 'phone': '01223353888', 'post': 'cb41da', 'price': {'double': '75', 'family': '105', 'single': '50'}, 'pricerange': 'moderate', 'stars': '4', 'takesbookings': 'yes', 'type': 'guesthouse', 'ref': '00000001'}\ncurrent domain :  hotel\ndialogue state : {'name': '<nm>', 'area': 'north', 'parking': '<nm>', 'pricerange': 'moderate', 'stars': '4', 'internet': '<nm>', 'type': 'guesthouse'}\nsystem action : hotel inform addr 154 chesterton road general reqmore none none\nkb : {'addr': '154 chesterton road', 'area': 'north', 'internet': 'yes', 'parking': 'yes', 'id': '1', 'location': [52.2157138888889, 0.133519444444444], 'name': 'acorn guest house', 'phone': '01223353888', 'post': 'cb41da', 'price': {'double': '75', 'family': '105', 'single': '50'}, 'pricerange': 'moderate', 'stars': '4', 'takesbookings': 'yes', 'type': 'guesthouse', 'ref': '00000001'}\ncurrent domain :  hotel\ndialogue state : {'name': 'acorn guest house', 'area': 'north', 'parking': '<nm>', 'pricerange': 'moderate', 'stars': '4', 'internet': '<nm>', 'type': 'guesthouse'}\nsystem action : general reqmore none none booking book ref [hotel_reference] \nkb : {'addr': '154 chesterton road', 'area': 'north', 'internet': 'yes', 'parking': 'yes', 'id': '1', 'location': [52.2157138888889, 0.133519444444444], 'name': 'acorn guest house', 'phone': '01223353888', 'post': 'cb41da', 'price': {'double': '75', 'family': '105', 'single': '50'}, 'pricerange': 'moderate', 'stars': '4', 'takesbookings': 'yes', 'type': 'guesthouse', 'ref': '00000001'}\ncurrent domain :  hotel\ndialogue state : {'name': 'acorn guest house', 'area': 'north', 'parking': '<nm>', 'pricerange': 'moderate', 'stars': '4', 'internet': '<nm>', 'type': 'guesthouse'}\nsystem action : general bye none none\nkb : {'addr': '154 chesterton road', 'area': 'north', 'internet': 'yes', 'parking': 'yes', 'id': '1', 'location': [52.2157138888889, 0.133519444444444], 'name': 'acorn guest house', 'phone': '01223353888', 'post': 'cb41da', 'price': {'double': '75', 'family': '105', 'single': '50'}, 'pricerange': 'moderate', 'stars': '4', 'takesbookings': 'yes', 'type': 'guesthouse', 'ref': '00000001'}\ncurrent domain :  attraction\ndialogue state : {'type': 'museum', 'name': '<nm>', 'area': 'centre'}\nsystem action : attraction recommend name broughton house gallery attraction inform choice 11\nkb : {'addr': '98 king street', 'area': 'centre', 'entrance fee': 'free', 'id': '5', 'location': [52.207409, 0.126738], 'name': 'broughton house gallery', 'openhours': '?', 'phone': '01223314960', 'post': 'cb11ln', 'pricerange': 'free', 'type': 'museum', 'ref': '00000004'}\ncurrent domain :  attraction\ndialogue state : {'type': 'museum', 'name': '<nm>', 'area': 'centre'}\nsystem action : attraction inform addr 98 king street\nkb : {'addr': '98 king street', 'area': 'centre', 'entrance fee': 'free', 'id': '5', 'location': [52.207409, 0.126738], 'name': 'broughton house gallery', 'openhours': '?', 'phone': '01223314960', 'post': 'cb11ln', 'pricerange': 'free', 'type': 'museum', 'ref': '00000004'}\ncurrent domain :  taxi\ndialogue state : {'destination': '<nm>', 'departure': '<nm> arriveBy <nm> '}\nsystem action : taxi request\nkb : {'taxi_colors': 'grey', 'taxi_types': 'bmw', 'taxi_phone': '67167261277'}\n08/13/2020 17:57:20 - DEBUG - root -   Value not found in standard value set: [92896369445] (slot: phone domain: taxi)\ncurrent domain :  taxi\ndialogue state : {'destination': 'broughton house gallery', 'departure': 'acorn guest house arriveBy 17:30'}\nsystem action : taxi inform phone [taxi_phone] car yellow lexus\nkb : {'taxi_colors': 'yellow', 'taxi_types': 'volvo', 'taxi_phone': '92896369445'}\ndialogue:  85%|████████▌ | 17/20 [01:31<00:14,  4.89s/it]current domain :  taxi\ndialogue state : {'destination': 'broughton house gallery', 'departure': 'acorn guest house arriveBy 17:30'}\nsystem action : general bye none none\nkb : {'taxi_colors': 'black', 'taxi_types': 'volvo', 'taxi_phone': '31541238372'}\ncurrent domain :  restaurant\ndialogue state : {'food': 'european', 'pricerange': 'expensive', 'name': '<nm>', 'area': 'centre'}\nsystem action : restaurant request\nkb : {'addr': 'Free School Lane City Centre', 'area': 'centre', 'food': 'european', 'id': '19245', 'introduction': 'eraina serves a variety of drinks and european dishes with influences from france spain italy and greece catering for vegetarians is also provided', 'location': [52.203708, 0.119082], 'name': 'eraina', 'phone': '01223368786', 'post': 'cb23rh', 'pricerange': 'expensive', 'type': 'restaurant', 'ref': '00000011'}\ncurrent domain :  restaurant\ndialogue state : {'food': 'european', 'pricerange': 'expensive', 'name': '<nm>', 'area': 'centre'}\nsystem action : booking book ref [restaurant_reference] \nkb : {'addr': 'Free School Lane City Centre', 'area': 'centre', 'food': 'european', 'id': '19245', 'introduction': 'eraina serves a variety of drinks and european dishes with influences from france spain italy and greece catering for vegetarians is also provided', 'location': [52.203708, 0.119082], 'name': 'eraina', 'phone': '01223368786', 'post': 'cb23rh', 'pricerange': 'expensive', 'type': 'restaurant', 'ref': '00000011'}\ncurrent domain :  restaurant\ndialogue state : {'food': 'european', 'pricerange': 'expensive', 'name': '<nm>', 'area': 'centre'}\nsystem action : general bye none none\nkb : {'addr': 'Free School Lane City Centre', 'area': 'centre', 'food': 'european', 'id': '19245', 'introduction': 'eraina serves a variety of drinks and european dishes with influences from france spain italy and greece catering for vegetarians is also provided', 'location': [52.203708, 0.119082], 'name': 'eraina', 'phone': '01223368786', 'post': 'cb23rh', 'pricerange': 'expensive', 'type': 'restaurant', 'ref': '00000011'}\ncurrent domain :  train\ndialogue state : {'destination': 'broxbourne', 'day': '<nm> arriveBy 12:15', 'departure': '<nm> '}\nsystem action : train nooffer destination broxbourne day <nm> arriveby 12:15\nkb : None\ncurrent domain :  train\ndialogue state : {'destination': 'broxbourne', 'day': '<nm> arriveBy 12:15', 'departure': '<nm> '}\nsystem action : train nooffer destination broxbourne day <nm> arriveby 12:15\nkb : None\ndialogue:  90%|█████████ | 18/20 [01:35<00:09,  4.65s/it]current domain :  train\ndialogue state : {'destination': 'broxbourne', 'day': '<nm> arriveBy 12:15', 'departure': '<nm> '}\nsystem action : train nooffer destination broxbourne day <nm> arriveby 12:15\nkb : None\ncurrent domain :  hospital\ndialogue state : {'department': 'hepatobillary and gastrointestinal surgery regional referral centre'}\nsystem action : hospital inform phone [hospital_phone] \nkb : {'department': 'neurosciences critical care unit', 'id': 0, 'phone': '01223216297'}\ndialogue:  95%|█████████▌| 19/20 [01:36<00:03,  3.46s/it]current domain :  hospital\ndialogue state : {'department': 'hepatobillary and gastrointestinal surgery regional referral centre'}\nsystem action : general bye none none\nkb : {'department': 'neurosciences critical care unit', 'id': 0, 'phone': '01223216297'}\ncurrent domain :  restaurant\ndialogue state : {'food': '<nm>', 'pricerange': 'moderate', 'name': '<nm>', 'area': 'centre'}\nsystem action : restaurant request restaurant inform choice many\nkb : {'addr': 'Regent Street City Centre', 'area': 'centre', 'food': 'italian', 'id': '19213', 'introduction': 'the simple menu and kitchen concept at pizza express has retained its freshly made ideal and you can still watch your pizza being prepared for you', 'location': [52.201743, 0.124843], 'name': 'pizza express', 'phone': '01223324033', 'post': 'cb21db', 'pricerange': 'moderate', 'type': 'restaurant', 'ref': '00000012'}\ncurrent domain :  restaurant\ndialogue state : {'food': '<nm>', 'pricerange': 'moderate', 'name': '<nm>', 'area': 'centre'}\nsystem action : restaurant recommend name pizza express food italian\nkb : {'addr': 'Regent Street City Centre', 'area': 'centre', 'food': 'italian', 'id': '19213', 'introduction': 'the simple menu and kitchen concept at pizza express has retained its freshly made ideal and you can still watch your pizza being prepared for you', 'location': [52.201743, 0.124843], 'name': 'pizza express', 'phone': '01223324033', 'post': 'cb21db', 'pricerange': 'moderate', 'type': 'restaurant', 'ref': '00000012'}\ncurrent domain :  restaurant\ndialogue state : {'food': '<nm>', 'pricerange': 'moderate', 'name': 'pizza express', 'area': 'centre'}\nsystem action : restaurant inform post [restaurant_postcode] addr regent street city centre\nkb : {'addr': 'Regent Street City Centre', 'area': 'centre', 'food': 'italian', 'id': '19213', 'introduction': 'the simple menu and kitchen concept at pizza express has retained its freshly made ideal and you can still watch your pizza being prepared for you', 'location': [52.201743, 0.124843], 'name': 'pizza express', 'phone': '01223324033', 'post': 'cb21db', 'pricerange': 'moderate', 'type': 'restaurant', 'ref': '00000012'}\ncurrent domain :  train\ndialogue state : {'destination': '<nm>', 'day': 'sunday arriveBy <nm>', 'departure': 'cambridge'}\nsystem action : train nooffer day sunday arriveby <nm> departure cambridge\nkb : None\ndialogue: 100%|██████████| 20/20 [01:39<00:00,  4.97s/it]current domain :  train\ndialogue state : {'destination': '<nm>', 'day': 'sunday arriveBy <nm>', 'departure': 'cambridge'}\nsystem action : train nooffer day sunday arriveby <nm> departure cambridge\nkb : None\n====================================================================================================\ncomplete number of dialogs/tot: 0.6\nsuccess number of dialogs/tot: 0.6\naverage precision: 0.6183583959899748\naverage recall: 0.6798245614035088\naverage f1: 0.6311644495855022\naverage book rate: 0.7857142857142857\naverage turn (succ): 15.666666666666666\naverage turn (all): 12.4\n====================================================================================================\n\n"
    }
   ],
   "source": [
    "set_seed(20200805)\n",
    "# define your own system agent2\n",
    "# sys_agent2 = PipelineAgent(...)\n",
    "# define your own system agent3\n",
    "# sys_agent3 = PipelineAgent(...)\n",
    "\n",
    "milu = MILU()\n",
    "rule_dst = RuleDST()\n",
    "ppo_policy = PPOPolicy()\n",
    "rule_policy = RulePolicy()\n",
    "gdpl_policy = GDPLPolicy()\n",
    "tnlg = TemplateNLG(is_user=False)\n",
    "\n",
    "# sys_agent = PipelineAgent(sys_nlu, sys_dst, sys_policy, sys_nlg, 'sys')\n",
    "\n",
    "sys_agent1 = PipelineAgent(milu, rule_dst, ppo_policy, tnlg, 'sys')\n",
    "sys_agent2 = PipelineAgent(milu, rule_dst, rule_policy, tnlg, 'sys')\n",
    "sys_agent3 = PipelineAgent(milu, rule_dst, gdpl_policy, tnlg, 'sys')\n",
    "\n",
    "analyzer.compare_models(agent_list=[sys_agent, sys_agent, sys_agent], model_name=['sys_agent1', 'sys_agent2', 'sys_agent3'], total_dialog=20)"
   ]
  },
  {
   "cell_type": "markdown",
   "metadata": {},
   "source": [
    "# Additional. End-to-end Neural Pipeline (ACL 2020) 모델을 사용해보자\n",
    "\n",
    "Paper : Donghoon Ham *, Jeong-Gwan Lee *, Youngsoo Jang, and Kee-Eung Kim. 2020. End-to-End Neural Pipeline for Goal-Oriented Dialogue \u000b",
    "System using GPT-2. ACL 2020\n",
    "\n",
    "![Model architecture](image/e2e_model.png)"
   ]
  },
  {
   "cell_type": "markdown",
   "metadata": {},
   "source": [
    "우선, Convlab2에 있는 모델을 import 하고 multiwoz로 pretrained된 weight를 다운로드 합니다."
   ]
  },
  {
   "cell_type": "code",
   "execution_count": 21,
   "metadata": {
    "tags": []
   },
   "outputs": [
    {
     "output_type": "stream",
     "name": "stderr",
     "text": "08/13/2020 17:08:46 - INFO - convlab2.e2e.Transformer.pytorch_transformers.modeling_bert -   Better speed can be achieved with apex installed from https://www.github.com/nvidia/apex .\n08/13/2020 17:08:46 - INFO - convlab2.e2e.Transformer.pytorch_transformers.modeling_xlnet -   Better speed can be achieved with apex installed from https://www.github.com/nvidia/apex .\ndownload model file...\nDownloading 14bVEODjyoSV6yZbrzEz4NA8kXMuPbLJH into ./models/models.zip...Done.\nUnzipping...08/13/2020 17:10:42 - INFO - convlab2.e2e.Transformer.pytorch_transformers.modeling_utils -   loading configuration file ./models/v1/config.json\n08/13/2020 17:10:42 - INFO - convlab2.e2e.Transformer.pytorch_transformers.modeling_utils -   Model config {\n  \"attn_pdrop\": 0.1,\n  \"embd_pdrop\": 0.1,\n  \"finetuning_task\": null,\n  \"initializer_range\": 0.02,\n  \"layer_norm_epsilon\": 1e-05,\n  \"n_ctx\": 1024,\n  \"n_embd\": 768,\n  \"n_head\": 12,\n  \"n_layer\": 12,\n  \"n_positions\": 1024,\n  \"num_labels\": 1,\n  \"output_attentions\": true,\n  \"output_hidden_states\": false,\n  \"resid_pdrop\": 0.1,\n  \"summary_activation\": null,\n  \"summary_first_dropout\": 0.1,\n  \"summary_proj_to_labels\": true,\n  \"summary_type\": \"token_ids\",\n  \"summary_use_proj\": true,\n  \"torchscript\": false,\n  \"vocab_size\": 50281\n}\n\n08/13/2020 17:10:42 - INFO - convlab2.e2e.Transformer.pytorch_transformers.modeling_utils -   loading weights file ./models/v1/pytorch_model.bin\nDone.\n08/13/2020 17:10:45 - INFO - convlab2.e2e.Transformer.pytorch_transformers.tokenization_utils -   Model name './models/v1' not found in model shortcut name list (gpt2, gpt2-medium). Assuming './models/v1' is a path or url to a directory containing tokenizer files.\n08/13/2020 17:10:45 - INFO - convlab2.e2e.Transformer.pytorch_transformers.tokenization_utils -   Didn't find file ./models/v1/added_tokens.json. We won't load it.\n08/13/2020 17:10:45 - INFO - convlab2.e2e.Transformer.pytorch_transformers.tokenization_utils -   Didn't find file ./models/v1/special_tokens_map.json. We won't load it.\n08/13/2020 17:10:45 - INFO - convlab2.e2e.Transformer.pytorch_transformers.tokenization_utils -   loading file None\n08/13/2020 17:10:45 - INFO - convlab2.e2e.Transformer.pytorch_transformers.tokenization_utils -   loading file None\n08/13/2020 17:10:45 - INFO - convlab2.e2e.Transformer.pytorch_transformers.tokenization_utils -   loading file ./models/v1/vocab.json\n08/13/2020 17:10:45 - INFO - convlab2.e2e.Transformer.pytorch_transformers.tokenization_utils -   loading file ./models/v1/merges.txt\n08/13/2020 17:10:45 - INFO - convlab2.e2e.Transformer.pytorch_transformers.tokenization_utils -   Adding <bos> to the vocabulary\n08/13/2020 17:10:45 - INFO - convlab2.e2e.Transformer.pytorch_transformers.tokenization_utils -   Adding <eos> to the vocabulary\n08/13/2020 17:10:45 - INFO - convlab2.e2e.Transformer.pytorch_transformers.tokenization_utils -   Adding <user> to the vocabulary\n08/13/2020 17:10:45 - INFO - convlab2.e2e.Transformer.pytorch_transformers.tokenization_utils -   Adding <system> to the vocabulary\n08/13/2020 17:10:45 - INFO - convlab2.e2e.Transformer.pytorch_transformers.tokenization_utils -   Adding <cs> to the vocabulary\n08/13/2020 17:10:45 - INFO - convlab2.e2e.Transformer.pytorch_transformers.tokenization_utils -   Adding <dp> to the vocabulary\n08/13/2020 17:10:45 - INFO - convlab2.e2e.Transformer.pytorch_transformers.tokenization_utils -   Adding <pad> to the vocabulary\n08/13/2020 17:10:45 - INFO - convlab2.e2e.Transformer.pytorch_transformers.tokenization_utils -   Adding <dc> to the vocabulary\n08/13/2020 17:10:45 - INFO - convlab2.e2e.Transformer.pytorch_transformers.tokenization_utils -   Adding <nm> to the vocabulary\n08/13/2020 17:10:45 - INFO - convlab2.e2e.Transformer.pytorch_transformers.tokenization_utils -   Adding [restaurant_phone] to the vocabulary\n08/13/2020 17:10:45 - INFO - convlab2.e2e.Transformer.pytorch_transformers.tokenization_utils -   Adding [restaurant_reference] to the vocabulary\n08/13/2020 17:10:45 - INFO - convlab2.e2e.Transformer.pytorch_transformers.tokenization_utils -   Adding [restaurant_postcode] to the vocabulary\n08/13/2020 17:10:45 - INFO - convlab2.e2e.Transformer.pytorch_transformers.tokenization_utils -   Adding [hotel_phone] to the vocabulary\n08/13/2020 17:10:45 - INFO - convlab2.e2e.Transformer.pytorch_transformers.tokenization_utils -   Adding [hotel_reference] to the vocabulary\n08/13/2020 17:10:45 - INFO - convlab2.e2e.Transformer.pytorch_transformers.tokenization_utils -   Adding [hotel_postcode] to the vocabulary\n08/13/2020 17:10:45 - INFO - convlab2.e2e.Transformer.pytorch_transformers.tokenization_utils -   Adding [attraction_phone] to the vocabulary\n08/13/2020 17:10:45 - INFO - convlab2.e2e.Transformer.pytorch_transformers.tokenization_utils -   Adding [attraction_postcode] to the vocabulary\n08/13/2020 17:10:45 - INFO - convlab2.e2e.Transformer.pytorch_transformers.tokenization_utils -   Adding [train_reference] to the vocabulary\n08/13/2020 17:10:45 - INFO - convlab2.e2e.Transformer.pytorch_transformers.tokenization_utils -   Adding [train_id] to the vocabulary\n08/13/2020 17:10:45 - INFO - convlab2.e2e.Transformer.pytorch_transformers.tokenization_utils -   Adding [taxi_phone] to the vocabulary\n08/13/2020 17:10:45 - INFO - convlab2.e2e.Transformer.pytorch_transformers.tokenization_utils -   Adding [hospital_phone] to the vocabulary\n08/13/2020 17:10:45 - INFO - convlab2.e2e.Transformer.pytorch_transformers.tokenization_utils -   Adding [hospital_postcode] to the vocabulary\n08/13/2020 17:10:45 - INFO - convlab2.e2e.Transformer.pytorch_transformers.tokenization_utils -   Adding [police_phone] to the vocabulary\n08/13/2020 17:10:45 - INFO - convlab2.e2e.Transformer.pytorch_transformers.tokenization_utils -   Adding [police_postcode] to the vocabulary\n08/13/2020 17:10:45 - INFO - convlab2.e2e.Transformer.pytorch_transformers.tokenization_utils -   Assigning <bos> to the <bos> key of the tokenizer\n08/13/2020 17:10:45 - INFO - convlab2.e2e.Transformer.pytorch_transformers.tokenization_utils -   Assigning <eos> to the <eos> key of the tokenizer\n08/13/2020 17:10:45 - INFO - convlab2.e2e.Transformer.pytorch_transformers.tokenization_utils -   Assigning <user> to the <user> key of the tokenizer\n08/13/2020 17:10:45 - INFO - convlab2.e2e.Transformer.pytorch_transformers.tokenization_utils -   Assigning <system> to the <system> key of the tokenizer\n08/13/2020 17:10:45 - INFO - convlab2.e2e.Transformer.pytorch_transformers.tokenization_utils -   Assigning <cs> to the <cs> key of the tokenizer\n08/13/2020 17:10:45 - INFO - convlab2.e2e.Transformer.pytorch_transformers.tokenization_utils -   Assigning <dp> to the <dp> key of the tokenizer\n08/13/2020 17:10:45 - INFO - convlab2.e2e.Transformer.pytorch_transformers.tokenization_utils -   Assigning <pad> to the <pad> key of the tokenizer\n08/13/2020 17:10:45 - INFO - convlab2.e2e.Transformer.pytorch_transformers.tokenization_utils -   Assigning <dc> to the <dc> key of the tokenizer\n08/13/2020 17:10:45 - INFO - convlab2.e2e.Transformer.pytorch_transformers.tokenization_utils -   Assigning <nm> to the <nm> key of the tokenizer\n08/13/2020 17:10:45 - INFO - convlab2.e2e.Transformer.pytorch_transformers.tokenization_utils -   Assigning [restaurant_phone] to the [restaurant_phone] key of the tokenizer\n08/13/2020 17:10:45 - INFO - convlab2.e2e.Transformer.pytorch_transformers.tokenization_utils -   Assigning [restaurant_reference] to the [restaurant_reference] key of the tokenizer\n08/13/2020 17:10:45 - INFO - convlab2.e2e.Transformer.pytorch_transformers.tokenization_utils -   Assigning [restaurant_postcode] to the [restaurant_postcode] key of the tokenizer\n08/13/2020 17:10:45 - INFO - convlab2.e2e.Transformer.pytorch_transformers.tokenization_utils -   Assigning [hotel_phone] to the [hotel_phone] key of the tokenizer\n08/13/2020 17:10:45 - INFO - convlab2.e2e.Transformer.pytorch_transformers.tokenization_utils -   Assigning [hotel_reference] to the [hotel_reference] key of the tokenizer\n08/13/2020 17:10:45 - INFO - convlab2.e2e.Transformer.pytorch_transformers.tokenization_utils -   Assigning [hotel_postcode] to the [hotel_postcode] key of the tokenizer\n08/13/2020 17:10:45 - INFO - convlab2.e2e.Transformer.pytorch_transformers.tokenization_utils -   Assigning [attraction_phone] to the [attraction_phone] key of the tokenizer\n08/13/2020 17:10:45 - INFO - convlab2.e2e.Transformer.pytorch_transformers.tokenization_utils -   Assigning [attraction_postcode] to the [attraction_postcode] key of the tokenizer\n08/13/2020 17:10:45 - INFO - convlab2.e2e.Transformer.pytorch_transformers.tokenization_utils -   Assigning [train_reference] to the [train_reference] key of the tokenizer\n08/13/2020 17:10:45 - INFO - convlab2.e2e.Transformer.pytorch_transformers.tokenization_utils -   Assigning [train_id] to the [train_id] key of the tokenizer\n08/13/2020 17:10:45 - INFO - convlab2.e2e.Transformer.pytorch_transformers.tokenization_utils -   Assigning [taxi_phone] to the [taxi_phone] key of the tokenizer\n08/13/2020 17:10:45 - INFO - convlab2.e2e.Transformer.pytorch_transformers.tokenization_utils -   Assigning [hospital_phone] to the [hospital_phone] key of the tokenizer\n08/13/2020 17:10:45 - INFO - convlab2.e2e.Transformer.pytorch_transformers.tokenization_utils -   Assigning [hospital_postcode] to the [hospital_postcode] key of the tokenizer\n08/13/2020 17:10:45 - INFO - convlab2.e2e.Transformer.pytorch_transformers.tokenization_utils -   Assigning [police_phone] to the [police_phone] key of the tokenizer\n08/13/2020 17:10:45 - INFO - convlab2.e2e.Transformer.pytorch_transformers.tokenization_utils -   Assigning [police_postcode] to the [police_postcode] key of the tokenizer\n"
    }
   ],
   "source": [
    "from convlab2.e2e.Transformer import Transformer\n",
    "sys_agent = Transformer()"
   ]
  },
  {
   "cell_type": "markdown",
   "metadata": {},
   "source": [
    "위에서 사용했던 다른 e2e agent 와는 다르게, neural pipeline 모델은 dialogue state, system action (dialogue policy)을 확인할 수 있습니다."
   ]
  },
  {
   "cell_type": "code",
   "execution_count": 22,
   "metadata": {
    "tags": []
   },
   "outputs": [
    {
     "output_type": "stream",
     "name": "stdout",
     "text": "current domain :  hotel\ndialogue state : {'name': '<nm>', 'area': '<nm>', 'parking': '<nm>', 'pricerange': 'moderate', 'stars': '<nm>', 'internet': '<nm>', 'type': '<nm> '}\nsystem action : hotel request hotel inform choice many\nkb : {'addr': '124 tenison road', 'area': 'east', 'internet': 'yes', 'parking': 'no', 'id': '0', 'location': [52.1963733, 0.1987426], 'name': 'a and b guest house', 'phone': '01223315702', 'post': 'cb12dp', 'price': {'double': '70', 'family': '90', 'single': '50'}, 'pricerange': 'moderate', 'stars': '4', 'takesbookings': 'yes', 'type': 'guesthouse', 'ref': '00000000'}\n"
    },
    {
     "output_type": "execute_result",
     "data": {
      "text/plain": "'There are many options. Is there a particular area you would like to stay in?'"
     },
     "metadata": {},
     "execution_count": 22
    }
   ],
   "source": [
    "sys_agent.init_session()\n",
    "sys_agent.response(\"I want to find a moderate hotel\")"
   ]
  },
  {
   "cell_type": "markdown",
   "metadata": {},
   "source": [
    "## Neural pipeline 모델과 대화해봅시다 !"
   ]
  },
  {
   "cell_type": "code",
   "execution_count": 23,
   "metadata": {
    "tags": []
   },
   "outputs": [
    {
     "output_type": "stream",
     "name": "stdout",
     "text": "current domain :  restaurant\ndialogue state : {'food': '<nm>', 'pricerange': '<nm>', 'name': '<nm>', 'area': '<nm> '}\nsystem action : restaurant request\nkb : {'addr': 'Regent Street City Centre', 'area': 'centre', 'food': 'italian', 'id': '19210', 'introduction': 'Pizza hut is a large chain with restaurants nationwide offering convenience pizzas pasta and salads to eat in or take away', 'location': [52.20103, 0.126023], 'name': 'pizza hut city centre', 'phone': '01223323737', 'post': 'cb21ab', 'pricerange': 'cheap', 'type': 'restaurant', 'ref': '00000000'}\nsys:  Do you have a preference on the price range?\ncurrent domain :  restaurant\ndialogue state : {'food': '<nm>', 'pricerange': '<nm>', 'name': '<nm>', 'area': '<nm> '}\nsystem action : restaurant request\nkb : {'addr': 'Regent Street City Centre', 'area': 'centre', 'food': 'italian', 'id': '19210', 'introduction': 'Pizza hut is a large chain with restaurants nationwide offering convenience pizzas pasta and salads to eat in or take away', 'location': [52.20103, 0.126023], 'name': 'pizza hut city centre', 'phone': '01223323737', 'post': 'cb21ab', 'pricerange': 'cheap', 'type': 'restaurant', 'ref': '00000000'}\nsys:  What price range would you like?\ncurrent domain :  restaurant\ndialogue state : {'food': '<nm>', 'pricerange': '<nm>', 'name': '<nm>', 'area': '<nm> '}\nsystem action : restaurant request\nkb : {'addr': 'Regent Street City Centre', 'area': 'centre', 'food': 'italian', 'id': '19210', 'introduction': 'Pizza hut is a large chain with restaurants nationwide offering convenience pizzas pasta and salads to eat in or take away', 'location': [52.20103, 0.126023], 'name': 'pizza hut city centre', 'phone': '01223323737', 'post': 'cb21ab', 'pricerange': 'cheap', 'type': 'restaurant', 'ref': '00000000'}\nsys:  What type of food are you interested in?\ncurrent domain :  restaurant\ndialogue state : {'food': 'chinese', 'pricerange': '<dc>', 'name': '<nm>', 'area': '<nm> '}\nsystem action : restaurant request restaurant inform choice many\nkb : {'addr': '82 Cherry Hinton Road Cherry Hinton', 'area': 'south', 'food': 'chinese', 'id': '19192', 'location': [52.188528, 0.140627], 'name': 'the good luck chinese food takeaway', 'phone': '01223244149', 'post': 'cb17ag', 'pricerange': 'expensive', 'type': 'restaurant', 'ref': '00000003'}\nsys:  I have many restaurants. What kind of food would you like?\ncurrent domain :  restaurant\ndialogue state : {'food': 'chinese', 'pricerange': '<dc>', 'name': '<nm>', 'area': '<nm> '}\nsystem action : restaurant request restaurant inform choice many\nkb : {'addr': '82 Cherry Hinton Road Cherry Hinton', 'area': 'south', 'food': 'chinese', 'id': '19192', 'location': [52.188528, 0.140627], 'name': 'the good luck chinese food takeaway', 'phone': '01223244149', 'post': 'cb17ag', 'pricerange': 'expensive', 'type': 'restaurant', 'ref': '00000003'}\nsys:  There are many restaurants available. Do you have a preference for the type of food?\ncurrent domain :  restaurant\ndialogue state : {'food': 'chinese', 'pricerange': '<dc>', 'name': '<nm>', 'area': '<nm> '}\nsystem action : restaurant recommend name the good luck chinese food takeaway restaurant inform choice 17\nkb : {'addr': '82 Cherry Hinton Road Cherry Hinton', 'area': 'south', 'food': 'chinese', 'id': '19192', 'location': [52.188528, 0.140627], 'name': 'the good luck chinese food takeaway', 'phone': '01223244149', 'post': 'cb17ag', 'pricerange': 'expensive', 'type': 'restaurant', 'ref': '00000003'}\nsys:  I have 17 results for you. The good luck chinese food takeaway is a good choice.\ncurrent domain :  restaurant\ndialogue state : {'food': 'chinese', 'pricerange': '<dc>', 'name': '<nm>', 'area': '<nm> '}\nsystem action : booking inform none none restaurant inform name the good luck chinese food takeaway food chinese price expensive\nkb : {'addr': '82 Cherry Hinton Road Cherry Hinton', 'area': 'south', 'food': 'chinese', 'id': '19192', 'location': [52.188528, 0.140627], 'name': 'the good luck chinese food takeaway', 'phone': '01223244149', 'post': 'cb17ag', 'pricerange': 'expensive', 'type': 'restaurant', 'ref': '00000003'}\nsys:  The good luck chinese food takeaway is an expensive Chinese restaurant. Would you like me to book a table for you?\ncurrent domain :  restaurant\ndialogue state : {'food': 'chinese', 'pricerange': '<nm>', 'name': '<nm>', 'area': '<nm> '}\nsystem action : booking request\nkb : {'addr': '82 Cherry Hinton Road Cherry Hinton', 'area': 'south', 'food': 'chinese', 'id': '19192', 'location': [52.188528, 0.140627], 'name': 'the good luck chinese food takeaway', 'phone': '01223244149', 'post': 'cb17ag', 'pricerange': 'expensive', 'type': 'restaurant', 'ref': '00000003'}\nsys:  Will you be needing a reference number?\ncurrent domain :  restaurant\ndialogue state : {'food': 'chinese', 'pricerange': '<nm>', 'name': '<nm>', 'area': '<nm> '}\nsystem action : booking request\nkb : {'addr': '82 Cherry Hinton Road Cherry Hinton', 'area': 'south', 'food': 'chinese', 'id': '19192', 'location': [52.188528, 0.140627], 'name': 'the good luck chinese food takeaway', 'phone': '01223244149', 'post': 'cb17ag', 'pricerange': 'expensive', 'type': 'restaurant', 'ref': '00000003'}\nsys:  Do you want me to book it for you?\ncurrent domain :  restaurant\ndialogue state : {'food': 'chinese', 'pricerange': '<nm>', 'name': '<nm>', 'area': '<nm> '}\nsystem action : booking request\nkb : {'addr': '82 Cherry Hinton Road Cherry Hinton', 'area': 'south', 'food': 'chinese', 'id': '19192', 'location': [52.188528, 0.140627], 'name': 'the good luck chinese food takeaway', 'phone': '01223244149', 'post': 'cb17ag', 'pricerange': 'expensive', 'type': 'restaurant', 'ref': '00000003'}\nsys:  What time do you want your reservation to be made?\ncurrent domain :  restaurant\ndialogue state : {'food': 'takeaway', 'pricerange': 'expensive', 'name': 'the good luck chinese', 'area': '<nm> '}\nsystem action : restaurant nooffer food takeaway pricerange expensive name the good luck chinese\nkb : None\nsys:  I am sorry but there are no restaurants in the expensive price range.  Would you like me to try another one?\ncurrent domain :  restaurant\ndialogue state : {'food': 'chinese', 'pricerange': 'expensive', 'name': '<nm>', 'area': '<nm> '}\nsystem action : general reqmore none none booking book ref [restaurant_reference] \nkb : {'addr': '82 Cherry Hinton Road Cherry Hinton', 'area': 'south', 'food': 'chinese', 'id': '19192', 'location': [52.188528, 0.140627], 'name': 'the good luck chinese food takeaway', 'phone': '01223244149', 'post': 'cb17ag', 'pricerange': 'expensive', 'type': 'restaurant', 'ref': '00000003'}\nsys:  Your reservation has been made and your reference number is 00000003 . Is there anything else I can help you with?\ncurrent domain :  restaurant\ndialogue state : {'food': 'chinese', 'pricerange': 'expensive', 'name': '<nm>', 'area': '<nm> '}\nsystem action : general bye none none\nkb : {'addr': '82 Cherry Hinton Road Cherry Hinton', 'area': 'south', 'food': 'chinese', 'id': '19192', 'location': [52.188528, 0.140627], 'name': 'the good luck chinese food takeaway', 'phone': '01223244149', 'post': 'cb17ag', 'pricerange': 'expensive', 'type': 'restaurant', 'ref': '00000003'}\nsys:  Thank you for using our system!\nnot empty\nnot empty\nnot empty\nnot empty\ncurrent domain :  restaurant\ndialogue state : {}\nsystem action : \nkb : {}\nsys:  \n"
    },
    {
     "output_type": "error",
     "ename": "KeyboardInterrupt",
     "evalue": "Interrupted by user",
     "traceback": [
      "\u001b[0;31m---------------------------------------------------------------------------\u001b[0m",
      "\u001b[0;31mKeyboardInterrupt\u001b[0m                         Traceback (most recent call last)",
      "\u001b[0;32m<ipython-input-23-9cf48c6fe13a>\u001b[0m in \u001b[0;36m<module>\u001b[0;34m\u001b[0m\n\u001b[1;32m      1\u001b[0m \u001b[0msys_agent\u001b[0m\u001b[0;34m.\u001b[0m\u001b[0minit_session\u001b[0m\u001b[0;34m(\u001b[0m\u001b[0;34m)\u001b[0m\u001b[0;34m\u001b[0m\u001b[0;34m\u001b[0m\u001b[0m\n\u001b[1;32m      2\u001b[0m \u001b[0;32mwhile\u001b[0m \u001b[0;32mTrue\u001b[0m\u001b[0;34m:\u001b[0m\u001b[0;34m\u001b[0m\u001b[0;34m\u001b[0m\u001b[0m\n\u001b[0;32m----> 3\u001b[0;31m     \u001b[0mraw_text\u001b[0m \u001b[0;34m=\u001b[0m \u001b[0minput\u001b[0m\u001b[0;34m(\u001b[0m\u001b[0;34m\">>> \"\u001b[0m\u001b[0;34m)\u001b[0m\u001b[0;34m\u001b[0m\u001b[0;34m\u001b[0m\u001b[0m\n\u001b[0m\u001b[1;32m      4\u001b[0m     \u001b[0;32mwhile\u001b[0m \u001b[0;32mnot\u001b[0m \u001b[0mraw_text\u001b[0m\u001b[0;34m:\u001b[0m\u001b[0;34m\u001b[0m\u001b[0;34m\u001b[0m\u001b[0m\n\u001b[1;32m      5\u001b[0m         \u001b[0mprint\u001b[0m\u001b[0;34m(\u001b[0m\u001b[0;34m'not empty'\u001b[0m\u001b[0;34m)\u001b[0m\u001b[0;34m\u001b[0m\u001b[0;34m\u001b[0m\u001b[0m\n",
      "\u001b[0;32m~/anaconda3/envs/0813_dialogue_system/lib/python3.7/site-packages/ipykernel/kernelbase.py\u001b[0m in \u001b[0;36mraw_input\u001b[0;34m(self, prompt)\u001b[0m\n\u001b[1;32m    861\u001b[0m             \u001b[0mself\u001b[0m\u001b[0;34m.\u001b[0m\u001b[0m_parent_ident\u001b[0m\u001b[0;34m,\u001b[0m\u001b[0;34m\u001b[0m\u001b[0;34m\u001b[0m\u001b[0m\n\u001b[1;32m    862\u001b[0m             \u001b[0mself\u001b[0m\u001b[0;34m.\u001b[0m\u001b[0m_parent_header\u001b[0m\u001b[0;34m,\u001b[0m\u001b[0;34m\u001b[0m\u001b[0;34m\u001b[0m\u001b[0m\n\u001b[0;32m--> 863\u001b[0;31m             \u001b[0mpassword\u001b[0m\u001b[0;34m=\u001b[0m\u001b[0;32mFalse\u001b[0m\u001b[0;34m,\u001b[0m\u001b[0;34m\u001b[0m\u001b[0;34m\u001b[0m\u001b[0m\n\u001b[0m\u001b[1;32m    864\u001b[0m         )\n\u001b[1;32m    865\u001b[0m \u001b[0;34m\u001b[0m\u001b[0m\n",
      "\u001b[0;32m~/anaconda3/envs/0813_dialogue_system/lib/python3.7/site-packages/ipykernel/kernelbase.py\u001b[0m in \u001b[0;36m_input_request\u001b[0;34m(self, prompt, ident, parent, password)\u001b[0m\n\u001b[1;32m    902\u001b[0m             \u001b[0;32mexcept\u001b[0m \u001b[0mKeyboardInterrupt\u001b[0m\u001b[0;34m:\u001b[0m\u001b[0;34m\u001b[0m\u001b[0;34m\u001b[0m\u001b[0m\n\u001b[1;32m    903\u001b[0m                 \u001b[0;31m# re-raise KeyboardInterrupt, to truncate traceback\u001b[0m\u001b[0;34m\u001b[0m\u001b[0;34m\u001b[0m\u001b[0;34m\u001b[0m\u001b[0m\n\u001b[0;32m--> 904\u001b[0;31m                 \u001b[0;32mraise\u001b[0m \u001b[0mKeyboardInterrupt\u001b[0m\u001b[0;34m(\u001b[0m\u001b[0;34m\"Interrupted by user\"\u001b[0m\u001b[0;34m)\u001b[0m \u001b[0;32mfrom\u001b[0m \u001b[0;32mNone\u001b[0m\u001b[0;34m\u001b[0m\u001b[0;34m\u001b[0m\u001b[0m\n\u001b[0m\u001b[1;32m    905\u001b[0m             \u001b[0;32mexcept\u001b[0m \u001b[0mException\u001b[0m \u001b[0;32mas\u001b[0m \u001b[0me\u001b[0m\u001b[0;34m:\u001b[0m\u001b[0;34m\u001b[0m\u001b[0;34m\u001b[0m\u001b[0m\n\u001b[1;32m    906\u001b[0m                 \u001b[0mself\u001b[0m\u001b[0;34m.\u001b[0m\u001b[0mlog\u001b[0m\u001b[0;34m.\u001b[0m\u001b[0mwarning\u001b[0m\u001b[0;34m(\u001b[0m\u001b[0;34m\"Invalid Message:\"\u001b[0m\u001b[0;34m,\u001b[0m \u001b[0mexc_info\u001b[0m\u001b[0;34m=\u001b[0m\u001b[0;32mTrue\u001b[0m\u001b[0;34m)\u001b[0m\u001b[0;34m\u001b[0m\u001b[0;34m\u001b[0m\u001b[0m\n",
      "\u001b[0;31mKeyboardInterrupt\u001b[0m: Interrupted by user"
     ]
    }
   ],
   "source": [
    "sys_agent.init_session()\n",
    "while True:\n",
    "    raw_text = input(\">>> \")\n",
    "    while not raw_text:\n",
    "        print('not empty')\n",
    "        raw_text = input(\">>> \")\n",
    "    if raw_text == 'r':\n",
    "        sys_agent.init_session()\n",
    "        continue\n",
    "    if raw_text == 'stop':\n",
    "        break\n",
    "    out_text = sys_agent.response(raw_text)\n",
    "    print('sys: ', out_text)"
   ]
  }
 ],
 "metadata": {
  "kernelspec": {
   "display_name": "Python 3.7.7 64-bit ('0813_dialogue_system': conda)",
   "language": "python",
   "name": "python_defaultSpec_1597303319649"
  },
  "language_info": {
   "codemirror_mode": {
    "name": "ipython",
    "version": 3
   },
   "file_extension": ".py",
   "mimetype": "text/x-python",
   "name": "python",
   "nbconvert_exporter": "python",
   "pygments_lexer": "ipython3",
   "version": "3.7.7"
  }
 },
 "nbformat": 4,
 "nbformat_minor": 2
}